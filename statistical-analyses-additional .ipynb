{
 "cells": [
  {
   "cell_type": "markdown",
   "metadata": {},
   "source": [
    "Perform additional statistical analyses to have a stronger grasp on the dataset, including autocorrelation, time-series decomposition and stationarity tests."
   ]
  },
  {
   "cell_type": "markdown",
   "metadata": {},
   "source": [
    "## Autocorrelation \n",
    "\n",
    "$$s_{k}=\\frac{1}{n} \\sum_{i=1}^{n-k}\\left(y_{i}-\\bar{y}\\right)\\left(y_{i+k}-\\bar{y}\\right)=\\frac{1}{n} \\sum_{i=k+1}^{n}\\left(y_{i}-\\bar{y}\\right)\\left(y_{i-k}-\\bar{y}\\right)$$  \n",
    "\n",
    "$$r_k = \\frac{s_k}{s_0}$$"
   ]
  },
  {
   "cell_type": "code",
   "execution_count": 1,
   "metadata": {},
   "outputs": [],
   "source": [
    "import pandas as pd\n",
    "from matplotlib import pyplot\n",
    "from script.morestats import log_return"
   ]
  },
  {
   "cell_type": "code",
   "execution_count": 2,
   "metadata": {},
   "outputs": [],
   "source": [
    "data_folder = \"./data/\"\n",
    "crypto_df = pd.read_csv(data_folder + 'train.csv')"
   ]
  },
  {
   "cell_type": "markdown",
   "metadata": {},
   "source": [
    "Take 5-minute BTC(\"Asset_ID\"=1) log return for example."
   ]
  },
  {
   "cell_type": "code",
   "execution_count": 6,
   "metadata": {},
   "outputs": [
    {
     "name": "stdout",
     "output_type": "stream",
     "text": [
      "5 min\n"
     ]
    },
    {
     "data": {
      "image/png": "[encoded data removed]",
      "text/plain": [
       "<Figure size 432x288 with 1 Axes>"
      ]
     },
     "metadata": {
      "needs_background": "light"
     },
     "output_type": "display_data"
    }
   ],
   "source": [
    "from statsmodels.graphics.tsaplots import plot_acf\n",
    "from script.morestats import ts_with_frequency\n",
    "\n",
    "ticker_id = 1\n",
    "ticker = crypto_df[crypto_df[\"Asset_ID\"]==ticker_id].set_index(\"timestamp\") # Asset_ID = 1 for Bitcoin\n",
    "ticker_mini = ticker.iloc[-200:] # Select recent 200 data rows\n",
    "lret_ticker = log_return(ts_with_frequency(ticker_mini.Close, frequency='5min'))[1:]\n",
    "plot_acf(lret_ticker)\n",
    "pyplot.show()"
   ]
  },
  {
   "cell_type": "code",
   "execution_count": 7,
   "metadata": {},
   "outputs": [
    {
     "data": {
      "text/plain": [
       "array([ 1.        ,  0.22300345, -0.16572461,  0.14992676,  0.16943098,\n",
       "       -0.11037484, -0.12401055,  0.1126429 , -0.03998863, -0.14678928,\n",
       "       -0.004823  , -0.07683669, -0.08140624, -0.12183986, -0.06091687,\n",
       "        0.09130992, -0.0154014 ])"
      ]
     },
     "execution_count": 7,
     "metadata": {},
     "output_type": "execute_result"
    }
   ],
   "source": [
    "from statsmodels.tsa.stattools import acf\n",
    "acf(lret_ticker)"
   ]
  },
  {
   "cell_type": "markdown",
   "metadata": {},
   "source": [
    "## Partial Autocorrelation\n",
    "$$\\frac{\\operatorname{cov}\\left(y_{i}, y_{i-h} \\mid y_{i-1}, \\ldots, y_{i-h+1}\\right)}{\\sqrt{\\operatorname{var}\\left(y_{i} \\mid y_{i-1}, \\ldots, y_{i-h+1}\\right) \\cdot \\operatorname{var}\\left(y_{i-h} \\mid y_{i-1}, \\ldots, y_{i-h+1}\\right)}}$$"
   ]
  },
  {
   "cell_type": "code",
   "execution_count": 8,
   "metadata": {},
   "outputs": [
    {
     "data": {
      "image/png": "[encoded data removed]",
      "text/plain": [
       "<Figure size 432x288 with 1 Axes>"
      ]
     },
     "metadata": {
      "needs_background": "light"
     },
     "output_type": "display_data"
    }
   ],
   "source": [
    "from statsmodels.graphics.tsaplots import plot_pacf\n",
    "plot_pacf(lret_ticker,method='ywm')\n",
    "pyplot.show()"
   ]
  },
  {
   "cell_type": "code",
   "execution_count": 10,
   "metadata": {},
   "outputs": [
    {
     "data": {
      "text/plain": [
       "array([ 1.        ,  0.22872149, -0.23927795,  0.29801839,  0.00751242,\n",
       "       -0.11132402, -0.06900502,  0.11875178, -0.1780027 ,  0.00820432,\n",
       "       -0.02724231, -0.21268755,  0.08472628, -0.26502616,  0.01981886,\n",
       "        0.22023236, -0.19462007])"
      ]
     },
     "execution_count": 10,
     "metadata": {},
     "output_type": "execute_result"
    }
   ],
   "source": [
    "from statsmodels.tsa.stattools import pacf\n",
    "pacf(lret_ticker)"
   ]
  },
  {
   "cell_type": "markdown",
   "metadata": {},
   "source": [
    "## Decomposition\n",
    "- Time Series decomposition\n",
    "- Wald Theorem"
   ]
  },
  {
   "cell_type": "code",
   "execution_count": null,
   "metadata": {},
   "outputs": [],
   "source": []
  }
 ],
 "metadata": {
  "interpreter": {
   "hash": "c6e4e9f98eb68ad3b7c296f83d20e6de614cb42e90992a65aa266555a3137d0d"
  },
  "kernelspec": {
   "display_name": "Python 3.9.7 64-bit ('base': conda)",
   "language": "python",
   "name": "python3"
  },
  "language_info": {
   "codemirror_mode": {
    "name": "ipython",
    "version": 3
   },
   "file_extension": ".py",
   "mimetype": "text/x-python",
   "name": "python",
   "nbconvert_exporter": "python",
   "pygments_lexer": "ipython3",
   "version": "3.9.7"
  },
  "orig_nbformat": 4
 },
 "nbformat": 4,
 "nbformat_minor": 2
}
