{
 "cells": [
  {
   "cell_type": "markdown",
   "metadata": {},
   "source": [
    "Perform additional statistical analyses to have a stronger grasp on the dataset, including autocorrelation, time-series decomposition and stationarity tests."
   ]
  },
  {
   "cell_type": "code",
   "execution_count": 1,
   "metadata": {},
   "outputs": [],
   "source": [
    "import pandas as pd\n",
    "data_folder = \"./data/\"\n",
    "crypto_df = pd.read_csv(data_folder + 'train.csv')"
   ]
  },
  {
   "cell_type": "markdown",
   "metadata": {},
   "source": [
    "## Different frequency\n",
    "\n",
    "- ohlc dataframe with differenct frequency.\n",
    "- Single series with different frequency."
   ]
  },
  {
   "cell_type": "code",
   "execution_count": 23,
   "metadata": {},
   "outputs": [
    {
     "name": "stdout",
     "output_type": "stream",
     "text": [
      "           timestamp  Asset_ID   Count          Open          High       Low  \\\n",
      "24234009  1632170460         1  5694.0  43558.393750  43588.680000  43427.28   \n",
      "24234023  1632170520         1  2528.0  43449.818571  43495.954028  43414.33   \n",
      "24234037  1632170580         1  3985.0  43427.082310  43455.218478  43327.29   \n",
      "24234051  1632170640         1  2185.0  43362.572857  43454.990000  43348.06   \n",
      "24234065  1632170700         1  2623.0  43419.832500  43467.000000  43351.15   \n",
      "\n",
      "                 Close      Volume          VWAP    Target  \n",
      "24234009  43447.003750  191.442881  43493.981877 -0.000805  \n",
      "24234023  43440.000000   80.692018  43455.988146  0.000418  \n",
      "24234037  43360.723750  117.332513  43391.956795  0.000125  \n",
      "24234051  43427.242857   76.361478  43403.880056  0.000956  \n",
      "24234065  43375.040000   76.018320  43408.267118 -0.000430  \n"
     ]
    },
    {
     "data": {
      "application/vnd.plotly.v1+json": {
       "config": {
        "plotlyServerURL": "https://plot.ly"
       },
       "data": [
        {
         "close": [
          43427.24285714286,
          43272.20571428572,
          43329.36,
          43543.944285714286,
          43582.882500000014,
          43688.792857142864,
          43699.93519433285,
          43761.40857142857,
          43745.054649555714,
          43752.56428571429,
          43688.29428571429,
          43688.90142857142,
          43762.66571428572,
          43691.55,
          43623.89428571428,
          43514.82,
          43631.90714285714,
          43707.43,
          43710.31428571429,
          43806.570000000014,
          43811.704285714295,
          43774.467142857146,
          43831.59142857143,
          43862.52,
          43752.76714285714,
          43504.42428571429,
          43075.9025,
          43327.79,
          43470.794999999984,
          43114.23614144125,
          43219.33125,
          43099.1575,
          42822.040000000015,
          42659.58241635572,
          42678.21816655625,
          42637.115,
          42657.20249999999,
          42898.565,
          42985.48285714286,
          43017.277142857136,
          43002.505
         ],
         "high": [
          43588.68,
          43467,
          43363.82,
          43581.88,
          43750.27,
          43715.6675949,
          43798.21,
          43784.1,
          43818.17,
          43776,
          43768.53,
          43716.49468404,
          43776.38,
          43913.83,
          43747,
          43651,
          43682.6,
          43744.4,
          43785.75,
          43835.6,
          43867.04,
          43866.41,
          43840.7,
          43940,
          43906.73,
          43782.1,
          43560.02,
          43366,
          43640,
          43455,
          43289.9,
          43350.5,
          43122,
          42884.85,
          42802.54,
          42877.82,
          42827.1,
          42937.31,
          43014.98,
          43042.16,
          43048.51
         ],
         "low": [
          43327.29,
          43240.01,
          43207.55,
          43272.19,
          43426.2,
          43436.46,
          43676.9,
          43631.17,
          43722.3,
          43686.54,
          43657.79,
          43658.2,
          43659.05,
          43669.13,
          43583.4,
          43462.56,
          43499.99,
          43514.09,
          43665.29,
          43678.37,
          43741.3,
          43742.7,
          43757.17,
          43823.74,
          43746,
          43499.99,
          43003.84,
          43067,
          43283.1,
          43062.9,
          42930.14,
          43026.47,
          42795.45,
          42640,
          42515.09,
          42600,
          42607.5,
          42630.17,
          42852.07,
          42797.2,
          42961.64
         ],
         "open": [
          43558.39375,
          43419.8325,
          43275.938571428575,
          43333.63142857143,
          43563.5475,
          43574.825,
          43693.87714285714,
          43696.00375,
          43763.66857142857,
          43746.89571428572,
          43747.71428571428,
          43687.59428571429,
          43686.042857142864,
          43764.222193155,
          43694.014285714286,
          43622.90857142857,
          43514.376468365714,
          43627.27428571428,
          43709.82420531143,
          43709.3575,
          43809.957142857136,
          43801.23428571429,
          43774.80714285715,
          43836.9875,
          43858.474285714285,
          43752.37,
          43504.71428571428,
          43092.85375,
          43341.862857142856,
          43447.60285714286,
          43106.66925542,
          43227.1275,
          43085.22049047715,
          42815.11375,
          42675.71750000001,
          42673.72571428572,
          42632.465,
          42655.528483642855,
          42896.17428571428,
          42982.91571428572,
          43009.96125
         ],
         "type": "candlestick",
         "x": [
          1632170400,
          1632170700,
          1632171000,
          1632171300,
          1632171600,
          1632171900,
          1632172200,
          1632172500,
          1632172800,
          1632173100,
          1632173400,
          1632173700,
          1632174000,
          1632174300,
          1632174600,
          1632174900,
          1632175200,
          1632175500,
          1632175800,
          1632176100,
          1632176400,
          1632176700,
          1632177000,
          1632177300,
          1632177600,
          1632177900,
          1632178200,
          1632178500,
          1632178800,
          1632179100,
          1632179400,
          1632179700,
          1632180000,
          1632180300,
          1632180600,
          1632180900,
          1632181200,
          1632181500,
          1632181800,
          1632182100,
          1632182400
         ]
        }
       ],
       "layout": {
        "template": {
         "data": {
          "bar": [
           {
            "error_x": {
             "color": "#2a3f5f"
            },
            "error_y": {
             "color": "#2a3f5f"
            },
            "marker": {
             "line": {
              "color": "#E5ECF6",
              "width": 0.5
             },
             "pattern": {
              "fillmode": "overlay",
              "size": 10,
              "solidity": 0.2
             }
            },
            "type": "bar"
           }
          ],
          "barpolar": [
           {
            "marker": {
             "line": {
              "color": "#E5ECF6",
              "width": 0.5
             },
             "pattern": {
              "fillmode": "overlay",
              "size": 10,
              "solidity": 0.2
             }
            },
            "type": "barpolar"
           }
          ],
          "carpet": [
           {
            "aaxis": {
             "endlinecolor": "#2a3f5f",
             "gridcolor": "white",
             "linecolor": "white",
             "minorgridcolor": "white",
             "startlinecolor": "#2a3f5f"
            },
            "baxis": {
             "endlinecolor": "#2a3f5f",
             "gridcolor": "white",
             "linecolor": "white",
             "minorgridcolor": "white",
             "startlinecolor": "#2a3f5f"
            },
            "type": "carpet"
           }
          ],
          "choropleth": [
           {
            "colorbar": {
             "outlinewidth": 0,
             "ticks": ""
            },
            "type": "choropleth"
           }
          ],
          "contour": [
           {
            "colorbar": {
             "outlinewidth": 0,
             "ticks": ""
            },
            "colorscale": [
             [
              0,
              "#0d0887"
             ],
             [
              0.1111111111111111,
              "#46039f"
             ],
             [
              0.2222222222222222,
              "#7201a8"
             ],
             [
              0.3333333333333333,
              "#9c179e"
             ],
             [
              0.4444444444444444,
              "#bd3786"
             ],
             [
              0.5555555555555556,
              "#d8576b"
             ],
             [
              0.6666666666666666,
              "#ed7953"
             ],
             [
              0.7777777777777778,
              "#fb9f3a"
             ],
             [
              0.8888888888888888,
              "#fdca26"
             ],
             [
              1,
              "#f0f921"
             ]
            ],
            "type": "contour"
           }
          ],
          "contourcarpet": [
           {
            "colorbar": {
             "outlinewidth": 0,
             "ticks": ""
            },
            "type": "contourcarpet"
           }
          ],
          "heatmap": [
           {
            "colorbar": {
             "outlinewidth": 0,
             "ticks": ""
            },
            "colorscale": [
             [
              0,
              "#0d0887"
             ],
             [
              0.1111111111111111,
              "#46039f"
             ],
             [
              0.2222222222222222,
              "#7201a8"
             ],
             [
              0.3333333333333333,
              "#9c179e"
             ],
             [
              0.4444444444444444,
              "#bd3786"
             ],
             [
              0.5555555555555556,
              "#d8576b"
             ],
             [
              0.6666666666666666,
              "#ed7953"
             ],
             [
              0.7777777777777778,
              "#fb9f3a"
             ],
             [
              0.8888888888888888,
              "#fdca26"
             ],
             [
              1,
              "#f0f921"
             ]
            ],
            "type": "heatmap"
           }
          ],
          "heatmapgl": [
           {
            "colorbar": {
             "outlinewidth": 0,
             "ticks": ""
            },
            "colorscale": [
             [
              0,
              "#0d0887"
             ],
             [
              0.1111111111111111,
              "#46039f"
             ],
             [
              0.2222222222222222,
              "#7201a8"
             ],
             [
              0.3333333333333333,
              "#9c179e"
             ],
             [
              0.4444444444444444,
              "#bd3786"
             ],
             [
              0.5555555555555556,
              "#d8576b"
             ],
             [
              0.6666666666666666,
              "#ed7953"
             ],
             [
              0.7777777777777778,
              "#fb9f3a"
             ],
             [
              0.8888888888888888,
              "#fdca26"
             ],
             [
              1,
              "#f0f921"
             ]
            ],
            "type": "heatmapgl"
           }
          ],
          "histogram": [
           {
            "marker": {
             "pattern": {
              "fillmode": "overlay",
              "size": 10,
              "solidity": 0.2
             }
            },
            "type": "histogram"
           }
          ],
          "histogram2d": [
           {
            "colorbar": {
             "outlinewidth": 0,
             "ticks": ""
            },
            "colorscale": [
             [
              0,
              "#0d0887"
             ],
             [
              0.1111111111111111,
              "#46039f"
             ],
             [
              0.2222222222222222,
              "#7201a8"
             ],
             [
              0.3333333333333333,
              "#9c179e"
             ],
             [
              0.4444444444444444,
              "#bd3786"
             ],
             [
              0.5555555555555556,
              "#d8576b"
             ],
             [
              0.6666666666666666,
              "#ed7953"
             ],
             [
              0.7777777777777778,
              "#fb9f3a"
             ],
             [
              0.8888888888888888,
              "#fdca26"
             ],
             [
              1,
              "#f0f921"
             ]
            ],
            "type": "histogram2d"
           }
          ],
          "histogram2dcontour": [
           {
            "colorbar": {
             "outlinewidth": 0,
             "ticks": ""
            },
            "colorscale": [
             [
              0,
              "#0d0887"
             ],
             [
              0.1111111111111111,
              "#46039f"
             ],
             [
              0.2222222222222222,
              "#7201a8"
             ],
             [
              0.3333333333333333,
              "#9c179e"
             ],
             [
              0.4444444444444444,
              "#bd3786"
             ],
             [
              0.5555555555555556,
              "#d8576b"
             ],
             [
              0.6666666666666666,
              "#ed7953"
             ],
             [
              0.7777777777777778,
              "#fb9f3a"
             ],
             [
              0.8888888888888888,
              "#fdca26"
             ],
             [
              1,
              "#f0f921"
             ]
            ],
            "type": "histogram2dcontour"
           }
          ],
          "mesh3d": [
           {
            "colorbar": {
             "outlinewidth": 0,
             "ticks": ""
            },
            "type": "mesh3d"
           }
          ],
          "parcoords": [
           {
            "line": {
             "colorbar": {
              "outlinewidth": 0,
              "ticks": ""
             }
            },
            "type": "parcoords"
           }
          ],
          "pie": [
           {
            "automargin": true,
            "type": "pie"
           }
          ],
          "scatter": [
           {
            "marker": {
             "colorbar": {
              "outlinewidth": 0,
              "ticks": ""
             }
            },
            "type": "scatter"
           }
          ],
          "scatter3d": [
           {
            "line": {
             "colorbar": {
              "outlinewidth": 0,
              "ticks": ""
             }
            },
            "marker": {
             "colorbar": {
              "outlinewidth": 0,
              "ticks": ""
             }
            },
            "type": "scatter3d"
           }
          ],
          "scattercarpet": [
           {
            "marker": {
             "colorbar": {
              "outlinewidth": 0,
              "ticks": ""
             }
            },
            "type": "scattercarpet"
           }
          ],
          "scattergeo": [
           {
            "marker": {
             "colorbar": {
              "outlinewidth": 0,
              "ticks": ""
             }
            },
            "type": "scattergeo"
           }
          ],
          "scattergl": [
           {
            "marker": {
             "colorbar": {
              "outlinewidth": 0,
              "ticks": ""
             }
            },
            "type": "scattergl"
           }
          ],
          "scattermapbox": [
           {
            "marker": {
             "colorbar": {
              "outlinewidth": 0,
              "ticks": ""
             }
            },
            "type": "scattermapbox"
           }
          ],
          "scatterpolar": [
           {
            "marker": {
             "colorbar": {
              "outlinewidth": 0,
              "ticks": ""
             }
            },
            "type": "scatterpolar"
           }
          ],
          "scatterpolargl": [
           {
            "marker": {
             "colorbar": {
              "outlinewidth": 0,
              "ticks": ""
             }
            },
            "type": "scatterpolargl"
           }
          ],
          "scatterternary": [
           {
            "marker": {
             "colorbar": {
              "outlinewidth": 0,
              "ticks": ""
             }
            },
            "type": "scatterternary"
           }
          ],
          "surface": [
           {
            "colorbar": {
             "outlinewidth": 0,
             "ticks": ""
            },
            "colorscale": [
             [
              0,
              "#0d0887"
             ],
             [
              0.1111111111111111,
              "#46039f"
             ],
             [
              0.2222222222222222,
              "#7201a8"
             ],
             [
              0.3333333333333333,
              "#9c179e"
             ],
             [
              0.4444444444444444,
              "#bd3786"
             ],
             [
              0.5555555555555556,
              "#d8576b"
             ],
             [
              0.6666666666666666,
              "#ed7953"
             ],
             [
              0.7777777777777778,
              "#fb9f3a"
             ],
             [
              0.8888888888888888,
              "#fdca26"
             ],
             [
              1,
              "#f0f921"
             ]
            ],
            "type": "surface"
           }
          ],
          "table": [
           {
            "cells": {
             "fill": {
              "color": "#EBF0F8"
             },
             "line": {
              "color": "white"
             }
            },
            "header": {
             "fill": {
              "color": "#C8D4E3"
             },
             "line": {
              "color": "white"
             }
            },
            "type": "table"
           }
          ]
         },
         "layout": {
          "annotationdefaults": {
           "arrowcolor": "#2a3f5f",
           "arrowhead": 0,
           "arrowwidth": 1
          },
          "autotypenumbers": "strict",
          "coloraxis": {
           "colorbar": {
            "outlinewidth": 0,
            "ticks": ""
           }
          },
          "colorscale": {
           "diverging": [
            [
             0,
             "#8e0152"
            ],
            [
             0.1,
             "#c51b7d"
            ],
            [
             0.2,
             "#de77ae"
            ],
            [
             0.3,
             "#f1b6da"
            ],
            [
             0.4,
             "#fde0ef"
            ],
            [
             0.5,
             "#f7f7f7"
            ],
            [
             0.6,
             "#e6f5d0"
            ],
            [
             0.7,
             "#b8e186"
            ],
            [
             0.8,
             "#7fbc41"
            ],
            [
             0.9,
             "#4d9221"
            ],
            [
             1,
             "#276419"
            ]
           ],
           "sequential": [
            [
             0,
             "#0d0887"
            ],
            [
             0.1111111111111111,
             "#46039f"
            ],
            [
             0.2222222222222222,
             "#7201a8"
            ],
            [
             0.3333333333333333,
             "#9c179e"
            ],
            [
             0.4444444444444444,
             "#bd3786"
            ],
            [
             0.5555555555555556,
             "#d8576b"
            ],
            [
             0.6666666666666666,
             "#ed7953"
            ],
            [
             0.7777777777777778,
             "#fb9f3a"
            ],
            [
             0.8888888888888888,
             "#fdca26"
            ],
            [
             1,
             "#f0f921"
            ]
           ],
           "sequentialminus": [
            [
             0,
             "#0d0887"
            ],
            [
             0.1111111111111111,
             "#46039f"
            ],
            [
             0.2222222222222222,
             "#7201a8"
            ],
            [
             0.3333333333333333,
             "#9c179e"
            ],
            [
             0.4444444444444444,
             "#bd3786"
            ],
            [
             0.5555555555555556,
             "#d8576b"
            ],
            [
             0.6666666666666666,
             "#ed7953"
            ],
            [
             0.7777777777777778,
             "#fb9f3a"
            ],
            [
             0.8888888888888888,
             "#fdca26"
            ],
            [
             1,
             "#f0f921"
            ]
           ]
          },
          "colorway": [
           "#636efa",
           "#EF553B",
           "#00cc96",
           "#ab63fa",
           "#FFA15A",
           "#19d3f3",
           "#FF6692",
           "#B6E880",
           "#FF97FF",
           "#FECB52"
          ],
          "font": {
           "color": "#2a3f5f"
          },
          "geo": {
           "bgcolor": "white",
           "lakecolor": "white",
           "landcolor": "#E5ECF6",
           "showlakes": true,
           "showland": true,
           "subunitcolor": "white"
          },
          "hoverlabel": {
           "align": "left"
          },
          "hovermode": "closest",
          "mapbox": {
           "style": "light"
          },
          "paper_bgcolor": "white",
          "plot_bgcolor": "#E5ECF6",
          "polar": {
           "angularaxis": {
            "gridcolor": "white",
            "linecolor": "white",
            "ticks": ""
           },
           "bgcolor": "#E5ECF6",
           "radialaxis": {
            "gridcolor": "white",
            "linecolor": "white",
            "ticks": ""
           }
          },
          "scene": {
           "xaxis": {
            "backgroundcolor": "#E5ECF6",
            "gridcolor": "white",
            "gridwidth": 2,
            "linecolor": "white",
            "showbackground": true,
            "ticks": "",
            "zerolinecolor": "white"
           },
           "yaxis": {
            "backgroundcolor": "#E5ECF6",
            "gridcolor": "white",
            "gridwidth": 2,
            "linecolor": "white",
            "showbackground": true,
            "ticks": "",
            "zerolinecolor": "white"
           },
           "zaxis": {
            "backgroundcolor": "#E5ECF6",
            "gridcolor": "white",
            "gridwidth": 2,
            "linecolor": "white",
            "showbackground": true,
            "ticks": "",
            "zerolinecolor": "white"
           }
          },
          "shapedefaults": {
           "line": {
            "color": "#2a3f5f"
           }
          },
          "ternary": {
           "aaxis": {
            "gridcolor": "white",
            "linecolor": "white",
            "ticks": ""
           },
           "baxis": {
            "gridcolor": "white",
            "linecolor": "white",
            "ticks": ""
           },
           "bgcolor": "#E5ECF6",
           "caxis": {
            "gridcolor": "white",
            "linecolor": "white",
            "ticks": ""
           }
          },
          "title": {
           "x": 0.05
          },
          "xaxis": {
           "automargin": true,
           "gridcolor": "white",
           "linecolor": "white",
           "ticks": "",
           "title": {
            "standoff": 15
           },
           "zerolinecolor": "white",
           "zerolinewidth": 2
          },
          "yaxis": {
           "automargin": true,
           "gridcolor": "white",
           "linecolor": "white",
           "ticks": "",
           "title": {
            "standoff": 15
           },
           "zerolinecolor": "white",
           "zerolinewidth": 2
          }
         }
        }
       }
      }
     },
     "metadata": {},
     "output_type": "display_data"
    }
   ],
   "source": [
    "from script.morestats import ohlcv_with_frequency, ts_with_frequency\n",
    "import plotly.graph_objects as go\n",
    "btc = crypto_df[crypto_df[\"Asset_ID\"]==1] # Asset_ID = 1 for Bitcoin\n",
    "btc_mini = btc.iloc[-200:,:] # Select recent data row\n",
    "print(btc_mini.head())\n",
    "\n",
    "btc_mini=ohlcv_with_frequency(df=btc_mini,frequency='5min')\n",
    "fig = go.Figure(data=[go.Candlestick(x=btc_mini.index, \n",
    "                                    open=btc_mini['Open'], \n",
    "                                    high=btc_mini['High'], \n",
    "                                    low=btc_mini['Low'], \n",
    "                                    close=btc_mini['Close'])])\n",
    "fig.show()"
   ]
  },
  {
   "cell_type": "code",
   "execution_count": 26,
   "metadata": {},
   "outputs": [
    {
     "data": {
      "image/png": "[encoded data removed]",
      "text/plain": [
       "<Figure size 1080x288 with 2 Axes>"
      ]
     },
     "metadata": {
      "needs_background": "light"
     },
     "output_type": "display_data"
    }
   ],
   "source": [
    "import matplotlib.pyplot as plt\n",
    "btc = crypto_df[crypto_df[\"Asset_ID\"]==1].set_index('timestamp')\n",
    "btc_mini = btc.iloc[-200:,:] # Select recent data row\n",
    "\n",
    "f = plt.figure(figsize=(15,4))\n",
    "ax = f.add_subplot(121)\n",
    "plt.plot(btc_mini['Close'], label='BTC-1min')\n",
    "plt.legend()\n",
    "\n",
    "ax2 = f.add_subplot(122)\n",
    "ax2.plot(ts_with_frequency(btc_mini['Close'], frequency='5min'), label='BTC-5min')\n",
    "plt.legend()\n",
    "plt.tight_layout()\n",
    "plt.show()"
   ]
  },
  {
   "cell_type": "markdown",
   "metadata": {},
   "source": [
    "## Autocorrelation \n",
    "\n",
    "$$s_{k}=\\frac{1}{n} \\sum_{i=1}^{n-k}\\left(y_{i}-\\bar{y}\\right)\\left(y_{i+k}-\\bar{y}\\right)=\\frac{1}{n} \\sum_{i=k+1}^{n}\\left(y_{i}-\\bar{y}\\right)\\left(y_{i-k}-\\bar{y}\\right)$$  \n",
    "\n",
    "$$r_k = \\frac{s_k}{s_0}$$"
   ]
  },
  {
   "cell_type": "code",
   "execution_count": 1,
   "metadata": {},
   "outputs": [],
   "source": [
    "from matplotlib import pyplot\n",
    "from script.morestats import log_return"
   ]
  },
  {
   "cell_type": "markdown",
   "metadata": {},
   "source": [
    "Take 5-minute BTC(\"Asset_ID\"=1) log return for example."
   ]
  },
  {
   "cell_type": "code",
   "execution_count": 6,
   "metadata": {},
   "outputs": [
    {
     "name": "stdout",
     "output_type": "stream",
     "text": [
      "5 min\n"
     ]
    },
    {
     "data": {
      "image/png": "[encoded data removed]",
      "text/plain": [
       "<Figure size 432x288 with 1 Axes>"
      ]
     },
     "metadata": {
      "needs_background": "light"
     },
     "output_type": "display_data"
    }
   ],
   "source": [
    "from statsmodels.graphics.tsaplots import plot_acf\n",
    "from script.morestats import ts_with_frequency\n",
    "\n",
    "ticker_id = 1\n",
    "ticker = crypto_df[crypto_df[\"Asset_ID\"]==ticker_id].set_index(\"timestamp\") # Asset_ID = 1 for Bitcoin\n",
    "ticker_mini = ticker.iloc[-200:] # Select recent 200 data rows\n",
    "lret_ticker = log_return(ts_with_frequency(ticker_mini.Close, frequency='5min'))[1:]\n",
    "plot_acf(lret_ticker)\n",
    "pyplot.show()"
   ]
  },
  {
   "cell_type": "code",
   "execution_count": 7,
   "metadata": {},
   "outputs": [
    {
     "data": {
      "text/plain": [
       "array([ 1.        ,  0.22300345, -0.16572461,  0.14992676,  0.16943098,\n",
       "       -0.11037484, -0.12401055,  0.1126429 , -0.03998863, -0.14678928,\n",
       "       -0.004823  , -0.07683669, -0.08140624, -0.12183986, -0.06091687,\n",
       "        0.09130992, -0.0154014 ])"
      ]
     },
     "execution_count": 7,
     "metadata": {},
     "output_type": "execute_result"
    }
   ],
   "source": [
    "from statsmodels.tsa.stattools import acf\n",
    "acf(lret_ticker)"
   ]
  },
  {
   "cell_type": "markdown",
   "metadata": {},
   "source": [
    "## Partial Autocorrelation\n",
    "$$\\frac{\\operatorname{cov}\\left(y_{i}, y_{i-h} \\mid y_{i-1}, \\ldots, y_{i-h+1}\\right)}{\\sqrt{\\operatorname{var}\\left(y_{i} \\mid y_{i-1}, \\ldots, y_{i-h+1}\\right) \\cdot \\operatorname{var}\\left(y_{i-h} \\mid y_{i-1}, \\ldots, y_{i-h+1}\\right)}}$$"
   ]
  },
  {
   "cell_type": "code",
   "execution_count": 8,
   "metadata": {},
   "outputs": [
    {
     "data": {
      "image/png": "[encoded data removed]",
      "text/plain": [
       "<Figure size 432x288 with 1 Axes>"
      ]
     },
     "metadata": {
      "needs_background": "light"
     },
     "output_type": "display_data"
    }
   ],
   "source": [
    "from statsmodels.graphics.tsaplots import plot_pacf\n",
    "plot_pacf(lret_ticker,method='ywm')\n",
    "pyplot.show()"
   ]
  },
  {
   "cell_type": "code",
   "execution_count": 10,
   "metadata": {},
   "outputs": [
    {
     "data": {
      "text/plain": [
       "array([ 1.        ,  0.22872149, -0.23927795,  0.29801839,  0.00751242,\n",
       "       -0.11132402, -0.06900502,  0.11875178, -0.1780027 ,  0.00820432,\n",
       "       -0.02724231, -0.21268755,  0.08472628, -0.26502616,  0.01981886,\n",
       "        0.22023236, -0.19462007])"
      ]
     },
     "execution_count": 10,
     "metadata": {},
     "output_type": "execute_result"
    }
   ],
   "source": [
    "from statsmodels.tsa.stattools import pacf\n",
    "pacf(lret_ticker)"
   ]
  },
  {
   "cell_type": "markdown",
   "metadata": {},
   "source": [
    "## Decomposition\n",
    "- Time Series decomposition\n",
    "- Wald Theorem"
   ]
  },
  {
   "cell_type": "code",
   "execution_count": null,
   "metadata": {},
   "outputs": [],
   "source": []
  }
 ],
 "metadata": {
  "interpreter": {
   "hash": "c6e4e9f98eb68ad3b7c296f83d20e6de614cb42e90992a65aa266555a3137d0d"
  },
  "kernelspec": {
   "display_name": "Python 3.9.7 64-bit ('base': conda)",
   "language": "python",
   "name": "python3"
  },
  "language_info": {
   "codemirror_mode": {
    "name": "ipython",
    "version": 3
   },
   "file_extension": ".py",
   "mimetype": "text/x-python",
   "name": "python",
   "nbconvert_exporter": "python",
   "pygments_lexer": "ipython3",
   "version": "3.9.7"
  },
  "orig_nbformat": 4
 },
 "nbformat": 4,
 "nbformat_minor": 2
}
