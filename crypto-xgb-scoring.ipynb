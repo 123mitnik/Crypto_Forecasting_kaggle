{
 "cells": [
  {
   "cell_type": "markdown",
   "metadata": {},
   "source": [
    "# XGB model cv selection scoring\n",
    "\n",
    "- `xgboost.cv`\n",
    "- Comparing the optimal candidates by test set, using the g-research weighted correlation metrics."
   ]
  },
  {
   "cell_type": "code",
   "execution_count": 22,
   "metadata": {},
   "outputs": [],
   "source": [
    "import os\n",
    "import pandas as pd\n",
    "import gc\n",
    "import talib as ta\n",
    "import numpy as np\n",
    "import json\n",
    "import pickle"
   ]
  },
  {
   "cell_type": "markdown",
   "metadata": {},
   "source": [
    "## 1. version_num\n",
    "\n",
    "- `model_nof_{version number}`"
   ]
  },
  {
   "cell_type": "code",
   "execution_count": 23,
   "metadata": {},
   "outputs": [],
   "source": [
    "version_num = 42\n",
    "retrained = False#set to False to get correct out-train score\n",
    "if retrained:\n",
    "    MOD_FOLDER = \"./trainedXGB/retrained\" + f\"/model_nof_{version_num}_sub_sub\"\n",
    "else:\n",
    "    MOD_FOLDER = \"./trainedXGB\" + f\"/model_nof_{version_num}\""
   ]
  },
  {
   "cell_type": "markdown",
   "metadata": {},
   "source": [
    "## 2. organized data set  \n",
    "\n",
    "- new_data.ftr"
   ]
  },
  {
   "cell_type": "code",
   "execution_count": 24,
   "metadata": {},
   "outputs": [],
   "source": [
    "df_train = pd.read_feather('./data'+'/new_data.ftr',\n",
    "                           columns=['timestamp', 'Asset_ID', 'Count', 'Open', 'High', 'Low', 'Close',\n",
    "                                'Volume', 'Target', 'Weight', 'lr_15', 'Mkt_lrt_15','Crypto_Index','beta','lr_mkt_resid'])"
   ]
  },
  {
   "cell_type": "markdown",
   "metadata": {},
   "source": [
    "## 3. Features"
   ]
  },
  {
   "cell_type": "code",
   "execution_count": 25,
   "metadata": {},
   "outputs": [
    {
     "data": {
      "text/plain": [
       "{'std_lr_15': 30,\n",
       " 'std_Mkt_lrt_15': 10,\n",
       " 'std_Crypto_Index': 30,\n",
       " 'rsi': 30,\n",
       " 'macd_sig': 15,\n",
       " 'macd_s': 10,\n",
       " 'macd_l': 60,\n",
       " 'lrtn': 50,\n",
       " 'fastk2': 10,\n",
       " 'fastk1': 10,\n",
       " 'beta_s': '6h',\n",
       " 'beta_l': '2d',\n",
       " 'adx': 50}"
      ]
     },
     "execution_count": 25,
     "metadata": {},
     "output_type": "execute_result"
    }
   ],
   "source": [
    "# psets34 = dict(zip(['lrtn','fastk1','fastk2','adx','macd_s','macd_l','rsi','std_Crypto_Index','std_lr_15','std_Mkt_lrt_15'],\n",
    "#                    [15, 15, 5, 30, 5, 25, 60, 5, 15, 30]))\n",
    "with open(\"./trainedXGB\" + f\"/model_nof_{version_num}\" + f\"/feature_best{version_num}\", \"rb\") as f:\n",
    "    psets=pickle.load(f)\n",
    "    \n",
    "psets"
   ]
  },
  {
   "cell_type": "code",
   "execution_count": 26,
   "metadata": {},
   "outputs": [],
   "source": [
    "######mod>=36\n",
    "def log_return(series, periods=5):\n",
    "    return np.log(series).diff(periods)\n",
    "\n",
    "def beta_resid(df, window): \n",
    "    num, unit = int(window[:-1]),window[-1]\n",
    "    if unit == 'h':\n",
    "        width = 60*num\n",
    "    elif unit == 'd':\n",
    "        width = 60*24*num\n",
    "    b = ((ta.MULT(df.Mkt_lrt_15,df.lr_15).rolling(width).mean())/ \\\n",
    "        (ta.MULT(df.Mkt_lrt_15,df.Mkt_lrt_15).rolling(width).mean())).rename(f\"beta_{window}\")\n",
    "    b = b.replace([np.nan,np.inf,-np.inf], 0)\n",
    "    resids = ta.SUB(df.lr_15, ta.MULT(b, df.Mkt_lrt_15)).rename(f\"lr_15_resid_{window}\")\n",
    "    return pd.concat([b, resids],axis=1)\n",
    "\n",
    "def lag_features(df,fastk1,fastk2,adx,macd_s,macd_l,macd_sig,rsi,std_Crypto_Index,std_lr_15,std_Mkt_lrt_15,**kwargs):    \n",
    "    ####TECH indicators\n",
    "    df['slowK'], df['slowD'] = ta.STOCH(df.High, df.Low, df.Close, \n",
    "                                        fastk_period=fastk1, slowk_period=int(3*fastk1/5), slowd_period=int(3*fastk1/5),\n",
    "                                        slowk_matype=0, slowd_matype=0)\n",
    "    df['fastK'], df['fastD'] = ta.STOCHF(df.High, df.Low, df.Close,\n",
    "                                         fastk_period=fastk2, fastd_period=int(3*fastk2/5), \n",
    "                                         fastd_matype=0)\n",
    "    df[f'rsi_{rsi}'] = ta.RSI(df['Close'], timeperiod=rsi)\n",
    "    df[f'macd_{macd_s}_{macd_l}'],df[f'macd_signal_{macd_sig}'], df['macd_hist'] = \\\n",
    "                ta.MACD(df['Close'],fastperiod=macd_s, slowperiod=macd_l, signalperiod=macd_sig)\n",
    "    df[f'adx_{adx}'] = ta.ADX(df['High'], df['Low'],df['Close'], timeperiod=adx)#Average Directional Movement Index\n",
    "    df['AD'] = ta.AD(df['High'], df['Low'],df['Close'], df['Volume'])#Accumulation Distribution Line\n",
    "    ####std volatility\n",
    "    df[f'std_lr_15_{std_lr_15}'] = ta.STDDEV(df.lr_15,timeperiod=std_lr_15, nbdev=1)\n",
    "    df[f'std_Mkt_lrt_15_{std_Mkt_lrt_15}'] = ta.STDDEV(df.Mkt_lrt_15,timeperiod=std_Mkt_lrt_15, nbdev=1)\n",
    "    df[f'std_Crypto_Index_{std_Crypto_Index}'] = ta.STDDEV(df.Crypto_Index,timeperiod=std_Crypto_Index, nbdev=1)\n",
    "\n",
    "def get_features(df_feat, fpara_dict):\n",
    "    pd.options.mode.chained_assignment = None  # default='warn'\n",
    "    df_feat[[f\"beta_{fpara_dict['beta_s']}\",f\"lr_15_resid_{fpara_dict['beta_s']}\"]] = beta_resid(df_feat, window = fpara_dict['beta_s'])\n",
    "    df_feat[[f\"beta_{fpara_dict['beta_l']}\",f\"lr_15_resid_{fpara_dict['beta_l']}\"]] = beta_resid(df_feat, window = fpara_dict['beta_l'])\n",
    "    df_feat[f\"lrtn_index_{fpara_dict['lrtn']}\"] = log_return(df_feat.Crypto_Index, fpara_dict['lrtn'])\n",
    "    lag_features(df_feat, **fpara_dict)\n",
    "    return df_feat"
   ]
  },
  {
   "cell_type": "markdown",
   "metadata": {},
   "source": [
    "## 4. Test set with features\n",
    "\n",
    "- train set range is after `df_train['timestamp'].quantile(0.5)`\n",
    "- test set"
   ]
  },
  {
   "cell_type": "code",
   "execution_count": 27,
   "metadata": {},
   "outputs": [
    {
     "data": {
      "text/plain": [
       "Timestamp('2021-11-05 07:18:57')"
      ]
     },
     "execution_count": 27,
     "metadata": {},
     "output_type": "execute_result"
    }
   ],
   "source": [
    "df_train['timestamp'].quantile(0.5)\n",
    "\n",
    "int(pd.Timestamp('2021-09-21T00:00:00').timestamp())\n",
    "pd.to_datetime(df_train['timestamp'].quantile(0.95),unit=\"s\",\n",
    "               infer_datetime_format=True)"
   ]
  },
  {
   "cell_type": "code",
   "execution_count": 28,
   "metadata": {},
   "outputs": [],
   "source": [
    "import datetime\n",
    "import time\n",
    "\n",
    "#test_days= 30*3\n",
    "def make_testset(df_train, start,end, psets):\n",
    "    dd = df_train[(start<=df_train['timestamp']) & (df_train['timestamp']<=end)].copy()\n",
    "    ###consistent timestamp for all 14 assets\n",
    "    dd = dd.sort_values('timestamp').set_index(\"timestamp\").sort_index()\n",
    "    ind = dd.index.unique()\n",
    "    def reindex(df):\n",
    "        df = df.reindex(range(ind[0],ind[-1]+60,60),method='nearest')\n",
    "        df = df.fillna(method=\"ffill\").fillna(method=\"bfill\")\n",
    "        return df\n",
    "    dd = dd.groupby('Asset_ID').apply(reindex).reset_index(0, drop=True).sort_index()\n",
    "    ###add features\n",
    "    dd = dd.groupby('Asset_ID').apply(lambda x: get_features(x,psets))\n",
    "    dd.dropna(axis = 0, inplace= True)\n",
    "    return dd.reset_index()"
   ]
  },
  {
   "cell_type": "markdown",
   "metadata": {},
   "source": [
    "## Performance on test set"
   ]
  },
  {
   "cell_type": "code",
   "execution_count": 29,
   "metadata": {},
   "outputs": [],
   "source": [
    "import xgboost as xgb\n",
    "from os.path import exists\n",
    "\n",
    "ASSET_DETAILS_CSV = './data/asset_details.csv'\n",
    "df_asset_details = pd.read_csv(ASSET_DETAILS_CSV).sort_values(\"Asset_ID\")\n",
    "\n",
    "def model_reload_train():\n",
    "    models = {}\n",
    "    for asset_id, asset_name in zip(df_asset_details['Asset_ID'], df_asset_details['Asset_Name']):\n",
    "        model_file = MOD_FOLDER + f\"/model_{asset_id}.json\"\n",
    "        if exists(model_file):\n",
    "            model = xgb.Booster()\n",
    "            model.load_model(model_file)\n",
    "            models[asset_id] = model\n",
    "    return models"
   ]
  },
  {
   "cell_type": "code",
   "execution_count": 30,
   "metadata": {},
   "outputs": [
    {
     "ename": "KeyError",
     "evalue": "0",
     "output_type": "error",
     "traceback": [
      "\u001b[0;31m---------------------------------------------------------------------------\u001b[0m",
      "\u001b[0;31mKeyError\u001b[0m                                  Traceback (most recent call last)",
      "\u001b[0;32m/var/folders/_0/sgv1wmb92l11hndgfl0tyvjr0000gn/T/ipykernel_30647/1742988163.py\u001b[0m in \u001b[0;36m<module>\u001b[0;34m\u001b[0m\n\u001b[1;32m     19\u001b[0m \u001b[0mresult_id2\u001b[0m\u001b[0;34m=\u001b[0m\u001b[0;34m[\u001b[0m\u001b[0;34m]\u001b[0m\u001b[0;34m\u001b[0m\u001b[0;34m\u001b[0m\u001b[0m\n\u001b[1;32m     20\u001b[0m \u001b[0;32mfor\u001b[0m \u001b[0mid\u001b[0m \u001b[0;32min\u001b[0m \u001b[0mrange\u001b[0m\u001b[0;34m(\u001b[0m\u001b[0;36m0\u001b[0m\u001b[0;34m,\u001b[0m\u001b[0;36m14\u001b[0m\u001b[0;34m)\u001b[0m\u001b[0;34m:\u001b[0m\u001b[0;34m\u001b[0m\u001b[0;34m\u001b[0m\u001b[0m\n\u001b[0;32m---> 21\u001b[0;31m     \u001b[0mmodel\u001b[0m \u001b[0;34m=\u001b[0m \u001b[0mmodels\u001b[0m\u001b[0;34m[\u001b[0m\u001b[0mversion_num\u001b[0m\u001b[0;34m]\u001b[0m\u001b[0;34m[\u001b[0m\u001b[0mid\u001b[0m\u001b[0;34m]\u001b[0m\u001b[0;34m\u001b[0m\u001b[0;34m\u001b[0m\u001b[0m\n\u001b[0m\u001b[1;32m     22\u001b[0m     \u001b[0mx\u001b[0m \u001b[0;34m=\u001b[0m \u001b[0mdf_test\u001b[0m\u001b[0;34m[\u001b[0m\u001b[0mdf_test\u001b[0m\u001b[0;34m[\u001b[0m\u001b[0;34m'Asset_ID'\u001b[0m\u001b[0;34m]\u001b[0m\u001b[0;34m==\u001b[0m\u001b[0mid\u001b[0m\u001b[0;34m]\u001b[0m\u001b[0;34m\u001b[0m\u001b[0;34m\u001b[0m\u001b[0m\n\u001b[1;32m     23\u001b[0m     \u001b[0mx\u001b[0m\u001b[0;34m[\u001b[0m\u001b[0;34m'Pred'\u001b[0m\u001b[0;34m]\u001b[0m \u001b[0;34m=\u001b[0m \u001b[0mmodel\u001b[0m\u001b[0;34m.\u001b[0m\u001b[0mpredict\u001b[0m\u001b[0;34m(\u001b[0m\u001b[0mxgb\u001b[0m\u001b[0;34m.\u001b[0m\u001b[0mDMatrix\u001b[0m\u001b[0;34m(\u001b[0m\u001b[0mx\u001b[0m\u001b[0;34m[\u001b[0m\u001b[0mmodel\u001b[0m\u001b[0;34m.\u001b[0m\u001b[0mfeature_names\u001b[0m\u001b[0;34m]\u001b[0m\u001b[0;34m)\u001b[0m\u001b[0;34m)\u001b[0m\u001b[0;34m\u001b[0m\u001b[0;34m\u001b[0m\u001b[0m\n",
      "\u001b[0;31mKeyError\u001b[0m: 0"
     ]
    }
   ],
   "source": [
    "from script.weighted_corr_metrics import weighted_correlation\n",
    "pd.options.mode.chained_assignment = None  # default='warn'\n",
    "\n",
    "result = []#out-train\n",
    "result2 = []#in-train\n",
    "models = {}\n",
    "\n",
    "models[version_num] = model_reload_train()\n",
    "################################################out-train test\n",
    "test_end= df_train['timestamp'].max()\n",
    "test_start= df_train['timestamp'].quantile(0.95)\n",
    "df_test = make_testset(df_train, test_start,test_end, psets)\n",
    "#############################################in-train test same as API\n",
    "test_end2= 1632182400\n",
    "test_start2= 1623542400 - 60*64\n",
    "df_test2 = make_testset(df_train, test_start2,test_end2, psets)\n",
    "\n",
    "result_id=[]\n",
    "result_id2=[]\n",
    "for id in range(0,14):\n",
    "    model = models[version_num][id]\n",
    "    x = df_test[df_test['Asset_ID']==id]\n",
    "    x['Pred'] = model.predict(xgb.DMatrix(x[model.feature_names]))\n",
    "    result_id.append(x[['timestamp','Asset_ID','Weight','Target','Pred']])\n",
    "    x2 = df_test2[df_test2['Asset_ID']==id]\n",
    "    x2['Pred2'] = model.predict(xgb.DMatrix(x2[model.feature_names]))\n",
    "    result_id2.append(x2[['timestamp','Asset_ID','Weight','Target','Pred2']])\n",
    "    \n",
    "result.append(pd.concat(result_id, axis=0))\n",
    "result2.append(pd.concat(result_id2, axis=0))\n",
    "score=weighted_correlation(a=result[-1]['Target'], \n",
    "                    b=result[-1]['Pred'], \n",
    "                    weights=result[-1]['Weight'])\n",
    "score2=weighted_correlation(a=result2[-1]['Target'], \n",
    "                    b=result2[-1]['Pred2'], \n",
    "                    weights=result2[-1]['Weight'])\n",
    "\n",
    "print(f'{MOD_FOLDER} finished. Out-train-score:{score}, In-train-score:{score2}')    \n"
   ]
  },
  {
   "cell_type": "code",
   "execution_count": null,
   "metadata": {},
   "outputs": [
    {
     "data": {
      "text/plain": [
       "<AxesSubplot:title={'center':'Feature importance'}, xlabel='F score', ylabel='Features'>"
      ]
     },
     "execution_count": 10,
     "metadata": {},
     "output_type": "execute_result"
    },
    {
     "data": {
      "image/png": "[encoded data removed]",
      "text/plain": [
       "<Figure size 432x288 with 1 Axes>"
      ]
     },
     "metadata": {
      "needs_background": "light"
     },
     "output_type": "display_data"
    }
   ],
   "source": [
    "xgb.plot_importance(models[version_num][0], max_num_features=20, height=2)"
   ]
  },
  {
   "cell_type": "code",
   "execution_count": null,
   "metadata": {},
   "outputs": [
    {
     "data": {
      "text/plain": [
       "['Count',\n",
       " 'Open',\n",
       " 'High',\n",
       " 'Low',\n",
       " 'Close',\n",
       " 'Volume',\n",
       " 'lr_15',\n",
       " 'Mkt_lrt_15',\n",
       " 'Crypto_Index',\n",
       " 'beta_6h',\n",
       " 'lr_15_resid_6h',\n",
       " 'beta_2d',\n",
       " 'lr_15_resid_2d',\n",
       " 'lrtn_index_50',\n",
       " 'slowK',\n",
       " 'slowD',\n",
       " 'fastK',\n",
       " 'fastD',\n",
       " 'rsi_60',\n",
       " 'macd_15_25',\n",
       " 'macd_signal_5',\n",
       " 'macd_hist',\n",
       " 'adx_60',\n",
       " 'AD',\n",
       " 'std_lr_15_5',\n",
       " 'std_Mkt_lrt_15_10',\n",
       " 'std_Crypto_Index_15']"
      ]
     },
     "execution_count": 11,
     "metadata": {},
     "output_type": "execute_result"
    }
   ],
   "source": [
    "models[version_num][0].feature_names"
   ]
  },
  {
   "cell_type": "code",
   "execution_count": null,
   "metadata": {},
   "outputs": [
    {
     "data": {
      "text/plain": [
       "0.00199"
      ]
     },
     "execution_count": 12,
     "metadata": {},
     "output_type": "execute_result"
    }
   ],
   "source": [
    "round(0.00199,5)"
   ]
  },
  {
   "cell_type": "code",
   "execution_count": null,
   "metadata": {},
   "outputs": [],
   "source": [
    "ttt = 0\n",
    "with open('./pickletest', 'wb') as f:\n",
    "    pickle.dump(ttt, f)\n",
    "    \n",
    "with open('./pickletest', 'wb') as f:\n",
    "    pickle.dump(ttt+2,f)"
   ]
  },
  {
   "cell_type": "code",
   "execution_count": null,
   "metadata": {},
   "outputs": [
    {
     "data": {
      "text/plain": [
       "2"
      ]
     },
     "execution_count": 21,
     "metadata": {},
     "output_type": "execute_result"
    }
   ],
   "source": [
    "with open('./pickletest','rb') as ff:\n",
    "    t = pickle.load(ff)\n",
    "t"
   ]
  }
 ],
 "metadata": {
  "interpreter": {
   "hash": "4c1b049caad8a8b325ed882a549e2be8617c954355cf49088b2db08ccb0041d6"
  },
  "kernelspec": {
   "display_name": "Python 3.9.7 64-bit ('myML': conda)",
   "language": "python",
   "name": "python3"
  },
  "language_info": {
   "codemirror_mode": {
    "name": "ipython",
    "version": 3
   },
   "file_extension": ".py",
   "mimetype": "text/x-python",
   "name": "python",
   "nbconvert_exporter": "python",
   "pygments_lexer": "ipython3",
   "version": "3.9.7"
  },
  "orig_nbformat": 4
 },
 "nbformat": 4,
 "nbformat_minor": 2
}
