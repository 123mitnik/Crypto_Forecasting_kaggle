{
 "cells": [
  {
   "cell_type": "code",
   "execution_count": null,
   "metadata": {},
   "outputs": [],
   "source": []
  },
  {
   "cell_type": "markdown",
   "metadata": {},
   "source": [
    "# XGB model cv selection scoring\n",
    "\n",
    "- `xgboost.cv`\n",
    "- Comparing the optimal candidates by test set, using the g-research weighted correlation metrics."
   ]
  },
  {
   "cell_type": "code",
   "execution_count": 11,
   "metadata": {},
   "outputs": [],
   "source": [
    "import os\n",
    "import pandas as pd\n",
    "import gc\n",
    "import talib as ta\n",
    "import numpy as np"
   ]
  },
  {
   "cell_type": "markdown",
   "metadata": {},
   "source": [
    "## 1. cv tuned model folders\n",
    "\n",
    "- `model_nof_{version number}`"
   ]
  },
  {
   "cell_type": "code",
   "execution_count": 12,
   "metadata": {},
   "outputs": [
    {
     "data": {
      "text/plain": [
       "[33, 34]"
      ]
     },
     "execution_count": 12,
     "metadata": {},
     "output_type": "execute_result"
    }
   ],
   "source": [
    "sorted([int(s.split('_')[-1]) for s in os.listdir('./trainedXGB/') if 'model_nof' in s])[-2:]"
   ]
  },
  {
   "cell_type": "markdown",
   "metadata": {},
   "source": [
    "## 2. organized data set  \n",
    "\n",
    "- new_data.ftr"
   ]
  },
  {
   "cell_type": "code",
   "execution_count": 13,
   "metadata": {},
   "outputs": [
    {
     "data": {
      "text/html": [
       "<div>\n",
       "<style scoped>\n",
       "    .dataframe tbody tr th:only-of-type {\n",
       "        vertical-align: middle;\n",
       "    }\n",
       "\n",
       "    .dataframe tbody tr th {\n",
       "        vertical-align: top;\n",
       "    }\n",
       "\n",
       "    .dataframe thead th {\n",
       "        text-align: right;\n",
       "    }\n",
       "</style>\n",
       "<table border=\"1\" class=\"dataframe\">\n",
       "  <thead>\n",
       "    <tr style=\"text-align: right;\">\n",
       "      <th></th>\n",
       "      <th>timestamp</th>\n",
       "      <th>Asset_ID</th>\n",
       "      <th>Count</th>\n",
       "      <th>Open</th>\n",
       "      <th>High</th>\n",
       "      <th>Low</th>\n",
       "      <th>Close</th>\n",
       "      <th>Volume</th>\n",
       "      <th>Target</th>\n",
       "      <th>Weight</th>\n",
       "      <th>lr_15</th>\n",
       "      <th>Mkt_lrt_15</th>\n",
       "      <th>Crypto_Index</th>\n",
       "      <th>beta</th>\n",
       "      <th>lr_mkt_resid</th>\n",
       "    </tr>\n",
       "  </thead>\n",
       "  <tbody>\n",
       "    <tr>\n",
       "      <th>26473297</th>\n",
       "      <td>1641772800</td>\n",
       "      <td>9</td>\n",
       "      <td>218.0</td>\n",
       "      <td>130.842571</td>\n",
       "      <td>130.940000</td>\n",
       "      <td>130.478000</td>\n",
       "      <td>130.707429</td>\n",
       "      <td>1.011042e+03</td>\n",
       "      <td>NaN</td>\n",
       "      <td>0.058657</td>\n",
       "      <td>-0.004696</td>\n",
       "      <td>-0.003263</td>\n",
       "      <td>7532.261935</td>\n",
       "      <td>0.963412</td>\n",
       "      <td>-0.001552</td>\n",
       "    </tr>\n",
       "    <tr>\n",
       "      <th>26473298</th>\n",
       "      <td>1641772800</td>\n",
       "      <td>10</td>\n",
       "      <td>20.0</td>\n",
       "      <td>2122.416667</td>\n",
       "      <td>2124.010000</td>\n",
       "      <td>2116.950000</td>\n",
       "      <td>2119.743333</td>\n",
       "      <td>2.084755e+00</td>\n",
       "      <td>NaN</td>\n",
       "      <td>0.026874</td>\n",
       "      <td>-0.003462</td>\n",
       "      <td>-0.003263</td>\n",
       "      <td>7532.261935</td>\n",
       "      <td>1.507092</td>\n",
       "      <td>0.001455</td>\n",
       "    </tr>\n",
       "    <tr>\n",
       "      <th>26473299</th>\n",
       "      <td>1641772800</td>\n",
       "      <td>13</td>\n",
       "      <td>118.0</td>\n",
       "      <td>0.066109</td>\n",
       "      <td>0.066130</td>\n",
       "      <td>0.066058</td>\n",
       "      <td>0.066082</td>\n",
       "      <td>1.265238e+06</td>\n",
       "      <td>NaN</td>\n",
       "      <td>0.043830</td>\n",
       "      <td>-0.003493</td>\n",
       "      <td>-0.003263</td>\n",
       "      <td>7532.261935</td>\n",
       "      <td>0.772527</td>\n",
       "      <td>-0.000973</td>\n",
       "    </tr>\n",
       "    <tr>\n",
       "      <th>26473300</th>\n",
       "      <td>1641772800</td>\n",
       "      <td>12</td>\n",
       "      <td>112.0</td>\n",
       "      <td>0.261055</td>\n",
       "      <td>0.261185</td>\n",
       "      <td>0.260474</td>\n",
       "      <td>0.260682</td>\n",
       "      <td>1.187581e+05</td>\n",
       "      <td>NaN</td>\n",
       "      <td>0.050867</td>\n",
       "      <td>-0.003568</td>\n",
       "      <td>-0.003263</td>\n",
       "      <td>7532.261935</td>\n",
       "      <td>0.938556</td>\n",
       "      <td>-0.000505</td>\n",
       "    </tr>\n",
       "    <tr>\n",
       "      <th>26473301</th>\n",
       "      <td>1641772800</td>\n",
       "      <td>11</td>\n",
       "      <td>52.0</td>\n",
       "      <td>190.732000</td>\n",
       "      <td>191.160000</td>\n",
       "      <td>189.800000</td>\n",
       "      <td>190.506000</td>\n",
       "      <td>1.355932e+02</td>\n",
       "      <td>NaN</td>\n",
       "      <td>0.039370</td>\n",
       "      <td>-0.000454</td>\n",
       "      <td>-0.003263</td>\n",
       "      <td>7532.261935</td>\n",
       "      <td>0.576140</td>\n",
       "      <td>0.001426</td>\n",
       "    </tr>\n",
       "  </tbody>\n",
       "</table>\n",
       "</div>"
      ],
      "text/plain": [
       "           timestamp  Asset_ID  Count         Open         High          Low  \\\n",
       "26473297  1641772800         9  218.0   130.842571   130.940000   130.478000   \n",
       "26473298  1641772800        10   20.0  2122.416667  2124.010000  2116.950000   \n",
       "26473299  1641772800        13  118.0     0.066109     0.066130     0.066058   \n",
       "26473300  1641772800        12  112.0     0.261055     0.261185     0.260474   \n",
       "26473301  1641772800        11   52.0   190.732000   191.160000   189.800000   \n",
       "\n",
       "                Close        Volume  Target    Weight     lr_15  Mkt_lrt_15  \\\n",
       "26473297   130.707429  1.011042e+03     NaN  0.058657 -0.004696   -0.003263   \n",
       "26473298  2119.743333  2.084755e+00     NaN  0.026874 -0.003462   -0.003263   \n",
       "26473299     0.066082  1.265238e+06     NaN  0.043830 -0.003493   -0.003263   \n",
       "26473300     0.260682  1.187581e+05     NaN  0.050867 -0.003568   -0.003263   \n",
       "26473301   190.506000  1.355932e+02     NaN  0.039370 -0.000454   -0.003263   \n",
       "\n",
       "          Crypto_Index      beta  lr_mkt_resid  \n",
       "26473297   7532.261935  0.963412     -0.001552  \n",
       "26473298   7532.261935  1.507092      0.001455  \n",
       "26473299   7532.261935  0.772527     -0.000973  \n",
       "26473300   7532.261935  0.938556     -0.000505  \n",
       "26473301   7532.261935  0.576140      0.001426  "
      ]
     },
     "execution_count": 13,
     "metadata": {},
     "output_type": "execute_result"
    }
   ],
   "source": [
    "df_train = pd.read_feather('./data'+'/new_data.ftr',\n",
    "                           columns=['timestamp', 'Asset_ID', 'Count', 'Open', 'High', 'Low', 'Close',\n",
    "                                'Volume', 'Target', 'Weight', 'lr_15', 'Mkt_lrt_15','Crypto_Index','beta','lr_mkt_resid'])\n",
    "df_train.tail()"
   ]
  },
  {
   "cell_type": "markdown",
   "metadata": {},
   "source": [
    "## 3. Features"
   ]
  },
  {
   "cell_type": "code",
   "execution_count": 14,
   "metadata": {},
   "outputs": [],
   "source": [
    "# lrtn,fastk1,fastk2,adx,macd_s,macd_l,rsi,std_Crypto_Index,std_lr_15,std_Mkt_lrt_15 = \\\n",
    "#     (30, 5, 15, 30, 15, 25, 60, 15, 15, 5)\n",
    "psets31 = dict(zip(['lrtn','fastk1','fastk2','adx','macd_s','macd_l','rsi','std_Crypto_Index','std_lr_15','std_Mkt_lrt_15'],\n",
    "                   [30, 5, 15, 30, 15, 25, 60, 15, 15, 5]))\n",
    "psets32 = dict(zip(['lrtn','fastk1','fastk2','adx','macd_s','macd_l','rsi','std_Crypto_Index','std_lr_15','std_Mkt_lrt_15'],\n",
    "                   [30, 15, 15, 30, 10, 25, 60, 30, 15, 15]))\n",
    "psets33 = dict(zip(['lrtn','fastk1','fastk2','adx','macd_s','macd_l','rsi','std_Crypto_Index','std_lr_15','std_Mkt_lrt_15'],\n",
    "                   [15, 15, 5, 30, 5, 25, 60, 5, 15, 30]))\n",
    "psets34 = dict(zip(['lrtn','fastk1','fastk2','adx','macd_s','macd_l','rsi','std_Crypto_Index','std_lr_15','std_Mkt_lrt_15'],\n",
    "                   [15, 15, 5, 30, 5, 25, 60, 5, 15, 30]))\n",
    "\n",
    "\n",
    "psets = dict(zip(sorted([int(s.split('_')[-1]) for s in os.listdir('./trainedXGB/') if 'model_nof' in s])[-2:],\n",
    "                 [psets33,psets34]))"
   ]
  },
  {
   "cell_type": "code",
   "execution_count": 15,
   "metadata": {},
   "outputs": [],
   "source": [
    "def log_return(series, periods=5):\n",
    "    return np.log(series).diff(periods)\n",
    "\n",
    "def lag_features(df, fastk1,fastk2,adx,macd_s,macd_l,rsi,std_Crypto_Index,std_lr_15,std_Mkt_lrt_15, **kwargs):    \n",
    "    ####TECH indicators\n",
    "    df['slowK'], df['slowD'] = ta.STOCH(df.High, df.Low, df.Close, \n",
    "                                        fastk_period=fastk1, slowk_period=int(3*fastk1/5), slowd_period=int(3*fastk1/5),\n",
    "                                        slowk_matype=0, slowd_matype=0)\n",
    "    df['fastK'], df['fastD'] = ta.STOCHF(df.High, df.Low, df.Close,\n",
    "                                         fastk_period=fastk2, fastd_period=int(3*fastk2/5), \n",
    "                                         fastd_matype=0)\n",
    "    df[f'rsi_{rsi}'] = ta.RSI(df['Close'], timeperiod=rsi)\n",
    "    df[f'macd_{macd_s}_{macd_l}'],df['macd_signal'], df['macd_hist'] = \\\n",
    "                ta.MACD(df['Close'],fastperiod=macd_s, slowperiod=macd_l, signalperiod=5)\n",
    "    df[f'adx_{adx}'] = ta.ADX(df['High'], df['Low'],df['Close'], timeperiod=adx)#Average Directional Movement Index\n",
    "    df['AD'] = ta.AD(df['High'], df['Low'],df['Close'], df['Volume'])#Accumulation Distribution Line\n",
    "    ####std volatility\n",
    "    df[f'std_lr_15_{std_lr_15}'] = ta.STDDEV(df.lr_15,timeperiod=std_lr_15, nbdev=1)\n",
    "    df[f'std_Mkt_lrt_15_{std_Mkt_lrt_15}'] = ta.STDDEV(df.Mkt_lrt_15,timeperiod=std_Mkt_lrt_15, nbdev=1)\n",
    "    df[f'std_Crypto_Index_{std_Crypto_Index}'] = ta.STDDEV(df.Crypto_Index,timeperiod=std_Crypto_Index, nbdev=1)\n",
    "    ####candidates\n",
    "    # df[f'DI_plus_{DI_plus}'] = ta.PLUS_DI(df['High'], df['Low'],df['Close'], timeperiod=DI_plus)\n",
    "    # df[f'DI_minus_{DI_minus}'] = ta.MINUS_DI(df['High'], df['Low'],df['Close'], timeperiod=DI_minus)\n",
    "    # df['TRENDLINE'] =ta.HT_TRENDLINE(df['Open'])#Hilbert Transform - Instantaneous Trendline\n",
    "    # df[f'willr_{willr}'] = ta.WILLR(df['High'], df['Low'],df['Close'], timeperiod=willr)#Williams Percent Range\n",
    "    # df[f'ADOSC_{ADOSC_s}_{ADOSC_l}'] = \\\n",
    "    #             ta.ADOSC(df['High'], df['Low'],df['Close'], df['Volume'], fastperiod = ADOSC_s, slowperiod=ADOSC_l)\n",
    "    # df[f'ATR_{ATR}'] = ta.ATR(df['High'], df['Low'],df['Close'], timeperiod=ATR)\n",
    "def get_features(df_feat, psets):\n",
    "    pd.options.mode.chained_assignment = None  # default='warn'\n",
    "    df_feat[f\"lrtn_index_{psets['lrtn']}\"] = log_return(df_feat.Crypto_Index, psets['lrtn'])\n",
    "    lag_features(df_feat, **psets)\n",
    "    return df_feat"
   ]
  },
  {
   "cell_type": "markdown",
   "metadata": {},
   "source": [
    "## 4. Test set with features\n",
    "\n",
    "- train set range is after `df_train['timestamp'].quantile(0.5)`\n",
    "- test set"
   ]
  },
  {
   "cell_type": "code",
   "execution_count": 16,
   "metadata": {},
   "outputs": [
    {
     "data": {
      "text/plain": [
       "Timestamp('2021-11-05 07:18:57')"
      ]
     },
     "execution_count": 16,
     "metadata": {},
     "output_type": "execute_result"
    }
   ],
   "source": [
    "df_train['timestamp'].quantile(0.5)\n",
    "\n",
    "int(pd.Timestamp('2021-09-21T00:00:00').timestamp())\n",
    "pd.to_datetime(df_train['timestamp'].quantile(0.95),unit=\"s\",\n",
    "               infer_datetime_format=True)"
   ]
  },
  {
   "cell_type": "code",
   "execution_count": 17,
   "metadata": {},
   "outputs": [],
   "source": [
    "import datetime\n",
    "import time\n",
    "\n",
    "#test_days= 30*3\n",
    "def make_testset(df_train, start,end, psets):\n",
    "    dd = df_train[(start<=df_train['timestamp']) & (df_train['timestamp']<=end)].copy()\n",
    "    ###consistent timestamp for all 14 assets\n",
    "    dd = dd.sort_values('timestamp').set_index(\"timestamp\").sort_index()\n",
    "    ind = dd.index.unique()\n",
    "    def reindex(df):\n",
    "        df = df.reindex(range(ind[0],ind[-1]+60,60),method='nearest')\n",
    "        df = df.fillna(method=\"ffill\").fillna(method=\"bfill\")\n",
    "        return df\n",
    "    dd = dd.groupby('Asset_ID').apply(reindex).reset_index(0, drop=True).sort_index()\n",
    "    ###add features\n",
    "    dd = dd.groupby('Asset_ID').apply(lambda x: get_features(x,psets))\n",
    "    dd.dropna(axis = 0, inplace= True)\n",
    "    return dd.reset_index()\n",
    "    \n",
    "\n"
   ]
  },
  {
   "cell_type": "markdown",
   "metadata": {},
   "source": [
    "## Performance on test set"
   ]
  },
  {
   "cell_type": "code",
   "execution_count": 18,
   "metadata": {},
   "outputs": [],
   "source": [
    "import xgboost as xgb\n",
    "from os.path import exists\n",
    "\n",
    "ASSET_DETAILS_CSV = './data/asset_details.csv'\n",
    "df_asset_details = pd.read_csv(ASSET_DETAILS_CSV).sort_values(\"Asset_ID\")\n",
    "\n",
    "def model_reload_train(param_version):\n",
    "    models = {}\n",
    "    for asset_id, asset_name in zip(df_asset_details['Asset_ID'], df_asset_details['Asset_Name']):\n",
    "        model_file = f\"./trainedXGB/model_nof_{param_version}/model_{asset_id}.json\"\n",
    "        if exists(model_file):\n",
    "            model = xgb.Booster()\n",
    "            model.load_model(model_file)\n",
    "            models[asset_id] = model\n",
    "    return models"
   ]
  },
  {
   "cell_type": "code",
   "execution_count": 19,
   "metadata": {},
   "outputs": [
    {
     "name": "stdout",
     "output_type": "stream",
     "text": [
      "model_nof_33 finished. Out-train-score:0.01320315622979851, In-train-score:0.15900677535789493\n",
      "model_nof_34 finished. Out-train-score:0.01320315622979851, In-train-score:0.15900677535789493\n"
     ]
    }
   ],
   "source": [
    "from script.weighted_corr_metrics import weighted_correlation\n",
    "pd.options.mode.chained_assignment = None  # default='warn'\n",
    "\n",
    "result = []\n",
    "result2 = []\n",
    "models = {}\n",
    "\n",
    "for version_num in sorted([int(s.split('_')[-1]) for s in os.listdir('./trainedXGB/') if 'model_nof' in s])[-2:]:\n",
    "    models[version_num] =model_reload_train(param_version= version_num)\n",
    "    ################################################out-train test\n",
    "    test_end= df_train['timestamp'].max()\n",
    "    test_start= df_train['timestamp'].quantile(0.95)\n",
    "    df_test = make_testset(df_train, test_start,test_end, psets[version_num])\n",
    "    #############################################in-train test same as API\n",
    "    test_end2= 1632182400\n",
    "    test_start2= 1623542400 - 60*64\n",
    "    df_test2 = make_testset(df_train, test_start2,test_end2, psets[version_num])\n",
    "\n",
    "    result_id=[]\n",
    "    result_id2=[]\n",
    "    for id in range(0,14):\n",
    "        model = models[version_num][id]\n",
    "        x = df_test[df_test['Asset_ID']==id]\n",
    "        x['Pred'] = model.predict(xgb.DMatrix(x[model.feature_names]))\n",
    "        result_id.append(x[['timestamp','Asset_ID','Weight','Target','Pred']])\n",
    "        x2 = df_test2[df_test2['Asset_ID']==id]\n",
    "        x2['Pred2'] = model.predict(xgb.DMatrix(x2[model.feature_names]))\n",
    "        result_id2.append(x2[['timestamp','Asset_ID','Weight','Target','Pred2']])\n",
    "        \n",
    "    result.append(pd.concat(result_id, axis=0))\n",
    "    result2.append(pd.concat(result_id2, axis=0))\n",
    "    score=weighted_correlation(a=result[-1]['Target'], \n",
    "                     b=result[-1]['Pred'], \n",
    "                     weights=result[-1]['Weight'])\n",
    "    score2=weighted_correlation(a=result2[-1]['Target'], \n",
    "                     b=result2[-1]['Pred2'], \n",
    "                     weights=result2[-1]['Weight'])\n",
    "    #print(f\"features: {models[0].feature_names}\")\n",
    "    print(f'model_nof_{version_num} finished. Out-train-score:{score}, In-train-score:{score2}')"
   ]
  },
  {
   "cell_type": "code",
   "execution_count": 20,
   "metadata": {},
   "outputs": [
    {
     "ename": "KeyError",
     "evalue": "31",
     "output_type": "error",
     "traceback": [
      "\u001b[0;31m---------------------------------------------------------------------------\u001b[0m",
      "\u001b[0;31mKeyError\u001b[0m                                  Traceback (most recent call last)",
      "\u001b[0;32m/var/folders/_0/sgv1wmb92l11hndgfl0tyvjr0000gn/T/ipykernel_91060/3942412394.py\u001b[0m in \u001b[0;36m<module>\u001b[0;34m\u001b[0m\n\u001b[0;32m----> 1\u001b[0;31m \u001b[0mxgb\u001b[0m\u001b[0;34m.\u001b[0m\u001b[0mplot_importance\u001b[0m\u001b[0;34m(\u001b[0m\u001b[0mmodels\u001b[0m\u001b[0;34m[\u001b[0m\u001b[0;36m31\u001b[0m\u001b[0;34m]\u001b[0m\u001b[0;34m[\u001b[0m\u001b[0;36m2\u001b[0m\u001b[0;34m]\u001b[0m\u001b[0;34m,\u001b[0m \u001b[0mmax_num_features\u001b[0m\u001b[0;34m=\u001b[0m\u001b[0;36m20\u001b[0m\u001b[0;34m,\u001b[0m \u001b[0mheight\u001b[0m\u001b[0;34m=\u001b[0m\u001b[0;36m2\u001b[0m\u001b[0;34m)\u001b[0m\u001b[0;34m\u001b[0m\u001b[0;34m\u001b[0m\u001b[0m\n\u001b[0m",
      "\u001b[0;31mKeyError\u001b[0m: 31"
     ]
    }
   ],
   "source": [
    "xgb.plot_importance(models[31][2], max_num_features=20, height=2)"
   ]
  },
  {
   "cell_type": "code",
   "execution_count": null,
   "metadata": {},
   "outputs": [],
   "source": [
    "models[31][5].feature_names"
   ]
  },
  {
   "cell_type": "code",
   "execution_count": null,
   "metadata": {},
   "outputs": [],
   "source": [
    "!cat trainedXGB/model_nof_31/params_xgb31.txt"
   ]
  }
 ],
 "metadata": {
  "interpreter": {
   "hash": "4c1b049caad8a8b325ed882a549e2be8617c954355cf49088b2db08ccb0041d6"
  },
  "kernelspec": {
   "display_name": "Python 3.9.7 64-bit ('myML': conda)",
   "language": "python",
   "name": "python3"
  },
  "language_info": {
   "codemirror_mode": {
    "name": "ipython",
    "version": 3
   },
   "file_extension": ".py",
   "mimetype": "text/x-python",
   "name": "python",
   "nbconvert_exporter": "python",
   "pygments_lexer": "ipython3",
   "version": "3.9.7"
  },
  "orig_nbformat": 4
 },
 "nbformat": 4,
 "nbformat_minor": 2
}
