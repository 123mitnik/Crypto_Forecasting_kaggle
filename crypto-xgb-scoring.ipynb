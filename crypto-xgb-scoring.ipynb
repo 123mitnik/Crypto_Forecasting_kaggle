{
 "cells": [
  {
   "cell_type": "markdown",
   "metadata": {},
   "source": [
    "# XGB model cv selection scoring\n",
    "\n",
    "- `xgboost.cv`\n",
    "- Comparing the optimal candidates by test set, using the g-research weighted correlation metrics."
   ]
  },
  {
   "cell_type": "code",
   "execution_count": 15,
   "metadata": {},
   "outputs": [],
   "source": [
    "import os\n",
    "import pandas as pd\n",
    "import gc\n",
    "import talib as ta\n",
    "import numpy as np\n",
    "import json\n",
    "import pickle\n",
    "import xgboost as xgb\n",
    "from os.path import exists\n"
   ]
  },
  {
   "cell_type": "markdown",
   "metadata": {},
   "source": [
    "## 1. version_num\n",
    "\n",
    "- `model_nof_{version number}`"
   ]
  },
  {
   "cell_type": "code",
   "execution_count": 16,
   "metadata": {},
   "outputs": [
    {
     "data": {
      "text/plain": [
       "'./trainedXGB/model_nof_40'"
      ]
     },
     "execution_count": 16,
     "metadata": {},
     "output_type": "execute_result"
    }
   ],
   "source": [
    "version_num = 40\n",
    "retrained = False #set to False to get correct out-train score\n",
    "if retrained:\n",
    "    MOD_FOLDER = \"./trainedXGB/retrained\" + f\"/model_nof_{version_num}_sub_sub\"\n",
    "else:\n",
    "    MOD_FOLDER = \"./trainedXGB\" + f\"/model_nof_{version_num}\"\n",
    "\n",
    "MOD_FOLDER"
   ]
  },
  {
   "cell_type": "markdown",
   "metadata": {},
   "source": [
    "## 2. organized data set  \n",
    "\n",
    "- new_data.ftr"
   ]
  },
  {
   "cell_type": "code",
   "execution_count": 17,
   "metadata": {},
   "outputs": [],
   "source": [
    "df_train = pd.read_feather('./data'+'/new_data.ftr',\n",
    "                           columns=['timestamp', 'Asset_ID', 'Count', 'Open', 'High', 'Low', 'Close',\n",
    "                                'Volume', 'Target', 'Weight', 'lr_15', 'Mkt_lrt_15','Crypto_Index','beta','lr_mkt_resid'])"
   ]
  },
  {
   "cell_type": "code",
   "execution_count": 18,
   "metadata": {},
   "outputs": [
    {
     "data": {
      "text/html": [
       "<div>\n",
       "<style scoped>\n",
       "    .dataframe tbody tr th:only-of-type {\n",
       "        vertical-align: middle;\n",
       "    }\n",
       "\n",
       "    .dataframe tbody tr th {\n",
       "        vertical-align: top;\n",
       "    }\n",
       "\n",
       "    .dataframe thead th {\n",
       "        text-align: right;\n",
       "    }\n",
       "</style>\n",
       "<table border=\"1\" class=\"dataframe\">\n",
       "  <thead>\n",
       "    <tr style=\"text-align: right;\">\n",
       "      <th></th>\n",
       "      <th>timestamp</th>\n",
       "      <th>Asset_ID</th>\n",
       "      <th>Count</th>\n",
       "      <th>Open</th>\n",
       "      <th>High</th>\n",
       "      <th>Low</th>\n",
       "      <th>Close</th>\n",
       "      <th>Volume</th>\n",
       "      <th>Target</th>\n",
       "      <th>Weight</th>\n",
       "      <th>lr_15</th>\n",
       "      <th>Mkt_lrt_15</th>\n",
       "      <th>Crypto_Index</th>\n",
       "      <th>beta</th>\n",
       "      <th>lr_mkt_resid</th>\n",
       "    </tr>\n",
       "  </thead>\n",
       "  <tbody>\n",
       "    <tr>\n",
       "      <th>26473297</th>\n",
       "      <td>1641772800</td>\n",
       "      <td>9</td>\n",
       "      <td>218.0</td>\n",
       "      <td>130.842571</td>\n",
       "      <td>130.940000</td>\n",
       "      <td>130.478000</td>\n",
       "      <td>130.707429</td>\n",
       "      <td>1.011042e+03</td>\n",
       "      <td>NaN</td>\n",
       "      <td>0.058657</td>\n",
       "      <td>-0.004696</td>\n",
       "      <td>-0.003263</td>\n",
       "      <td>7532.261935</td>\n",
       "      <td>0.963412</td>\n",
       "      <td>-0.001552</td>\n",
       "    </tr>\n",
       "    <tr>\n",
       "      <th>26473298</th>\n",
       "      <td>1641772800</td>\n",
       "      <td>10</td>\n",
       "      <td>20.0</td>\n",
       "      <td>2122.416667</td>\n",
       "      <td>2124.010000</td>\n",
       "      <td>2116.950000</td>\n",
       "      <td>2119.743333</td>\n",
       "      <td>2.084755e+00</td>\n",
       "      <td>NaN</td>\n",
       "      <td>0.026874</td>\n",
       "      <td>-0.003462</td>\n",
       "      <td>-0.003263</td>\n",
       "      <td>7532.261935</td>\n",
       "      <td>1.507092</td>\n",
       "      <td>0.001455</td>\n",
       "    </tr>\n",
       "    <tr>\n",
       "      <th>26473299</th>\n",
       "      <td>1641772800</td>\n",
       "      <td>13</td>\n",
       "      <td>118.0</td>\n",
       "      <td>0.066109</td>\n",
       "      <td>0.066130</td>\n",
       "      <td>0.066058</td>\n",
       "      <td>0.066082</td>\n",
       "      <td>1.265238e+06</td>\n",
       "      <td>NaN</td>\n",
       "      <td>0.043830</td>\n",
       "      <td>-0.003493</td>\n",
       "      <td>-0.003263</td>\n",
       "      <td>7532.261935</td>\n",
       "      <td>0.772527</td>\n",
       "      <td>-0.000973</td>\n",
       "    </tr>\n",
       "    <tr>\n",
       "      <th>26473300</th>\n",
       "      <td>1641772800</td>\n",
       "      <td>12</td>\n",
       "      <td>112.0</td>\n",
       "      <td>0.261055</td>\n",
       "      <td>0.261185</td>\n",
       "      <td>0.260474</td>\n",
       "      <td>0.260682</td>\n",
       "      <td>1.187581e+05</td>\n",
       "      <td>NaN</td>\n",
       "      <td>0.050867</td>\n",
       "      <td>-0.003568</td>\n",
       "      <td>-0.003263</td>\n",
       "      <td>7532.261935</td>\n",
       "      <td>0.938556</td>\n",
       "      <td>-0.000505</td>\n",
       "    </tr>\n",
       "    <tr>\n",
       "      <th>26473301</th>\n",
       "      <td>1641772800</td>\n",
       "      <td>11</td>\n",
       "      <td>52.0</td>\n",
       "      <td>190.732000</td>\n",
       "      <td>191.160000</td>\n",
       "      <td>189.800000</td>\n",
       "      <td>190.506000</td>\n",
       "      <td>1.355932e+02</td>\n",
       "      <td>NaN</td>\n",
       "      <td>0.039370</td>\n",
       "      <td>-0.000454</td>\n",
       "      <td>-0.003263</td>\n",
       "      <td>7532.261935</td>\n",
       "      <td>0.576140</td>\n",
       "      <td>0.001426</td>\n",
       "    </tr>\n",
       "  </tbody>\n",
       "</table>\n",
       "</div>"
      ],
      "text/plain": [
       "           timestamp  Asset_ID  Count         Open         High          Low  \\\n",
       "26473297  1641772800         9  218.0   130.842571   130.940000   130.478000   \n",
       "26473298  1641772800        10   20.0  2122.416667  2124.010000  2116.950000   \n",
       "26473299  1641772800        13  118.0     0.066109     0.066130     0.066058   \n",
       "26473300  1641772800        12  112.0     0.261055     0.261185     0.260474   \n",
       "26473301  1641772800        11   52.0   190.732000   191.160000   189.800000   \n",
       "\n",
       "                Close        Volume  Target    Weight     lr_15  Mkt_lrt_15  \\\n",
       "26473297   130.707429  1.011042e+03     NaN  0.058657 -0.004696   -0.003263   \n",
       "26473298  2119.743333  2.084755e+00     NaN  0.026874 -0.003462   -0.003263   \n",
       "26473299     0.066082  1.265238e+06     NaN  0.043830 -0.003493   -0.003263   \n",
       "26473300     0.260682  1.187581e+05     NaN  0.050867 -0.003568   -0.003263   \n",
       "26473301   190.506000  1.355932e+02     NaN  0.039370 -0.000454   -0.003263   \n",
       "\n",
       "          Crypto_Index      beta  lr_mkt_resid  \n",
       "26473297   7532.261935  0.963412     -0.001552  \n",
       "26473298   7532.261935  1.507092      0.001455  \n",
       "26473299   7532.261935  0.772527     -0.000973  \n",
       "26473300   7532.261935  0.938556     -0.000505  \n",
       "26473301   7532.261935  0.576140      0.001426  "
      ]
     },
     "execution_count": 18,
     "metadata": {},
     "output_type": "execute_result"
    }
   ],
   "source": [
    "df_train.tail()"
   ]
  },
  {
   "cell_type": "code",
   "execution_count": 19,
   "metadata": {},
   "outputs": [
    {
     "name": "stdout",
     "output_type": "stream",
     "text": [
      "model from ./trainedXGB/model_nof_40\n"
     ]
    }
   ],
   "source": [
    "ASSET_DETAILS_CSV = './data/asset_details.csv'\n",
    "df_asset_details = pd.read_csv(ASSET_DETAILS_CSV).sort_values(\"Asset_ID\")\n",
    "\n",
    "def model_reload_train():\n",
    "    print(f\"model from {MOD_FOLDER}\")\n",
    "    models = {}\n",
    "    for asset_id, asset_name in zip(df_asset_details['Asset_ID'], df_asset_details['Asset_Name']):\n",
    "        model_file = MOD_FOLDER + f\"/model_{asset_id}.json\"\n",
    "        if exists(model_file):\n",
    "            model = xgb.Booster()\n",
    "            model.load_model(model_file)\n",
    "            models[asset_id] = model\n",
    "    return models\n",
    "\n",
    "models = {}\n",
    "models[version_num] =model_reload_train()"
   ]
  },
  {
   "cell_type": "markdown",
   "metadata": {},
   "source": [
    "## 3. Features"
   ]
  },
  {
   "cell_type": "code",
   "execution_count": 20,
   "metadata": {},
   "outputs": [
    {
     "data": {
      "text/plain": [
       "{'std_lr_15': 5,\n",
       " 'std_Mkt_lrt_15': 10,\n",
       " 'std_Crypto_Index': 15,\n",
       " 'rsi': 60,\n",
       " 'macd_sig': 5,\n",
       " 'macd_s': 15,\n",
       " 'macd_l': 25,\n",
       " 'lrtn': 50,\n",
       " 'fastk2': 15,\n",
       " 'fastk1': 5,\n",
       " 'beta_s': '6h',\n",
       " 'beta_l': '2d',\n",
       " 'adx': 60,\n",
       " 'vol_sum': 0}"
      ]
     },
     "execution_count": 20,
     "metadata": {},
     "output_type": "execute_result"
    }
   ],
   "source": [
    "# psets34 = dict(zip(['lrtn','fastk1','fastk2','adx','macd_s','macd_l','rsi','std_Crypto_Index','std_lr_15','std_Mkt_lrt_15'],\n",
    "#                    [15, 15, 5, 30, 5, 25, 60, 5, 15, 30]))\n",
    "with open(MOD_FOLDER+ f\"/feature_best{version_num}\", \"rb\") as f:\n",
    "    psets=pickle.load(f)\n",
    "\n",
    "if version_num < 44:\n",
    "    psets['vol_sum'] = 0    \n",
    "psets"
   ]
  },
  {
   "cell_type": "code",
   "execution_count": 21,
   "metadata": {},
   "outputs": [
    {
     "data": {
      "text/plain": [
       "(360, 2880)"
      ]
     },
     "execution_count": 21,
     "metadata": {},
     "output_type": "execute_result"
    }
   ],
   "source": [
    "def beta_window(beta):\n",
    "    num, unit = int(beta[:-1]),beta[-1]\n",
    "    if unit == 'h':\n",
    "        width = 60*num\n",
    "    elif unit == 'd':\n",
    "        width = 60*24*num\n",
    "    return width\n",
    "\n",
    "beta_sw = beta_window(psets['beta_s'])\n",
    "beta_lw = beta_window(psets['beta_l'])\n",
    "(beta_sw,beta_lw)"
   ]
  },
  {
   "cell_type": "code",
   "execution_count": 22,
   "metadata": {},
   "outputs": [],
   "source": [
    "######mod>=36\n",
    "def log_return(series, periods=5):\n",
    "    return np.log(series).diff(periods)\n",
    "\n",
    "def beta_resid(df, window): \n",
    "    num, unit = int(window[:-1]),window[-1]\n",
    "    if unit == 'h':\n",
    "        width = 60*num\n",
    "    elif unit == 'd':\n",
    "        width = 60*24*num\n",
    "    b = ((ta.MULT(df.Mkt_lrt_15,df.lr_15).rolling(width).mean())/ \\\n",
    "        (ta.MULT(df.Mkt_lrt_15,df.Mkt_lrt_15).rolling(width).mean())).rename(f\"beta_{window}\")\n",
    "    b = b.replace([np.nan,np.inf,-np.inf], 0)\n",
    "    resids = ta.SUB(df.lr_15, ta.MULT(b, df.Mkt_lrt_15)).rename(f\"lr_15_resid_{window}\")\n",
    "    return pd.concat([b, resids],axis=1)\n",
    "\n",
    "\n",
    "\n",
    "def lag_features(df,fastk1,fastk2,adx,macd_s,macd_l,macd_sig,rsi,vol_sum,std_Crypto_Index,std_lr_15,std_Mkt_lrt_15,**kwargs):    \n",
    "    ####TECH indicators\n",
    "    df['slowK'], df['slowD'] = ta.STOCH(df.High, df.Low, df.Close, \n",
    "                                        fastk_period=fastk1, slowk_period=int(3*fastk1/5), slowd_period=int(3*fastk1/5),\n",
    "                                        slowk_matype=0, slowd_matype=0)\n",
    "    df['fastK'], df['fastD'] = ta.STOCHF(df.High, df.Low, df.Close,\n",
    "                                         fastk_period=fastk2, fastd_period=int(3*fastk2/5), \n",
    "                                         fastd_matype=0)\n",
    "    df[f'rsi_{rsi}'] = ta.RSI(df['Close'], timeperiod=rsi)\n",
    "    df[f'macd_{macd_s}_{macd_l}'],df[f'macd_signal_{macd_sig}'], df['macd_hist'] = \\\n",
    "                ta.MACD(df['Close'],fastperiod=macd_s, slowperiod=macd_l, signalperiod=macd_sig)\n",
    "    df[f'adx_{adx}'] = ta.ADX(df['High'], df['Low'],df['Close'], timeperiod=adx)#Average Directional Movement Index\n",
    "    df['AD'] = ta.AD(df['High'], df['Low'],df['Close'], df['Volume'])#Accumulation Distribution Line\n",
    "    if vol_sum >0 :\n",
    "        df[f'vol_sum_{vol_sum}'] = ta.SMA(df['Volume'],vol_sum)*vol_sum\n",
    "    ####std volatility\n",
    "    df[f'std_lr_15_{std_lr_15}'] = ta.STDDEV(df.lr_15,timeperiod=std_lr_15, nbdev=1)\n",
    "    df[f'std_Mkt_lrt_15_{std_Mkt_lrt_15}'] = ta.STDDEV(df.Mkt_lrt_15,timeperiod=std_Mkt_lrt_15, nbdev=1)\n",
    "    df[f'std_Crypto_Index_{std_Crypto_Index}'] = ta.STDDEV(df.Crypto_Index,timeperiod=std_Crypto_Index, nbdev=1)\n",
    "\n",
    "def get_features(df_feat, fpara_dict):\n",
    "    pd.options.mode.chained_assignment = None  # default='warn'\n",
    "    df_feat[[f\"beta_{fpara_dict['beta_s']}\",f\"lr_15_resid_{fpara_dict['beta_s']}\"]] = beta_resid(df_feat, window = fpara_dict['beta_s'])\n",
    "    df_feat[[f\"beta_{fpara_dict['beta_l']}\",f\"lr_15_resid_{fpara_dict['beta_l']}\"]] = beta_resid(df_feat, window = fpara_dict['beta_l'])\n",
    "    df_feat[f\"lrtn_index_{fpara_dict['lrtn']}\"] = log_return(df_feat.Crypto_Index, fpara_dict['lrtn'])\n",
    "    lag_features(df_feat, **fpara_dict)\n",
    "    return df_feat"
   ]
  },
  {
   "cell_type": "markdown",
   "metadata": {},
   "source": [
    "## 4. Test set with features\n",
    "\n",
    "- train set range is after `df_train['timestamp'].quantile(0.45)` -`quantile(0.95)`\n",
    "- test set"
   ]
  },
  {
   "cell_type": "code",
   "execution_count": 23,
   "metadata": {},
   "outputs": [
    {
     "data": {
      "text/plain": [
       "1632182400"
      ]
     },
     "execution_count": 23,
     "metadata": {},
     "output_type": "execute_result"
    }
   ],
   "source": [
    "int(pd.Timestamp('2021-09-21T00:00:00').timestamp())"
   ]
  },
  {
   "cell_type": "code",
   "execution_count": 24,
   "metadata": {},
   "outputs": [
    {
     "data": {
      "text/plain": [
       "DatetimeIndex(['2021-09-21 00:01:00', '2022-01-10 00:00:00'], dtype='datetime64[ns]', freq=None)"
      ]
     },
     "execution_count": 24,
     "metadata": {},
     "output_type": "execute_result"
    }
   ],
   "source": [
    "pd.to_datetime([1632182460,1641772800],unit=\"s\",\n",
    "               infer_datetime_format=True)"
   ]
  },
  {
   "cell_type": "code",
   "execution_count": 25,
   "metadata": {},
   "outputs": [],
   "source": [
    "import datetime\n",
    "import time\n",
    "\n",
    "#test_days= 30*3\n",
    "def make_testset(df_train, psets, mode, **kwargs):\n",
    "    if mode == 'out-train':\n",
    "        ##same as df_test in notebook\n",
    "        start = df_train['timestamp'].quantile(0.95)\n",
    "        df2 = df_train[df_train['timestamp']>=start].set_index(\"timestamp\").copy()\n",
    "        ind = df2.index.unique()\n",
    "        def reindex(df):\n",
    "            df = df.reindex(range(ind[0],ind[-1]+60,60),method='nearest')\n",
    "            df = df.fillna(method=\"ffill\").fillna(method=\"bfill\")\n",
    "            return df\n",
    "        df2 = df2.groupby('Asset_ID').apply(reindex).reset_index(0, drop=True).sort_index()\n",
    "        ###add features\n",
    "        df2 = df2.groupby('Asset_ID').apply(lambda x: get_features(x, psets))\n",
    "        return df2.dropna(axis = 0).reset_index()\n",
    "    if mode == 'api':\n",
    "        #'2021-09-21 00:01:00', '2022-01-10 00:00:00'\n",
    "        sup_tt = df_train[(df_train['timestamp']>=1632182460) & (df_train['timestamp']<=1641772800)]\n",
    "        sup_tt = sup_tt.iloc[(-14* kwargs['pre_minute_beta']):,:]\n",
    "        sup_tt['Target'] = 0\n",
    "        \n",
    "        start = 1623542400#2021-06-13\n",
    "        end = 1632182400#2021-09-21\n",
    "        df2 = df_train[(df_train['timestamp']>=start) & (df_train['timestamp']<=end)]\n",
    "        df2  = pd.concat([sup_tt,df2], join='outer')\n",
    "\n",
    "        df2 = df2.groupby('Asset_ID').apply(lambda x: get_features(x, psets))\n",
    "        df2 = df2.iloc[(14*kwargs['pre_minute_beta']):,:] #delete sup_tt placeholder\n",
    "        return df2.dropna(axis = 0).reset_index()"
   ]
  },
  {
   "cell_type": "code",
   "execution_count": 26,
   "metadata": {},
   "outputs": [
    {
     "name": "stdout",
     "output_type": "stream",
     "text": [
      "made out-train data\n",
      " DatetimeIndex(['2021-11-05 09:18:00', '2022-01-10 00:00:00'], dtype='datetime64[ns]', freq=None)\n"
     ]
    }
   ],
   "source": [
    "################################################out-train test same as tune df_test\n",
    "df_test = make_testset(df_train, psets, mode = 'out-train')\n",
    "print(f\"made out-train data\\n {pd.to_datetime([df_test['timestamp'].min(),df_test['timestamp'].max()],unit='s',infer_datetime_format=True)}\")"
   ]
  },
  {
   "cell_type": "code",
   "execution_count": 27,
   "metadata": {},
   "outputs": [
    {
     "name": "stdout",
     "output_type": "stream",
     "text": [
      "made API data\n",
      " 0         2021-06-13\n",
      "2015111   2021-09-21\n",
      "Name: timestamp, dtype: datetime64[ns]\n"
     ]
    }
   ],
   "source": [
    "#############################################in-train test same as API\n",
    "\n",
    "df_test2 = make_testset(df_train, psets, mode = 'api', \n",
    "                        pre_minute=120, pre_minute_beta=beta_lw + 15)\n",
    "\n",
    "print(f\"made API data\\n {pd.to_datetime(df_test2['timestamp'].iloc[[0,-1]],unit='s',infer_datetime_format=True)}\")\n"
   ]
  },
  {
   "cell_type": "markdown",
   "metadata": {},
   "source": [
    "## Performance on test set"
   ]
  },
  {
   "cell_type": "code",
   "execution_count": 28,
   "metadata": {},
   "outputs": [
    {
     "name": "stdout",
     "output_type": "stream",
     "text": [
      "./trainedXGB/model_nof_40 finished. Out-train-score:0.01112561919094972, api-score:0.038313918954451985\n"
     ]
    }
   ],
   "source": [
    "from script.weighted_corr_metrics import weighted_correlation\n",
    "pd.options.mode.chained_assignment = None  # default='warn'\n",
    "\n",
    "result = []\n",
    "result2 = []\n",
    "\n",
    "result_id=[]\n",
    "result_id2=[]\n",
    "for id in range(0,14):\n",
    "    model = models[version_num][id]\n",
    "    #out-train\n",
    "    x = df_test[df_test['Asset_ID']==id]\n",
    "    x['Pred'] = model.predict(xgb.DMatrix(x[model.feature_names]))\n",
    "    result_id.append(x[['timestamp','Asset_ID','Weight','Target','Pred']])\n",
    "    #api\n",
    "    x2 = df_test2[df_test2['Asset_ID']==id]\n",
    "    x2['Pred2'] = model.predict(xgb.DMatrix(x2[model.feature_names]))\n",
    "    result_id2.append(x2[['timestamp','Asset_ID','Weight','Target','Pred2']])\n",
    "    \n",
    "result.append(pd.concat(result_id, axis=0))\n",
    "result2.append(pd.concat(result_id2, axis=0))\n",
    "score=weighted_correlation(a=result[-1]['Target'], \n",
    "                    b=result[-1]['Pred'], \n",
    "                    weights=result[-1]['Weight'])\n",
    "score2=weighted_correlation(a=result2[-1]['Target'], \n",
    "                    b=result2[-1]['Pred2'], \n",
    "                    weights=result2[-1]['Weight'])\n",
    "print(f'{MOD_FOLDER} finished. Out-train-score:{score}, api-score:{score2}')"
   ]
  }
 ],
 "metadata": {
  "interpreter": {
   "hash": "4c1b049caad8a8b325ed882a549e2be8617c954355cf49088b2db08ccb0041d6"
  },
  "kernelspec": {
   "display_name": "Python 3.9.7 64-bit ('myML': conda)",
   "language": "python",
   "name": "python3"
  },
  "language_info": {
   "codemirror_mode": {
    "name": "ipython",
    "version": 3
   },
   "file_extension": ".py",
   "mimetype": "text/x-python",
   "name": "python",
   "nbconvert_exporter": "python",
   "pygments_lexer": "ipython3",
   "version": "3.9.7"
  },
  "orig_nbformat": 4
 },
 "nbformat": 4,
 "nbformat_minor": 2
}
