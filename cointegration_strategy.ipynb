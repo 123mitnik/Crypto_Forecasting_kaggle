{
 "cells": [
  {
   "cell_type": "markdown",
   "metadata": {},
   "source": [
    "# Overview of the cointegration strategy\n",
    "\n",
    "- Background: we learn from stationarity test that btc and etc's price could be non-stationary series.\n",
    "- Thesis: Cointegration tests identify scenarios where two or more non-stationary time series are integrated together in a way that they cannot deviate from equilibrium in the long term. \n",
    "- Test(augmented Engle-Granger two-step cointegration test): Construct the t-statistic of **unit-root** test on residuals($\\hat{u}_{t}$).\n",
    "- Strategy: cointegration between correlated assets gives regression trading opportunity, because of $u_t$ always trends to zero.\n",
    "\n",
    "$$y_{t}-\\beta x_{t}=u_{t}$$\n",
    "\n",
    "- Notes: strategy valid for long-term holder."
   ]
  },
  {
   "cell_type": "markdown",
   "metadata": {},
   "source": [
    "## Preprocess and Cointegration test"
   ]
  },
  {
   "cell_type": "code",
   "execution_count": 1,
   "metadata": {},
   "outputs": [
    {
     "name": "stdout",
     "output_type": "stream",
     "text": [
      "asset_details.csv             \u001b[1m\u001b[36mgresearch_crypto\u001b[m\u001b[m\n",
      "example_sample_submission.csv supplemental_train.csv\n",
      "example_test.csv              train.csv\n"
     ]
    }
   ],
   "source": [
    "import pandas as pd\n",
    "import numpy as np\n",
    "from datetime import datetime\n",
    "import matplotlib.pyplot as plt\n",
    "\n",
    "data_folder = \"./data/\"\n",
    "!ls $data_folder\n",
    "crypto_df = pd.read_csv(data_folder + 'train.csv')\n",
    "asset_details = pd.read_csv(data_folder + 'asset_details.csv')"
   ]
  },
  {
   "cell_type": "markdown",
   "metadata": {},
   "source": [
    "### Correlation preview\n",
    "- correlation of log-returns"
   ]
  },
  {
   "cell_type": "code",
   "execution_count": 2,
   "metadata": {},
   "outputs": [
    {
     "data": {
      "image/png": "[encoded data removed]",
      "text/plain": [
       "<Figure size 432x288 with 2 Axes>"
      ]
     },
     "metadata": {
      "needs_background": "light"
     },
     "output_type": "display_data"
    }
   ],
   "source": [
    "from script.morestats import d2s, log_return\n",
    "# create dataframe with returns for all assets\n",
    "all_assets_2021 = pd.DataFrame([])\n",
    "for asset_id, asset_name in zip(asset_details.Asset_ID, asset_details.Asset_Name):\n",
    "  asset = crypto_df[crypto_df[\"Asset_ID\"]==asset_id].set_index(\"timestamp\")\n",
    "  asset = asset.loc[d2s('2021-01-01'):d2s('2021-05-01')]\n",
    "  asset = asset.reindex(range(asset.index[0],asset.index[-1]+60,60),method='pad')\n",
    "  lret = log_return(asset.Close.fillna(0))[1:]\n",
    "  all_assets_2021 = all_assets_2021.join(lret, rsuffix=asset_name, how=\"outer\")\n",
    "#check the correlation between all assets visualizing the correlation matrix\n",
    "corr_mat=all_assets_2021.corr()\n",
    "plt.imshow(corr_mat);\n",
    "plt.yticks(asset_details.Asset_ID.values, asset_details.Asset_Name.values);\n",
    "plt.xticks(asset_details.Asset_ID.values, asset_details.Asset_Name.values, rotation='vertical');\n",
    "plt.colorbar();"
   ]
  },
  {
   "cell_type": "code",
   "execution_count": 3,
   "metadata": {},
   "outputs": [
    {
     "data": {
      "text/html": [
       "<div>\n",
       "<style scoped>\n",
       "    .dataframe tbody tr th:only-of-type {\n",
       "        vertical-align: middle;\n",
       "    }\n",
       "\n",
       "    .dataframe tbody tr th {\n",
       "        vertical-align: top;\n",
       "    }\n",
       "\n",
       "    .dataframe thead th {\n",
       "        text-align: right;\n",
       "    }\n",
       "</style>\n",
       "<table border=\"1\" class=\"dataframe\">\n",
       "  <thead>\n",
       "    <tr style=\"text-align: right;\">\n",
       "      <th></th>\n",
       "      <th>Close</th>\n",
       "      <th>CloseBinance Coin</th>\n",
       "      <th>CloseBitcoin</th>\n",
       "      <th>CloseEOS.IO</th>\n",
       "      <th>CloseEthereum Classic</th>\n",
       "      <th>CloseEthereum</th>\n",
       "      <th>CloseLitecoin</th>\n",
       "      <th>CloseMonero</th>\n",
       "      <th>CloseTRON</th>\n",
       "      <th>CloseStellar</th>\n",
       "      <th>CloseCardano</th>\n",
       "      <th>CloseIOTA</th>\n",
       "      <th>CloseMaker</th>\n",
       "      <th>CloseDogecoin</th>\n",
       "    </tr>\n",
       "  </thead>\n",
       "  <tbody>\n",
       "    <tr>\n",
       "      <th>Close</th>\n",
       "      <td>1.000000</td>\n",
       "      <td>0.528513</td>\n",
       "      <td>0.668473</td>\n",
       "      <td>0.687292</td>\n",
       "      <td>0.280598</td>\n",
       "      <td>0.694192</td>\n",
       "      <td>0.739267</td>\n",
       "      <td>0.536258</td>\n",
       "      <td>0.533499</td>\n",
       "      <td>0.514027</td>\n",
       "      <td>0.554568</td>\n",
       "      <td>0.428793</td>\n",
       "      <td>0.441824</td>\n",
       "      <td>0.264585</td>\n",
       "    </tr>\n",
       "    <tr>\n",
       "      <th>CloseBinance Coin</th>\n",
       "      <td>0.528513</td>\n",
       "      <td>1.000000</td>\n",
       "      <td>0.552540</td>\n",
       "      <td>0.520371</td>\n",
       "      <td>0.217747</td>\n",
       "      <td>0.554997</td>\n",
       "      <td>0.551200</td>\n",
       "      <td>0.459980</td>\n",
       "      <td>0.443764</td>\n",
       "      <td>0.436678</td>\n",
       "      <td>0.503134</td>\n",
       "      <td>0.394047</td>\n",
       "      <td>0.391951</td>\n",
       "      <td>0.218535</td>\n",
       "    </tr>\n",
       "    <tr>\n",
       "      <th>CloseBitcoin</th>\n",
       "      <td>0.668473</td>\n",
       "      <td>0.552540</td>\n",
       "      <td>1.000000</td>\n",
       "      <td>0.590442</td>\n",
       "      <td>0.245013</td>\n",
       "      <td>0.808453</td>\n",
       "      <td>0.732671</td>\n",
       "      <td>0.555412</td>\n",
       "      <td>0.498286</td>\n",
       "      <td>0.518067</td>\n",
       "      <td>0.577514</td>\n",
       "      <td>0.438740</td>\n",
       "      <td>0.455488</td>\n",
       "      <td>0.295158</td>\n",
       "    </tr>\n",
       "    <tr>\n",
       "      <th>CloseEOS.IO</th>\n",
       "      <td>0.687292</td>\n",
       "      <td>0.520371</td>\n",
       "      <td>0.590442</td>\n",
       "      <td>1.000000</td>\n",
       "      <td>0.272907</td>\n",
       "      <td>0.619392</td>\n",
       "      <td>0.655534</td>\n",
       "      <td>0.510268</td>\n",
       "      <td>0.561598</td>\n",
       "      <td>0.519673</td>\n",
       "      <td>0.536764</td>\n",
       "      <td>0.422059</td>\n",
       "      <td>0.415221</td>\n",
       "      <td>0.248991</td>\n",
       "    </tr>\n",
       "    <tr>\n",
       "      <th>CloseEthereum Classic</th>\n",
       "      <td>0.280598</td>\n",
       "      <td>0.217747</td>\n",
       "      <td>0.245013</td>\n",
       "      <td>0.272907</td>\n",
       "      <td>1.000000</td>\n",
       "      <td>0.261281</td>\n",
       "      <td>0.271773</td>\n",
       "      <td>0.220834</td>\n",
       "      <td>0.222646</td>\n",
       "      <td>0.210068</td>\n",
       "      <td>0.221756</td>\n",
       "      <td>0.182778</td>\n",
       "      <td>0.184461</td>\n",
       "      <td>0.108558</td>\n",
       "    </tr>\n",
       "    <tr>\n",
       "      <th>CloseEthereum</th>\n",
       "      <td>0.694192</td>\n",
       "      <td>0.554997</td>\n",
       "      <td>0.808453</td>\n",
       "      <td>0.619392</td>\n",
       "      <td>0.261281</td>\n",
       "      <td>1.000000</td>\n",
       "      <td>0.754622</td>\n",
       "      <td>0.556721</td>\n",
       "      <td>0.517398</td>\n",
       "      <td>0.537107</td>\n",
       "      <td>0.601995</td>\n",
       "      <td>0.452300</td>\n",
       "      <td>0.493224</td>\n",
       "      <td>0.282653</td>\n",
       "    </tr>\n",
       "    <tr>\n",
       "      <th>CloseLitecoin</th>\n",
       "      <td>0.739267</td>\n",
       "      <td>0.551200</td>\n",
       "      <td>0.732671</td>\n",
       "      <td>0.655534</td>\n",
       "      <td>0.271773</td>\n",
       "      <td>0.754622</td>\n",
       "      <td>1.000000</td>\n",
       "      <td>0.548243</td>\n",
       "      <td>0.531927</td>\n",
       "      <td>0.526872</td>\n",
       "      <td>0.584842</td>\n",
       "      <td>0.437780</td>\n",
       "      <td>0.452625</td>\n",
       "      <td>0.273995</td>\n",
       "    </tr>\n",
       "    <tr>\n",
       "      <th>CloseMonero</th>\n",
       "      <td>0.536258</td>\n",
       "      <td>0.459980</td>\n",
       "      <td>0.555412</td>\n",
       "      <td>0.510268</td>\n",
       "      <td>0.220834</td>\n",
       "      <td>0.556721</td>\n",
       "      <td>0.548243</td>\n",
       "      <td>1.000000</td>\n",
       "      <td>0.433188</td>\n",
       "      <td>0.443433</td>\n",
       "      <td>0.483706</td>\n",
       "      <td>0.381819</td>\n",
       "      <td>0.396913</td>\n",
       "      <td>0.214289</td>\n",
       "    </tr>\n",
       "    <tr>\n",
       "      <th>CloseTRON</th>\n",
       "      <td>0.533499</td>\n",
       "      <td>0.443764</td>\n",
       "      <td>0.498286</td>\n",
       "      <td>0.561598</td>\n",
       "      <td>0.222646</td>\n",
       "      <td>0.517398</td>\n",
       "      <td>0.531927</td>\n",
       "      <td>0.433188</td>\n",
       "      <td>1.000000</td>\n",
       "      <td>0.433138</td>\n",
       "      <td>0.464661</td>\n",
       "      <td>0.372338</td>\n",
       "      <td>0.371139</td>\n",
       "      <td>0.217061</td>\n",
       "    </tr>\n",
       "    <tr>\n",
       "      <th>CloseStellar</th>\n",
       "      <td>0.514027</td>\n",
       "      <td>0.436678</td>\n",
       "      <td>0.518067</td>\n",
       "      <td>0.519673</td>\n",
       "      <td>0.210068</td>\n",
       "      <td>0.537107</td>\n",
       "      <td>0.526872</td>\n",
       "      <td>0.443433</td>\n",
       "      <td>0.433138</td>\n",
       "      <td>1.000000</td>\n",
       "      <td>0.545626</td>\n",
       "      <td>0.379831</td>\n",
       "      <td>0.378845</td>\n",
       "      <td>0.211113</td>\n",
       "    </tr>\n",
       "    <tr>\n",
       "      <th>CloseCardano</th>\n",
       "      <td>0.554568</td>\n",
       "      <td>0.503134</td>\n",
       "      <td>0.577514</td>\n",
       "      <td>0.536764</td>\n",
       "      <td>0.221756</td>\n",
       "      <td>0.601995</td>\n",
       "      <td>0.584842</td>\n",
       "      <td>0.483706</td>\n",
       "      <td>0.464661</td>\n",
       "      <td>0.545626</td>\n",
       "      <td>1.000000</td>\n",
       "      <td>0.409497</td>\n",
       "      <td>0.409985</td>\n",
       "      <td>0.234251</td>\n",
       "    </tr>\n",
       "    <tr>\n",
       "      <th>CloseIOTA</th>\n",
       "      <td>0.428793</td>\n",
       "      <td>0.394047</td>\n",
       "      <td>0.438740</td>\n",
       "      <td>0.422059</td>\n",
       "      <td>0.182778</td>\n",
       "      <td>0.452300</td>\n",
       "      <td>0.437780</td>\n",
       "      <td>0.381819</td>\n",
       "      <td>0.372338</td>\n",
       "      <td>0.379831</td>\n",
       "      <td>0.409497</td>\n",
       "      <td>1.000000</td>\n",
       "      <td>0.327057</td>\n",
       "      <td>0.179471</td>\n",
       "    </tr>\n",
       "    <tr>\n",
       "      <th>CloseMaker</th>\n",
       "      <td>0.441824</td>\n",
       "      <td>0.391951</td>\n",
       "      <td>0.455488</td>\n",
       "      <td>0.415221</td>\n",
       "      <td>0.184461</td>\n",
       "      <td>0.493224</td>\n",
       "      <td>0.452625</td>\n",
       "      <td>0.396913</td>\n",
       "      <td>0.371139</td>\n",
       "      <td>0.378845</td>\n",
       "      <td>0.409985</td>\n",
       "      <td>0.327057</td>\n",
       "      <td>1.000000</td>\n",
       "      <td>0.188661</td>\n",
       "    </tr>\n",
       "    <tr>\n",
       "      <th>CloseDogecoin</th>\n",
       "      <td>0.264585</td>\n",
       "      <td>0.218535</td>\n",
       "      <td>0.295158</td>\n",
       "      <td>0.248991</td>\n",
       "      <td>0.108558</td>\n",
       "      <td>0.282653</td>\n",
       "      <td>0.273995</td>\n",
       "      <td>0.214289</td>\n",
       "      <td>0.217061</td>\n",
       "      <td>0.211113</td>\n",
       "      <td>0.234251</td>\n",
       "      <td>0.179471</td>\n",
       "      <td>0.188661</td>\n",
       "      <td>1.000000</td>\n",
       "    </tr>\n",
       "  </tbody>\n",
       "</table>\n",
       "</div>"
      ],
      "text/plain": [
       "                          Close  CloseBinance Coin  CloseBitcoin  CloseEOS.IO  \\\n",
       "Close                  1.000000           0.528513      0.668473     0.687292   \n",
       "CloseBinance Coin      0.528513           1.000000      0.552540     0.520371   \n",
       "CloseBitcoin           0.668473           0.552540      1.000000     0.590442   \n",
       "CloseEOS.IO            0.687292           0.520371      0.590442     1.000000   \n",
       "CloseEthereum Classic  0.280598           0.217747      0.245013     0.272907   \n",
       "CloseEthereum          0.694192           0.554997      0.808453     0.619392   \n",
       "CloseLitecoin          0.739267           0.551200      0.732671     0.655534   \n",
       "CloseMonero            0.536258           0.459980      0.555412     0.510268   \n",
       "CloseTRON              0.533499           0.443764      0.498286     0.561598   \n",
       "CloseStellar           0.514027           0.436678      0.518067     0.519673   \n",
       "CloseCardano           0.554568           0.503134      0.577514     0.536764   \n",
       "CloseIOTA              0.428793           0.394047      0.438740     0.422059   \n",
       "CloseMaker             0.441824           0.391951      0.455488     0.415221   \n",
       "CloseDogecoin          0.264585           0.218535      0.295158     0.248991   \n",
       "\n",
       "                       CloseEthereum Classic  CloseEthereum  CloseLitecoin  \\\n",
       "Close                               0.280598       0.694192       0.739267   \n",
       "CloseBinance Coin                   0.217747       0.554997       0.551200   \n",
       "CloseBitcoin                        0.245013       0.808453       0.732671   \n",
       "CloseEOS.IO                         0.272907       0.619392       0.655534   \n",
       "CloseEthereum Classic               1.000000       0.261281       0.271773   \n",
       "CloseEthereum                       0.261281       1.000000       0.754622   \n",
       "CloseLitecoin                       0.271773       0.754622       1.000000   \n",
       "CloseMonero                         0.220834       0.556721       0.548243   \n",
       "CloseTRON                           0.222646       0.517398       0.531927   \n",
       "CloseStellar                        0.210068       0.537107       0.526872   \n",
       "CloseCardano                        0.221756       0.601995       0.584842   \n",
       "CloseIOTA                           0.182778       0.452300       0.437780   \n",
       "CloseMaker                          0.184461       0.493224       0.452625   \n",
       "CloseDogecoin                       0.108558       0.282653       0.273995   \n",
       "\n",
       "                       CloseMonero  CloseTRON  CloseStellar  CloseCardano  \\\n",
       "Close                     0.536258   0.533499      0.514027      0.554568   \n",
       "CloseBinance Coin         0.459980   0.443764      0.436678      0.503134   \n",
       "CloseBitcoin              0.555412   0.498286      0.518067      0.577514   \n",
       "CloseEOS.IO               0.510268   0.561598      0.519673      0.536764   \n",
       "CloseEthereum Classic     0.220834   0.222646      0.210068      0.221756   \n",
       "CloseEthereum             0.556721   0.517398      0.537107      0.601995   \n",
       "CloseLitecoin             0.548243   0.531927      0.526872      0.584842   \n",
       "CloseMonero               1.000000   0.433188      0.443433      0.483706   \n",
       "CloseTRON                 0.433188   1.000000      0.433138      0.464661   \n",
       "CloseStellar              0.443433   0.433138      1.000000      0.545626   \n",
       "CloseCardano              0.483706   0.464661      0.545626      1.000000   \n",
       "CloseIOTA                 0.381819   0.372338      0.379831      0.409497   \n",
       "CloseMaker                0.396913   0.371139      0.378845      0.409985   \n",
       "CloseDogecoin             0.214289   0.217061      0.211113      0.234251   \n",
       "\n",
       "                       CloseIOTA  CloseMaker  CloseDogecoin  \n",
       "Close                   0.428793    0.441824       0.264585  \n",
       "CloseBinance Coin       0.394047    0.391951       0.218535  \n",
       "CloseBitcoin            0.438740    0.455488       0.295158  \n",
       "CloseEOS.IO             0.422059    0.415221       0.248991  \n",
       "CloseEthereum Classic   0.182778    0.184461       0.108558  \n",
       "CloseEthereum           0.452300    0.493224       0.282653  \n",
       "CloseLitecoin           0.437780    0.452625       0.273995  \n",
       "CloseMonero             0.381819    0.396913       0.214289  \n",
       "CloseTRON               0.372338    0.371139       0.217061  \n",
       "CloseStellar            0.379831    0.378845       0.211113  \n",
       "CloseCardano            0.409497    0.409985       0.234251  \n",
       "CloseIOTA               1.000000    0.327057       0.179471  \n",
       "CloseMaker              0.327057    1.000000       0.188661  \n",
       "CloseDogecoin           0.179471    0.188661       1.000000  "
      ]
     },
     "execution_count": 3,
     "metadata": {},
     "output_type": "execute_result"
    }
   ],
   "source": [
    "corr_mat"
   ]
  },
  {
   "cell_type": "markdown",
   "metadata": {},
   "source": [
    "## Cointegration test\n",
    "\n",
    "- reference: [https://www.statsmodels.org/dev/generated/statsmodels.tsa.stattools.coint.html](https://www.statsmodels.org/dev/generated/statsmodels.tsa.stattools.coint.html)\n",
    "- `coint()`: Augmented Engle-Granger two-step cointegration test. The null hypothesis is no cointegration. Returns `(t-statistic, p-value, crit_value[1%, 5 %,10 %])`"
   ]
  },
  {
   "cell_type": "code",
   "execution_count": 4,
   "metadata": {},
   "outputs": [],
   "source": [
    "import statsmodels.tsa.stattools as ts\n",
    "btc = all_assets_2021['CloseBitcoin']\n",
    "etc = all_assets_2021['CloseEthereum']\n",
    "coin_result = ts.coint(btc, etc) "
   ]
  },
  {
   "cell_type": "code",
   "execution_count": 5,
   "metadata": {},
   "outputs": [
    {
     "data": {
      "text/plain": [
       "(-64.04918144357, 0.0, array([-3.8965034 , -3.33616537, -3.04447455]))"
      ]
     },
     "execution_count": 5,
     "metadata": {},
     "output_type": "execute_result"
    }
   ],
   "source": [
    "coin_result"
   ]
  },
  {
   "cell_type": "markdown",
   "metadata": {},
   "source": [
    "The null hypothesis is no cointegration. Given p-value almost zero here, we reject the null and state that there is cointegration relationship between BTC and ETC as we expected. Next, get the cointegration parameter $\\hat{\\beta}$ from the regression equation above to help build the trading strategy."
   ]
  },
  {
   "cell_type": "code",
   "execution_count": 6,
   "metadata": {},
   "outputs": [
    {
     "data": {
      "text/plain": [
       "0.6595785281521052"
      ]
     },
     "execution_count": 6,
     "metadata": {},
     "output_type": "execute_result"
    }
   ],
   "source": [
    "import statsmodels.api as sm\n",
    "est=sm.OLS(btc, etc)\n",
    "est = est.fit()\n",
    "beta = est.params['CloseEthereum']\n",
    "beta"
   ]
  },
  {
   "cell_type": "code",
   "execution_count": 7,
   "metadata": {},
   "outputs": [
    {
     "data": {
      "image/png": "[encoded data removed]",
      "text/plain": [
       "<Figure size 432x288 with 1 Axes>"
      ]
     },
     "metadata": {
      "needs_background": "light"
     },
     "output_type": "display_data"
    }
   ],
   "source": [
    "resids=btc- beta*etc\n",
    "volatility = resids.std()\n",
    "plt.plot(resids)\n",
    "plt.show()"
   ]
  },
  {
   "cell_type": "markdown",
   "metadata": {},
   "source": [
    "## Trading signals\n",
    "\n",
    "It means $BTC - \\beta* ETC$ is stationary over long-term, and giving us the trading strategy that,\n",
    "- Build up a pool: 1 unit long position of BTC, $\\beta$ unit of short position of ETC.\n",
    "- When the value of the pool is positive high, we should sell(short) the pool.\n",
    "- When the value of the pool is negative low, we should buy(long) the pool.\n",
    "- The deviation measure(volatility $\\sigma$) of the resids gives the threshold for selling/buying signals.\n",
    "- When the value of the pool got back to within the safe $\\sigma$ range, we clear the position."
   ]
  },
  {
   "cell_type": "code",
   "execution_count": 8,
   "metadata": {},
   "outputs": [
    {
     "data": {
      "image/png": "[encoded data removed]",
      "text/plain": [
       "<Figure size 432x288 with 1 Axes>"
      ]
     },
     "metadata": {
      "needs_background": "light"
     },
     "output_type": "display_data"
    }
   ],
   "source": [
    "from script.strategy import coint_strategy\n",
    "signals = coint_strategy(coin_resid= resids, threshold=[0.5,1], plot_signal=True)"
   ]
  },
  {
   "cell_type": "markdown",
   "metadata": {},
   "source": [
    "## Backtesting"
   ]
  },
  {
   "cell_type": "code",
   "execution_count": 9,
   "metadata": {},
   "outputs": [
    {
     "data": {
      "image/png": "[encoded data removed]",
      "text/plain": [
       "<Figure size 432x288 with 1 Axes>"
      ]
     },
     "metadata": {
      "needs_background": "light"
     },
     "output_type": "display_data"
    }
   ],
   "source": [
    "from script.backtest import bt\n",
    "result = bt(asset_df=resids, signals=signals, strategy='coint',\n",
    "                initial_capital = float(100000.0), shares_signal=100, plot_balance=True)"
   ]
  },
  {
   "cell_type": "code",
   "execution_count": 10,
   "metadata": {},
   "outputs": [
    {
     "data": {
      "text/html": [
       "<div>\n",
       "<style scoped>\n",
       "    .dataframe tbody tr th:only-of-type {\n",
       "        vertical-align: middle;\n",
       "    }\n",
       "\n",
       "    .dataframe tbody tr th {\n",
       "        vertical-align: top;\n",
       "    }\n",
       "\n",
       "    .dataframe thead th {\n",
       "        text-align: right;\n",
       "    }\n",
       "</style>\n",
       "<table border=\"1\" class=\"dataframe\">\n",
       "  <thead>\n",
       "    <tr style=\"text-align: right;\">\n",
       "      <th></th>\n",
       "      <th>Shares</th>\n",
       "      <th>holdings</th>\n",
       "      <th>cash</th>\n",
       "      <th>balance</th>\n",
       "      <th>returns</th>\n",
       "    </tr>\n",
       "    <tr>\n",
       "      <th>timestamp</th>\n",
       "      <th></th>\n",
       "      <th></th>\n",
       "      <th></th>\n",
       "      <th></th>\n",
       "      <th></th>\n",
       "    </tr>\n",
       "  </thead>\n",
       "  <tbody>\n",
       "    <tr>\n",
       "      <th>1609477260</th>\n",
       "      <td>0.0</td>\n",
       "      <td>0.000000</td>\n",
       "      <td>100000.000000</td>\n",
       "      <td>100000.000000</td>\n",
       "      <td>NaN</td>\n",
       "    </tr>\n",
       "    <tr>\n",
       "      <th>1609477320</th>\n",
       "      <td>0.0</td>\n",
       "      <td>0.000000</td>\n",
       "      <td>100000.000000</td>\n",
       "      <td>100000.000000</td>\n",
       "      <td>0.000000</td>\n",
       "    </tr>\n",
       "    <tr>\n",
       "      <th>1609477380</th>\n",
       "      <td>0.0</td>\n",
       "      <td>0.000000</td>\n",
       "      <td>100000.000000</td>\n",
       "      <td>100000.000000</td>\n",
       "      <td>0.000000</td>\n",
       "    </tr>\n",
       "    <tr>\n",
       "      <th>1609477440</th>\n",
       "      <td>0.0</td>\n",
       "      <td>0.000000</td>\n",
       "      <td>100000.000000</td>\n",
       "      <td>100000.000000</td>\n",
       "      <td>0.000000</td>\n",
       "    </tr>\n",
       "    <tr>\n",
       "      <th>1609477500</th>\n",
       "      <td>0.0</td>\n",
       "      <td>0.000000</td>\n",
       "      <td>100000.000000</td>\n",
       "      <td>100000.000000</td>\n",
       "      <td>0.000000</td>\n",
       "    </tr>\n",
       "    <tr>\n",
       "      <th>...</th>\n",
       "      <td>...</td>\n",
       "      <td>...</td>\n",
       "      <td>...</td>\n",
       "      <td>...</td>\n",
       "      <td>...</td>\n",
       "    </tr>\n",
       "    <tr>\n",
       "      <th>1619841360</th>\n",
       "      <td>-18500.0</td>\n",
       "      <td>-8.534620</td>\n",
       "      <td>103665.994785</td>\n",
       "      <td>103657.460165</td>\n",
       "      <td>-0.000062</td>\n",
       "    </tr>\n",
       "    <tr>\n",
       "      <th>1619841420</th>\n",
       "      <td>-18500.0</td>\n",
       "      <td>0.596386</td>\n",
       "      <td>103665.994785</td>\n",
       "      <td>103666.591171</td>\n",
       "      <td>0.000088</td>\n",
       "    </tr>\n",
       "    <tr>\n",
       "      <th>1619841480</th>\n",
       "      <td>-18500.0</td>\n",
       "      <td>-10.739790</td>\n",
       "      <td>103665.994785</td>\n",
       "      <td>103655.254995</td>\n",
       "      <td>-0.000109</td>\n",
       "    </tr>\n",
       "    <tr>\n",
       "      <th>1619841540</th>\n",
       "      <td>-18500.0</td>\n",
       "      <td>-3.791386</td>\n",
       "      <td>103665.994785</td>\n",
       "      <td>103662.203399</td>\n",
       "      <td>0.000067</td>\n",
       "    </tr>\n",
       "    <tr>\n",
       "      <th>1619841600</th>\n",
       "      <td>-18500.0</td>\n",
       "      <td>4.770318</td>\n",
       "      <td>103665.994785</td>\n",
       "      <td>103670.765103</td>\n",
       "      <td>0.000083</td>\n",
       "    </tr>\n",
       "  </tbody>\n",
       "</table>\n",
       "<p>172740 rows × 5 columns</p>\n",
       "</div>"
      ],
      "text/plain": [
       "             Shares   holdings           cash        balance   returns\n",
       "timestamp                                                             \n",
       "1609477260      0.0   0.000000  100000.000000  100000.000000       NaN\n",
       "1609477320      0.0   0.000000  100000.000000  100000.000000  0.000000\n",
       "1609477380      0.0   0.000000  100000.000000  100000.000000  0.000000\n",
       "1609477440      0.0   0.000000  100000.000000  100000.000000  0.000000\n",
       "1609477500      0.0   0.000000  100000.000000  100000.000000  0.000000\n",
       "...             ...        ...            ...            ...       ...\n",
       "1619841360 -18500.0  -8.534620  103665.994785  103657.460165 -0.000062\n",
       "1619841420 -18500.0   0.596386  103665.994785  103666.591171  0.000088\n",
       "1619841480 -18500.0 -10.739790  103665.994785  103655.254995 -0.000109\n",
       "1619841540 -18500.0  -3.791386  103665.994785  103662.203399  0.000067\n",
       "1619841600 -18500.0   4.770318  103665.994785  103670.765103  0.000083\n",
       "\n",
       "[172740 rows x 5 columns]"
      ]
     },
     "execution_count": 10,
     "metadata": {},
     "output_type": "execute_result"
    }
   ],
   "source": [
    "result"
   ]
  }
 ],
 "metadata": {
  "interpreter": {
   "hash": "c6e4e9f98eb68ad3b7c296f83d20e6de614cb42e90992a65aa266555a3137d0d"
  },
  "kernelspec": {
   "display_name": "Python 3.9.7 64-bit ('base': conda)",
   "language": "python",
   "name": "python3"
  },
  "language_info": {
   "codemirror_mode": {
    "name": "ipython",
    "version": 3
   },
   "file_extension": ".py",
   "mimetype": "text/x-python",
   "name": "python",
   "nbconvert_exporter": "python",
   "pygments_lexer": "ipython3",
   "version": "3.9.7"
  },
  "orig_nbformat": 4
 },
 "nbformat": 4,
 "nbformat_minor": 2
}
