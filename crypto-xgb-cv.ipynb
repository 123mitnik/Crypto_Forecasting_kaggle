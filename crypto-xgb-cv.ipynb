{
 "cells": [
  {
   "cell_type": "markdown",
   "metadata": {},
   "source": []
  },
  {
   "cell_type": "markdown",
   "metadata": {},
   "source": [
    "# XGB model hyperparameters tuning\n",
    "\n",
    "- `xgboost.cv`\n",
    "- Comparing the optimal candidates by test set, using the g-research weighted correlation metrics."
   ]
  },
  {
   "cell_type": "markdown",
   "metadata": {},
   "source": [
    "## 1. cv tuned model folders\n",
    "\n",
    "- `model_nof_{version number}`"
   ]
  },
  {
   "cell_type": "code",
   "execution_count": 2,
   "metadata": {},
   "outputs": [
    {
     "data": {
      "text/plain": [
       "[22, 23, 24, 25]"
      ]
     },
     "execution_count": 2,
     "metadata": {},
     "output_type": "execute_result"
    }
   ],
   "source": [
    "import os\n",
    "sorted([int(s.split('_')[-1]) for s in os.listdir('./trainedXGB/') if 'model_nof' in s])[-4:]"
   ]
  },
  {
   "cell_type": "markdown",
   "metadata": {},
   "source": [
    "## 2. organized data set  \n",
    "\n",
    "- new_data.ftr"
   ]
  },
  {
   "cell_type": "code",
   "execution_count": 3,
   "metadata": {},
   "outputs": [
    {
     "data": {
      "text/html": [
       "<div>\n",
       "<style scoped>\n",
       "    .dataframe tbody tr th:only-of-type {\n",
       "        vertical-align: middle;\n",
       "    }\n",
       "\n",
       "    .dataframe tbody tr th {\n",
       "        vertical-align: top;\n",
       "    }\n",
       "\n",
       "    .dataframe thead th {\n",
       "        text-align: right;\n",
       "    }\n",
       "</style>\n",
       "<table border=\"1\" class=\"dataframe\">\n",
       "  <thead>\n",
       "    <tr style=\"text-align: right;\">\n",
       "      <th></th>\n",
       "      <th>timestamp</th>\n",
       "      <th>Asset_ID</th>\n",
       "      <th>Count</th>\n",
       "      <th>Open</th>\n",
       "      <th>High</th>\n",
       "      <th>Low</th>\n",
       "      <th>Close</th>\n",
       "      <th>Volume</th>\n",
       "      <th>VWAP</th>\n",
       "      <th>Target</th>\n",
       "      <th>Weight</th>\n",
       "      <th>lr_15</th>\n",
       "      <th>Mkt_lrt_15</th>\n",
       "      <th>Crypto_Index</th>\n",
       "    </tr>\n",
       "  </thead>\n",
       "  <tbody>\n",
       "    <tr>\n",
       "      <th>0</th>\n",
       "      <td>1509927300</td>\n",
       "      <td>0</td>\n",
       "      <td>2.0</td>\n",
       "      <td>1.5</td>\n",
       "      <td>1.5</td>\n",
       "      <td>1.5</td>\n",
       "      <td>1.5</td>\n",
       "      <td>10.83</td>\n",
       "      <td>3.5</td>\n",
       "      <td>0.0</td>\n",
       "      <td>4.304065</td>\n",
       "      <td>0.0</td>\n",
       "      <td>0.002163</td>\n",
       "      <td>7121.328991</td>\n",
       "    </tr>\n",
       "    <tr>\n",
       "      <th>1</th>\n",
       "      <td>1509927360</td>\n",
       "      <td>0</td>\n",
       "      <td>2.0</td>\n",
       "      <td>1.5</td>\n",
       "      <td>1.5</td>\n",
       "      <td>1.5</td>\n",
       "      <td>1.5</td>\n",
       "      <td>10.83</td>\n",
       "      <td>3.5</td>\n",
       "      <td>0.0</td>\n",
       "      <td>4.304065</td>\n",
       "      <td>0.0</td>\n",
       "      <td>0.002175</td>\n",
       "      <td>3189.309124</td>\n",
       "    </tr>\n",
       "    <tr>\n",
       "      <th>2</th>\n",
       "      <td>1509927420</td>\n",
       "      <td>0</td>\n",
       "      <td>2.0</td>\n",
       "      <td>1.5</td>\n",
       "      <td>1.5</td>\n",
       "      <td>1.5</td>\n",
       "      <td>1.5</td>\n",
       "      <td>10.83</td>\n",
       "      <td>3.5</td>\n",
       "      <td>0.0</td>\n",
       "      <td>4.304065</td>\n",
       "      <td>0.0</td>\n",
       "      <td>0.001814</td>\n",
       "      <td>3189.265156</td>\n",
       "    </tr>\n",
       "    <tr>\n",
       "      <th>3</th>\n",
       "      <td>1509927480</td>\n",
       "      <td>0</td>\n",
       "      <td>2.0</td>\n",
       "      <td>1.5</td>\n",
       "      <td>1.5</td>\n",
       "      <td>1.5</td>\n",
       "      <td>1.5</td>\n",
       "      <td>10.83</td>\n",
       "      <td>3.5</td>\n",
       "      <td>0.0</td>\n",
       "      <td>4.304065</td>\n",
       "      <td>0.0</td>\n",
       "      <td>0.000701</td>\n",
       "      <td>7100.364247</td>\n",
       "    </tr>\n",
       "    <tr>\n",
       "      <th>4</th>\n",
       "      <td>1509927540</td>\n",
       "      <td>0</td>\n",
       "      <td>2.0</td>\n",
       "      <td>1.5</td>\n",
       "      <td>1.5</td>\n",
       "      <td>1.5</td>\n",
       "      <td>1.5</td>\n",
       "      <td>10.83</td>\n",
       "      <td>3.5</td>\n",
       "      <td>0.0</td>\n",
       "      <td>4.304065</td>\n",
       "      <td>0.0</td>\n",
       "      <td>0.003003</td>\n",
       "      <td>7123.915553</td>\n",
       "    </tr>\n",
       "  </tbody>\n",
       "</table>\n",
       "</div>"
      ],
      "text/plain": [
       "    timestamp  Asset_ID  Count  Open  High  Low  Close  Volume  VWAP  Target  \\\n",
       "0  1509927300         0    2.0   1.5   1.5  1.5    1.5   10.83   3.5     0.0   \n",
       "1  1509927360         0    2.0   1.5   1.5  1.5    1.5   10.83   3.5     0.0   \n",
       "2  1509927420         0    2.0   1.5   1.5  1.5    1.5   10.83   3.5     0.0   \n",
       "3  1509927480         0    2.0   1.5   1.5  1.5    1.5   10.83   3.5     0.0   \n",
       "4  1509927540         0    2.0   1.5   1.5  1.5    1.5   10.83   3.5     0.0   \n",
       "\n",
       "     Weight  lr_15  Mkt_lrt_15  Crypto_Index  \n",
       "0  4.304065    0.0    0.002163   7121.328991  \n",
       "1  4.304065    0.0    0.002175   3189.309124  \n",
       "2  4.304065    0.0    0.001814   3189.265156  \n",
       "3  4.304065    0.0    0.000701   7100.364247  \n",
       "4  4.304065    0.0    0.003003   7123.915553  "
      ]
     },
     "execution_count": 3,
     "metadata": {},
     "output_type": "execute_result"
    }
   ],
   "source": [
    "import pandas as pd\n",
    "import gc\n",
    "df_train = pd.read_feather('./data'+'/new_data.ftr').drop('index',axis=1)\n",
    "df_train.head()"
   ]
  },
  {
   "cell_type": "markdown",
   "metadata": {},
   "source": [
    "## 3. Features"
   ]
  },
  {
   "cell_type": "code",
   "execution_count": 4,
   "metadata": {},
   "outputs": [],
   "source": [
    "from script.XGB.xgbmodel import get_features\n",
    "pd.options.mode.chained_assignment = None  # default='warn'\n",
    "#df_train.groupby('Asset_ID').apply(lambda x: get_features(x, lagfeatures=True))"
   ]
  },
  {
   "cell_type": "markdown",
   "metadata": {},
   "source": [
    "## 4. Test set range\n",
    "\n",
    "- train set range is after `df_train['timestamp'].quantile(0.5)`\n",
    "- test set"
   ]
  },
  {
   "cell_type": "code",
   "execution_count": 5,
   "metadata": {},
   "outputs": [
    {
     "data": {
      "text/plain": [
       "1581021420.0"
      ]
     },
     "execution_count": 5,
     "metadata": {},
     "output_type": "execute_result"
    }
   ],
   "source": [
    "df_train['timestamp'].quantile(0.5)"
   ]
  },
  {
   "cell_type": "code",
   "execution_count": 6,
   "metadata": {},
   "outputs": [
    {
     "data": {
      "text/plain": [
       "Timestamp('2020-02-06 20:37:00')"
      ]
     },
     "execution_count": 6,
     "metadata": {},
     "output_type": "execute_result"
    }
   ],
   "source": [
    "pd.to_datetime(df_train['timestamp'].quantile(0.5),unit=\"s\",\n",
    "               infer_datetime_format=True)"
   ]
  },
  {
   "cell_type": "code",
   "execution_count": 7,
   "metadata": {},
   "outputs": [
    {
     "data": {
      "text/plain": [
       "1632182400"
      ]
     },
     "execution_count": 7,
     "metadata": {},
     "output_type": "execute_result"
    }
   ],
   "source": [
    "int(pd.Timestamp('2021-09-21T00:00:00').timestamp())"
   ]
  },
  {
   "cell_type": "code",
   "execution_count": 8,
   "metadata": {},
   "outputs": [],
   "source": [
    "import datetime\n",
    "import time\n",
    "\n",
    "#test_days= 30*3\n",
    "def make_testset(df_train, start,end):\n",
    "    dd = df_train[(start<=df_train['timestamp']) & (df_train['timestamp']<=end)].copy()\n",
    "    ###consistent timestamp for all 14 assets\n",
    "    dd = dd.sort_values('timestamp').set_index(\"timestamp\").sort_index()\n",
    "    ind = dd.index.unique()\n",
    "    def reindex(df):\n",
    "        df = df.reindex(range(ind[0],ind[-1]+60,60),method='nearest')\n",
    "        df = df.fillna(method=\"ffill\").fillna(method=\"bfill\")\n",
    "        return df\n",
    "    dd = dd.groupby('Asset_ID').apply(reindex).reset_index(0, drop=True).sort_index()\n",
    "    ###add features\n",
    "    dd = dd.groupby('Asset_ID').apply(lambda x: get_features(x, lagfeatures=True))\n",
    "    dd.dropna(axis = 0, inplace= True)\n",
    "    return dd.reset_index()\n",
    "    \n",
    "################################################out-train test\n",
    "test_end= df_train['timestamp'].max()\n",
    "test_start= df_train['timestamp'].quantile(0.95)\n",
    "df_test = make_testset(df_train, test_start,test_end)\n",
    "\n",
    "#############################################in-train test same as API\n",
    "test_end2= 1632182400\n",
    "test_start2= 1623542400 - 60*64\n",
    "df_test2 = make_testset(df_train, test_start2,test_end2)\n"
   ]
  },
  {
   "cell_type": "code",
   "execution_count": 9,
   "metadata": {},
   "outputs": [
    {
     "data": {
      "text/html": [
       "<div>\n",
       "<style scoped>\n",
       "    .dataframe tbody tr th:only-of-type {\n",
       "        vertical-align: middle;\n",
       "    }\n",
       "\n",
       "    .dataframe tbody tr th {\n",
       "        vertical-align: top;\n",
       "    }\n",
       "\n",
       "    .dataframe thead th {\n",
       "        text-align: right;\n",
       "    }\n",
       "</style>\n",
       "<table border=\"1\" class=\"dataframe\">\n",
       "  <thead>\n",
       "    <tr style=\"text-align: right;\">\n",
       "      <th></th>\n",
       "      <th>timestamp</th>\n",
       "      <th>Asset_ID</th>\n",
       "      <th>Count</th>\n",
       "      <th>Open</th>\n",
       "      <th>High</th>\n",
       "      <th>Low</th>\n",
       "      <th>Close</th>\n",
       "      <th>Volume</th>\n",
       "      <th>VWAP</th>\n",
       "      <th>Target</th>\n",
       "      <th>...</th>\n",
       "      <th>PPO</th>\n",
       "      <th>CMO</th>\n",
       "      <th>MIDPOINT</th>\n",
       "      <th>TRENDLINE</th>\n",
       "      <th>rsi_15</th>\n",
       "      <th>macd_15_30</th>\n",
       "      <th>macd_signal</th>\n",
       "      <th>macd_hist</th>\n",
       "      <th>close_bollinger_up_15</th>\n",
       "      <th>close_bollinger_down_15</th>\n",
       "    </tr>\n",
       "  </thead>\n",
       "  <tbody>\n",
       "    <tr>\n",
       "      <th>1285237</th>\n",
       "      <td>1637970180</td>\n",
       "      <td>9</td>\n",
       "      <td>155.0</td>\n",
       "      <td>194.899994</td>\n",
       "      <td>195.500000</td>\n",
       "      <td>194.899994</td>\n",
       "      <td>195.199997</td>\n",
       "      <td>755.846008</td>\n",
       "      <td>195.199997</td>\n",
       "      <td>0.000064</td>\n",
       "      <td>...</td>\n",
       "      <td>-0.180967</td>\n",
       "      <td>-32.381156</td>\n",
       "      <td>196.000000</td>\n",
       "      <td>196.821859</td>\n",
       "      <td>38.268429</td>\n",
       "      <td>-0.369550</td>\n",
       "      <td>-0.342710</td>\n",
       "      <td>-0.026840</td>\n",
       "      <td>1.877502</td>\n",
       "      <td>0.677494</td>\n",
       "    </tr>\n",
       "    <tr>\n",
       "      <th>1285238</th>\n",
       "      <td>1637970180</td>\n",
       "      <td>10</td>\n",
       "      <td>20.0</td>\n",
       "      <td>3105.000000</td>\n",
       "      <td>3107.000000</td>\n",
       "      <td>3104.000000</td>\n",
       "      <td>3105.000000</td>\n",
       "      <td>0.603900</td>\n",
       "      <td>3105.500000</td>\n",
       "      <td>-0.004860</td>\n",
       "      <td>...</td>\n",
       "      <td>-0.199612</td>\n",
       "      <td>-32.950710</td>\n",
       "      <td>3120.500000</td>\n",
       "      <td>3134.684291</td>\n",
       "      <td>34.692924</td>\n",
       "      <td>-6.038245</td>\n",
       "      <td>-5.349773</td>\n",
       "      <td>-0.688472</td>\n",
       "      <td>31.190608</td>\n",
       "      <td>6.657275</td>\n",
       "    </tr>\n",
       "    <tr>\n",
       "      <th>1285239</th>\n",
       "      <td>1637970180</td>\n",
       "      <td>11</td>\n",
       "      <td>12.0</td>\n",
       "      <td>223.899994</td>\n",
       "      <td>224.100006</td>\n",
       "      <td>223.899994</td>\n",
       "      <td>223.899994</td>\n",
       "      <td>12.926000</td>\n",
       "      <td>224.000000</td>\n",
       "      <td>0.012574</td>\n",
       "      <td>...</td>\n",
       "      <td>-0.078031</td>\n",
       "      <td>-24.677380</td>\n",
       "      <td>225.150002</td>\n",
       "      <td>225.530036</td>\n",
       "      <td>38.935561</td>\n",
       "      <td>-0.187040</td>\n",
       "      <td>-0.124157</td>\n",
       "      <td>-0.062883</td>\n",
       "      <td>2.827590</td>\n",
       "      <td>1.067583</td>\n",
       "    </tr>\n",
       "    <tr>\n",
       "      <th>1285240</th>\n",
       "      <td>1637970180</td>\n",
       "      <td>12</td>\n",
       "      <td>105.0</td>\n",
       "      <td>0.327600</td>\n",
       "      <td>0.328500</td>\n",
       "      <td>0.327400</td>\n",
       "      <td>0.327500</td>\n",
       "      <td>102431.000000</td>\n",
       "      <td>0.327950</td>\n",
       "      <td>0.002122</td>\n",
       "      <td>...</td>\n",
       "      <td>-0.115673</td>\n",
       "      <td>-25.639094</td>\n",
       "      <td>0.328850</td>\n",
       "      <td>0.330000</td>\n",
       "      <td>37.681768</td>\n",
       "      <td>-0.000622</td>\n",
       "      <td>-0.000602</td>\n",
       "      <td>-0.000020</td>\n",
       "      <td>0.003169</td>\n",
       "      <td>0.001196</td>\n",
       "    </tr>\n",
       "    <tr>\n",
       "      <th>1285241</th>\n",
       "      <td>1637970180</td>\n",
       "      <td>13</td>\n",
       "      <td>105.0</td>\n",
       "      <td>0.092030</td>\n",
       "      <td>0.092180</td>\n",
       "      <td>0.092010</td>\n",
       "      <td>0.092040</td>\n",
       "      <td>664579.312500</td>\n",
       "      <td>0.092095</td>\n",
       "      <td>0.000705</td>\n",
       "      <td>...</td>\n",
       "      <td>-0.176501</td>\n",
       "      <td>-31.636466</td>\n",
       "      <td>0.092410</td>\n",
       "      <td>0.092731</td>\n",
       "      <td>35.011971</td>\n",
       "      <td>-0.000133</td>\n",
       "      <td>-0.000114</td>\n",
       "      <td>-0.000019</td>\n",
       "      <td>0.000789</td>\n",
       "      <td>0.000185</td>\n",
       "    </tr>\n",
       "  </tbody>\n",
       "</table>\n",
       "<p>5 rows × 41 columns</p>\n",
       "</div>"
      ],
      "text/plain": [
       "          timestamp  Asset_ID  Count         Open         High          Low  \\\n",
       "1285237  1637970180         9  155.0   194.899994   195.500000   194.899994   \n",
       "1285238  1637970180        10   20.0  3105.000000  3107.000000  3104.000000   \n",
       "1285239  1637970180        11   12.0   223.899994   224.100006   223.899994   \n",
       "1285240  1637970180        12  105.0     0.327600     0.328500     0.327400   \n",
       "1285241  1637970180        13  105.0     0.092030     0.092180     0.092010   \n",
       "\n",
       "               Close         Volume         VWAP    Target  ...       PPO  \\\n",
       "1285237   195.199997     755.846008   195.199997  0.000064  ... -0.180967   \n",
       "1285238  3105.000000       0.603900  3105.500000 -0.004860  ... -0.199612   \n",
       "1285239   223.899994      12.926000   224.000000  0.012574  ... -0.078031   \n",
       "1285240     0.327500  102431.000000     0.327950  0.002122  ... -0.115673   \n",
       "1285241     0.092040  664579.312500     0.092095  0.000705  ... -0.176501   \n",
       "\n",
       "               CMO     MIDPOINT    TRENDLINE     rsi_15  macd_15_30  \\\n",
       "1285237 -32.381156   196.000000   196.821859  38.268429   -0.369550   \n",
       "1285238 -32.950710  3120.500000  3134.684291  34.692924   -6.038245   \n",
       "1285239 -24.677380   225.150002   225.530036  38.935561   -0.187040   \n",
       "1285240 -25.639094     0.328850     0.330000  37.681768   -0.000622   \n",
       "1285241 -31.636466     0.092410     0.092731  35.011971   -0.000133   \n",
       "\n",
       "         macd_signal  macd_hist  close_bollinger_up_15  \\\n",
       "1285237    -0.342710  -0.026840               1.877502   \n",
       "1285238    -5.349773  -0.688472              31.190608   \n",
       "1285239    -0.124157  -0.062883               2.827590   \n",
       "1285240    -0.000602  -0.000020               0.003169   \n",
       "1285241    -0.000114  -0.000019               0.000789   \n",
       "\n",
       "         close_bollinger_down_15  \n",
       "1285237                 0.677494  \n",
       "1285238                 6.657275  \n",
       "1285239                 1.067583  \n",
       "1285240                 0.001196  \n",
       "1285241                 0.000185  \n",
       "\n",
       "[5 rows x 41 columns]"
      ]
     },
     "execution_count": 9,
     "metadata": {},
     "output_type": "execute_result"
    }
   ],
   "source": [
    "del df_train\n",
    "gc.collect()\n",
    "df_test.tail()"
   ]
  },
  {
   "cell_type": "markdown",
   "metadata": {},
   "source": [
    "## Performance on test set"
   ]
  },
  {
   "cell_type": "code",
   "execution_count": 10,
   "metadata": {},
   "outputs": [],
   "source": [
    "import xgboost as xgb\n",
    "from os.path import exists\n",
    "from script.data_target import ResidualizeMarket\n",
    "#ResidualizeMarket(df=df_test, mktColumn='Close', window=15)\n",
    "\n",
    "ASSET_DETAILS_CSV = './data/asset_details.csv'\n",
    "df_asset_details = pd.read_csv(ASSET_DETAILS_CSV).sort_values(\"Asset_ID\")\n",
    "\n",
    "def model_reload_train(param_version):\n",
    "    models = {}\n",
    "    for asset_id, asset_name in zip(df_asset_details['Asset_ID'], df_asset_details['Asset_Name']):\n",
    "        model_file = f\"./trainedXGB/model_nof_{param_version}/model_{asset_id}.json\"\n",
    "        if exists(model_file):\n",
    "            model = xgb.Booster()\n",
    "            model.load_model(model_file)\n",
    "            models[asset_id] = model\n",
    "    return models"
   ]
  },
  {
   "cell_type": "code",
   "execution_count": 11,
   "metadata": {},
   "outputs": [
    {
     "name": "stdout",
     "output_type": "stream",
     "text": [
      "model_nof_22 finished. Out-train-score:0.46670865828146596, In-train-score:0.4779640497611065\n",
      "model_nof_23 finished. Out-train-score:0.40259248301068185, In-train-score:0.3942663207618654\n",
      "model_nof_24 finished. Out-train-score:0.012649871918673738, In-train-score:0.3919449710254553\n",
      "model_nof_25 finished. Out-train-score:0.01264923694297062, In-train-score:0.3124282126206829\n"
     ]
    }
   ],
   "source": [
    "from script.weighted_corr_metrics import weighted_correlation\n",
    "\n",
    "result = []\n",
    "result2 = []\n",
    "models = {}\n",
    "for version_num in sorted([int(s.split('_')[-1]) for s in os.listdir('./trainedXGB/') if 'model_nof' in s])[-4:]:\n",
    "    models[version_num] =model_reload_train(param_version= version_num)\n",
    "    result_id=[]\n",
    "    result_id2=[]\n",
    "    for id in range(0,14):\n",
    "        model = models[version_num][id]\n",
    "        x = df_test[df_test['Asset_ID']==id]\n",
    "        x['Pred'] = model.predict(xgb.DMatrix(x[model.feature_names]))\n",
    "        result_id.append(x[['timestamp','Asset_ID','Weight','Target','Pred']])\n",
    "        x2 = df_test2[df_test2['Asset_ID']==id]\n",
    "        x2['Pred2'] = model.predict(xgb.DMatrix(x2[model.feature_names]))\n",
    "        result_id2.append(x2[['timestamp','Asset_ID','Weight','Target','Pred2']])\n",
    "        \n",
    "    result.append(pd.concat(result_id, axis=0))\n",
    "    result2.append(pd.concat(result_id2, axis=0))\n",
    "    score=weighted_correlation(a=result[-1]['Target'], \n",
    "                     b=result[-1]['Pred'], \n",
    "                     weights=result[-1]['Weight'])\n",
    "    score2=weighted_correlation(a=result2[-1]['Target'], \n",
    "                     b=result2[-1]['Pred2'], \n",
    "                     weights=result2[-1]['Weight'])\n",
    "    #print(f\"features: {models[0].feature_names}\")\n",
    "    print(f'model_nof_{version_num} finished. Out-train-score:{score}, In-train-score:{score2}')"
   ]
  },
  {
   "cell_type": "code",
   "execution_count": 17,
   "metadata": {},
   "outputs": [
    {
     "data": {
      "text/plain": [
       "<AxesSubplot:title={'center':'Feature importance'}, xlabel='F score', ylabel='Features'>"
      ]
     },
     "execution_count": 17,
     "metadata": {},
     "output_type": "execute_result"
    },
    {
     "data": {
      "image/png": "[encoded data removed]",
      "text/plain": [
       "<Figure size 432x288 with 1 Axes>"
      ]
     },
     "metadata": {
      "needs_background": "light"
     },
     "output_type": "display_data"
    }
   ],
   "source": [
    "xgb.plot_importance(models[22][0], max_num_features=20)"
   ]
  },
  {
   "cell_type": "code",
   "execution_count": 15,
   "metadata": {},
   "outputs": [
    {
     "data": {
      "text/plain": [
       "['Count',\n",
       " 'Open',\n",
       " 'High',\n",
       " 'Low',\n",
       " 'Close',\n",
       " 'Volume',\n",
       " 'VWAP',\n",
       " 'lr_15',\n",
       " 'Mkt_lrt_15',\n",
       " 'Crypto_Index',\n",
       " 'Upper_Shadow',\n",
       " 'Lower_Shadow',\n",
       " 'lrtn_close_5',\n",
       " 'lrtn_close_15',\n",
       " 'lrtn_index_5',\n",
       " 'lrtn_index_15',\n",
       " 'vol_sum_15',\n",
       " 'vol_delta_15',\n",
       " 'vol_pressure_1',\n",
       " 'vol_pressure_15',\n",
       " 'willr',\n",
       " 'adx',\n",
       " 'DI_plus',\n",
       " 'DI_minus',\n",
       " 'ROCP',\n",
       " 'momentam',\n",
       " 'APO',\n",
       " 'PPO',\n",
       " 'CMO',\n",
       " 'MIDPOINT',\n",
       " 'TRENDLINE',\n",
       " 'rsi_15',\n",
       " 'macd_15_30',\n",
       " 'macd_signal',\n",
       " 'macd_hist',\n",
       " 'close_bollinger_up_15',\n",
       " 'close_bollinger_down_15']"
      ]
     },
     "execution_count": 15,
     "metadata": {},
     "output_type": "execute_result"
    }
   ],
   "source": [
    "models[23][0].feature_names"
   ]
  }
 ],
 "metadata": {
  "interpreter": {
   "hash": "4c1b049caad8a8b325ed882a549e2be8617c954355cf49088b2db08ccb0041d6"
  },
  "kernelspec": {
   "display_name": "Python 3.9.7 64-bit ('myML': conda)",
   "language": "python",
   "name": "python3"
  },
  "language_info": {
   "codemirror_mode": {
    "name": "ipython",
    "version": 3
   },
   "file_extension": ".py",
   "mimetype": "text/x-python",
   "name": "python",
   "nbconvert_exporter": "python",
   "pygments_lexer": "ipython3",
   "version": "3.9.7"
  },
  "orig_nbformat": 4
 },
 "nbformat": 4,
 "nbformat_minor": 2
}
