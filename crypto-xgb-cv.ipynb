{
 "cells": [
  {
   "cell_type": "markdown",
   "metadata": {},
   "source": [
    "# XGB model hyperparameters tuning\n",
    "\n",
    "- `xgboost.cv`\n",
    "- Comparing the optimal candidates by test set, using the g-research weighted correlation metrics."
   ]
  },
  {
   "cell_type": "markdown",
   "metadata": {},
   "source": [
    "## 1. cv tuned model folders\n",
    "\n",
    "- `model_nof_{version number}`"
   ]
  },
  {
   "cell_type": "code",
   "execution_count": 1,
   "metadata": {},
   "outputs": [
    {
     "data": {
      "text/plain": [
       "['XGB0', '.DS_Store', 'model_nof_14', 'model_nof_13', 'model_nof_15']"
      ]
     },
     "execution_count": 1,
     "metadata": {},
     "output_type": "execute_result"
    }
   ],
   "source": [
    "import os\n",
    "os.listdir('./trainedXGB/')"
   ]
  },
  {
   "cell_type": "markdown",
   "metadata": {},
   "source": [
    "## organized data set  \n",
    "\n",
    "- new_data.ftr"
   ]
  },
  {
   "cell_type": "code",
   "execution_count": 2,
   "metadata": {},
   "outputs": [],
   "source": [
    "import pandas as pd\n",
    "import gc\n",
    "df_train = pd.read_feather('./data'+'/new_data.ftr', \n",
    "                           columns=['timestamp', 'Asset_ID', 'Count', 'Open', 'High', 'Low',\n",
    "                                       'Close', 'Volume', 'VWAP', 'Target','Crypto_Index','Weight'])"
   ]
  },
  {
   "cell_type": "code",
   "execution_count": 3,
   "metadata": {},
   "outputs": [
    {
     "data": {
      "text/plain": [
       "count                         25759299\n",
       "mean     2020-01-19 15:11:25.009727232\n",
       "min                2017-08-17 00:00:00\n",
       "25%                2019-02-09 18:04:00\n",
       "50%                2020-02-07 21:00:00\n",
       "75%                2021-01-13 07:15:00\n",
       "max                2021-12-22 23:43:00\n",
       "Name: timestamp, dtype: object"
      ]
     },
     "execution_count": 3,
     "metadata": {},
     "output_type": "execute_result"
    }
   ],
   "source": [
    "pd.to_datetime(df_train[\"timestamp\"],unit=\"s\",\n",
    "               infer_datetime_format=True).describe(datetime_is_numeric=True)"
   ]
  },
  {
   "cell_type": "code",
   "execution_count": 4,
   "metadata": {},
   "outputs": [
    {
     "data": {
      "text/html": [
       "<div>\n",
       "<style scoped>\n",
       "    .dataframe tbody tr th:only-of-type {\n",
       "        vertical-align: middle;\n",
       "    }\n",
       "\n",
       "    .dataframe tbody tr th {\n",
       "        vertical-align: top;\n",
       "    }\n",
       "\n",
       "    .dataframe thead th {\n",
       "        text-align: right;\n",
       "    }\n",
       "</style>\n",
       "<table border=\"1\" class=\"dataframe\">\n",
       "  <thead>\n",
       "    <tr style=\"text-align: right;\">\n",
       "      <th></th>\n",
       "      <th>timestamp</th>\n",
       "      <th>Asset_ID</th>\n",
       "      <th>Count</th>\n",
       "      <th>Open</th>\n",
       "      <th>High</th>\n",
       "      <th>Low</th>\n",
       "      <th>Close</th>\n",
       "      <th>Volume</th>\n",
       "      <th>VWAP</th>\n",
       "      <th>Target</th>\n",
       "      <th>Crypto_Index</th>\n",
       "      <th>Weight</th>\n",
       "      <th>Upper_Shadow</th>\n",
       "      <th>Lower_Shadow</th>\n",
       "    </tr>\n",
       "  </thead>\n",
       "  <tbody>\n",
       "    <tr>\n",
       "      <th>9537149</th>\n",
       "      <td>1514764860</td>\n",
       "      <td>5</td>\n",
       "      <td>32.0</td>\n",
       "      <td>7.6596</td>\n",
       "      <td>7.6596</td>\n",
       "      <td>7.6567</td>\n",
       "      <td>7.6576</td>\n",
       "      <td>6626.713370</td>\n",
       "      <td>7.657713</td>\n",
       "      <td>-0.013922</td>\n",
       "      <td>4137.615640</td>\n",
       "      <td>1.386294</td>\n",
       "      <td>0.0000</td>\n",
       "      <td>0.0009</td>\n",
       "    </tr>\n",
       "    <tr>\n",
       "      <th>9537150</th>\n",
       "      <td>1514764920</td>\n",
       "      <td>5</td>\n",
       "      <td>10.0</td>\n",
       "      <td>7.6568</td>\n",
       "      <td>7.6569</td>\n",
       "      <td>7.6567</td>\n",
       "      <td>7.6567</td>\n",
       "      <td>3277.475494</td>\n",
       "      <td>7.656749</td>\n",
       "      <td>-0.014534</td>\n",
       "      <td>3912.356671</td>\n",
       "      <td>1.386294</td>\n",
       "      <td>0.0001</td>\n",
       "      <td>0.0000</td>\n",
       "    </tr>\n",
       "    <tr>\n",
       "      <th>9537151</th>\n",
       "      <td>1514764980</td>\n",
       "      <td>5</td>\n",
       "      <td>22.0</td>\n",
       "      <td>7.6569</td>\n",
       "      <td>7.6569</td>\n",
       "      <td>7.6500</td>\n",
       "      <td>7.6512</td>\n",
       "      <td>5623.557585</td>\n",
       "      <td>7.654267</td>\n",
       "      <td>-0.012546</td>\n",
       "      <td>3904.157543</td>\n",
       "      <td>1.386294</td>\n",
       "      <td>0.0000</td>\n",
       "      <td>0.0012</td>\n",
       "    </tr>\n",
       "    <tr>\n",
       "      <th>9537152</th>\n",
       "      <td>1514765040</td>\n",
       "      <td>5</td>\n",
       "      <td>12.0</td>\n",
       "      <td>7.6500</td>\n",
       "      <td>7.6503</td>\n",
       "      <td>7.6358</td>\n",
       "      <td>7.6358</td>\n",
       "      <td>1696.632459</td>\n",
       "      <td>7.649660</td>\n",
       "      <td>-0.011170</td>\n",
       "      <td>3897.749143</td>\n",
       "      <td>1.386294</td>\n",
       "      <td>0.0003</td>\n",
       "      <td>0.0000</td>\n",
       "    </tr>\n",
       "    <tr>\n",
       "      <th>9537153</th>\n",
       "      <td>1514765100</td>\n",
       "      <td>5</td>\n",
       "      <td>19.0</td>\n",
       "      <td>7.6358</td>\n",
       "      <td>7.6358</td>\n",
       "      <td>7.6100</td>\n",
       "      <td>7.6100</td>\n",
       "      <td>2268.362218</td>\n",
       "      <td>7.628076</td>\n",
       "      <td>-0.006154</td>\n",
       "      <td>3885.251133</td>\n",
       "      <td>1.386294</td>\n",
       "      <td>0.0000</td>\n",
       "      <td>0.0000</td>\n",
       "    </tr>\n",
       "    <tr>\n",
       "      <th>...</th>\n",
       "      <td>...</td>\n",
       "      <td>...</td>\n",
       "      <td>...</td>\n",
       "      <td>...</td>\n",
       "      <td>...</td>\n",
       "      <td>...</td>\n",
       "      <td>...</td>\n",
       "      <td>...</td>\n",
       "      <td>...</td>\n",
       "      <td>...</td>\n",
       "      <td>...</td>\n",
       "      <td>...</td>\n",
       "      <td>...</td>\n",
       "      <td>...</td>\n",
       "    </tr>\n",
       "    <tr>\n",
       "      <th>11587169</th>\n",
       "      <td>1637969940</td>\n",
       "      <td>5</td>\n",
       "      <td>113.0</td>\n",
       "      <td>3.8790</td>\n",
       "      <td>3.8790</td>\n",
       "      <td>3.8600</td>\n",
       "      <td>3.8630</td>\n",
       "      <td>26508.500000</td>\n",
       "      <td>3.869500</td>\n",
       "      <td>0.000899</td>\n",
       "      <td>9722.884153</td>\n",
       "      <td>1.386294</td>\n",
       "      <td>0.0000</td>\n",
       "      <td>0.0030</td>\n",
       "    </tr>\n",
       "    <tr>\n",
       "      <th>11587170</th>\n",
       "      <td>1637970000</td>\n",
       "      <td>5</td>\n",
       "      <td>107.0</td>\n",
       "      <td>3.8630</td>\n",
       "      <td>3.8670</td>\n",
       "      <td>3.8590</td>\n",
       "      <td>3.8590</td>\n",
       "      <td>16279.300000</td>\n",
       "      <td>3.863000</td>\n",
       "      <td>0.000149</td>\n",
       "      <td>9717.191088</td>\n",
       "      <td>1.386294</td>\n",
       "      <td>0.0040</td>\n",
       "      <td>0.0000</td>\n",
       "    </tr>\n",
       "    <tr>\n",
       "      <th>11587171</th>\n",
       "      <td>1637970060</td>\n",
       "      <td>5</td>\n",
       "      <td>90.0</td>\n",
       "      <td>3.8580</td>\n",
       "      <td>3.8590</td>\n",
       "      <td>3.8500</td>\n",
       "      <td>3.8530</td>\n",
       "      <td>7815.000000</td>\n",
       "      <td>3.854500</td>\n",
       "      <td>0.000618</td>\n",
       "      <td>9703.766371</td>\n",
       "      <td>1.386294</td>\n",
       "      <td>0.0010</td>\n",
       "      <td>0.0030</td>\n",
       "    </tr>\n",
       "    <tr>\n",
       "      <th>11587172</th>\n",
       "      <td>1637970120</td>\n",
       "      <td>5</td>\n",
       "      <td>145.0</td>\n",
       "      <td>3.8510</td>\n",
       "      <td>3.8570</td>\n",
       "      <td>3.8390</td>\n",
       "      <td>3.8390</td>\n",
       "      <td>15173.600000</td>\n",
       "      <td>3.848000</td>\n",
       "      <td>0.000931</td>\n",
       "      <td>9689.570361</td>\n",
       "      <td>1.386294</td>\n",
       "      <td>0.0060</td>\n",
       "      <td>0.0000</td>\n",
       "    </tr>\n",
       "    <tr>\n",
       "      <th>11587173</th>\n",
       "      <td>1637970180</td>\n",
       "      <td>5</td>\n",
       "      <td>423.0</td>\n",
       "      <td>3.8390</td>\n",
       "      <td>3.8490</td>\n",
       "      <td>3.8360</td>\n",
       "      <td>3.8400</td>\n",
       "      <td>37539.100000</td>\n",
       "      <td>3.842500</td>\n",
       "      <td>0.000469</td>\n",
       "      <td>9679.575035</td>\n",
       "      <td>1.386294</td>\n",
       "      <td>0.0090</td>\n",
       "      <td>0.0030</td>\n",
       "    </tr>\n",
       "  </tbody>\n",
       "</table>\n",
       "<p>2050025 rows × 14 columns</p>\n",
       "</div>"
      ],
      "text/plain": [
       "           timestamp  Asset_ID  Count    Open    High     Low   Close  \\\n",
       "9537149   1514764860         5   32.0  7.6596  7.6596  7.6567  7.6576   \n",
       "9537150   1514764920         5   10.0  7.6568  7.6569  7.6567  7.6567   \n",
       "9537151   1514764980         5   22.0  7.6569  7.6569  7.6500  7.6512   \n",
       "9537152   1514765040         5   12.0  7.6500  7.6503  7.6358  7.6358   \n",
       "9537153   1514765100         5   19.0  7.6358  7.6358  7.6100  7.6100   \n",
       "...              ...       ...    ...     ...     ...     ...     ...   \n",
       "11587169  1637969940         5  113.0  3.8790  3.8790  3.8600  3.8630   \n",
       "11587170  1637970000         5  107.0  3.8630  3.8670  3.8590  3.8590   \n",
       "11587171  1637970060         5   90.0  3.8580  3.8590  3.8500  3.8530   \n",
       "11587172  1637970120         5  145.0  3.8510  3.8570  3.8390  3.8390   \n",
       "11587173  1637970180         5  423.0  3.8390  3.8490  3.8360  3.8400   \n",
       "\n",
       "                Volume      VWAP    Target  Crypto_Index    Weight  \\\n",
       "9537149    6626.713370  7.657713 -0.013922   4137.615640  1.386294   \n",
       "9537150    3277.475494  7.656749 -0.014534   3912.356671  1.386294   \n",
       "9537151    5623.557585  7.654267 -0.012546   3904.157543  1.386294   \n",
       "9537152    1696.632459  7.649660 -0.011170   3897.749143  1.386294   \n",
       "9537153    2268.362218  7.628076 -0.006154   3885.251133  1.386294   \n",
       "...                ...       ...       ...           ...       ...   \n",
       "11587169  26508.500000  3.869500  0.000899   9722.884153  1.386294   \n",
       "11587170  16279.300000  3.863000  0.000149   9717.191088  1.386294   \n",
       "11587171   7815.000000  3.854500  0.000618   9703.766371  1.386294   \n",
       "11587172  15173.600000  3.848000  0.000931   9689.570361  1.386294   \n",
       "11587173  37539.100000  3.842500  0.000469   9679.575035  1.386294   \n",
       "\n",
       "          Upper_Shadow  Lower_Shadow  \n",
       "9537149         0.0000        0.0009  \n",
       "9537150         0.0001        0.0000  \n",
       "9537151         0.0000        0.0012  \n",
       "9537152         0.0003        0.0000  \n",
       "9537153         0.0000        0.0000  \n",
       "...                ...           ...  \n",
       "11587169        0.0000        0.0030  \n",
       "11587170        0.0040        0.0000  \n",
       "11587171        0.0010        0.0030  \n",
       "11587172        0.0060        0.0000  \n",
       "11587173        0.0090        0.0030  \n",
       "\n",
       "[2050025 rows x 14 columns]"
      ]
     },
     "execution_count": 4,
     "metadata": {},
     "output_type": "execute_result"
    }
   ],
   "source": [
    "from script.XGB.xgbmodel import get_features\n",
    "pd.options.mode.chained_assignment = None  # default='warn'\n",
    "get_features(df_train[df_train['Asset_ID']==5])"
   ]
  },
  {
   "cell_type": "markdown",
   "metadata": {},
   "source": [
    "## test set\n",
    "- train set range is after `df_train['timestamp'].quantile(0.5)`\n",
    "- test set"
   ]
  },
  {
   "cell_type": "code",
   "execution_count": 5,
   "metadata": {},
   "outputs": [
    {
     "data": {
      "text/plain": [
       "1581109200.0"
      ]
     },
     "execution_count": 5,
     "metadata": {},
     "output_type": "execute_result"
    }
   ],
   "source": [
    "df_train['timestamp'].quantile(0.5)"
   ]
  },
  {
   "cell_type": "code",
   "execution_count": 6,
   "metadata": {},
   "outputs": [
    {
     "data": {
      "text/plain": [
       "Timestamp('2020-02-07 21:00:00')"
      ]
     },
     "execution_count": 6,
     "metadata": {},
     "output_type": "execute_result"
    }
   ],
   "source": [
    "pd.to_datetime(df_train['timestamp'].quantile(0.5),unit=\"s\",\n",
    "               infer_datetime_format=True)"
   ]
  },
  {
   "cell_type": "code",
   "execution_count": 7,
   "metadata": {},
   "outputs": [
    {
     "data": {
      "text/plain": [
       "0"
      ]
     },
     "execution_count": 7,
     "metadata": {},
     "output_type": "execute_result"
    }
   ],
   "source": [
    "import datetime\n",
    "import time\n",
    "\n",
    "test_days= 30*2\n",
    "#out-train test\n",
    "test_end= df_train['timestamp'].quantile(0.5) - 60\n",
    "test_start= test_end - 60*(test_days*24*60)\n",
    "df_test = df_train[(test_start<=df_train['timestamp'])& (df_train['timestamp']<=test_end)]\n",
    "df_test = get_features(df_test)\n",
    "\n",
    "#in-train test\n",
    "test_end2= df_train['timestamp'].quantile(0.9) - 60\n",
    "test_start2= test_end2 - 60*(test_days*24*60)\n",
    "df_test2 = df_train[(test_start2<=df_train['timestamp'])& (df_train['timestamp']<=test_end2)]\n",
    "df_test2 = get_features(df_test2)\n",
    "\n",
    "del df_train\n",
    "gc.collect()\n",
    "# print([test_start,test_end])\n",
    "# pd.to_datetime([test_start,test_end],\n",
    "#                unit=\"s\", infer_datetime_format=True)"
   ]
  },
  {
   "cell_type": "markdown",
   "metadata": {},
   "source": [
    "## Performance on test set"
   ]
  },
  {
   "cell_type": "code",
   "execution_count": 8,
   "metadata": {},
   "outputs": [],
   "source": [
    "import xgboost as xgb\n",
    "from os.path import exists\n",
    "\n",
    "ASSET_DETAILS_CSV = './data/asset_details.csv'\n",
    "df_asset_details = pd.read_csv(ASSET_DETAILS_CSV).sort_values(\"Asset_ID\")\n",
    "\n",
    "def model_reload_train(param_version):\n",
    "    models = {}\n",
    "    for asset_id, asset_name in zip(df_asset_details['Asset_ID'], df_asset_details['Asset_Name']):\n",
    "        model_file = f\"./trainedXGB/model_nof_{param_version}/model_{asset_id}.json\"\n",
    "        if exists(model_file):\n",
    "            model = xgb.Booster()\n",
    "            model.load_model(model_file)\n",
    "            models[asset_id] = model\n",
    "    return models"
   ]
  },
  {
   "cell_type": "code",
   "execution_count": 10,
   "metadata": {},
   "outputs": [
    {
     "name": "stdout",
     "output_type": "stream",
     "text": [
      "predict with model_nof_13 finished. Out-train-score:0.0008034555356094846, In-train-score:0.95380248609865\n",
      "predict with model_nof_14 finished. Out-train-score:0.0028732162014596272, In-train-score:0.9749513709489366\n",
      "predict with model_nof_15 finished. Out-train-score:0.0069584889147281245, In-train-score:0.7719050344916323\n"
     ]
    }
   ],
   "source": [
    "from script.weighted_corr_metrics import weighted_correlation\n",
    "\n",
    "result = []\n",
    "result2 = []\n",
    "for version_num in [13,14,15]:\n",
    "    models=model_reload_train(param_version= version_num)\n",
    "    result_id=[]\n",
    "    result_id2=[]\n",
    "    for id in range(0,14):\n",
    "        model = models[id]\n",
    "        x = df_test[df_test['Asset_ID']==id]\n",
    "        x['Pred'] = model.predict(xgb.DMatrix(x[model.feature_names]))\n",
    "        result_id.append(x[['timestamp','Asset_ID','Weight','Target','Pred']])\n",
    "        x2 = df_test2[df_test2['Asset_ID']==id]\n",
    "        x2['Pred2'] = model.predict(xgb.DMatrix(x2[model.feature_names]))\n",
    "        result_id2.append(x2[['timestamp','Asset_ID','Weight','Target','Pred2']])\n",
    "        \n",
    "    result.append(pd.concat(result_id, axis=0))\n",
    "    result2.append(pd.concat(result_id2, axis=0))\n",
    "    score=weighted_correlation(a=result[-1]['Target'], \n",
    "                     b=result[-1]['Pred'], \n",
    "                     weights=result[-1]['Weight'])\n",
    "    score2=weighted_correlation(a=result2[-1]['Target'], \n",
    "                     b=result2[-1]['Pred2'], \n",
    "                     weights=result2[-1]['Weight'])\n",
    "    \n",
    "    print(f'predict with model_nof_{version_num} finished. Out-train-score:{score}, In-train-score:{score2}')\n",
    "    \n"
   ]
  }
 ],
 "metadata": {
  "interpreter": {
   "hash": "4c1b049caad8a8b325ed882a549e2be8617c954355cf49088b2db08ccb0041d6"
  },
  "kernelspec": {
   "display_name": "Python 3.9.7 64-bit ('myML': conda)",
   "language": "python",
   "name": "python3"
  },
  "language_info": {
   "codemirror_mode": {
    "name": "ipython",
    "version": 3
   },
   "file_extension": ".py",
   "mimetype": "text/x-python",
   "name": "python",
   "nbconvert_exporter": "python",
   "pygments_lexer": "ipython3",
   "version": "3.9.7"
  },
  "orig_nbformat": 4
 },
 "nbformat": 4,
 "nbformat_minor": 2
}
