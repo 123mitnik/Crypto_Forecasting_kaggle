{
 "cells": [
  {
   "cell_type": "code",
   "execution_count": 5,
   "id": "710ea01d",
   "metadata": {
    "execution": {
     "iopub.execute_input": "2022-01-30T01:10:50.797426Z",
     "iopub.status.busy": "2022-01-30T01:10:50.796716Z",
     "iopub.status.idle": "2022-01-30T01:10:51.642484Z",
     "shell.execute_reply": "2022-01-30T01:10:51.641757Z",
     "shell.execute_reply.started": "2022-01-30T00:58:38.352463Z"
    },
    "papermill": {
     "duration": 0.87924,
     "end_time": "2022-01-30T01:10:51.642633",
     "exception": false,
     "start_time": "2022-01-30T01:10:50.763393",
     "status": "completed"
    },
    "tags": []
   },
   "outputs": [],
   "source": [
    "import numpy as np\n",
    "import pandas as pd\n",
    "import gc\n",
    "import time\n",
    "import xgboost as xgb\n",
    "import talib as ta\n",
    "import os\n",
    "from random import sample\n",
    "from os.path import exists\n",
    "import json\n",
    "import pickle\n",
    "from sklearn.model_selection import ParameterGrid,ParameterSampler"
   ]
  },
  {
   "cell_type": "code",
   "execution_count": null,
   "id": "491d512d",
   "metadata": {},
   "outputs": [],
   "source": [
    "import mysql.connector\n",
    "import ast\n",
    "with open('mysql_configure') as f:\n",
    "    mysqlkeys = f.read()\n",
    "    mysqlkeys = ast.literal_eval(mysqlkeys)\n",
    "mydb = mysql.connector.connect(**mysqlkeys,\n",
    "  database=\"mycrypto\"\n",
    ")"
   ]
  },
  {
   "cell_type": "markdown",
   "id": "a4930388",
   "metadata": {
    "papermill": {
     "duration": 0.026923,
     "end_time": "2022-01-30T01:10:51.696804",
     "exception": false,
     "start_time": "2022-01-30T01:10:51.669881",
     "status": "completed"
    },
    "tags": []
   },
   "source": [
    "## 0 Tune settings"
   ]
  },
  {
   "cell_type": "code",
   "execution_count": 6,
   "id": "ad82b4fb",
   "metadata": {
    "execution": {
     "iopub.execute_input": "2022-01-30T01:10:51.757190Z",
     "iopub.status.busy": "2022-01-30T01:10:51.756534Z",
     "iopub.status.idle": "2022-01-30T01:10:51.768869Z",
     "shell.execute_reply": "2022-01-30T01:10:51.769277Z",
     "shell.execute_reply.started": "2022-01-30T01:01:21.836462Z"
    },
    "papermill": {
     "duration": 0.045507,
     "end_time": "2022-01-30T01:10:51.769434",
     "exception": false,
     "start_time": "2022-01-30T01:10:51.723927",
     "status": "completed"
    },
    "tags": []
   },
   "outputs": [
    {
     "name": "stdout",
     "output_type": "stream",
     "text": [
      "Previous version: 58\n",
      "current saving version: 59\n"
     ]
    }
   ],
   "source": [
    "PRE_MOD_FOLDER = \"./trainedXGB\"#'../input/mytrainedxgb' '../input/new-xgbcrypto-tune'\n",
    "ASSET_DETAILS_CSV = './data/asset_details.csv'\n",
    "\n",
    "previous_version = sorted([int(s.split('_')[-1]) for s in os.listdir(PRE_MOD_FOLDER) \\\n",
    "                           if 'model_nof' in s])[-1]\n",
    "params_version=previous_version+1\n",
    "\n",
    "print(f\"Previous version: {previous_version}\")\n",
    "print(f\"current saving version: {params_version}\")"
   ]
  },
  {
   "cell_type": "code",
   "execution_count": 7,
   "id": "5541e8f5",
   "metadata": {
    "execution": {
     "iopub.execute_input": "2022-01-30T01:10:51.833313Z",
     "iopub.status.busy": "2022-01-30T01:10:51.832417Z",
     "iopub.status.idle": "2022-01-30T01:10:51.842467Z",
     "shell.execute_reply": "2022-01-30T01:10:51.842007Z",
     "shell.execute_reply.started": "2022-01-30T01:01:24.663221Z"
    },
    "papermill": {
     "duration": 0.04581,
     "end_time": "2022-01-30T01:10:51.842628",
     "exception": false,
     "start_time": "2022-01-30T01:10:51.796818",
     "status": "completed"
    },
    "tags": []
   },
   "outputs": [],
   "source": [
    "#make folder is not exist\n",
    "os.system(f\"mkdir -p {PRE_MOD_FOLDER}/model_nof_{params_version}\")\n",
    "#write necessary notes: check end of the notebook\n",
    "with open(f'{PRE_MOD_FOLDER}/model_nof_{params_version}/README{params_version}.txt', 'w') as f:\n",
    "    f.write(f'Version {params_version}\\n')"
   ]
  },
  {
   "cell_type": "markdown",
   "id": "2fa44ece",
   "metadata": {
    "papermill": {
     "duration": 0.025894,
     "end_time": "2022-01-30T01:10:51.896238",
     "exception": false,
     "start_time": "2022-01-30T01:10:51.870344",
     "status": "completed"
    },
    "tags": []
   },
   "source": [
    "- xgb hyperparameters\n",
    "  - `params_xgb_prescore`\n",
    "  - `params_xgb_prebest`\n",
    "- feature parameters\n",
    "  - `feature_prescore`\n",
    "  - `feature_prebest`"
   ]
  },
  {
   "cell_type": "code",
   "execution_count": 8,
   "id": "a8975bd8",
   "metadata": {
    "execution": {
     "iopub.execute_input": "2022-01-30T01:10:51.957706Z",
     "iopub.status.busy": "2022-01-30T01:10:51.956794Z",
     "iopub.status.idle": "2022-01-30T01:10:51.982085Z",
     "shell.execute_reply": "2022-01-30T01:10:51.981609Z",
     "shell.execute_reply.started": "2022-01-30T01:01:30.043829Z"
    },
    "papermill": {
     "duration": 0.060341,
     "end_time": "2022-01-30T01:10:51.982212",
     "exception": false,
     "start_time": "2022-01-30T01:10:51.921871",
     "status": "completed"
    },
    "tags": []
   },
   "outputs": [
    {
     "name": "stdout",
     "output_type": "stream",
     "text": [
      "tune settings made\n"
     ]
    }
   ],
   "source": [
    "tunepara = False #params_xgb\n",
    "num_pset = 300\n",
    "tunefeatures=True #feature_params\n",
    "num_fset = 80\n",
    "justretrain = False\n",
    "\n",
    "#################################################################xgb hyperparameters\n",
    "if exists(PRE_MOD_FOLDER+f\"/model_nof_{previous_version}/skipping_pre_next{previous_version}\"):\n",
    "    with open(PRE_MOD_FOLDER+f\"/model_nof_{previous_version}/skipping_pre_next{previous_version}\",'rb') as fp:\n",
    "        #if new feature_prebest set to False\n",
    "        skipping_pre = pickle.load(fp)\n",
    "else:\n",
    "    skipping_pre = False\n",
    "\n",
    "with open(PRE_MOD_FOLDER+f\"/model_nof_{previous_version}/params_xgb_best{previous_version}\", 'rb') as f: \n",
    "    params_xgb_prebest = pickle.load(f)\n",
    "\n",
    "with open(PRE_MOD_FOLDER+f\"/model_nof_{previous_version}/params_xgb_score{previous_version}\", \"rb\") as fp:   \n",
    "    params_xgb_prescore = pickle.load(fp)\n",
    "if skipping_pre==False:\n",
    "    params_xgb_prescore = []\n",
    "\n",
    "\n",
    "#################################################################feature parameterss\n",
    "skipping_pre_feature = False #placeholder, depending on the new params_xgb\n",
    "\n",
    "with open(PRE_MOD_FOLDER+f\"/model_nof_{previous_version}/feature_best{previous_version}\", \"rb\") as fp:\n",
    "    feature_prebest = pickle.load(fp)\n",
    "\n",
    "with open(PRE_MOD_FOLDER+f\"/model_nof_{previous_version}/feature_score{previous_version}\", \"rb\") as fp:   \n",
    "    feature_prescore = pickle.load(fp)\n",
    "pre_score = feature_prescore[-1][0]\n",
    "\n",
    "\n",
    "if justretrain:\n",
    "    feature_prescore = []\n",
    "    params_xgb_prescore = []\n",
    "    \n",
    "print('tune settings made')"
   ]
  },
  {
   "cell_type": "code",
   "execution_count": 9,
   "id": "f8384fb8",
   "metadata": {
    "execution": {
     "iopub.execute_input": "2022-01-30T01:10:52.043105Z",
     "iopub.status.busy": "2022-01-30T01:10:52.042071Z",
     "iopub.status.idle": "2022-01-30T01:10:52.045720Z",
     "shell.execute_reply": "2022-01-30T01:10:52.046134Z",
     "shell.execute_reply.started": "2022-01-28T05:35:09.377884Z"
    },
    "papermill": {
     "duration": 0.037339,
     "end_time": "2022-01-30T01:10:52.046279",
     "exception": false,
     "start_time": "2022-01-30T01:10:52.008940",
     "status": "completed"
    },
    "tags": []
   },
   "outputs": [
    {
     "data": {
      "text/plain": [
       "False"
      ]
     },
     "execution_count": 9,
     "metadata": {},
     "output_type": "execute_result"
    }
   ],
   "source": [
    "skipping_pre"
   ]
  },
  {
   "cell_type": "code",
   "execution_count": 10,
   "id": "793fc89f",
   "metadata": {
    "execution": {
     "iopub.execute_input": "2022-01-30T01:10:52.154508Z",
     "iopub.status.busy": "2022-01-30T01:10:52.153913Z",
     "iopub.status.idle": "2022-01-30T01:10:52.156556Z",
     "shell.execute_reply": "2022-01-30T01:10:52.157012Z",
     "shell.execute_reply.started": "2022-01-30T01:01:35.126331Z"
    },
    "papermill": {
     "duration": 0.033593,
     "end_time": "2022-01-30T01:10:52.157148",
     "exception": false,
     "start_time": "2022-01-30T01:10:52.123555",
     "status": "completed"
    },
    "tags": []
   },
   "outputs": [
    {
     "data": {
      "text/plain": [
       "{'learning_rate': 0.41,\n",
       " 'max_depth': 5,\n",
       " 'min_child_weight': 1.1,\n",
       " 'subsample': 0.7,\n",
       " 'colsample_bytree': 0.6,\n",
       " 'reg_lambda': 2.0,\n",
       " 'reg_alpha': 1.0}"
      ]
     },
     "execution_count": 10,
     "metadata": {},
     "output_type": "execute_result"
    }
   ],
   "source": [
    "params_xgb_prebest\n"
   ]
  },
  {
   "cell_type": "code",
   "execution_count": 11,
   "id": "aba584be",
   "metadata": {
    "execution": {
     "iopub.execute_input": "2022-01-30T01:10:52.268105Z",
     "iopub.status.busy": "2022-01-30T01:10:52.267506Z",
     "iopub.status.idle": "2022-01-30T01:10:52.270187Z",
     "shell.execute_reply": "2022-01-30T01:10:52.270602Z",
     "shell.execute_reply.started": "2022-01-30T01:01:39.057147Z"
    },
    "papermill": {
     "duration": 0.034514,
     "end_time": "2022-01-30T01:10:52.270746",
     "exception": false,
     "start_time": "2022-01-30T01:10:52.236232",
     "status": "completed"
    },
    "tags": []
   },
   "outputs": [
    {
     "data": {
      "text/plain": [
       "{'vol_sum': 15,\n",
       " 'std_lr_15': 240,\n",
       " 'std_Mkt_lrt_15': 10,\n",
       " 'std_Crypto_Index': 30,\n",
       " 'rsi': 40,\n",
       " 'macd_sig': 15,\n",
       " 'macd_s': 15,\n",
       " 'macd_l': 40,\n",
       " 'lrtn': 30,\n",
       " 'fastk2': 30,\n",
       " 'fastk1': 15,\n",
       " 'beta_s': '6h',\n",
       " 'beta_l': '2d',\n",
       " 'adx': 40}"
      ]
     },
     "execution_count": 11,
     "metadata": {},
     "output_type": "execute_result"
    }
   ],
   "source": [
    "feature_prebest"
   ]
  },
  {
   "cell_type": "markdown",
   "id": "ac87d529",
   "metadata": {
    "papermill": {
     "duration": 0.044305,
     "end_time": "2022-01-30T01:10:52.349069",
     "exception": false,
     "start_time": "2022-01-30T01:10:52.304764",
     "status": "completed"
    },
    "tags": []
   },
   "source": [
    "## 1. Load data `new_data.ftr`"
   ]
  },
  {
   "cell_type": "code",
   "execution_count": 13,
   "id": "01ac5f5a",
   "metadata": {
    "execution": {
     "iopub.execute_input": "2022-01-30T01:10:52.461812Z",
     "iopub.status.busy": "2022-01-30T01:10:52.461162Z",
     "iopub.status.idle": "2022-01-30T01:11:09.311187Z",
     "shell.execute_reply": "2022-01-30T01:11:09.311796Z",
     "shell.execute_reply.started": "2022-01-27T21:01:30.24557Z"
    },
    "papermill": {
     "duration": 16.91035,
     "end_time": "2022-01-30T01:11:09.311983",
     "exception": false,
     "start_time": "2022-01-30T01:10:52.401633",
     "status": "completed"
    },
    "tags": []
   },
   "outputs": [
    {
     "name": "stdout",
     "output_type": "stream",
     "text": [
      "loading new_data4.ftr from folder my-crypto-data\n",
      "finished loading\n",
      "Index(['timestamp', 'Asset_ID', 'Count', 'Open', 'High', 'Low', 'Close',\n",
      "       'Volume', 'Target', 'Weight', 'lr_15', 'Mkt_lrt_15', 'Crypto_Index'],\n",
      "      dtype='object')\n"
     ]
    }
   ],
   "source": [
    "df_asset_details = pd.read_csv(ASSET_DETAILS_CSV).sort_values(\"Asset_ID\")\n",
    "\n",
    "#######\n",
    "print(\"loading new_data4.ftr from folder my-crypto-data\")\n",
    "df_train=pd.read_feather('./data/new_data4.ftr',\n",
    "                        columns=['timestamp', 'Asset_ID', 'Count', 'Open', 'High', 'Low', 'Close',\n",
    "                               'Volume', 'Target', 'Weight', 'lr_15', 'Mkt_lrt_15','Crypto_Index'])\n",
    "\n",
    "print('finished loading')\n",
    "print(df_train.columns)"
   ]
  },
  {
   "cell_type": "markdown",
   "id": "161f78d9",
   "metadata": {
    "papermill": {
     "duration": 0.026754,
     "end_time": "2022-01-30T01:11:09.366343",
     "exception": false,
     "start_time": "2022-01-30T01:11:09.339589",
     "status": "completed"
    },
    "tags": []
   },
   "source": [
    "### Split to `df_retrain`, `df_test`"
   ]
  },
  {
   "cell_type": "code",
   "execution_count": 14,
   "id": "626117de",
   "metadata": {
    "execution": {
     "iopub.execute_input": "2022-01-30T01:11:09.428019Z",
     "iopub.status.busy": "2022-01-30T01:11:09.426828Z",
     "iopub.status.idle": "2022-01-30T01:11:10.371712Z",
     "shell.execute_reply": "2022-01-30T01:11:10.371246Z",
     "shell.execute_reply.started": "2022-01-27T21:01:51.682226Z"
    },
    "papermill": {
     "duration": 0.978543,
     "end_time": "2022-01-30T01:11:10.371840",
     "exception": false,
     "start_time": "2022-01-30T01:11:09.393297",
     "status": "completed"
    },
    "tags": []
   },
   "outputs": [
    {
     "data": {
      "text/plain": [
       "DatetimeIndex(['2020-01-02 19:42:00', '2021-11-18 14:02:00'], dtype='datetime64[ns]', freq=None)"
      ]
     },
     "execution_count": 14,
     "metadata": {},
     "output_type": "execute_result"
    }
   ],
   "source": [
    "###timestamp endpoints\n",
    "df_train['timestamp'].quantile(0.45), df_train['timestamp'].quantile(0.95)\n",
    "pd.to_datetime([df_train['timestamp'].quantile(0.45), \n",
    "                df_train['timestamp'].quantile(0.95)],\n",
    "               unit=\"s\",infer_datetime_format=True)"
   ]
  },
  {
   "cell_type": "markdown",
   "id": "b83210bc",
   "metadata": {
    "papermill": {
     "duration": 0.027254,
     "end_time": "2022-01-30T01:11:10.426511",
     "exception": false,
     "start_time": "2022-01-30T01:11:10.399257",
     "status": "completed"
    },
    "tags": []
   },
   "source": [
    "**make tune/train and test dataset**"
   ]
  },
  {
   "cell_type": "code",
   "execution_count": 15,
   "id": "6829846b",
   "metadata": {
    "execution": {
     "iopub.execute_input": "2022-01-30T01:11:10.494201Z",
     "iopub.status.busy": "2022-01-30T01:11:10.493016Z",
     "iopub.status.idle": "2022-01-30T01:11:12.222995Z",
     "shell.execute_reply": "2022-01-30T01:11:12.223593Z",
     "shell.execute_reply.started": "2022-01-21T16:02:25.786785Z"
    },
    "papermill": {
     "duration": 1.764846,
     "end_time": "2022-01-30T01:11:12.223800",
     "exception": false,
     "start_time": "2022-01-30T01:11:10.458954",
     "status": "completed"
    },
    "tags": []
   },
   "outputs": [
    {
     "data": {
      "text/plain": [
       "8"
      ]
     },
     "execution_count": 15,
     "metadata": {},
     "output_type": "execute_result"
    }
   ],
   "source": [
    "df_test = df_train[df_train['timestamp']>=df_train['timestamp'].quantile(0.95)]\n",
    "df_retrain = df_train[(df_train['timestamp']>df_train['timestamp'].quantile(0.45)) & \\\n",
    "                      (df_train['timestamp']<df_train['timestamp'].quantile(0.95))]\n",
    "\n",
    "del df_train\n",
    "gc.collect()"
   ]
  },
  {
   "cell_type": "markdown",
   "id": "eeedeb3c",
   "metadata": {
    "papermill": {
     "duration": 0.041938,
     "end_time": "2022-01-30T01:11:12.308652",
     "exception": false,
     "start_time": "2022-01-30T01:11:12.266714",
     "status": "completed"
    },
    "tags": []
   },
   "source": [
    "## 2. Feature engineering\n",
    "\n",
    "[TA-LIB doc: https://mrjbq7.github.io/ta-lib/funcs.html](https://mrjbq7.github.io/ta-lib/funcs.html)"
   ]
  },
  {
   "cell_type": "code",
   "execution_count": 16,
   "id": "1ac7fe0d",
   "metadata": {
    "execution": {
     "iopub.execute_input": "2022-01-30T01:11:12.385394Z",
     "iopub.status.busy": "2022-01-30T01:11:12.384402Z",
     "iopub.status.idle": "2022-01-30T01:11:12.386540Z",
     "shell.execute_reply": "2022-01-30T01:11:12.387130Z",
     "shell.execute_reply.started": "2022-01-26T17:42:47.073665Z"
    },
    "papermill": {
     "duration": 0.049183,
     "end_time": "2022-01-30T01:11:12.387307",
     "exception": false,
     "start_time": "2022-01-30T01:11:12.338124",
     "status": "completed"
    },
    "tags": []
   },
   "outputs": [],
   "source": [
    "def log_return(series, periods=5):\n",
    "    return np.log(series).diff(periods)\n",
    "\n",
    "def beta_resid(df, window): \n",
    "    num, unit = int(window[:-1]),window[-1]\n",
    "    if unit == 'h':\n",
    "        width = 60*num\n",
    "    elif unit == 'd':\n",
    "        width = 60*24*num\n",
    "    b = ((ta.MULT(df.Mkt_lrt_15,df.lr_15).rolling(width).mean())/ \\\n",
    "        (ta.MULT(df.Mkt_lrt_15,df.Mkt_lrt_15).rolling(width).mean())).rename(f\"beta_{window}\")\n",
    "    b = b.replace([np.nan,np.inf,-np.inf], 0)\n",
    "    resids = ta.SUB(df.lr_15, ta.MULT(b, df.Mkt_lrt_15)).rename(f\"lr_15_resid_{window}\")\n",
    "    return pd.concat([b, resids],axis=1)\n",
    "\n",
    "def lag_features(df,fastk1,fastk2,adx,macd_s,macd_l,macd_sig,vol_sum,rsi,std_Crypto_Index,std_lr_15,std_Mkt_lrt_15,**kwargs):    \n",
    "    ####TECH indicators\n",
    "    df['slowK'], df['slowD'] = ta.STOCH(df.High, df.Low, df.Close, \n",
    "                                        fastk_period=fastk1, slowk_period=int(3*fastk1/5), slowd_period=int(3*fastk1/5),\n",
    "                                        slowk_matype=0, slowd_matype=0)\n",
    "    df['fastK'], df['fastD'] = ta.STOCHF(df.High, df.Low, df.Close,\n",
    "                                         fastk_period=fastk2, fastd_period=int(3*fastk2/5), \n",
    "                                         fastd_matype=0)\n",
    "    df[f'rsi_{rsi}'] = ta.RSI(df['Close'], timeperiod=rsi)\n",
    "    df[f'macd_{macd_s}_{macd_l}'],df[f'macd_signal_{macd_sig}'], df['macd_hist'] = \\\n",
    "                ta.MACD(df['Close'],fastperiod=macd_s, slowperiod=macd_l, signalperiod=macd_sig)\n",
    "    df[f'adx_{adx}'] = ta.ADX(df['High'], df['Low'],df['Close'], timeperiod=adx)#Average Directional Movement Index\n",
    "    df[f'vol_sum_{vol_sum}'] = ta.SMA(df['Volume'],vol_sum)*vol_sum\n",
    "    ####std volatility\n",
    "    df[f'std_lr_15_{std_lr_15}'] = ta.STDDEV(df.lr_15,timeperiod=std_lr_15, nbdev=1)\n",
    "    df[f'std_Mkt_lrt_15_{std_Mkt_lrt_15}'] = ta.STDDEV(df.Mkt_lrt_15,timeperiod=std_Mkt_lrt_15, nbdev=1)\n",
    "    df[f'std_Crypto_Index_{std_Crypto_Index}'] = ta.STDDEV(df.Crypto_Index,timeperiod=std_Crypto_Index, nbdev=1)\n",
    "    #####new after mod 49\n",
    "    #df[f\"ATR_{kwargs['ATR']}\"] = ta.ATR(df['High'], df['Low'],df['Close'], timeperiod=kwargs['ATR'])\n",
    "    #df['TRENDLINE'] =ta.HT_TRENDLINE(df['Open'])\n",
    "    #df[f\"willr_{kwargs['willr']}\"] = ta.WILLR(df['High'], df['Low'],df['Close'], timeperiod=kwargs['willr'])\n",
    "    \n",
    "\n",
    "\n",
    "\n",
    "def get_features(df_feat, fpara_dict):\n",
    "    pd.options.mode.chained_assignment = None  # default='warn'\n",
    "    df_feat[[f\"beta_{fpara_dict['beta_s']}\",f\"lr_15_resid_{fpara_dict['beta_s']}\"]] = beta_resid(df_feat, window = fpara_dict['beta_s'])\n",
    "    df_feat[[f\"beta_{fpara_dict['beta_l']}\",f\"lr_15_resid_{fpara_dict['beta_l']}\"]] = beta_resid(df_feat, window = fpara_dict['beta_l'])\n",
    "    df_feat[f\"lrtn_index_{fpara_dict['lrtn']}\"] = log_return(df_feat.Crypto_Index, fpara_dict['lrtn'])\n",
    "    lag_features(df_feat, **fpara_dict)\n",
    "    return df_feat"
   ]
  },
  {
   "cell_type": "markdown",
   "id": "9e18f6f5",
   "metadata": {
    "papermill": {
     "duration": 0.047382,
     "end_time": "2022-01-30T01:11:12.467304",
     "exception": false,
     "start_time": "2022-01-30T01:11:12.419922",
     "status": "completed"
    },
    "tags": []
   },
   "source": [
    "## 3. hypeparameters and model configure\n",
    "\n",
    "[xgboost parameters: https://xgboost.readthedocs.io/en/stable/parameter.html](https://xgboost.readthedocs.io/en/stable/parameter.html)"
   ]
  },
  {
   "cell_type": "code",
   "execution_count": 17,
   "id": "515e41d0",
   "metadata": {
    "execution": {
     "iopub.execute_input": "2022-01-30T01:11:12.567289Z",
     "iopub.status.busy": "2022-01-30T01:11:12.566446Z",
     "iopub.status.idle": "2022-01-30T01:11:12.571556Z",
     "shell.execute_reply": "2022-01-30T01:11:12.571953Z",
     "shell.execute_reply.started": "2022-01-26T17:42:56.941297Z"
    },
    "papermill": {
     "duration": 0.058452,
     "end_time": "2022-01-30T01:11:12.572101",
     "exception": false,
     "start_time": "2022-01-30T01:11:12.513649",
     "status": "completed"
    },
    "tags": []
   },
   "outputs": [
    {
     "name": "stdout",
     "output_type": "stream",
     "text": [
      "finish paramx_xgb initialization\n"
     ]
    }
   ],
   "source": [
    "####################################################################################parameters placeholder\n",
    "#https://xgboost.readthedocs.io/en/stable/parameter.html#general-parameters\n",
    "params_general ={'booster': 'gbtree', 'verbosity':0, 'validate_parameters': 1}\n",
    "\n",
    "#https://xgboost.readthedocs.io/en/stable/parameter.html#parameters-for-tree-booster\n",
    "params_booster ={\n",
    "    'learning_rate': 0.3,#check\n",
    "    'min_split_loss': 0, #gamma. check\n",
    "    'max_depth': 6,#check\n",
    "    'min_child_weight': 1, #instance weight (hessian). check\n",
    "    'subsample': 0.8,#check\n",
    "    'colsample_bytree': 1,#check\n",
    "    'reg_lambda': 1,#L2 regularization term on weights\n",
    "    'reg_alpha': 0, #L1 regularization term on weights\n",
    "    'max_delta_step': 0,\n",
    "    'scale_pos_weight': 1,\n",
    "    'tree_method': 'gpu_hist', #hist\n",
    "    'predictor': 'gpu_predictor',\n",
    "    'num_parallel_tree': 1\n",
    "}\n",
    "#https://xgboost.readthedocs.io/en/stable/parameter.html#learning-task-parameters\n",
    "params_learning={\n",
    "    'objective': 'reg:squarederror', 'eval_metric': 'rmse',\n",
    "    'base_score': 0.5, 'seed': 2021\n",
    "}\n",
    "\n",
    "#https://xgboost.readthedocs.io/en/stable/parameter.html#command-line-parameters\n",
    "params_train={\n",
    "    'num_boost_round':500, #alias as 'n_estimators' in sklearn api\n",
    "    'early_stopping_rounds':50, 'verbose_eval':False\n",
    "}\n",
    "\n",
    "params_xgb = {**params_general, **params_booster, **params_learning}\n",
    "\n",
    "print(\"finish paramx_xgb initialization\")"
   ]
  },
  {
   "cell_type": "markdown",
   "id": "a204166e",
   "metadata": {
    "papermill": {
     "duration": 0.029632,
     "end_time": "2022-01-30T01:11:12.686588",
     "exception": false,
     "start_time": "2022-01-30T01:11:12.656956",
     "status": "completed"
    },
    "tags": []
   },
   "source": [
    "## 4. Hyperparameters selection(xgb.cv)\n",
    "\n",
    "- parameters list: [xgboost-parameter](https://xgboost.readthedocs.io/en/stable/parameter.html)\n",
    "- One asset benchmark(ID=1, Bitcoin)"
   ]
  },
  {
   "cell_type": "code",
   "execution_count": 18,
   "id": "bf6f45c9",
   "metadata": {
    "execution": {
     "iopub.execute_input": "2022-01-30T01:11:12.748708Z",
     "iopub.status.busy": "2022-01-30T01:11:12.747060Z",
     "iopub.status.idle": "2022-01-30T01:11:12.750765Z",
     "shell.execute_reply": "2022-01-30T01:11:12.750281Z",
     "shell.execute_reply.started": "2022-01-26T17:43:00.458736Z"
    },
    "papermill": {
     "duration": 0.036272,
     "end_time": "2022-01-30T01:11:12.750882",
     "exception": false,
     "start_time": "2022-01-30T01:11:12.714610",
     "status": "completed"
    },
    "tags": []
   },
   "outputs": [
    {
     "name": "stdout",
     "output_type": "stream",
     "text": [
      "skipping params_xgb_pre: False\n"
     ]
    }
   ],
   "source": [
    "print(f\"skipping params_xgb_pre: {skipping_pre}\")"
   ]
  },
  {
   "cell_type": "code",
   "execution_count": 19,
   "id": "20c466d0",
   "metadata": {
    "execution": {
     "iopub.execute_input": "2022-01-30T01:11:12.815937Z",
     "iopub.status.busy": "2022-01-30T01:11:12.815023Z",
     "iopub.status.idle": "2022-01-30T01:11:12.816900Z",
     "shell.execute_reply": "2022-01-30T01:11:12.817352Z",
     "shell.execute_reply.started": "2022-01-26T17:43:14.841866Z"
    },
    "papermill": {
     "duration": 0.038385,
     "end_time": "2022-01-30T01:11:12.817486",
     "exception": false,
     "start_time": "2022-01-30T01:11:12.779101",
     "status": "completed"
    },
    "tags": []
   },
   "outputs": [],
   "source": [
    "##core tuning cv function\n",
    "def tune_para(search_params, dtrain, skip_pre=False):\n",
    "    c=0\n",
    "    for psets in search_params:\n",
    "        params_xgb.update(psets)\n",
    "        c+=1\n",
    "        if skip_pre:\n",
    "            if psets in [s[2] for s in params_xgb_prescore]:\n",
    "                print(f'skipping this cv batch {c}/{len(search_params)}')\n",
    "                continue\n",
    "        result=xgb.cv(params_xgb, dtrain, \n",
    "            num_boost_round=params_train['num_boost_round'], \n",
    "            nfold=5,\n",
    "            metrics=['rmse'], \n",
    "            seed=0,verbose_eval=False,as_pandas=True,\n",
    "            shuffle=False,\n",
    "            early_stopping_rounds=params_train['early_stopping_rounds'])\n",
    "        #best score among num_boost_round\n",
    "        psets_score = (round(result['test-rmse-mean'].min(),7),result.shape[0], psets)\n",
    "        params_xgb_prescore.append(psets_score)\n",
    "        print(f\"finished {c}/{len(search_params)}\")\n",
    "    return params_xgb_prescore"
   ]
  },
  {
   "cell_type": "code",
   "execution_count": 20,
   "id": "8c731ce1",
   "metadata": {
    "execution": {
     "iopub.execute_input": "2022-01-30T01:11:12.884142Z",
     "iopub.status.busy": "2022-01-30T01:11:12.883308Z",
     "iopub.status.idle": "2022-01-30T01:11:12.902574Z",
     "shell.execute_reply": "2022-01-30T01:11:12.902063Z",
     "shell.execute_reply.started": "2022-01-26T17:43:21.669135Z"
    },
    "papermill": {
     "duration": 0.056533,
     "end_time": "2022-01-30T01:11:12.902711",
     "exception": false,
     "start_time": "2022-01-30T01:11:12.846178",
     "status": "completed"
    },
    "tags": []
   },
   "outputs": [],
   "source": [
    "gridsearch_params = {\n",
    "    'learning_rate': [i/100 for i in range(30,51,10)],\n",
    "    'max_depth': [6,10],\n",
    "    'subsample' : [i/100 for i in range(70,81,10)],\n",
    "    'colsample_bytree' : [i/100 for i in range(50,81,10)],\n",
    "    'min_child_weight' : [i/100 for i in range(100,201,10)],\n",
    "    'reg_lambda' : [i/100 for i in range(100,301,20)] ,\n",
    "    'reg_alpha' : [i/100 for i in range(40,201,20)]\n",
    "}\n",
    "search_params = list(ParameterSampler(param_distributions = gridsearch_params, n_iter = num_pset))\n",
    "#search_params = list(ParameterGrid(param_grid = gridsearch_params))\n",
    "if params_xgb_prebest in search_params:\n",
    "    pass\n",
    "else:\n",
    "    search_params.append(params_xgb_prebest)"
   ]
  },
  {
   "cell_type": "code",
   "execution_count": 18,
   "id": "89e5d9b2",
   "metadata": {
    "execution": {
     "iopub.execute_input": "2022-01-30T01:11:12.973835Z",
     "iopub.status.busy": "2022-01-30T01:11:12.972887Z",
     "iopub.status.idle": "2022-01-30T01:11:17.462655Z",
     "shell.execute_reply": "2022-01-30T01:11:17.463178Z"
    },
    "papermill": {
     "duration": 4.531667,
     "end_time": "2022-01-30T01:11:17.463357",
     "exception": false,
     "start_time": "2022-01-30T01:11:12.931690",
     "status": "completed"
    },
    "tags": []
   },
   "outputs": [
    {
     "data": {
      "text/plain": [
       "37"
      ]
     },
     "execution_count": 18,
     "metadata": {},
     "output_type": "execute_result"
    }
   ],
   "source": [
    "#make tune data\n",
    "df = df_retrain[df_retrain[\"Asset_ID\"] == 1]\n",
    "pd.options.mode.chained_assignment = None  # default='warn'\n",
    "df = get_features(df, feature_prebest)\n",
    "df.dropna(axis = 0, inplace= True)#for lag_features missing rows:<100\n",
    "dtrain=xgb.DMatrix(df.drop(['timestamp', 'Asset_ID','Target','Weight'],axis=1),label= df['Target'])\n",
    "\n",
    "del df\n",
    "gc.collect()"
   ]
  },
  {
   "cell_type": "code",
   "execution_count": 19,
   "id": "e5a42426",
   "metadata": {
    "execution": {
     "iopub.execute_input": "2022-01-30T01:11:17.538942Z",
     "iopub.status.busy": "2022-01-30T01:11:17.538123Z",
     "iopub.status.idle": "2022-01-30T01:11:17.542072Z",
     "shell.execute_reply": "2022-01-30T01:11:17.541372Z",
     "shell.execute_reply.started": "2022-01-26T17:45:57.743702Z"
    },
    "papermill": {
     "duration": 0.046526,
     "end_time": "2022-01-30T01:11:17.542229",
     "exception": false,
     "start_time": "2022-01-30T01:11:17.495703",
     "status": "completed"
    },
    "tags": []
   },
   "outputs": [],
   "source": [
    "##############################start tuning and update params_xgb, logging ,setup skipping_pre_feature\n",
    "if tunepara:\n",
    "    print('Start tuning')\n",
    "    params_xgb_score=tune_para(search_params,dtrain,skip_pre = skipping_pre)\n",
    "    del dtrain\n",
    "    gc.collect()\n",
    "    ##score ranking rules min: rmse,min_child_weight,learning_rate,reg_alpha\n",
    "    params_xgb_score.sort(key=lambda x: (x[0],x[2]['min_child_weight'],x[2]['learning_rate'],x[2]['reg_alpha']))\n",
    "    params_xgb.update(params_xgb_score[0][2])\n",
    "    \n",
    "    with open(f\"{PRE_MOD_FOLDER}/model_nof_{params_version}/params_xgb_score{params_version}\", \"wb\") as fp:   \n",
    "        pickle.dump(params_xgb_score, fp)\n",
    "    with open(f\"{PRE_MOD_FOLDER}/model_nof_{params_version}/params_xgb_best{params_version}\", 'wb') as f: \n",
    "        pickle.dump(params_xgb_score[0][2],f)\n",
    "    if params_xgb_score[0][2] == params_xgb_prebest:\n",
    "        print('best params_xgb does not change!')\n",
    "        skipping_pre_feature = True\n",
    "    else:\n",
    "        print('best params_xgb differs!')\n",
    "        skipping_pre_feature = False\n",
    "        feature_prescore = []\n",
    "else:\n",
    "    params_xgb.update(params_xgb_prebest)\n",
    "    \n",
    "    with open(f\"{PRE_MOD_FOLDER}/model_nof_{params_version}/params_xgb_score{params_version}\", \"wb\") as fp:   \n",
    "        pickle.dump(params_xgb_prescore, fp)\n",
    "    with open(f\"{PRE_MOD_FOLDER}/model_nof_{params_version}/params_xgb_best{params_version}\", 'wb') as f: \n",
    "        pickle.dump(params_xgb_prebest,f)\n",
    "    skipping_pre_feature = True"
   ]
  },
  {
   "cell_type": "code",
   "execution_count": 20,
   "id": "aa1ef7fd",
   "metadata": {
    "execution": {
     "iopub.execute_input": "2022-01-30T01:11:17.612554Z",
     "iopub.status.busy": "2022-01-30T01:11:17.611834Z",
     "iopub.status.idle": "2022-01-30T01:11:17.614789Z",
     "shell.execute_reply": "2022-01-30T01:11:17.615426Z",
     "shell.execute_reply.started": "2022-01-26T17:46:00.74739Z"
    },
    "papermill": {
     "duration": 0.041128,
     "end_time": "2022-01-30T01:11:17.615628",
     "exception": false,
     "start_time": "2022-01-30T01:11:17.574500",
     "status": "completed"
    },
    "tags": []
   },
   "outputs": [
    {
     "data": {
      "text/plain": [
       "{'booster': 'gbtree',\n",
       " 'verbosity': 0,\n",
       " 'validate_parameters': 1,\n",
       " 'learning_rate': 0.41,\n",
       " 'min_split_loss': 0,\n",
       " 'max_depth': 5,\n",
       " 'min_child_weight': 1.1,\n",
       " 'subsample': 0.7,\n",
       " 'colsample_bytree': 0.6,\n",
       " 'reg_lambda': 2.0,\n",
       " 'reg_alpha': 1.0,\n",
       " 'max_delta_step': 0,\n",
       " 'scale_pos_weight': 1,\n",
       " 'tree_method': 'gpu_hist',\n",
       " 'predictor': 'gpu_predictor',\n",
       " 'num_parallel_tree': 1,\n",
       " 'objective': 'reg:squarederror',\n",
       " 'eval_metric': 'rmse',\n",
       " 'base_score': 0.5,\n",
       " 'seed': 2021}"
      ]
     },
     "execution_count": 20,
     "metadata": {},
     "output_type": "execute_result"
    }
   ],
   "source": [
    "params_xgb"
   ]
  },
  {
   "cell_type": "markdown",
   "id": "af557aa8",
   "metadata": {
    "papermill": {
     "duration": 0.034979,
     "end_time": "2022-01-30T01:11:17.682948",
     "exception": false,
     "start_time": "2022-01-30T01:11:17.647969",
     "status": "completed"
    },
    "tags": []
   },
   "source": [
    "## 5. Feature Selection"
   ]
  },
  {
   "cell_type": "code",
   "execution_count": 21,
   "id": "0f144b10",
   "metadata": {
    "execution": {
     "iopub.execute_input": "2022-01-30T01:11:17.753333Z",
     "iopub.status.busy": "2022-01-30T01:11:17.752664Z",
     "iopub.status.idle": "2022-01-30T01:11:17.757561Z",
     "shell.execute_reply": "2022-01-30T01:11:17.758032Z",
     "shell.execute_reply.started": "2022-01-26T17:46:04.238289Z"
    },
    "papermill": {
     "duration": 0.042876,
     "end_time": "2022-01-30T01:11:17.758187",
     "exception": false,
     "start_time": "2022-01-30T01:11:17.715311",
     "status": "completed"
    },
    "tags": []
   },
   "outputs": [
    {
     "name": "stdout",
     "output_type": "stream",
     "text": [
      "skipping feature_pre: True\n"
     ]
    }
   ],
   "source": [
    "print(f\"skipping feature_pre: {skipping_pre_feature}\")"
   ]
  },
  {
   "cell_type": "code",
   "execution_count": 22,
   "id": "a91d0483",
   "metadata": {
    "execution": {
     "iopub.execute_input": "2022-01-30T01:11:17.837968Z",
     "iopub.status.busy": "2022-01-30T01:11:17.837066Z",
     "iopub.status.idle": "2022-01-30T01:11:17.839877Z",
     "shell.execute_reply": "2022-01-30T01:11:17.840303Z",
     "shell.execute_reply.started": "2022-01-26T17:46:21.914639Z"
    },
    "papermill": {
     "duration": 0.049722,
     "end_time": "2022-01-30T01:11:17.840548",
     "exception": false,
     "start_time": "2022-01-30T01:11:17.790826",
     "status": "completed"
    },
    "tags": []
   },
   "outputs": [],
   "source": [
    "def train_model_for_asset(df_train,asset_id, fpara_dict):\n",
    "    pd.options.mode.chained_assignment = None\n",
    "    dftrain = df_train[df_train[\"Asset_ID\"] == asset_id].copy()\n",
    "    dftrain = get_features(df_feat=dftrain, fpara_dict=fpara_dict)\n",
    "    dftrain.dropna(axis = 0, inplace= True)\n",
    "    dmat_train=xgb.DMatrix(data = dftrain.drop(['timestamp', 'Asset_ID','Target','Weight'],\n",
    "                                        axis=1),\n",
    "                    label= dftrain['Target'])\n",
    "    del dftrain\n",
    "    gc.collect()\n",
    "    model = xgb.train(params_xgb, dtrain=dmat_train, \n",
    "                    evals=[(dmat_train,'train')],\n",
    "                    **params_train)\n",
    "    return model\n",
    "\n",
    "def model_reload_train(df_train, fpara_dict):\n",
    "    models={}\n",
    "    for asset_id, asset_name in zip(df_asset_details['Asset_ID'], df_asset_details['Asset_Name']):\n",
    "        models[asset_id] = train_model_for_asset(df_train,asset_id, fpara_dict)\n",
    "    return models\n",
    "\n",
    "def make_testset(df, fpara_dict):\n",
    "    ###consistent timestamp for all 14 assets\n",
    "    df2 = df.copy()\n",
    "    ###add features\n",
    "    df2 = df2.groupby('Asset_ID').apply(lambda x: get_features(x, fpara_dict))\n",
    "    return df2.dropna(axis = 0)#.reset_index()\n",
    "\n",
    "def weighted_correlation(a, b, weights):\n",
    "  w = np.ravel(weights)\n",
    "  a = np.ravel(a)\n",
    "  b = np.ravel(b)\n",
    "  sum_w = np.sum(w)\n",
    "  mean_a = np.sum(a * w) / sum_w\n",
    "  mean_b = np.sum(b * w) / sum_w\n",
    "  var_a = np.sum(w * np.square(a - mean_a)) / sum_w\n",
    "  var_b = np.sum(w * np.square(b - mean_b)) / sum_w\n",
    "\n",
    "  cov = np.sum((a * b * w)) / np.sum(w) - mean_a * mean_b\n",
    "  corr = cov / np.sqrt(var_a * var_b)\n",
    "  return corr"
   ]
  },
  {
   "cell_type": "code",
   "execution_count": 23,
   "id": "12a1155e",
   "metadata": {
    "execution": {
     "iopub.execute_input": "2022-01-30T01:11:17.912380Z",
     "iopub.status.busy": "2022-01-30T01:11:17.911612Z",
     "iopub.status.idle": "2022-01-30T01:11:17.914716Z",
     "shell.execute_reply": "2022-01-30T01:11:17.915197Z",
     "shell.execute_reply.started": "2022-01-30T01:05:14.245639Z"
    },
    "papermill": {
     "duration": 0.041715,
     "end_time": "2022-01-30T01:11:17.915344",
     "exception": false,
     "start_time": "2022-01-30T01:11:17.873629",
     "status": "completed"
    },
    "tags": []
   },
   "outputs": [
    {
     "data": {
      "text/plain": [
       "{'std_lr_15': 30,\n",
       " 'std_Mkt_lrt_15': 10,\n",
       " 'std_Crypto_Index': 30,\n",
       " 'rsi': 30,\n",
       " 'adx': 50,\n",
       " 'macd_sig': 15,\n",
       " 'macd_s': 10,\n",
       " 'macd_l': 60,\n",
       " 'lrtn': 50,\n",
       " 'fastk2': 10,\n",
       " 'fastk1': 15,\n",
       " 'beta_s': '6h',\n",
       " 'beta_l': '2d',\n",
       " 'vol_sum': 15}"
      ]
     },
     "execution_count": 23,
     "metadata": {},
     "output_type": "execute_result"
    }
   ],
   "source": [
    "feature_prebest"
   ]
  },
  {
   "cell_type": "code",
   "execution_count": 21,
   "id": "2ea57353",
   "metadata": {
    "execution": {
     "iopub.execute_input": "2022-01-30T01:11:17.997408Z",
     "iopub.status.busy": "2022-01-30T01:11:17.996502Z",
     "iopub.status.idle": "2022-01-30T01:11:18.000081Z",
     "shell.execute_reply": "2022-01-30T01:11:18.000566Z",
     "shell.execute_reply.started": "2022-01-30T01:02:56.200177Z"
    },
    "papermill": {
     "duration": 0.052146,
     "end_time": "2022-01-30T01:11:18.000788",
     "exception": false,
     "start_time": "2022-01-30T01:11:17.948642",
     "status": "completed"
    },
    "tags": []
   },
   "outputs": [
    {
     "data": {
      "text/plain": [
       "81"
      ]
     },
     "execution_count": 21,
     "metadata": {},
     "output_type": "execute_result"
    }
   ],
   "source": [
    "param_grid = {\n",
    "'std_lr_15': [30,40,60,120,240],\n",
    " 'std_Mkt_lrt_15': [10,15,30,50,60,120,240],\n",
    " 'std_Crypto_Index': [30,40,60,120,240],\n",
    " 'macd_sig': [15,20],\n",
    " 'macd_s': [10,15,30],\n",
    " 'macd_l': [60,40],\n",
    " 'lrtn': [50,30,15],\n",
    " 'fastk2': [10,30,50],\n",
    " 'fastk1': [15,20,40],\n",
    " 'beta_s': ['6h','12h'],\n",
    " 'beta_l': ['2d'],\n",
    " 'vol_sum': [15,30],\n",
    " 'adx': [40,50,60],\n",
    " 'rsi':[30,40,50,60]\n",
    "}\n",
    "\n",
    "p_grid = list(ParameterSampler(param_distributions = param_grid, n_iter = num_fset))\n",
    "#p_grid = list(ParameterGrid(param_grid = param_grid))\n",
    "if feature_prebest in p_grid:\n",
    "    pass\n",
    "else:\n",
    "    p_grid.append(feature_prebest)\n",
    "\n",
    "len(p_grid)"
   ]
  },
  {
   "cell_type": "code",
   "execution_count": 25,
   "id": "dba0cd8f",
   "metadata": {
    "execution": {
     "iopub.execute_input": "2022-01-30T01:11:18.089961Z",
     "iopub.status.busy": "2022-01-30T01:11:18.080050Z",
     "iopub.status.idle": "2022-01-30T02:47:30.796047Z",
     "shell.execute_reply": "2022-01-30T02:47:30.796452Z"
    },
    "papermill": {
     "duration": 5772.759195,
     "end_time": "2022-01-30T02:47:30.796654",
     "exception": false,
     "start_time": "2022-01-30T01:11:18.037459",
     "status": "completed"
    },
    "tags": []
   },
   "outputs": [
    {
     "name": "stdout",
     "output_type": "stream",
     "text": [
      "scoring for feature parameters set1 /81\n",
      "scoring for feature parameters set2 /81\n",
      "scoring for feature parameters set3 /81\n",
      "scoring for feature parameters set4 /81\n",
      "scoring for feature parameters set5 /81\n",
      "scoring for feature parameters set6 /81\n",
      "scoring for feature parameters set7 /81\n",
      "scoring for feature parameters set8 /81\n",
      "scoring for feature parameters set9 /81\n",
      "scoring for feature parameters set10 /81\n",
      "scoring for feature parameters set11 /81\n",
      "scoring for feature parameters set12 /81\n",
      "scoring for feature parameters set13 /81\n",
      "scoring for feature parameters set14 /81\n",
      "scoring for feature parameters set15 /81\n",
      "scoring for feature parameters set16 /81\n",
      "scoring for feature parameters set17 /81\n",
      "scoring for feature parameters set18 /81\n",
      "scoring for feature parameters set19 /81\n",
      "scoring for feature parameters set20 /81\n",
      "scoring for feature parameters set21 /81\n",
      "scoring for feature parameters set22 /81\n",
      "scoring for feature parameters set23 /81\n",
      "scoring for feature parameters set24 /81\n",
      "scoring for feature parameters set25 /81\n",
      "scoring for feature parameters set26 /81\n",
      "scoring for feature parameters set27 /81\n",
      "scoring for feature parameters set28 /81\n",
      "scoring for feature parameters set29 /81\n",
      "scoring for feature parameters set30 /81\n",
      "scoring for feature parameters set31 /81\n",
      "scoring for feature parameters set32 /81\n",
      "scoring for feature parameters set33 /81\n",
      "scoring for feature parameters set34 /81\n",
      "scoring for feature parameters set35 /81\n",
      "scoring for feature parameters set36 /81\n",
      "scoring for feature parameters set37 /81\n",
      "scoring for feature parameters set38 /81\n",
      "scoring for feature parameters set39 /81\n",
      "scoring for feature parameters set40 /81\n",
      "scoring for feature parameters set41 /81\n",
      "scoring for feature parameters set42 /81\n",
      "scoring for feature parameters set43 /81\n",
      "scoring for feature parameters set44 /81\n",
      "scoring for feature parameters set45 /81\n",
      "scoring for feature parameters set46 /81\n",
      "scoring for feature parameters set47 /81\n",
      "scoring for feature parameters set48 /81\n",
      "scoring for feature parameters set49 /81\n",
      "scoring for feature parameters set50 /81\n",
      "scoring for feature parameters set51 /81\n",
      "scoring for feature parameters set52 /81\n",
      "scoring for feature parameters set53 /81\n",
      "scoring for feature parameters set54 /81\n",
      "scoring for feature parameters set55 /81\n",
      "scoring for feature parameters set56 /81\n",
      "scoring for feature parameters set57 /81\n",
      "scoring for feature parameters set58 /81\n",
      "scoring for feature parameters set59 /81\n",
      "scoring for feature parameters set60 /81\n",
      "scoring for feature parameters set61 /81\n",
      "scoring for feature parameters set62 /81\n",
      "scoring for feature parameters set63 /81\n",
      "scoring for feature parameters set64 /81\n",
      "scoring for feature parameters set65 /81\n",
      "scoring for feature parameters set66 /81\n",
      "scoring for feature parameters set67 /81\n",
      "scoring for feature parameters set68 /81\n",
      "scoring for feature parameters set69 /81\n",
      "scoring for feature parameters set70 /81\n",
      "scoring for feature parameters set71 /81\n",
      "scoring for feature parameters set72 /81\n",
      "scoring for feature parameters set73 /81\n",
      "scoring for feature parameters set74 /81\n",
      "scoring for feature parameters set75 /81\n",
      "scoring for feature parameters set76 /81\n",
      "scoring for feature parameters set77 /81\n",
      "scoring for feature parameters set78 /81\n",
      "scoring for feature parameters set79 /81\n",
      "scoring for feature parameters set80 /81\n",
      "skipping scoring for feature parameters set81 /81\n"
     ]
    }
   ],
   "source": [
    "if tunefeatures:\n",
    "    c = 0\n",
    "    for psets in p_grid:\n",
    "        c += 1\n",
    "        if skipping_pre_feature:\n",
    "            if psets in [s[1] for s in feature_prescore]:\n",
    "                print(f\"skipping scoring for feature parameters set{c} /{len(p_grid)}\")\n",
    "                continue\n",
    "        #############################################train model\n",
    "        models = model_reload_train(df_train=df_retrain, fpara_dict = psets)\n",
    "        #############################################score model with the features' params\n",
    "        print(f\"scoring for feature parameters set{c} /{len(p_grid)}\")\n",
    "        df_test2 = make_testset(df = df_test, fpara_dict = psets)\n",
    "        result_frame = []\n",
    "        for id in range(0,14):\n",
    "            model = models[id]\n",
    "            x = df_test2[df_test2['Asset_ID']==id]\n",
    "            x['Pred'] = model.predict(xgb.DMatrix(x[model.feature_names]))\n",
    "            result_frame.append(x[['timestamp','Asset_ID','Weight','Target','Pred']])\n",
    "        result = pd.concat(result_frame, axis=0)\n",
    "        score = weighted_correlation(a=result['Target'],b=result['Pred'],weights=result['Weight'])\n",
    "        feature_prescore.append((score,psets))##add to feature_score logs\n",
    "    ##########################\n",
    "    feature_prescore.sort(key=lambda y: y[0])\n",
    "    final_score, final_fpara_dict = feature_prescore[-1]\n",
    "else:\n",
    "    print(\"make score for new params_xgb\")\n",
    "    models = model_reload_train(df_train=df_retrain, fpara_dict = feature_prebest)\n",
    "    df_test2 = make_testset(df = df_test, fpara_dict = feature_prebest)\n",
    "    result_frame = []\n",
    "    for id in range(0,14):\n",
    "        model = models[id]\n",
    "        x = df_test2[df_test2['Asset_ID']==id]\n",
    "        x['Pred'] = model.predict(xgb.DMatrix(x[model.feature_names]))\n",
    "        result_frame.append(x[['timestamp','Asset_ID','Weight','Target','Pred']])\n",
    "    result = pd.concat(result_frame, axis=0)\n",
    "    score = weighted_correlation(a=result['Target'],b=result['Pred'],weights=result['Weight'])\n",
    "    feature_prescore.append((score, feature_prebest))\n",
    "    final_score, final_fpara_dict = score, feature_prebest\n",
    "    \n",
    "###logging feature tune\n",
    "with open(f\"{PRE_MOD_FOLDER}/model_nof_{params_version}/feature_score{params_version}\", \"wb\") as fp:   \n",
    "    pickle.dump(feature_prescore, fp)\n",
    "with open(f\"{PRE_MOD_FOLDER}/model_nof_{params_version}/feature_best{params_version}\", \"wb\") as fp:   \n",
    "    pickle.dump(final_fpara_dict, fp)"
   ]
  },
  {
   "cell_type": "code",
   "execution_count": 26,
   "id": "f02fad17",
   "metadata": {
    "execution": {
     "iopub.execute_input": "2022-01-30T02:47:30.912563Z",
     "iopub.status.busy": "2022-01-30T02:47:30.909607Z",
     "iopub.status.idle": "2022-01-30T02:47:30.915784Z",
     "shell.execute_reply": "2022-01-30T02:47:30.916246Z"
    },
    "papermill": {
     "duration": 0.064796,
     "end_time": "2022-01-30T02:47:30.916397",
     "exception": false,
     "start_time": "2022-01-30T02:47:30.851601",
     "status": "completed"
    },
    "tags": []
   },
   "outputs": [
    {
     "name": "stdout",
     "output_type": "stream",
     "text": [
      "best feature params differs!\n"
     ]
    }
   ],
   "source": [
    "with open(f\"{PRE_MOD_FOLDER}/model_nof_{params_version}/skipping_pre_next{params_version}\", \"wb\") as fp:   \n",
    "    if final_fpara_dict == feature_prebest:\n",
    "        #no change to the feature params, we can skip scored params_xgb next time\n",
    "        print('best feature params does not change!')\n",
    "        pickle.dump(True, fp)\n",
    "    else:\n",
    "        print('best feature params differs!')\n",
    "        pickle.dump(False, fp)"
   ]
  },
  {
   "cell_type": "markdown",
   "id": "94f9c56d",
   "metadata": {
    "papermill": {
     "duration": 0.052365,
     "end_time": "2022-01-30T02:47:31.023784",
     "exception": false,
     "start_time": "2022-01-30T02:47:30.971419",
     "status": "completed"
    },
    "tags": []
   },
   "source": [
    "## 6. Train models with optimal hyperparameters and features"
   ]
  },
  {
   "cell_type": "code",
   "execution_count": 27,
   "id": "9c4434c8",
   "metadata": {
    "execution": {
     "iopub.execute_input": "2022-01-30T02:47:31.131921Z",
     "iopub.status.busy": "2022-01-30T02:47:31.131100Z",
     "iopub.status.idle": "2022-01-30T02:47:31.133722Z",
     "shell.execute_reply": "2022-01-30T02:47:31.134120Z",
     "shell.execute_reply.started": "2022-01-26T17:53:10.832446Z"
    },
    "papermill": {
     "duration": 0.059438,
     "end_time": "2022-01-30T02:47:31.134264",
     "exception": false,
     "start_time": "2022-01-30T02:47:31.074826",
     "status": "completed"
    },
    "tags": []
   },
   "outputs": [
    {
     "data": {
      "text/plain": [
       "(0.03993893506100587,\n",
       " {'vol_sum': 15,\n",
       "  'std_lr_15': 240,\n",
       "  'std_Mkt_lrt_15': 10,\n",
       "  'std_Crypto_Index': 30,\n",
       "  'rsi': 40,\n",
       "  'macd_sig': 15,\n",
       "  'macd_s': 15,\n",
       "  'macd_l': 40,\n",
       "  'lrtn': 30,\n",
       "  'fastk2': 30,\n",
       "  'fastk1': 15,\n",
       "  'beta_s': '6h',\n",
       "  'beta_l': '2d',\n",
       "  'adx': 40},\n",
       " 0.03678390028166218)"
      ]
     },
     "execution_count": 27,
     "metadata": {},
     "output_type": "execute_result"
    }
   ],
   "source": [
    "final_score, final_fpara_dict, pre_score"
   ]
  },
  {
   "cell_type": "code",
   "execution_count": 28,
   "id": "9c45f15d",
   "metadata": {
    "execution": {
     "iopub.execute_input": "2022-01-30T02:47:31.252048Z",
     "iopub.status.busy": "2022-01-30T02:47:31.251050Z",
     "iopub.status.idle": "2022-01-30T02:49:57.246812Z",
     "shell.execute_reply": "2022-01-30T02:49:57.246319Z",
     "shell.execute_reply.started": "2022-01-20T04:14:52.446976Z"
    },
    "papermill": {
     "duration": 146.061483,
     "end_time": "2022-01-30T02:49:57.246947",
     "exception": false,
     "start_time": "2022-01-30T02:47:31.185464",
     "status": "completed"
    },
    "tags": []
   },
   "outputs": [
    {
     "name": "stdout",
     "output_type": "stream",
     "text": [
      "{\"learner\":{\"generic_param\":{\"fail_on_invalid_gpu_id\":\"0\",\"gpu_id\":\"0\",\"n_jobs\":\"2\",\"nthread\":\"2\",\"random_state\":\"2021\",\"seed\":\"2021\",\"seed_per_iteration\":\"0\",\"validate_parameters\":\"1\"},\"gradient_booster\":{\"gbtree_train_param\":{\"num_parallel_tree\":\"1\",\"predictor\":\"gpu_predictor\",\"process_type\":\"default\",\"tree_method\":\"gpu_hist\",\"updater\":\"grow_gpu_hist\",\"updater_seq\":\"grow_gpu_hist\"},\"name\":\"gbtree\",\"specified_updater\":false,\"updater\":{\"grow_gpu_hist\":{\"gpu_hist_train_param\":{\"debug_synchronize\":\"0\",\"single_precision_histogram\":\"0\"},\"train_param\":{\"alpha\":\"1\",\"cache_opt\":\"1\",\"colsample_bylevel\":\"1\",\"colsample_bynode\":\"1\",\"colsample_bytree\":\"0.600000024\",\"default_direction\":\"learn\",\"eta\":\"0.409999996\",\"gamma\":\"0\",\"grow_policy\":\"depthwise\",\"interaction_constraints\":\"\",\"lambda\":\"2\",\"learning_rate\":\"0.409999996\",\"max_bin\":\"256\",\"max_conflict_rate\":\"0\",\"max_delta_step\":\"0\",\"max_depth\":\"5\",\"max_leaves\":\"0\",\"max_search_group\":\"100\",\"min_child_weight\":\"1.10000002\",\"min_split_loss\":\"0\",\"monotone_constraints\":\"()\",\"refresh_leaf\":\"1\",\"reg_alpha\":\"1\",\"reg_lambda\":\"2\",\"sampling_method\":\"uniform\",\"sketch_eps\":\"0.0299999993\",\"sketch_ratio\":\"2\",\"sparse_threshold\":\"0.20000000000000001\",\"split_evaluator\":\"elastic_net,monotonic\",\"subsample\":\"0.699999988\"}}}},\"learner_model_param\":{\"base_score\":\"5E-1\",\"num_class\":\"0\",\"num_feature\":\"27\"},\"learner_train_param\":{\"booster\":\"gbtree\",\"disable_default_eval_metric\":\"0\",\"dsplit\":\"auto\",\"objective\":\"reg:squarederror\"},\"metrics\":[\"rmse\"],\"objective\":{\"name\":\"reg:squarederror\",\"reg_loss_param\":{\"scale_pos_weight\":\"1\"}}},\"version\":[1,5,0]}\n",
      "['Count', 'Open', 'High', 'Low', 'Close', 'Volume', 'lr_15', 'Mkt_lrt_15', 'Crypto_Index', 'beta_6h', 'lr_15_resid_6h', 'beta_2d', 'lr_15_resid_2d', 'lrtn_index_30', 'slowK', 'slowD', 'fastK', 'fastD', 'rsi_40', 'macd_15_40', 'macd_signal_15', 'macd_hist', 'adx_40', 'vol_sum_15', 'std_lr_15_240', 'std_Mkt_lrt_15_10', 'std_Crypto_Index_30']\n"
     ]
    },
    {
     "data": {
      "image/png": "[encoded data removed]",
      "text/plain": [
       "<Figure size 432x288 with 1 Axes>"
      ]
     },
     "metadata": {
      "needs_background": "light"
     },
     "output_type": "display_data"
    }
   ],
   "source": [
    "def model_retrain(df_train, fpara_dict, alldata):\n",
    "    models={}\n",
    "    for asset_id, asset_name in zip(df_asset_details['Asset_ID'], df_asset_details['Asset_Name']):\n",
    "        \n",
    "        models[asset_id] = train_model_for_asset(df_train, asset_id, fpara_dict)\n",
    "        if alldata:\n",
    "            print(f\"df_retrain model fitting for asset_id {asset_id}\",end='\\r')\n",
    "            models[asset_id].save_model(f'./model_nof_{params_version}/model_{asset_id}_alldata.json')\n",
    "        else:\n",
    "            print(f\"all data model fitting for asset_id {asset_id}\", end = '\\r')\n",
    "            models[asset_id].save_model(f'./model_nof_{params_version}/model_{asset_id}.json')\n",
    "    return models\n",
    "\n",
    "if final_score < pre_score:\n",
    "    print('No improvement, No train!')\n",
    "else:    \n",
    "    models = model_retrain(df_train= df_retrain, \n",
    "                           fpara_dict= final_fpara_dict,alldata=False)\n",
    "    models_alldata = model_retrain(df_train= pd.concat([df_retrain,df_test], join='outer'), \n",
    "                                   fpara_dict= final_fpara_dict,alldata=True)\n",
    "    print(models[0].save_config())\n",
    "    print(models[0].feature_names)\n",
    "    xgb.plot_importance(models[1],height=0.8, max_num_features=20)"
   ]
  },
  {
   "cell_type": "code",
   "execution_count": 29,
   "id": "9cb58172",
   "metadata": {
    "execution": {
     "iopub.execute_input": "2022-01-30T02:49:57.380608Z",
     "iopub.status.busy": "2022-01-30T02:49:57.379678Z",
     "iopub.status.idle": "2022-01-30T02:49:57.381666Z",
     "shell.execute_reply": "2022-01-30T02:49:57.382081Z",
     "shell.execute_reply.started": "2022-01-20T04:17:23.561637Z"
    },
    "papermill": {
     "duration": 0.067095,
     "end_time": "2022-01-30T02:49:57.382222",
     "exception": false,
     "start_time": "2022-01-30T02:49:57.315127",
     "status": "completed"
    },
    "tags": []
   },
   "outputs": [],
   "source": [
    "#write readable notes\n",
    "with open(f'{PRE_MOD_FOLDER}/model_nof_{params_version}/README{params_version}.txt', 'a') as f:\n",
    "    notes = f\"\"\"\n",
    "    Use feature para selection: {tunefeatures}\n",
    "    Features params: {final_fpara_dict}\n",
    "    Use auto-tuned hyperpara: {tunepara}\n",
    "    Xgb-hyperparams: {params_xgb}\n",
    "    On-test-score: {final_score}\n",
    "    \"\"\"\n",
    "    f.write(f'{notes}\\n')\n",
    "# if tunepara <1:\n",
    "#     import shutil\n",
    "#     shutil.make_archive(f'./model_nof_{params_version}', 'zip', f'./model_nof_{params_version}')"
   ]
  },
  {
   "cell_type": "code",
   "execution_count": 30,
   "id": "24a6bfb8",
   "metadata": {
    "execution": {
     "iopub.execute_input": "2022-01-30T02:49:57.508152Z",
     "iopub.status.busy": "2022-01-30T02:49:57.507420Z",
     "iopub.status.idle": "2022-01-30T02:49:57.510841Z",
     "shell.execute_reply": "2022-01-30T02:49:57.511443Z"
    },
    "papermill": {
     "duration": 0.07016,
     "end_time": "2022-01-30T02:49:57.511654",
     "exception": false,
     "start_time": "2022-01-30T02:49:57.441494",
     "status": "completed"
    },
    "tags": []
   },
   "outputs": [
    {
     "name": "stdout",
     "output_type": "stream",
     "text": [
      "Improved!!!\n",
      "0.03993893506100587 greater than 0.03678390028166218\n"
     ]
    }
   ],
   "source": [
    "if final_score > pre_score:\n",
    "    print(\"Improved!!!\")\n",
    "    print(f\"{final_score} greater than {pre_score}\")\n",
    "else:\n",
    "    print(f\"Not improved!!!\")\n",
    "    ##recover prebest params\n",
    "    with open(f\"{PRE_MOD_FOLDER}/model_nof_{params_version}/params_xgb_best{params_version}\", 'wb') as f: \n",
    "        pickle.dump(params_xgb_prebest,f)\n",
    "    with open(f\"{PRE_MOD_FOLDER}/model_nof_{params_version}/feature_best{params_version}\", \"wb\") as fp:   \n",
    "        pickle.dump(feature_prebest, fp)\n",
    "    with open(f\"{PRE_MOD_FOLDER}/model_nof_{params_version}/skipping_pre_next{params_version}\", \"wb\") as fp:   \n",
    "        pickle.dump(True, fp)"
   ]
  }
 ],
 "metadata": {
  "kernelspec": {
   "display_name": "Python 3",
   "language": "python",
   "name": "python3"
  },
  "language_info": {
   "codemirror_mode": {
    "name": "ipython",
    "version": 3
   },
   "file_extension": ".py",
   "mimetype": "text/x-python",
   "name": "python",
   "nbconvert_exporter": "python",
   "pygments_lexer": "ipython3",
   "version": "3.9.7"
  },
  "papermill": {
   "default_parameters": {},
   "duration": 6099.94112,
   "end_time": "2022-01-30T02:49:58.895024",
   "environment_variables": {},
   "exception": null,
   "input_path": "__notebook__.ipynb",
   "output_path": "__notebook__.ipynb",
   "parameters": {},
   "start_time": "2022-01-30T01:08:18.953904",
   "version": "2.3.3"
  }
 },
 "nbformat": 4,
 "nbformat_minor": 5
}
