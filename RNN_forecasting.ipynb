{
 "cells": [
  {
   "cell_type": "markdown",
   "metadata": {},
   "source": [
    "# Recurrent Neural Network forecasting intro\n",
    "\n",
    "- Reference:`keras.layers.SimpleRNN`\n",
    "\n",
    "**Basic Architecture diagram**  \n",
    "\n",
    "<img src=\"./pic/RNN.png\" alt=\"RNN Architecture\" width=\"500\"/>\n",
    "\n",
    "- U,V,W are weight matrix.\n",
    "- Input: vector $X_t$ is input for network at time step t.  \n",
    "- Hidden state: vector $h(t)=\\tanh \\left(W h(t-1)+U_{x}(t)\\right)$\n",
    "- Output: $y_t$ is the output for the network at time step t. $y_t=\\operatorname{softmax}(V s(t))$\n",
    "\n",
    "Every neuron is assigned to a fixed step. The output of the hidden layer of one time step is part of the input of next time step.\n",
    "\n",
    "- The algorithm is to find the optimal weight matrix U,V,W that gives the best prediction or minimizes the loss function $J$. \n",
    "$$J(\\theta)=\\frac{1}{m} \\sum_{i=1}^{m} \\sum_{t=1}^{N_{i}} D(y_t, Y_t)$$\n",
    "- Forward/Backward propagation\n",
    "\n",
    "## Vanishing gradiant problems \n",
    "\n",
    "- LSTM `keras.layers.LSTM`, first proposed in\n",
    "[Hochreiter & Schmidhuber, 1997](https://www.bioinf.jku.at/publications/older/2604.pdf).\n",
    "- GRU `keras.layers.GRU`, first proposed in\n",
    "[Cho et al., 2014](https://arxiv.org/abs/1406.1078)."
   ]
  },
  {
   "cell_type": "markdown",
   "metadata": {},
   "source": [
    "## RNN-LSTM Crypto-forcasting \n",
    "- Thanks to [jeffheaton](https://github.com/jeffheaton/t81_558_deep_learning)"
   ]
  },
  {
   "cell_type": "code",
   "execution_count": 3,
   "metadata": {},
   "outputs": [
    {
     "name": "stdout",
     "output_type": "stream",
     "text": [
      "2.6.0\n"
     ]
    },
    {
     "data": {
      "text/html": [
       "<div>\n",
       "<style scoped>\n",
       "    .dataframe tbody tr th:only-of-type {\n",
       "        vertical-align: middle;\n",
       "    }\n",
       "\n",
       "    .dataframe tbody tr th {\n",
       "        vertical-align: top;\n",
       "    }\n",
       "\n",
       "    .dataframe thead th {\n",
       "        text-align: right;\n",
       "    }\n",
       "</style>\n",
       "<table border=\"1\" class=\"dataframe\">\n",
       "  <thead>\n",
       "    <tr style=\"text-align: right;\">\n",
       "      <th></th>\n",
       "      <th>Asset_ID</th>\n",
       "      <th>Count</th>\n",
       "      <th>Open</th>\n",
       "      <th>High</th>\n",
       "      <th>Low</th>\n",
       "      <th>Close</th>\n",
       "      <th>Volume</th>\n",
       "      <th>VWAP</th>\n",
       "      <th>Target</th>\n",
       "    </tr>\n",
       "  </thead>\n",
       "  <tbody>\n",
       "    <tr>\n",
       "      <th>1886282</th>\n",
       "      <td>1</td>\n",
       "      <td>1009.0</td>\n",
       "      <td>38463.446686</td>\n",
       "      <td>38484.00</td>\n",
       "      <td>38405.18</td>\n",
       "      <td>38428.484286</td>\n",
       "      <td>34.940985</td>\n",
       "      <td>38451.705205</td>\n",
       "      <td>0.000094</td>\n",
       "    </tr>\n",
       "    <tr>\n",
       "      <th>1886283</th>\n",
       "      <td>1</td>\n",
       "      <td>935.0</td>\n",
       "      <td>38423.084753</td>\n",
       "      <td>38467.72</td>\n",
       "      <td>38408.31</td>\n",
       "      <td>38453.424286</td>\n",
       "      <td>23.979506</td>\n",
       "      <td>38434.534545</td>\n",
       "      <td>-0.000699</td>\n",
       "    </tr>\n",
       "    <tr>\n",
       "      <th>1886284</th>\n",
       "      <td>1</td>\n",
       "      <td>946.0</td>\n",
       "      <td>38458.731429</td>\n",
       "      <td>38500.40</td>\n",
       "      <td>38447.64</td>\n",
       "      <td>38484.997143</td>\n",
       "      <td>38.255848</td>\n",
       "      <td>38479.665203</td>\n",
       "      <td>-0.000319</td>\n",
       "    </tr>\n",
       "    <tr>\n",
       "      <th>1886285</th>\n",
       "      <td>1</td>\n",
       "      <td>699.0</td>\n",
       "      <td>38482.981429</td>\n",
       "      <td>38497.00</td>\n",
       "      <td>38439.62</td>\n",
       "      <td>38463.950000</td>\n",
       "      <td>24.634812</td>\n",
       "      <td>38467.956129</td>\n",
       "      <td>0.000082</td>\n",
       "    </tr>\n",
       "    <tr>\n",
       "      <th>1886286</th>\n",
       "      <td>1</td>\n",
       "      <td>671.0</td>\n",
       "      <td>38457.484286</td>\n",
       "      <td>38503.00</td>\n",
       "      <td>38439.63</td>\n",
       "      <td>38491.732857</td>\n",
       "      <td>19.218220</td>\n",
       "      <td>38470.259211</td>\n",
       "      <td>-0.000140</td>\n",
       "    </tr>\n",
       "  </tbody>\n",
       "</table>\n",
       "</div>"
      ],
      "text/plain": [
       "         Asset_ID   Count          Open      High       Low         Close  \\\n",
       "1886282         1  1009.0  38463.446686  38484.00  38405.18  38428.484286   \n",
       "1886283         1   935.0  38423.084753  38467.72  38408.31  38453.424286   \n",
       "1886284         1   946.0  38458.731429  38500.40  38447.64  38484.997143   \n",
       "1886285         1   699.0  38482.981429  38497.00  38439.62  38463.950000   \n",
       "1886286         1   671.0  38457.484286  38503.00  38439.63  38491.732857   \n",
       "\n",
       "            Volume          VWAP    Target  \n",
       "1886282  34.940985  38451.705205  0.000094  \n",
       "1886283  23.979506  38434.534545 -0.000699  \n",
       "1886284  38.255848  38479.665203 -0.000319  \n",
       "1886285  24.634812  38467.956129  0.000082  \n",
       "1886286  19.218220  38470.259211 -0.000140  "
      ]
     },
     "execution_count": 3,
     "metadata": {},
     "output_type": "execute_result"
    }
   ],
   "source": [
    "import os\n",
    "import IPython\n",
    "import IPython.display\n",
    "import matplotlib as mpl\n",
    "import matplotlib.pyplot as plt\n",
    "import numpy as np\n",
    "import pandas as pd\n",
    "import seaborn as sns\n",
    "import tensorflow as tf\n",
    "from sklearn import metrics\n",
    "mpl.rcParams['figure.figsize'] = (8, 6)\n",
    "mpl.rcParams['axes.grid'] = False\n",
    "print(tf.__version__)\n",
    "\n",
    "##data and date\n",
    "csv_path = './data/codetest/btc.csv'\n",
    "df = pd.read_csv(csv_path)\n",
    "df = df[-70000:]\n",
    "date_time = pd.to_datetime(df.pop('timestamp'),unit='s')\n",
    "\n",
    "df.head()"
   ]
  },
  {
   "cell_type": "markdown",
   "metadata": {},
   "source": [
    "## Split the data\n",
    "\n",
    "split for the training(70%), validation(20%), and test sets(10%)."
   ]
  },
  {
   "cell_type": "code",
   "execution_count": 4,
   "metadata": {},
   "outputs": [],
   "source": [
    "from script.RNN.data_split import mysplit\n",
    "train_df, val_df, test_df = mysplit(df= df, features =['Count','Open','High','Low','Close','Volume','VWAP']\n",
    "                                    ,train_size=0.7,val_size=0.2)"
   ]
  },
  {
   "cell_type": "markdown",
   "metadata": {},
   "source": [
    "## Normalize the data\n",
    "scale features before training a neural network"
   ]
  },
  {
   "cell_type": "code",
   "execution_count": 22,
   "metadata": {},
   "outputs": [],
   "source": [
    "train_mean = train_df.mean()\n",
    "train_std = train_df.std()\n",
    "\n",
    "train_df = (train_df - train_mean) / train_std #scipy.stats.zscore(train_df,ddof=1)\n",
    "val_df = (val_df - train_mean) / train_std\n",
    "test_df = (test_df - train_mean) / train_std\n"
   ]
  },
  {
   "cell_type": "code",
   "execution_count": 23,
   "metadata": {},
   "outputs": [
    {
     "data": {
      "text/html": [
       "<div>\n",
       "<style scoped>\n",
       "    .dataframe tbody tr th:only-of-type {\n",
       "        vertical-align: middle;\n",
       "    }\n",
       "\n",
       "    .dataframe tbody tr th {\n",
       "        vertical-align: top;\n",
       "    }\n",
       "\n",
       "    .dataframe thead th {\n",
       "        text-align: right;\n",
       "    }\n",
       "</style>\n",
       "<table border=\"1\" class=\"dataframe\">\n",
       "  <thead>\n",
       "    <tr style=\"text-align: right;\">\n",
       "      <th></th>\n",
       "      <th>Count</th>\n",
       "      <th>Open</th>\n",
       "      <th>High</th>\n",
       "      <th>Low</th>\n",
       "      <th>Close</th>\n",
       "      <th>Volume</th>\n",
       "      <th>VWAP</th>\n",
       "    </tr>\n",
       "  </thead>\n",
       "  <tbody>\n",
       "    <tr>\n",
       "      <th>1886282</th>\n",
       "      <td>-0.567846</td>\n",
       "      <td>-2.624313</td>\n",
       "      <td>-2.632213</td>\n",
       "      <td>-2.627502</td>\n",
       "      <td>-2.635777</td>\n",
       "      <td>-0.362491</td>\n",
       "      <td>-2.627832</td>\n",
       "    </tr>\n",
       "    <tr>\n",
       "      <th>1886283</th>\n",
       "      <td>-0.613876</td>\n",
       "      <td>-2.637358</td>\n",
       "      <td>-2.637476</td>\n",
       "      <td>-2.626491</td>\n",
       "      <td>-2.627716</td>\n",
       "      <td>-0.484490</td>\n",
       "      <td>-2.633382</td>\n",
       "    </tr>\n",
       "    <tr>\n",
       "      <th>1886284</th>\n",
       "      <td>-0.607034</td>\n",
       "      <td>-2.625837</td>\n",
       "      <td>-2.626912</td>\n",
       "      <td>-2.613786</td>\n",
       "      <td>-2.617511</td>\n",
       "      <td>-0.325597</td>\n",
       "      <td>-2.618796</td>\n",
       "    </tr>\n",
       "    <tr>\n",
       "      <th>1886285</th>\n",
       "      <td>-0.760674</td>\n",
       "      <td>-2.618000</td>\n",
       "      <td>-2.628011</td>\n",
       "      <td>-2.616377</td>\n",
       "      <td>-2.624314</td>\n",
       "      <td>-0.477196</td>\n",
       "      <td>-2.622580</td>\n",
       "    </tr>\n",
       "    <tr>\n",
       "      <th>1886286</th>\n",
       "      <td>-0.778090</td>\n",
       "      <td>-2.626240</td>\n",
       "      <td>-2.626071</td>\n",
       "      <td>-2.616373</td>\n",
       "      <td>-2.615334</td>\n",
       "      <td>-0.537482</td>\n",
       "      <td>-2.621836</td>\n",
       "    </tr>\n",
       "  </tbody>\n",
       "</table>\n",
       "</div>"
      ],
      "text/plain": [
       "            Count      Open      High       Low     Close    Volume      VWAP\n",
       "1886282 -0.567846 -2.624313 -2.632213 -2.627502 -2.635777 -0.362491 -2.627832\n",
       "1886283 -0.613876 -2.637358 -2.637476 -2.626491 -2.627716 -0.484490 -2.633382\n",
       "1886284 -0.607034 -2.625837 -2.626912 -2.613786 -2.617511 -0.325597 -2.618796\n",
       "1886285 -0.760674 -2.618000 -2.628011 -2.616377 -2.624314 -0.477196 -2.622580\n",
       "1886286 -0.778090 -2.626240 -2.626071 -2.616373 -2.615334 -0.537482 -2.621836"
      ]
     },
     "execution_count": 23,
     "metadata": {},
     "output_type": "execute_result"
    }
   ],
   "source": [
    "train_df.head()"
   ]
  },
  {
   "cell_type": "markdown",
   "metadata": {},
   "source": [
    "## Data for LSTM: windowing\n",
    "\n",
    "The models make a set of predictions based on a window of consecutive samples from the data.\n",
    "- The `width` (number of time steps) of the `input` and `label` windows.\n",
    "- The `shift=offset` between them.\n",
    "- Which `features` are used as `inputs`, `labels`, or both.\n",
    "\n",
    "Example: to make a single prediction 24 hours into the future, given 24 hours of history, you might define a window like this:\n",
    "<img src=\"./pic/raw_window_24h.png\" alt=\"window24_24\" width=\"500\"/>\n",
    "\n"
   ]
  },
  {
   "cell_type": "markdown",
   "metadata": {},
   "source": [
    "The data used for training the model is formated as `tf.data.Dataset` which is splited into inputs and labels. Similarly for valuation, test and example data."
   ]
  },
  {
   "cell_type": "markdown",
   "metadata": {},
   "source": [
    "## Long Short-Term Memory  \n",
    "<img src=\"./pic/LSTM-1.png\" alt=\"LSTM Architecture\" width=\"500\"/> \n",
    "\n",
    "- [https://keras.io](https://keras.io)\n",
    "- ` tf.keras.layers.LSTM`\n",
    "\n",
    "\n",
    "### Model Design\n",
    "- `LSTM(units = 20)`: LSTM layer with 20 internal units.\n",
    "- `Dense(units=2)`: Dense layer with 2 units.\n",
    "    dense models handled each time step independently.\n",
    "- Choose units by cross validation.\n",
    "\n",
    "Graph below demonstrates what layer and unit (or neuron) are, and the rightmost image shows the internal structure of a single LSTM unit.\n",
    "<img src=\"./pic/lstm-units.png\" alt=\"lstmunits\" width=\"500\"/>"
   ]
  },
  {
   "cell_type": "code",
   "execution_count": 24,
   "metadata": {},
   "outputs": [],
   "source": [
    "#model design and fit\n",
    "from script.RNN.myModel import mymodel, myfittedmodel\n",
    "mylstm = mymodel()\n",
    "wide_window,lstm_model = myfittedmodel(model = mylstm[0], input_width=30, label_width=30, shift=1,\n",
    "                                                train_df=train_df, val_df=val_df, test_df=test_df,\n",
    "                                                label_columns=['Close'])\n",
    "IPython.display.clear_output()"
   ]
  },
  {
   "cell_type": "markdown",
   "metadata": {},
   "source": []
  },
  {
   "cell_type": "code",
   "execution_count": 6,
   "metadata": {},
   "outputs": [
    {
     "name": "stdout",
     "output_type": "stream",
     "text": [
      "Input shape: (32, 30, 7)\n",
      "Output shape: (32, 30, 1)\n",
      "Label shape: (32, 30, 1)\n"
     ]
    }
   ],
   "source": [
    "print('Input shape:', wide_window.example[0].shape)#[batch_size, timesteps, feature]\n",
    "print('Output shape:', lstm_model(inputs= wide_window.example[0]).shape)\n",
    "print('Label shape:', wide_window.example[1].shape)"
   ]
  },
  {
   "cell_type": "markdown",
   "metadata": {},
   "source": [
    "### Visualization the architecture\n",
    "- `lstm_model.summary()`\n",
    "- Graphs dashboard"
   ]
  },
  {
   "cell_type": "markdown",
   "metadata": {},
   "source": [
    "```python\n",
    "#Op-level graph\n",
    "%tensorboard --logdir logs\n",
    "```"
   ]
  },
  {
   "cell_type": "code",
   "execution_count": 7,
   "metadata": {},
   "outputs": [
    {
     "name": "stdout",
     "output_type": "stream",
     "text": [
      "Model: \"sequential\"\n",
      "_________________________________________________________________\n",
      "Layer (type)                 Output Shape              Param #   \n",
      "=================================================================\n",
      "lstm (LSTM)                  (None, 30, 20)            2240      \n",
      "_________________________________________________________________\n",
      "dense (Dense)                (None, 30, 1)             21        \n",
      "=================================================================\n",
      "Total params: 2,261\n",
      "Trainable params: 2,261\n",
      "Non-trainable params: 0\n",
      "_________________________________________________________________\n"
     ]
    }
   ],
   "source": [
    "lstm_model.summary()"
   ]
  },
  {
   "cell_type": "markdown",
   "metadata": {},
   "source": [
    "### Performance metric"
   ]
  },
  {
   "cell_type": "code",
   "execution_count": 8,
   "metadata": {},
   "outputs": [
    {
     "data": {
      "text/plain": [
       "['loss', 'mean_absolute_error', 'mse']"
      ]
     },
     "execution_count": 8,
     "metadata": {},
     "output_type": "execute_result"
    }
   ],
   "source": [
    "val_performance={}\n",
    "performance={}\n",
    "val_performance['LSTM0'] = lstm_model.evaluate(x = wide_window.val,verbose=0)\n",
    "performance['LSTM0'] = lstm_model.evaluate(wide_window.test, verbose=0,return_dict=False)\n",
    "lstm_model.metrics_names"
   ]
  },
  {
   "cell_type": "code",
   "execution_count": 9,
   "metadata": {},
   "outputs": [
    {
     "data": {
      "text/plain": [
       "[0.005833860021084547, 0.06880035251379013, 0.005833861883729696]"
      ]
     },
     "execution_count": 9,
     "metadata": {},
     "output_type": "execute_result"
    }
   ],
   "source": [
    "performance['LSTM0']#test evaluation"
   ]
  },
  {
   "cell_type": "code",
   "execution_count": 10,
   "metadata": {},
   "outputs": [
    {
     "data": {
      "text/plain": [
       "[0.005364998709410429, 0.039690278470516205, 0.005364999640733004]"
      ]
     },
     "execution_count": 10,
     "metadata": {},
     "output_type": "execute_result"
    }
   ],
   "source": [
    "val_performance['LSTM0']#val/train evaluation"
   ]
  },
  {
   "cell_type": "markdown",
   "metadata": {},
   "source": [
    "Use prediction to calculate the metrics as above:  \n",
    "\n",
    "```python\n",
    "import itertools\n",
    "\n",
    "pred = []\n",
    "label = []\n",
    "for input_batch,label_batch in wide_window.test:\n",
    "    pred_batch = lstm_model(input_batch)\n",
    "    pred.append(list(pred_batch.numpy().flatten()))\n",
    "    label.append(list(label_batch.numpy().flatten()))\n",
    "\n",
    "\n",
    "#flatten list of lists\n",
    "pred = list(itertools.chain(*pred))\n",
    "label = list(itertools.chain(*label))\n",
    "#sklearn version\n",
    "print(metrics.mean_absolute_error(label, pred), metrics.mean_squared_error(label, pred))\n",
    "\n",
    "#tf.keras.loss version\n",
    "mse = tf.keras.losses.MeanSquaredError()\n",
    "mae = tf.keras.losses.MeanAbsoluteError()\n",
    "print(mae(label, pred).numpy(), mse(label, pred).numpy()) \n",
    "\n"
   ]
  },
  {
   "cell_type": "code",
   "execution_count": 11,
   "metadata": {},
   "outputs": [
    {
     "data": {
      "image/png": "[encoded data removed]",
      "text/plain": [
       "<Figure size 576x432 with 1 Axes>"
      ]
     },
     "metadata": {
      "needs_background": "light"
     },
     "output_type": "display_data"
    }
   ],
   "source": [
    "x = np.arange(len(performance))\n",
    "width = 0.3\n",
    "metric_name = 'mean_absolute_error'\n",
    "mae_index = lstm_model.metrics_names.index('mean_absolute_error')\n",
    "val_mae = [v[mae_index] for v in val_performance.values()]\n",
    "test_mae = [v[mae_index] for v in performance.values()]\n",
    "\n",
    "plt.ylabel('mean_absolute_error [Close, normalized]')\n",
    "plt.bar(x - 0.17, val_mae, width, label='Validation')\n",
    "plt.bar(x + 0.17, test_mae, width, label='Test')\n",
    "plt.xticks(ticks=x, labels=performance.keys(),\n",
    "           rotation=45)\n",
    "_ = plt.legend()"
   ]
  },
  {
   "cell_type": "markdown",
   "metadata": {},
   "source": [
    "## Save the trained LSTM\n",
    "\n",
    "```\n",
    "# save neural network structure to JSON (no weights)\n",
    "model_json = lstm_model.to_json()\n",
    "with open(os.path.join(save_path,\"network.json\"), \"w\") as json_file:\n",
    "    json_file.write(model_json)\n",
    "\n",
    "# save neural network structure to YAML (no weights)\n",
    "model_yaml = lstm_model.to_yaml()\n",
    "with open(os.path.join(save_path,\"network.yaml\"), \"w\") as yaml_file:\n",
    "    yaml_file.write(model_yaml)\n",
    "\n",
    "```"
   ]
  },
  {
   "cell_type": "code",
   "execution_count": 26,
   "metadata": {},
   "outputs": [],
   "source": [
    "# save entire network to HDF5 (save everything, suggested)\n",
    "save_path = \"./trainedNN\"\n",
    "lstm_model.save(os.path.join(save_path,\"lstm-base.h5\"))"
   ]
  },
  {
   "cell_type": "code",
   "execution_count": 13,
   "metadata": {},
   "outputs": [],
   "source": [
    "# reload\n",
    "save_path = \"./trainedNN\"\n",
    "lstm_model_reload = tf.keras.models.load_model(os.path.join(save_path,\"lstm-notebook.h5\"))"
   ]
  },
  {
   "cell_type": "markdown",
   "metadata": {},
   "source": [
    "# Tuning hyperparameters\n",
    "\n",
    "Some of the hyperparameters seen so far include:\n",
    "\n",
    "* Number of layers in the neural network\n",
    "* How many neurons in each layer\n",
    "* What activation functions to use on each layer\n",
    "* Dropout percent on each layer\n",
    "* L1 and L2 values on each layer"
   ]
  },
  {
   "cell_type": "markdown",
   "metadata": {},
   "source": [
    "## Overfitting and Early Stopping \n",
    "\n",
    "It is important to segment the original dataset into several datasets(already done in the previous section):\n",
    "\n",
    "* **Training Set** : `wide_window.train`\n",
    "* **Validation Set** : `wide_window.val`\n",
    "* **Holdout Set**: `wide_window.test`\n",
    "\n",
    "The training data(`wide_window.train`) are used to train the neural network until the validation set no longer improves.  This attempts to stop at a near optimal training point.  This method will only give accurate \"**out of sample**\" predictions for the validation set(`wide_window.val`), this is usually 20% or so of the data.  The predictions for the training data will be overly optimistic, as these were the data that the neural network was trained on.\n",
    "\n",
    "I design this data split method in the class `WindowGenerator` as shown in section data windowing. The model fitting takes the early stopping through `tf.keras.callbacks.EarlyStopping`."
   ]
  },
  {
   "cell_type": "markdown",
   "metadata": {},
   "source": [
    "I design the earlystopping based on validation set as:\n",
    "\n",
    "```python\n",
    "early_stopping = tf.keras.callbacks.EarlyStopping(monitor='val_loss',\n",
    "                                                    patience=2,\n",
    "                                                    mode='min',restore_best_weights=False)\n",
    "```\n",
    "\n",
    "- details: [https://www.tensorflow.org/api_docs/python/tf/keras/callbacks/EarlyStopping](https://www.tensorflow.org/api_docs/python/tf/keras/callbacks/EarlyStopping)"
   ]
  },
  {
   "cell_type": "markdown",
   "metadata": {},
   "source": [
    "## K-fold CrossValidation for hyperparameters\n",
    "- reference:[https://en.wikipedia.org/wiki/Hyperparameter_(machine_learning)](https://en.wikipedia.org/wiki/Hyperparameter_(machine_learning))  \n",
    "\n",
    "- K-fold for sectional data: `sklearn.model_selection.KFold`\n",
    "- K-fold for time series needs rolling basis: `sklearn.model_selection.TimeSeriesSplit`\n",
    "- K-fold for time series needs blocking rolling basis:[https://goldinlocks.github.io/Time-Series-Cross-Validation/](https://goldinlocks.github.io/Time-Series-Cross-Validation/)\n",
    "\n",
    "<img src=\"./pic/class_1_kfold.png\" alt=\"RNN Architecture\" width=\"500\"/>"
   ]
  },
  {
   "cell_type": "code",
   "execution_count": 14,
   "metadata": {},
   "outputs": [
    {
     "name": "stdout",
     "output_type": "stream",
     "text": [
      "(11670, 7) (11666, 7)\n",
      "(23336, 7) (11666, 7)\n",
      "(35002, 7) (11666, 7)\n",
      "(46668, 7) (11666, 7)\n",
      "(58334, 7) (11666, 7)\n"
     ]
    },
    {
     "data": {
      "image/png": "[encoded data removed]",
      "text/plain": [
       "<Figure size 720x360 with 1 Axes>"
      ]
     },
     "metadata": {
      "needs_background": "light"
     },
     "output_type": "display_data"
    }
   ],
   "source": [
    "from sklearn.model_selection import TimeSeriesSplit\n",
    "from script.RNN.kfoldwindow import plot_cv_indices\n",
    "tscv = TimeSeriesSplit(n_splits = 5)\n",
    "for train_index, test_index in tscv.split(X=df):\n",
    "    cv_train, cv_test = df.iloc[train_index], df.iloc[test_index]\n",
    "    print(cv_train.shape,cv_test.shape)\n",
    "\n",
    "plot_cv_indices(tscv,X=df)"
   ]
  },
  {
   "cell_type": "code",
   "execution_count": 15,
   "metadata": {},
   "outputs": [
    {
     "name": "stdout",
     "output_type": "stream",
     "text": [
      "(7000, 7) (7000, 7)\n",
      "(7000, 7) (7000, 7)\n",
      "(7000, 7) (7000, 7)\n",
      "(7000, 7) (7000, 7)\n",
      "(7000, 7) (7000, 7)\n"
     ]
    },
    {
     "data": {
      "image/png": "[encoded data removed]",
      "text/plain": [
       "<Figure size 720x360 with 1 Axes>"
      ]
     },
     "metadata": {
      "needs_background": "light"
     },
     "output_type": "display_data"
    }
   ],
   "source": [
    "from script.RNN.kfoldwindow import BlockingTimeSeriesSplit, plot_cv_indices\n",
    "tscv = BlockingTimeSeriesSplit(n_splits = 5, X=df)\n",
    "for train_index, test_index in tscv.split(X=df):\n",
    "    cv_train, cv_test = df.iloc[train_index], df.iloc[test_index]\n",
    "    print(cv_train.shape,cv_test.shape)\n",
    "plot_cv_indices(tscv, X=tscv.X)"
   ]
  },
  {
   "cell_type": "markdown",
   "metadata": {},
   "source": [
    "### Training with both a Cross-Validation and a Holdout Set"
   ]
  },
  {
   "cell_type": "code",
   "execution_count": 16,
   "metadata": {},
   "outputs": [
    {
     "name": "stdout",
     "output_type": "stream",
     "text": [
      "Final, out of sample score (RMSE): 0.1659587323665619\n"
     ]
    }
   ],
   "source": [
    "from script.RNN.kfoldprocess import blockkfoldcv\n",
    "from script.RNN.myModel import mymodel\n",
    "mylstm = mymodel()\n",
    "score = blockkfoldcv(df = df, K=3,model=mylstm[0], withholdout=True,holdoutpct=0.1)\n",
    "IPython.display.clear_output()\n",
    "\n",
    "print(f\"Final, out of sample score (RMSE): {score}\")  "
   ]
  },
  {
   "cell_type": "markdown",
   "metadata": {},
   "source": [
    "## L1 and L2 Regularization to Decrease Overfitting\n",
    "- `kernel_regularizer`: Regularizer to apply a penalty on the layer's kernel\n",
    "- `bias_regularizer`: Regularizer to apply a penalty on the layer's bias\n",
    "- `activity_regularizer`: Regularizer to apply a penalty on the layer's output"
   ]
  },
  {
   "cell_type": "code",
   "execution_count": 17,
   "metadata": {},
   "outputs": [],
   "source": [
    "from tensorflow.keras import regularizers\n",
    "# model design with l2 regulizers\n",
    "lstm_model = tf.keras.models.Sequential([\n",
    "    tf.keras.layers.LSTM(units = 20, return_sequences=True,activity_regularizer=regularizers.l2(1e-5),\n",
    "                        activation='tanh', recurrent_activation='sigmoid'),#Recurrent layers\n",
    "    tf.keras.layers.Dense(units=1)#densely-connected NN layer: output with dim-1\n",
    "])\n"
   ]
  },
  {
   "cell_type": "markdown",
   "metadata": {},
   "source": [
    "## Drop Out for Keras to Decrease Overfitting\n",
    "\n",
    "Dropout works by causing hidden neurons of the neural network to be unavailable during part of the training.  Dropping part of the neural network causes the remaining portion to be trained to still achieve a good score even without the dropped neurons.  This decreases coadaption between neurons, which results in less overfitting. "
   ]
  },
  {
   "cell_type": "code",
   "execution_count": 18,
   "metadata": {},
   "outputs": [],
   "source": [
    "from tensorflow.keras.layers import Dropout"
   ]
  },
  {
   "cell_type": "markdown",
   "metadata": {},
   "source": [
    "## Bootstrapping(other than cross-validation)\n",
    "\n",
    "Use Bootstrapping for hyperparameter benchmarking.  \n",
    "\n",
    "* Number of layers in the neural network\n",
    "* How many neurons in each layer\n",
    "* What activation functions to use on each layer\n",
    "* Dropout percent on each layer\n",
    "* L1 and L2 values on each layer\n",
    "\n",
    "\n",
    "To try out each of these **hyperparameters** you will need to run train neural networks with multiple settings for each hyperparameter.  However, you may have noticed that neural networks often produce somewhat different results when trained multiple times.  This is because the neural networks start with random weights.  Because of this it is necessary to fit and evaluate a neural network times to ensure that one set of hyperparameters are actually better than another.  **Bootstrapping** can be an effective means of benchmarking (comparing) two sets of hyperparameters. "
   ]
  },
  {
   "cell_type": "code",
   "execution_count": 19,
   "metadata": {},
   "outputs": [],
   "source": [
    "from sklearn.model_selection import ShuffleSplit\n",
    "from sklearn.model_selection import StratifiedShuffleSplit"
   ]
  },
  {
   "cell_type": "markdown",
   "metadata": {},
   "source": [
    "For time series we need block bootstrapping"
   ]
  },
  {
   "cell_type": "markdown",
   "metadata": {},
   "source": [
    "## Bayesian Hyperparameter Optimization for Keras  \n",
    "\n",
    "Bayesian Hyperparameter Optimization is a method of finding hyperparameters in a more efficient way than a grid search.  Because each candidate set of hyperparameters requires a retraining of the neural network, it is best to keep the number of candidate sets to a minimum. Bayesian Hyperparameter Optimization achieves this by training a model to predict good candidate sets of hyperparameters."
   ]
  },
  {
   "cell_type": "code",
   "execution_count": 20,
   "metadata": {},
   "outputs": [],
   "source": [
    "from bayes_opt import BayesianOptimization"
   ]
  },
  {
   "cell_type": "markdown",
   "metadata": {},
   "source": [
    "# Update LSTM with new data\n",
    "- Reference: [https://machinelearningmastery.com/update-neural-network-models-with-more-data/](https://machinelearningmastery.com/update-neural-network-models-with-more-data/)\n",
    "- The problem of [*concept drift*](https://machinelearningmastery.com/gentle-introduction-concept-drift-machine-learning/)"
   ]
  },
  {
   "cell_type": "code",
   "execution_count": 2,
   "metadata": {},
   "outputs": [],
   "source": [
    "# reload\n",
    "save_path = \"./trainedNN\"\n",
    "lstm_base= tf.keras.models.load_model(os.path.join(save_path,\"lstm-base.h5\"))\n",
    "IPython.display.clear_output()"
   ]
  },
  {
   "cell_type": "code",
   "execution_count": 7,
   "metadata": {},
   "outputs": [],
   "source": [
    "from script.RNN.data_split import mysplit\n",
    "from script.RNN.myModel import myfittedmodel\n",
    "#train, validation sets\n",
    "train_df, val_df, test_df = mysplit(df= df, train_size=0.7,val_size=0.2)\n",
    "train_df, val_df, test_df = mysplit(df= test_df, train_size=0.7,val_size=0.2)\n",
    "\n",
    "train_mean = train_df.mean()\n",
    "train_std = train_df.std()\n",
    "train_df = (train_df - train_mean) / train_std\n",
    "val_df = (val_df - train_mean) / train_std\n",
    "test_df = (test_df - train_mean) / train_std"
   ]
  },
  {
   "cell_type": "code",
   "execution_count": 8,
   "metadata": {},
   "outputs": [],
   "source": [
    "window_updated,lstm_updated = myfittedmodel(model = lstm_base, input_width=30, label_width=30, shift=1,\n",
    "                                                train_df=train_df, val_df=val_df, test_df=test_df,\n",
    "                                                label_columns=['Close'], \n",
    "                                                type='update')\n",
    "IPython.display.clear_output()"
   ]
  },
  {
   "cell_type": "code",
   "execution_count": 9,
   "metadata": {},
   "outputs": [
    {
     "data": {
      "text/plain": [
       "[0.013663934543728828, 0.08083733171224594, 0.013663934543728828]"
      ]
     },
     "execution_count": 9,
     "metadata": {},
     "output_type": "execute_result"
    }
   ],
   "source": [
    "lstm_updated.evaluate(x = window_updated.test,verbose=0)"
   ]
  },
  {
   "cell_type": "code",
   "execution_count": 10,
   "metadata": {},
   "outputs": [
    {
     "name": "stderr",
     "output_type": "stream",
     "text": [
      "2021-11-20 02:34:01.515508: I tensorflow/core/grappler/optimizers/custom_graph_optimizer_registry.cc:112] Plugin optimizer for device_type GPU is enabled.\n",
      "2021-11-20 02:34:01.543087: I tensorflow/core/grappler/optimizers/custom_graph_optimizer_registry.cc:112] Plugin optimizer for device_type GPU is enabled.\n"
     ]
    },
    {
     "data": {
      "text/plain": [
       "[0.010519782081246376, 0.07164247334003448, 0.010519778355956078]"
      ]
     },
     "execution_count": 10,
     "metadata": {},
     "output_type": "execute_result"
    }
   ],
   "source": [
    "save_path = \"./trainedNN\"\n",
    "lstm_base= tf.keras.models.load_model(os.path.join(save_path,\"lstm-base.h5\"))\n",
    "lstm_base.evaluate(x = window_updated.test,verbose=0)"
   ]
  },
  {
   "cell_type": "markdown",
   "metadata": {},
   "source": [
    "## Multi-step prediction\n",
    "\n",
    "predict all the features across all output time steps.  \n",
    "\n",
    "For the multi-step model, the training data again consists of hourly samples. However, here, the models will learn to predict 15 steps into the future, given 4 steps of the past."
   ]
  },
  {
   "cell_type": "code",
   "execution_count": 1,
   "metadata": {},
   "outputs": [
    {
     "ename": "TypeError",
     "evalue": "__init__() missing 3 required positional arguments: 'train_df', 'val_df', and 'test_df'",
     "output_type": "error",
     "traceback": [
      "\u001b[0;31m---------------------------------------------------------------------------\u001b[0m",
      "\u001b[0;31mTypeError\u001b[0m                                 Traceback (most recent call last)",
      "\u001b[0;32m/var/folders/_0/sgv1wmb92l11hndgfl0tyvjr0000gn/T/ipykernel_83673/2562374499.py\u001b[0m in \u001b[0;36m<module>\u001b[0;34m\u001b[0m\n\u001b[1;32m      2\u001b[0m \u001b[0;34m\u001b[0m\u001b[0m\n\u001b[1;32m      3\u001b[0m \u001b[0mOUT_STEPS\u001b[0m \u001b[0;34m=\u001b[0m \u001b[0;36m4\u001b[0m\u001b[0;34m\u001b[0m\u001b[0;34m\u001b[0m\u001b[0m\n\u001b[0;32m----> 4\u001b[0;31m multi_window = WindowGenerator(input_width=15,\n\u001b[0m\u001b[1;32m      5\u001b[0m                                \u001b[0mlabel_width\u001b[0m\u001b[0;34m=\u001b[0m\u001b[0mOUT_STEPS\u001b[0m\u001b[0;34m,\u001b[0m\u001b[0;34m\u001b[0m\u001b[0;34m\u001b[0m\u001b[0m\n\u001b[1;32m      6\u001b[0m                                shift=OUT_STEPS)\n",
      "\u001b[0;31mTypeError\u001b[0m: __init__() missing 3 required positional arguments: 'train_df', 'val_df', and 'test_df'"
     ]
    }
   ],
   "source": [
    "from script.RNN.window import WindowGenerator\n",
    "\n",
    "OUT_STEPS = 4\n",
    "multi_window = WindowGenerator(input_width=15,\n",
    "                               label_width=OUT_STEPS, shift=OUT_STEPS, train_df, val_df, test_df)\n",
    "\n",
    "multi_window.plot()\n",
    "multi_window"
   ]
  },
  {
   "cell_type": "markdown",
   "metadata": {},
   "source": [
    "Baseline: repeat the last input time step for the required number of output time steps."
   ]
  },
  {
   "cell_type": "code",
   "execution_count": null,
   "metadata": {},
   "outputs": [],
   "source": [
    "class MultiStepLastBaseline(tf.keras.Model):\n",
    "  def call(self, inputs):\n",
    "    return tf.tile(inputs[:, -1:, :], [1, OUT_STEPS, 1])\n",
    "\n",
    "last_baseline = MultiStepLastBaseline()\n",
    "last_baseline.compile(loss=tf.losses.MeanSquaredError(),\n",
    "                      metrics=[tf.metrics.MeanAbsoluteError()])\n",
    "\n",
    "multi_val_performance = {}\n",
    "multi_performance = {}\n",
    "\n",
    "multi_val_performance['Last'] = last_baseline.evaluate(multi_window.val)\n",
    "multi_performance['Last'] = last_baseline.evaluate(multi_window.test, verbose=0)\n",
    "multi_window.plot(last_baseline)"
   ]
  }
 ],
 "metadata": {
  "interpreter": {
   "hash": "c6e4e9f98eb68ad3b7c296f83d20e6de614cb42e90992a65aa266555a3137d0d"
  },
  "kernelspec": {
   "display_name": "Python 3.9.7 64-bit ('base': conda)",
   "language": "python",
   "name": "python3"
  },
  "language_info": {
   "codemirror_mode": {
    "name": "ipython",
    "version": 3
   },
   "file_extension": ".py",
   "mimetype": "text/x-python",
   "name": "python",
   "nbconvert_exporter": "python",
   "pygments_lexer": "ipython3",
   "version": "3.9.7"
  },
  "orig_nbformat": 4
 },
 "nbformat": 4,
 "nbformat_minor": 2
}
