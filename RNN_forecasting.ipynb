{
 "cells": [
  {
   "cell_type": "markdown",
   "metadata": {},
   "source": [
    "# Recurrent Neural Network forecasting \n",
    "\n",
    "- Reference:`keras.layers.SimpleRNN`\n",
    "\n",
    "**Basic Architecture diagram**  \n",
    "\n",
    "<img src=\"./pic/RNN.png\" alt=\"RNN Architecture\" width=\"500\"/>\n",
    "\n",
    "- U,V,W are weight matrix.\n",
    "- Input: vector $X_t$ is input for network at time step t.  \n",
    "- Hidden state: vector $h(t)=\\tanh \\left(W h(t-1)+U_{x}(t)\\right)$\n",
    "- Output: $y_t$ is the output for the network at time step t. $y_t=\\operatorname{softmax}(V s(t))$\n",
    "\n",
    "Every neuron is assigned to a fixed step. The output of the hidden layer of one time step is part of the input of next time step.\n",
    "\n",
    "- The algorithm is to find the optimal weight matrix U,V,W that gives the best prediction or minimizes the loss function $J$. \n",
    "$$J(\\theta)=\\frac{1}{m} \\sum_{i=1}^{m} \\sum_{t=1}^{N_{i}} D(y_t, Y_t)$$\n",
    "- Forward/Backward propagation\n",
    "\n",
    "## Vanishing gradiant problems \n",
    "\n",
    "- LSTM `keras.layers.LSTM`, first proposed in\n",
    "[Hochreiter & Schmidhuber, 1997](https://www.bioinf.jku.at/publications/older/2604.pdf).\n",
    "- GRU `keras.layers.GRU`, first proposed in\n",
    "[Cho et al., 2014](https://arxiv.org/abs/1406.1078)."
   ]
  },
  {
   "cell_type": "markdown",
   "metadata": {},
   "source": [
    "## RNN-LSTM Crypto-forcasting \n",
    "- Thanks to [jeffheaton](https://github.com/jeffheaton/t81_558_deep_learning)"
   ]
  },
  {
   "cell_type": "code",
   "execution_count": 4,
   "metadata": {},
   "outputs": [
    {
     "name": "stdout",
     "output_type": "stream",
     "text": [
      "2.6.0\n",
      "Num GPUs Available:  1\n"
     ]
    }
   ],
   "source": [
    "import os\n",
    "import IPython\n",
    "import IPython.display\n",
    "import matplotlib as mpl\n",
    "import matplotlib.pyplot as plt\n",
    "import numpy as np\n",
    "import pandas as pd\n",
    "import seaborn as sns\n",
    "import tensorflow as tf\n",
    "from sklearn import metrics\n",
    "\n",
    "print(tf.__version__)\n",
    "\n",
    "mpl.rcParams['figure.figsize'] = (8, 6)\n",
    "mpl.rcParams['axes.grid'] = False\n",
    "\n",
    "import tensorflow as tf\n",
    "print(\"Num GPUs Available: \", len(tf.config.list_physical_devices('GPU')))\n",
    "\n",
    "##data and date\n",
    "csv_path = '/Users/dingxian/Documents/GitHub/Crypto_Forecasting_kaggle/codetest/btc.csv'\n",
    "df = pd.read_csv(csv_path)\n",
    "df = df[-70000:]\n",
    "date_time = pd.to_datetime(df.pop('timestamp'),unit='s')\n",
    "\n",
    "df = df[['Count','Open','High','Low','Close','Volume','VWAP']]"
   ]
  },
  {
   "cell_type": "markdown",
   "metadata": {},
   "source": [
    "## Split the data\n",
    "\n",
    "split for the training(70%), validation(20%), and test sets(10%). See section **overfitting**."
   ]
  },
  {
   "cell_type": "code",
   "execution_count": 5,
   "metadata": {},
   "outputs": [],
   "source": [
    "from sklearn.model_selection import train_test_split\n",
    "#train, validation sets\n",
    "train_df,val_df = train_test_split(df,train_size=0.70,test_size=0.20,shuffle=False)\n",
    "#holdout/test sets\n",
    "n = len(df) #rows\n",
    "test_df = df[int(n*0.9):]\n",
    "\n",
    "num_features = df.shape[1]"
   ]
  },
  {
   "cell_type": "markdown",
   "metadata": {},
   "source": [
    "## Normalize the data\n",
    "scale features before training a neural network"
   ]
  },
  {
   "cell_type": "code",
   "execution_count": 6,
   "metadata": {},
   "outputs": [],
   "source": [
    "train_mean = train_df.mean()\n",
    "train_std = train_df.std()\n",
    "\n",
    "train_df = (train_df - train_mean) / train_std #scipy.stats.zscore(train_df,ddof=1)\n",
    "val_df = (val_df - train_mean) / train_std\n",
    "test_df = (test_df - train_mean) / train_std\n"
   ]
  },
  {
   "cell_type": "markdown",
   "metadata": {},
   "source": [
    "## Data for LSTM: windowing and prediction conditions\n",
    "\n",
    "The models make a set of predictions based on a window of consecutive samples from the data.\n",
    "- The `width` (number of time steps) of the `input` and `label` windows.\n",
    "- The `shift=offset` between them.\n",
    "- Which `features` are used as `inputs`, `labels`, or both.\n",
    "\n",
    "Example: to make a single prediction 24 hours into the future, given 24 hours of history, you might define a window like this:\n",
    "<img src=\"./pic/raw_window_24h.png\" alt=\"window24_24\" width=\"500\"/>\n",
    "\n"
   ]
  },
  {
   "cell_type": "markdown",
   "metadata": {},
   "source": [
    "The data used for training the model is formated as `tf.data.Dataset` which is splited into inputs and labels. Similarly for valuation, test and example data."
   ]
  },
  {
   "cell_type": "markdown",
   "metadata": {},
   "source": [
    "## Long Short-Term Memory  \n",
    "<img src=\"./pic/LSTM-1.png\" alt=\"LSTM Architecture\" width=\"500\"/> \n",
    "\n",
    "- [https://keras.io](https://keras.io)\n",
    "- ` tf.keras.layers.LSTM`\n",
    "- `return_sequence=True`, it will return something with shape: `(batch_size, timespan, unit)`. \n",
    "- `return_sequence=False`, then it just return the last output in shape `(batch_size, unit)`.\n",
    "\n",
    "\n",
    "### Model Design\n",
    "- `LSTM(units = 20)`: LSTM layer with 20 internal units.\n",
    "- `Dense(units=2)`: Dense layer with 2 units.\n",
    "    dense models handled each time step independently.\n",
    "- Choose units by cross validation.\n",
    "\n",
    "Graph below demonstrates what layer and unit (or neuron) are, and the rightmost image shows the internal structure of a single LSTM unit.\n",
    "<img src=\"./pic/lstm-units.png\" alt=\"lstmunits\" width=\"500\"/>"
   ]
  },
  {
   "cell_type": "code",
   "execution_count": 7,
   "metadata": {},
   "outputs": [],
   "source": [
    "from script.RNN.myModel import modelcandidate\n",
    "wide_window,lstm_model = modelcandidate(input_width=30, label_width=30, shift=1,\n",
    "                                                train_df=train_df, val_df=val_df, test_df=test_df,\n",
    "                                                label_columns=['Close'])\n",
    "IPython.display.clear_output()"
   ]
  },
  {
   "cell_type": "markdown",
   "metadata": {},
   "source": []
  },
  {
   "cell_type": "code",
   "execution_count": 8,
   "metadata": {},
   "outputs": [
    {
     "name": "stdout",
     "output_type": "stream",
     "text": [
      "Input shape: (32, 30, 7)\n",
      "Output shape: (32, 30, 1)\n",
      "Label shape: (32, 30, 1)\n"
     ]
    }
   ],
   "source": [
    "print('Input shape:', wide_window.example[0].shape)#[batch_size, timesteps, feature]\n",
    "print('Output shape:', lstm_model(inputs= wide_window.example[0]).shape)\n",
    "print('Label shape:', wide_window.example[1].shape)"
   ]
  },
  {
   "cell_type": "markdown",
   "metadata": {},
   "source": [
    "### Visualization the architecture\n",
    "- `lstm_model.summary()`\n",
    "- Graphs dashboard"
   ]
  },
  {
   "cell_type": "markdown",
   "metadata": {},
   "source": [
    "```python\n",
    "#Op-level graph\n",
    "%tensorboard --logdir logs\n",
    "```"
   ]
  },
  {
   "cell_type": "code",
   "execution_count": 9,
   "metadata": {},
   "outputs": [
    {
     "name": "stdout",
     "output_type": "stream",
     "text": [
      "Model: \"sequential_3\"\n",
      "_________________________________________________________________\n",
      "Layer (type)                 Output Shape              Param #   \n",
      "=================================================================\n",
      "lstm_3 (LSTM)                (None, 30, 20)            2240      \n",
      "_________________________________________________________________\n",
      "dense_3 (Dense)              (None, 30, 1)             21        \n",
      "=================================================================\n",
      "Total params: 2,261\n",
      "Trainable params: 2,261\n",
      "Non-trainable params: 0\n",
      "_________________________________________________________________\n"
     ]
    }
   ],
   "source": [
    "lstm_model.summary()"
   ]
  },
  {
   "cell_type": "markdown",
   "metadata": {},
   "source": [
    "### Performance metric"
   ]
  },
  {
   "cell_type": "code",
   "execution_count": 11,
   "metadata": {},
   "outputs": [
    {
     "data": {
      "text/plain": [
       "['loss', 'mean_absolute_error', 'mse']"
      ]
     },
     "execution_count": 11,
     "metadata": {},
     "output_type": "execute_result"
    }
   ],
   "source": [
    "val_performance={}\n",
    "performance={}\n",
    "val_performance['LSTM0'] = lstm_model.evaluate(x = wide_window.val,verbose=0)\n",
    "performance['LSTM0'] = lstm_model.evaluate(wide_window.test, verbose=0,return_dict=False)\n",
    "lstm_model.metrics_names"
   ]
  },
  {
   "cell_type": "code",
   "execution_count": 12,
   "metadata": {},
   "outputs": [
    {
     "data": {
      "text/plain": [
       "[0.013909155502915382, 0.1099785566329956, 0.013909154571592808]"
      ]
     },
     "execution_count": 12,
     "metadata": {},
     "output_type": "execute_result"
    }
   ],
   "source": [
    "performance['LSTM0']#test evaluation"
   ]
  },
  {
   "cell_type": "code",
   "execution_count": 13,
   "metadata": {},
   "outputs": [
    {
     "data": {
      "text/plain": [
       "[0.006963009480386972, 0.0573078952729702, 0.0069630080834031105]"
      ]
     },
     "execution_count": 13,
     "metadata": {},
     "output_type": "execute_result"
    }
   ],
   "source": [
    "val_performance['LSTM0']#val/train evaluation"
   ]
  },
  {
   "cell_type": "markdown",
   "metadata": {},
   "source": [
    "Use prediction to calculate the metrics as above:  \n",
    "\n",
    "```python\n",
    "import itertools\n",
    "\n",
    "pred = []\n",
    "label = []\n",
    "for input_batch,label_batch in wide_window.test:\n",
    "    pred_batch = lstm_model(input_batch)\n",
    "    pred.append(list(pred_batch.numpy().flatten()))\n",
    "    label.append(list(label_batch.numpy().flatten()))\n",
    "\n",
    "\n",
    "#flatten list of lists\n",
    "pred = list(itertools.chain(*pred))\n",
    "label = list(itertools.chain(*label))\n",
    "#sklearn version\n",
    "print(metrics.mean_absolute_error(label, pred), metrics.mean_squared_error(label, pred))\n",
    "\n",
    "#tf.keras.loss version\n",
    "mse = tf.keras.losses.MeanSquaredError()\n",
    "mae = tf.keras.losses.MeanAbsoluteError()\n",
    "print(mae(label, pred).numpy(), mse(label, pred).numpy()) \n",
    "\n"
   ]
  },
  {
   "cell_type": "code",
   "execution_count": 14,
   "metadata": {},
   "outputs": [
    {
     "data": {
      "image/png": "[encoded data removed]",
      "text/plain": [
       "<Figure size 576x432 with 1 Axes>"
      ]
     },
     "metadata": {
      "needs_background": "light"
     },
     "output_type": "display_data"
    }
   ],
   "source": [
    "x = np.arange(len(performance))\n",
    "width = 0.3\n",
    "metric_name = 'mean_absolute_error'\n",
    "mae_index = lstm_model.metrics_names.index('mean_absolute_error')\n",
    "val_mae = [v[mae_index] for v in val_performance.values()]\n",
    "test_mae = [v[mae_index] for v in performance.values()]\n",
    "\n",
    "plt.ylabel('mean_absolute_error [Close, normalized]')\n",
    "plt.bar(x - 0.17, val_mae, width, label='Validation')\n",
    "plt.bar(x + 0.17, test_mae, width, label='Test')\n",
    "plt.xticks(ticks=x, labels=performance.keys(),\n",
    "           rotation=45)\n",
    "_ = plt.legend()"
   ]
  },
  {
   "cell_type": "markdown",
   "metadata": {},
   "source": [
    "## Save the trained LSTM\n",
    "\n",
    "```\n",
    "# save neural network structure to JSON (no weights)\n",
    "model_json = lstm_model.to_json()\n",
    "with open(os.path.join(save_path,\"network.json\"), \"w\") as json_file:\n",
    "    json_file.write(model_json)\n",
    "\n",
    "# save neural network structure to YAML (no weights)\n",
    "model_yaml = lstm_model.to_yaml()\n",
    "with open(os.path.join(save_path,\"network.yaml\"), \"w\") as yaml_file:\n",
    "    yaml_file.write(model_yaml)\n",
    "\n",
    "```"
   ]
  },
  {
   "cell_type": "code",
   "execution_count": 15,
   "metadata": {},
   "outputs": [],
   "source": [
    "# save entire network to HDF5 (save everything, suggested)\n",
    "save_path = \"./trainedNN\"\n",
    "lstm_model.save(os.path.join(save_path,\"lstm-notebook.h5\"))"
   ]
  },
  {
   "cell_type": "code",
   "execution_count": 17,
   "metadata": {},
   "outputs": [],
   "source": [
    "# reload\n",
    "save_path = \"./trainedNN\"\n",
    "lstm_model_reload = tf.keras.models.load_model(os.path.join(save_path,\"lstm-notebook.h5\"))"
   ]
  },
  {
   "cell_type": "markdown",
   "metadata": {},
   "source": [
    "# Tuning hyperparameters\n",
    "\n",
    "Some of the hyperparameters seen so far include:\n",
    "\n",
    "* Number of layers in the neural network\n",
    "* How many neurons in each layer\n",
    "* What activation functions to use on each layer\n",
    "* Dropout percent on each layer\n",
    "* L1 and L2 values on each layer"
   ]
  },
  {
   "cell_type": "markdown",
   "metadata": {},
   "source": [
    "## Overfitting and Early Stopping \n",
    "\n",
    "It is important to segment the original dataset into several datasets(already done in the previous section):\n",
    "\n",
    "* **Training Set** : `wide_window.train`\n",
    "* **Validation Set** : `wide_window.val`\n",
    "* **Holdout Set**: `wide_window.test`\n",
    "\n",
    "The training data(`wide_window.train`) are used to train the neural network until the validation set no longer improves.  This attempts to stop at a near optimal training point.  This method will only give accurate \"**out of sample**\" predictions for the validation set(`wide_window.val`), this is usually 20% or so of the data.  The predictions for the training data will be overly optimistic, as these were the data that the neural network was trained on.\n",
    "\n",
    "I design this data split method in the class `WindowGenerator` as shown in section data windowing. The model fitting takes the early stopping through `tf.keras.callbacks.EarlyStopping`."
   ]
  },
  {
   "cell_type": "markdown",
   "metadata": {},
   "source": [
    "I design the earlystopping based on validation set as:\n",
    "\n",
    "```python\n",
    "early_stopping = tf.keras.callbacks.EarlyStopping(monitor='val_loss',\n",
    "                                                    patience=2,\n",
    "                                                    mode='min',restore_best_weights=False)\n",
    "```\n",
    "\n",
    "- details: [https://www.tensorflow.org/api_docs/python/tf/keras/callbacks/EarlyStopping](https://www.tensorflow.org/api_docs/python/tf/keras/callbacks/EarlyStopping)"
   ]
  },
  {
   "cell_type": "markdown",
   "metadata": {},
   "source": [
    "## K-fold CrossValidation for hyperparameters\n",
    "- reference:[https://en.wikipedia.org/wiki/Hyperparameter_(machine_learning)](https://en.wikipedia.org/wiki/Hyperparameter_(machine_learning))  \n",
    "\n",
    "- K-fold for sectional data: `sklearn.model_selection.KFold`\n",
    "- K-fold for time series needs rolling basis: `sklearn.model_selection.TimeSeriesSplit`\n",
    "- K-fold for time series needs blocking rolling basis:[https://goldinlocks.github.io/Time-Series-Cross-Validation/](https://goldinlocks.github.io/Time-Series-Cross-Validation/)\n",
    "\n",
    "<img src=\"./pic/class_1_kfold.png\" alt=\"RNN Architecture\" width=\"500\"/>"
   ]
  },
  {
   "cell_type": "code",
   "execution_count": 18,
   "metadata": {},
   "outputs": [
    {
     "name": "stdout",
     "output_type": "stream",
     "text": [
      "(11670, 7) (11666, 7)\n",
      "(23336, 7) (11666, 7)\n",
      "(35002, 7) (11666, 7)\n",
      "(46668, 7) (11666, 7)\n",
      "(58334, 7) (11666, 7)\n"
     ]
    },
    {
     "data": {
      "image/png": "[encoded data removed]",
      "text/plain": [
       "<Figure size 720x360 with 1 Axes>"
      ]
     },
     "metadata": {
      "needs_background": "light"
     },
     "output_type": "display_data"
    }
   ],
   "source": [
    "from sklearn.model_selection import TimeSeriesSplit\n",
    "from script.RNN.kfoldwindow import plot_cv_indices\n",
    "tscv = TimeSeriesSplit(n_splits = 5)\n",
    "for train_index, test_index in tscv.split(X=df):\n",
    "    cv_train, cv_test = df.iloc[train_index], df.iloc[test_index]\n",
    "    print(cv_train.shape,cv_test.shape)\n",
    "\n",
    "plot_cv_indices(tscv,X=df)"
   ]
  },
  {
   "cell_type": "code",
   "execution_count": 19,
   "metadata": {},
   "outputs": [
    {
     "name": "stdout",
     "output_type": "stream",
     "text": [
      "(7000, 7) (7000, 7)\n",
      "(7000, 7) (7000, 7)\n",
      "(7000, 7) (7000, 7)\n",
      "(7000, 7) (7000, 7)\n",
      "(7000, 7) (7000, 7)\n"
     ]
    },
    {
     "data": {
      "image/png": "[encoded data removed]",
      "text/plain": [
       "<Figure size 720x360 with 1 Axes>"
      ]
     },
     "metadata": {
      "needs_background": "light"
     },
     "output_type": "display_data"
    }
   ],
   "source": [
    "from script.RNN.kfoldwindow import BlockingTimeSeriesSplit, plot_cv_indices\n",
    "tscv = BlockingTimeSeriesSplit(n_splits = 5, X=df)\n",
    "for train_index, test_index in tscv.split(X=df):\n",
    "    cv_train, cv_test = df.iloc[train_index], df.iloc[test_index]\n",
    "    print(cv_train.shape,cv_test.shape)\n",
    "plot_cv_indices(tscv, X=tscv.X)"
   ]
  },
  {
   "cell_type": "markdown",
   "metadata": {},
   "source": [
    "### Training with both a Cross-Validation and a Holdout Set"
   ]
  },
  {
   "cell_type": "markdown",
   "metadata": {},
   "source": [
    "```PYTHON\n",
    "from script.RNN.kfoldwindow import BlockingTimeSeriesSplit, plot_cv_indices\n",
    "import tensorflow as tf\n",
    "from script.RNN.window import WindowGenerator\n",
    "from script.RNN.compilefit import compile_and_fit\n",
    "from script.RNN.kfoldprocess import blockkfoldcv\n",
    "import itertools\n",
    "\n",
    "#holdout/test sets\n",
    "n = len(df)\n",
    "test_df = df[int(n*0.9):]\n",
    "\n",
    "tscv = BlockingTimeSeriesSplit(n_splits = 5,X=df[:int(n*0.9)])\n",
    "fold = 0\n",
    "oos_y = []\n",
    "oos_pred = []\n",
    "fold_score=[]\n",
    "#k-fold loop\n",
    "for train_index, val_index in tscv.split():\n",
    "    fold+=1\n",
    "    print(f\"Fold #{fold}\")\n",
    "    #train, validation sets\n",
    "    cv_train, cv_val = df.iloc[train_index], df.iloc[val_index]\n",
    "    num_features = df.shape[1]\n",
    "    #normalization\n",
    "    train_mean = cv_train.mean()\n",
    "    train_std = cv_train.std()\n",
    "    cv_train = (cv_train - train_mean) / train_std #scipy.stats.zscore(train_df,ddof=1)\n",
    "    cv_val = (cv_val - train_mean) / train_std\n",
    "    test_df = (test_df - train_mean) / train_std\n",
    "    # windowing\n",
    "    wide_window = WindowGenerator(\n",
    "        input_width=30, label_width=30, shift=1,train_df=cv_train, val_df=cv_val, test_df=test_df,\n",
    "        label_columns=['Close'])\n",
    "    # model design\n",
    "    lstm_model = tf.keras.models.Sequential([\n",
    "        tf.keras.layers.LSTM(units = 20, return_sequences=True,\n",
    "                            activation='tanh', recurrent_activation='sigmoid'),#Recurrent layers\n",
    "        tf.keras.layers.Dense(units=1)#densely-connected NN layer: output with dim-1\n",
    "    ])\n",
    "    # fit the model\n",
    "    history = compile_and_fit(model = lstm_model, window = wide_window, \n",
    "                            MAX_EPOCHS = 2)\n",
    "    #Measure RMSE error for this fold\n",
    "    score = lstm_model.evaluate(wide_window.val, verbose=0,return_dict=True)\n",
    "    fold_score.append(score)\n",
    "    print(f\"Fold score (MSE): {score['mse']}\")\n",
    "\n",
    "    # prediction on validation set\n",
    "    pred = []\n",
    "    label = []\n",
    "    for input_batch,label_batch in wide_window.val:\n",
    "        pred_batch = lstm_model(input_batch)\n",
    "        pred.append(list(pred_batch.numpy().flatten()))\n",
    "        label.append(list(label_batch.numpy().flatten()))\n",
    "    #flatten list of lists\n",
    "    pred = np.array(list(itertools.chain(*pred)))\n",
    "    label = np.array(list(itertools.chain(*label)))\n",
    "    oos_y.append(label)\n",
    "    oos_pred.append(pred) \n",
    "    \n",
    "\n",
    "IPython.display.clear_output()\n",
    "fold_score\n",
    "# Build the oos prediction list and calculate the error.\n",
    "oos_y = np.concatenate(oos_y)\n",
    "oos_pred = np.concatenate(oos_pred)\n",
    "score = np.sqrt(metrics.mean_squared_error(oos_pred,oos_y))\n",
    "print(f\"Final, out of sample score (RMSE): {score}\")  \n",
    "```"
   ]
  },
  {
   "cell_type": "code",
   "execution_count": 20,
   "metadata": {},
   "outputs": [
    {
     "name": "stdout",
     "output_type": "stream",
     "text": [
      "Final, out of sample score (RMSE): 0.2533496916294098\n"
     ]
    }
   ],
   "source": [
    "from script.RNN.kfoldprocess import blockkfoldcv\n",
    "score = blockkfoldcv(df = df, K=3,withholdout=True,holdoutpct=0.1)\n",
    "IPython.display.clear_output()\n",
    "\n",
    "print(f\"Final, out of sample score (RMSE): {score}\")  "
   ]
  },
  {
   "cell_type": "code",
   "execution_count": null,
   "metadata": {},
   "outputs": [],
   "source": [
    "# Write the cross-validated prediction (from the last neural network in the k-fold above)\n",
    "# prediction on test/holdout set\n",
    "pred = []\n",
    "label = []\n",
    "for input_batch,label_batch in wide_window.test:\n",
    "    pred_batch = lstm_model(input_batch)\n",
    "    pred.append(list(pred_batch.numpy().flatten()))\n",
    "    label.append(list(label_batch.numpy().flatten()))\n",
    "#flatten list of lists\n",
    "pred = np.array(list(itertools.chain(*pred)))\n",
    "label = np.array(list(itertools.chain(*label)))\n",
    "\n",
    "\n",
    "score = np.sqrt(metrics.mean_squared_error(pred,label))\n",
    "print(f\"Holdout score (RMSE): {score}\")  "
   ]
  },
  {
   "cell_type": "markdown",
   "metadata": {},
   "source": [
    "## L1 and L2 Regularization to Decrease Overfitting\n",
    "- `kernel_regularizer`: Regularizer to apply a penalty on the layer's kernel\n",
    "- `bias_regularizer`: Regularizer to apply a penalty on the layer's bias\n",
    "- `activity_regularizer`: Regularizer to apply a penalty on the layer's output"
   ]
  },
  {
   "cell_type": "code",
   "execution_count": null,
   "metadata": {},
   "outputs": [],
   "source": [
    "from tensorflow.keras import regularizers\n",
    "# model design with l2 regulizers\n",
    "lstm_model = tf.keras.models.Sequential([\n",
    "    tf.keras.layers.LSTM(units = 20, return_sequences=True,activity_regularizer=regularizers.l2(1e-5),\n",
    "                        activation='tanh', recurrent_activation='sigmoid'),#Recurrent layers\n",
    "    tf.keras.layers.Dense(units=1)#densely-connected NN layer: output with dim-1\n",
    "])\n"
   ]
  },
  {
   "cell_type": "markdown",
   "metadata": {},
   "source": [
    "## Drop Out for Keras to Decrease Overfitting\n",
    "\n",
    "Dropout works by causing hidden neurons of the neural network to be unavailable during part of the training.  Dropping part of the neural network causes the remaining portion to be trained to still achieve a good score even without the dropped neurons.  This decreases coadaption between neurons, which results in less overfitting. "
   ]
  },
  {
   "cell_type": "code",
   "execution_count": null,
   "metadata": {},
   "outputs": [],
   "source": [
    "from tensorflow.keras.layers import Dropout"
   ]
  },
  {
   "cell_type": "markdown",
   "metadata": {},
   "source": [
    "## Bootstrapping(other than cross-validation)\n",
    "\n",
    "Use Bootstrapping for hyperparameter benchmarking.  \n",
    "\n",
    "* Number of layers in the neural network\n",
    "* How many neurons in each layer\n",
    "* What activation functions to use on each layer\n",
    "* Dropout percent on each layer\n",
    "* L1 and L2 values on each layer\n",
    "\n",
    "\n",
    "To try out each of these **hyperparameters** you will need to run train neural networks with multiple settings for each hyperparameter.  However, you may have noticed that neural networks often produce somewhat different results when trained multiple times.  This is because the neural networks start with random weights.  Because of this it is necessary to fit and evaluate a neural network times to ensure that one set of hyperparameters are actually better than another.  **Bootstrapping** can be an effective means of benchmarking (comparing) two sets of hyperparameters. "
   ]
  },
  {
   "cell_type": "code",
   "execution_count": null,
   "metadata": {},
   "outputs": [],
   "source": [
    "from sklearn.model_selection import ShuffleSplit\n",
    "from sklearn.model_selection import StratifiedShuffleSplit"
   ]
  },
  {
   "cell_type": "markdown",
   "metadata": {},
   "source": [
    "For time series we need block bootstrapping"
   ]
  },
  {
   "cell_type": "markdown",
   "metadata": {},
   "source": [
    "## Bayesian Hyperparameter Optimization for Keras  \n",
    "\n",
    "Bayesian Hyperparameter Optimization is a method of finding hyperparameters in a more efficient way than a grid search.  Because each candidate set of hyperparameters requires a retraining of the neural network, it is best to keep the number of candidate sets to a minimum. Bayesian Hyperparameter Optimization achieves this by training a model to predict good candidate sets of hyperparameters."
   ]
  },
  {
   "cell_type": "code",
   "execution_count": null,
   "metadata": {},
   "outputs": [],
   "source": [
    "from bayes_opt import BayesianOptimization"
   ]
  },
  {
   "cell_type": "markdown",
   "metadata": {},
   "source": [
    "# Building Ensembles: methods for quantifying variable importance"
   ]
  },
  {
   "cell_type": "code",
   "execution_count": null,
   "metadata": {},
   "outputs": [],
   "source": []
  }
 ],
 "metadata": {
  "interpreter": {
   "hash": "c6e4e9f98eb68ad3b7c296f83d20e6de614cb42e90992a65aa266555a3137d0d"
  },
  "kernelspec": {
   "display_name": "Python 3.9.7 64-bit ('base': conda)",
   "language": "python",
   "name": "python3"
  },
  "language_info": {
   "codemirror_mode": {
    "name": "ipython",
    "version": 3
   },
   "file_extension": ".py",
   "mimetype": "text/x-python",
   "name": "python",
   "nbconvert_exporter": "python",
   "pygments_lexer": "ipython3",
   "version": "3.9.7"
  },
  "orig_nbformat": 4
 },
 "nbformat": 4,
 "nbformat_minor": 2
}
