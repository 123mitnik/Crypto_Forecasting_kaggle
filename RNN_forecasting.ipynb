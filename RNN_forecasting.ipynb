{
 "cells": [
  {
   "cell_type": "markdown",
   "metadata": {},
   "source": [
    "# Recurrent Neural Network forecasting\n",
    "\n",
    "- Reference:`keras.layers.SimpleRNN`\n",
    "\n",
    "**Basic Architecture diagram**  \n",
    "\n",
    "<img src=\"./pic/RNN.png\" alt=\"RNN Architecture\" width=\"500\"/>\n",
    "\n",
    "- U,V,W are weight matrix.\n",
    "- Input: vector $X_t$ is input for network at time step t.  \n",
    "- Hidden state: vector $h(t)=\\tanh \\left(W h(t-1)+U_{x}(t)\\right)$\n",
    "- Output: $y_t$ is the output for the network at time step t. $y_t=\\operatorname{softmax}(V s(t))$\n",
    "\n",
    "Every neuron is assigned to a fixed step. The output of the hidden layer of one time step is part of the input of next time step.\n",
    "\n",
    "- The algorithm is to find the optimal weight matrix U,V,W that gives the best prediction or minimizes the loss function $J$. \n",
    "$$J(\\theta)=\\frac{1}{m} \\sum_{i=1}^{m} \\sum_{t=1}^{N_{i}} D(y_t, Y_t)$$\n",
    "- Forward/Backward propagation\n",
    "\n",
    "## Vanishing gradiant problems\n",
    "\n",
    "- LSTM `keras.layers.LSTM`, first proposed in\n",
    "[Hochreiter & Schmidhuber, 1997](https://www.bioinf.jku.at/publications/older/2604.pdf).\n",
    "- GRU `keras.layers.GRU`, first proposed in\n",
    "[Cho et al., 2014](https://arxiv.org/abs/1406.1078)."
   ]
  },
  {
   "cell_type": "markdown",
   "metadata": {},
   "source": [
    "## RNN Crypto-forcasting"
   ]
  },
  {
   "cell_type": "code",
   "execution_count": 1,
   "metadata": {},
   "outputs": [
    {
     "name": "stdout",
     "output_type": "stream",
     "text": [
      "Num GPUs Available:  1\n"
     ]
    }
   ],
   "source": [
    "import os\n",
    "import datetime\n",
    "\n",
    "import IPython\n",
    "import IPython.display\n",
    "import matplotlib as mpl\n",
    "import matplotlib.pyplot as plt\n",
    "import numpy as np\n",
    "import pandas as pd\n",
    "import seaborn as sns\n",
    "import tensorflow as tf\n",
    "mpl.rcParams['figure.figsize'] = (8, 6)\n",
    "mpl.rcParams['axes.grid'] = False\n",
    "\n",
    "import tensorflow as tf\n",
    "print(\"Num GPUs Available: \", len(tf.config.list_physical_devices('GPU')))\n",
    "#tf.debugging.set_log_device_placement(True)"
   ]
  },
  {
   "cell_type": "code",
   "execution_count": 2,
   "metadata": {},
   "outputs": [
    {
     "data": {
      "text/html": [
       "<div>\n",
       "<style scoped>\n",
       "    .dataframe tbody tr th:only-of-type {\n",
       "        vertical-align: middle;\n",
       "    }\n",
       "\n",
       "    .dataframe tbody tr th {\n",
       "        vertical-align: top;\n",
       "    }\n",
       "\n",
       "    .dataframe thead th {\n",
       "        text-align: right;\n",
       "    }\n",
       "</style>\n",
       "<table border=\"1\" class=\"dataframe\">\n",
       "  <thead>\n",
       "    <tr style=\"text-align: right;\">\n",
       "      <th></th>\n",
       "      <th>Asset_ID</th>\n",
       "      <th>Count</th>\n",
       "      <th>Open</th>\n",
       "      <th>High</th>\n",
       "      <th>Low</th>\n",
       "      <th>Close</th>\n",
       "      <th>Volume</th>\n",
       "      <th>VWAP</th>\n",
       "      <th>Target</th>\n",
       "    </tr>\n",
       "  </thead>\n",
       "  <tbody>\n",
       "    <tr>\n",
       "      <th>1886282</th>\n",
       "      <td>1</td>\n",
       "      <td>1009.0</td>\n",
       "      <td>38463.446686</td>\n",
       "      <td>38484.00</td>\n",
       "      <td>38405.18</td>\n",
       "      <td>38428.484286</td>\n",
       "      <td>34.940985</td>\n",
       "      <td>38451.705205</td>\n",
       "      <td>0.000094</td>\n",
       "    </tr>\n",
       "    <tr>\n",
       "      <th>1886283</th>\n",
       "      <td>1</td>\n",
       "      <td>935.0</td>\n",
       "      <td>38423.084753</td>\n",
       "      <td>38467.72</td>\n",
       "      <td>38408.31</td>\n",
       "      <td>38453.424286</td>\n",
       "      <td>23.979506</td>\n",
       "      <td>38434.534545</td>\n",
       "      <td>-0.000699</td>\n",
       "    </tr>\n",
       "    <tr>\n",
       "      <th>1886284</th>\n",
       "      <td>1</td>\n",
       "      <td>946.0</td>\n",
       "      <td>38458.731429</td>\n",
       "      <td>38500.40</td>\n",
       "      <td>38447.64</td>\n",
       "      <td>38484.997143</td>\n",
       "      <td>38.255848</td>\n",
       "      <td>38479.665203</td>\n",
       "      <td>-0.000319</td>\n",
       "    </tr>\n",
       "    <tr>\n",
       "      <th>1886285</th>\n",
       "      <td>1</td>\n",
       "      <td>699.0</td>\n",
       "      <td>38482.981429</td>\n",
       "      <td>38497.00</td>\n",
       "      <td>38439.62</td>\n",
       "      <td>38463.950000</td>\n",
       "      <td>24.634812</td>\n",
       "      <td>38467.956129</td>\n",
       "      <td>0.000082</td>\n",
       "    </tr>\n",
       "    <tr>\n",
       "      <th>1886286</th>\n",
       "      <td>1</td>\n",
       "      <td>671.0</td>\n",
       "      <td>38457.484286</td>\n",
       "      <td>38503.00</td>\n",
       "      <td>38439.63</td>\n",
       "      <td>38491.732857</td>\n",
       "      <td>19.218220</td>\n",
       "      <td>38470.259211</td>\n",
       "      <td>-0.000140</td>\n",
       "    </tr>\n",
       "  </tbody>\n",
       "</table>\n",
       "</div>"
      ],
      "text/plain": [
       "         Asset_ID   Count          Open      High       Low         Close  \\\n",
       "1886282         1  1009.0  38463.446686  38484.00  38405.18  38428.484286   \n",
       "1886283         1   935.0  38423.084753  38467.72  38408.31  38453.424286   \n",
       "1886284         1   946.0  38458.731429  38500.40  38447.64  38484.997143   \n",
       "1886285         1   699.0  38482.981429  38497.00  38439.62  38463.950000   \n",
       "1886286         1   671.0  38457.484286  38503.00  38439.63  38491.732857   \n",
       "\n",
       "            Volume          VWAP    Target  \n",
       "1886282  34.940985  38451.705205  0.000094  \n",
       "1886283  23.979506  38434.534545 -0.000699  \n",
       "1886284  38.255848  38479.665203 -0.000319  \n",
       "1886285  24.634812  38467.956129  0.000082  \n",
       "1886286  19.218220  38470.259211 -0.000140  "
      ]
     },
     "execution_count": 2,
     "metadata": {},
     "output_type": "execute_result"
    }
   ],
   "source": [
    "##data and date\n",
    "csv_path = '/Users/dingxian/Documents/GitHub/Crypto_Forecasting_kaggle/codetest/btc.csv'\n",
    "df = pd.read_csv(csv_path)\n",
    "df = df[-70000:]\n",
    "date_time = pd.to_datetime(df.pop('timestamp'),unit='s')\n",
    "df.head()"
   ]
  },
  {
   "cell_type": "markdown",
   "metadata": {},
   "source": [
    "## Split the data\n",
    "\n",
    "split for the training, validation, and test sets. "
   ]
  },
  {
   "cell_type": "code",
   "execution_count": 3,
   "metadata": {},
   "outputs": [],
   "source": [
    "df = df[['Count','Open','High','Low','Close','Volume','VWAP']]\n",
    "column_indices = {name: i for i, name in enumerate(df.columns)}\n",
    "\n",
    "n = len(df) #rows\n",
    "train_df = df[0:int(n*0.7)]\n",
    "val_df = df[int(n*0.7):int(n*0.9)]\n",
    "test_df = df[int(n*0.9):]\n",
    "\n",
    "num_features = df.shape[1]"
   ]
  },
  {
   "cell_type": "markdown",
   "metadata": {},
   "source": [
    "## Normalize the data\n",
    "scale features before training a neural network"
   ]
  },
  {
   "cell_type": "code",
   "execution_count": 4,
   "metadata": {},
   "outputs": [],
   "source": [
    "train_mean = train_df.mean()\n",
    "train_std = train_df.std()\n",
    "\n",
    "train_df = (train_df - train_mean) / train_std\n",
    "val_df = (val_df - train_mean) / train_std\n",
    "test_df = (test_df - train_mean) / train_std"
   ]
  },
  {
   "cell_type": "markdown",
   "metadata": {},
   "source": [
    "## Data windowing\n",
    "\n",
    "The models make a set of predictions based on a window of consecutive samples from the data.\n",
    "- The `width` (number of time steps) of the `input` and `label` windows.\n",
    "- The `time offset` between them.\n",
    "- Which features are used as `inputs`, `labels`, or both."
   ]
  },
  {
   "cell_type": "code",
   "execution_count": 5,
   "metadata": {},
   "outputs": [],
   "source": [
    "from script.RNN.window import WindowGenerator"
   ]
  },
  {
   "cell_type": "code",
   "execution_count": 17,
   "metadata": {},
   "outputs": [
    {
     "data": {
      "text/plain": [
       "Total window size: 31\n",
       "Input indices: [ 0  1  2  3  4  5  6  7  8  9 10 11 12 13 14 15 16 17 18 19 20 21 22 23\n",
       " 24 25 26 27 28 29]\n",
       "Label indices: [ 1  2  3  4  5  6  7  8  9 10 11 12 13 14 15 16 17 18 19 20 21 22 23 24\n",
       " 25 26 27 28 29 30]\n",
       "Label column name(s): ['Close']"
      ]
     },
     "execution_count": 17,
     "metadata": {},
     "output_type": "execute_result"
    }
   ],
   "source": [
    "wide_window = WindowGenerator(\n",
    "    input_width=30, label_width=30, shift=1,train_df=train_df, val_df=val_df, test_df=test_df,\n",
    "    label_columns=['Close'])\n",
    "\n",
    "wide_window"
   ]
  },
  {
   "cell_type": "code",
   "execution_count": 18,
   "metadata": {},
   "outputs": [],
   "source": [
    "val_performance={}\n",
    "performance={}"
   ]
  },
  {
   "cell_type": "markdown",
   "metadata": {},
   "source": [
    "## Long Short-Term Memory\n",
    "- ` tf.keras.layers.LSTM`\n",
    "- `return_sequences=True/False`"
   ]
  },
  {
   "cell_type": "code",
   "execution_count": 19,
   "metadata": {},
   "outputs": [],
   "source": [
    "lstm_model = tf.keras.models.Sequential([\n",
    "    # Shape [batch, time, features] => [batch, time, lstm_units]\n",
    "    tf.keras.layers.LSTM(32, return_sequences=True),\n",
    "    # Shape => [batch, time, features]\n",
    "    tf.keras.layers.Dense(units=1)\n",
    "])"
   ]
  },
  {
   "cell_type": "markdown",
   "metadata": {},
   "source": [
    "when `return_sequences=True`, `input_width==label_width`"
   ]
  },
  {
   "cell_type": "code",
   "execution_count": 20,
   "metadata": {},
   "outputs": [
    {
     "name": "stdout",
     "output_type": "stream",
     "text": [
      "Input shape: (32, 30, 7)\n",
      "Output shape: (32, 30, 1)\n",
      "Label shape: (32, 30, 1)\n"
     ]
    }
   ],
   "source": [
    "print('Input shape:', wide_window.example[0].shape)\n",
    "print('Output shape:', lstm_model(wide_window.example[0]).shape)\n",
    "print('Label shape:', wide_window.example[1].shape)"
   ]
  },
  {
   "cell_type": "code",
   "execution_count": 21,
   "metadata": {},
   "outputs": [
    {
     "name": "stdout",
     "output_type": "stream",
     "text": [
      "437/437 [==============================] - 4s 10ms/step - loss: 8.8207e-04 - mean_absolute_error: 0.0139\n"
     ]
    }
   ],
   "source": [
    "from script.RNN.RNNcompile import compile_and_fit\n",
    "history = compile_and_fit(lstm_model, wide_window)\n",
    "\n",
    "IPython.display.clear_output()\n",
    "val_performance['LSTM'] = lstm_model.evaluate(wide_window.val)\n",
    "performance['LSTM'] = lstm_model.evaluate(wide_window.test, verbose=0)"
   ]
  },
  {
   "cell_type": "code",
   "execution_count": 22,
   "metadata": {},
   "outputs": [
    {
     "data": {
      "image/png": "[encoded data removed]",
      "text/plain": [
       "<Figure size 864x576 with 3 Axes>"
      ]
     },
     "metadata": {
      "needs_background": "light"
     },
     "output_type": "display_data"
    }
   ],
   "source": [
    "wide_window.plot(lstm_model)"
   ]
  }
 ],
 "metadata": {
  "interpreter": {
   "hash": "c6e4e9f98eb68ad3b7c296f83d20e6de614cb42e90992a65aa266555a3137d0d"
  },
  "kernelspec": {
   "display_name": "Python 3.9.7 64-bit ('base': conda)",
   "language": "python",
   "name": "python3"
  },
  "language_info": {
   "codemirror_mode": {
    "name": "ipython",
    "version": 3
   },
   "file_extension": ".py",
   "mimetype": "text/x-python",
   "name": "python",
   "nbconvert_exporter": "python",
   "pygments_lexer": "ipython3",
   "version": "3.9.7"
  },
  "orig_nbformat": 4
 },
 "nbformat": 4,
 "nbformat_minor": 2
}
