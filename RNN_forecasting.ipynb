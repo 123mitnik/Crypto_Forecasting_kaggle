{
 "cells": [
  {
   "cell_type": "markdown",
   "metadata": {},
   "source": [
    "# Recurrent Neural Network forecasting\n",
    "\n",
    "- Reference:`keras.layers.SimpleRNN`\n",
    "\n",
    "**Basic Architecture diagram**  \n",
    "\n",
    "<img src=\"./pic/RNN.png\" alt=\"RNN Architecture\" width=\"500\"/>\n",
    "\n",
    "- U,V,W are weight matrix.\n",
    "- Input: vector $X_t$ is input for network at time step t.  \n",
    "- Hidden state: vector $h(t)=\\tanh \\left(W h(t-1)+U_{x}(t)\\right)$\n",
    "- Output: $y_t$ is the output for the network at time step t. $y_t=\\operatorname{softmax}(V s(t))$\n",
    "\n",
    "Every neuron is assigned to a fixed step. The output of the hidden layer of one time step is part of the input of next time step.\n",
    "\n",
    "- The algorithm is to find the optimal weight matrix U,V,W that gives the best prediction or minimizes the loss function $J$. \n",
    "$$J(\\theta)=\\frac{1}{m} \\sum_{i=1}^{m} \\sum_{t=1}^{N_{i}} D(y_t, Y_t)$$\n",
    "- Forward/Backward propagation\n",
    "\n",
    "## Vanishing gradiant problems\n",
    "\n",
    "- LSTM `keras.layers.LSTM`, first proposed in\n",
    "[Hochreiter & Schmidhuber, 1997](https://www.bioinf.jku.at/publications/older/2604.pdf).\n",
    "- GRU `keras.layers.GRU`, first proposed in\n",
    "[Cho et al., 2014](https://arxiv.org/abs/1406.1078)."
   ]
  },
  {
   "cell_type": "markdown",
   "metadata": {},
   "source": [
    "## RNN Crypto-forcasting"
   ]
  },
  {
   "cell_type": "code",
   "execution_count": 1,
   "metadata": {},
   "outputs": [
    {
     "name": "stdout",
     "output_type": "stream",
     "text": [
      "2.6.0\n",
      "Num GPUs Available:  1\n"
     ]
    }
   ],
   "source": [
    "import os\n",
    "import IPython\n",
    "import IPython.display\n",
    "import matplotlib as mpl\n",
    "import matplotlib.pyplot as plt\n",
    "import numpy as np\n",
    "import pandas as pd\n",
    "import seaborn as sns\n",
    "import tensorflow as tf\n",
    "\n",
    "print(tf.__version__)\n",
    "\n",
    "mpl.rcParams['figure.figsize'] = (8, 6)\n",
    "mpl.rcParams['axes.grid'] = False\n",
    "\n",
    "import tensorflow as tf\n",
    "print(\"Num GPUs Available: \", len(tf.config.list_physical_devices('GPU')))\n",
    "#tf.debugging.set_log_device_placement(True)"
   ]
  },
  {
   "cell_type": "code",
   "execution_count": 93,
   "metadata": {},
   "outputs": [
    {
     "data": {
      "text/html": [
       "<div>\n",
       "<style scoped>\n",
       "    .dataframe tbody tr th:only-of-type {\n",
       "        vertical-align: middle;\n",
       "    }\n",
       "\n",
       "    .dataframe tbody tr th {\n",
       "        vertical-align: top;\n",
       "    }\n",
       "\n",
       "    .dataframe thead th {\n",
       "        text-align: right;\n",
       "    }\n",
       "</style>\n",
       "<table border=\"1\" class=\"dataframe\">\n",
       "  <thead>\n",
       "    <tr style=\"text-align: right;\">\n",
       "      <th></th>\n",
       "      <th>Asset_ID</th>\n",
       "      <th>Count</th>\n",
       "      <th>Open</th>\n",
       "      <th>High</th>\n",
       "      <th>Low</th>\n",
       "      <th>Close</th>\n",
       "      <th>Volume</th>\n",
       "      <th>VWAP</th>\n",
       "      <th>Target</th>\n",
       "    </tr>\n",
       "  </thead>\n",
       "  <tbody>\n",
       "    <tr>\n",
       "      <th>1886282</th>\n",
       "      <td>1</td>\n",
       "      <td>1009.0</td>\n",
       "      <td>38463.446686</td>\n",
       "      <td>38484.00</td>\n",
       "      <td>38405.18</td>\n",
       "      <td>38428.484286</td>\n",
       "      <td>34.940985</td>\n",
       "      <td>38451.705205</td>\n",
       "      <td>0.000094</td>\n",
       "    </tr>\n",
       "    <tr>\n",
       "      <th>1886283</th>\n",
       "      <td>1</td>\n",
       "      <td>935.0</td>\n",
       "      <td>38423.084753</td>\n",
       "      <td>38467.72</td>\n",
       "      <td>38408.31</td>\n",
       "      <td>38453.424286</td>\n",
       "      <td>23.979506</td>\n",
       "      <td>38434.534545</td>\n",
       "      <td>-0.000699</td>\n",
       "    </tr>\n",
       "    <tr>\n",
       "      <th>1886284</th>\n",
       "      <td>1</td>\n",
       "      <td>946.0</td>\n",
       "      <td>38458.731429</td>\n",
       "      <td>38500.40</td>\n",
       "      <td>38447.64</td>\n",
       "      <td>38484.997143</td>\n",
       "      <td>38.255848</td>\n",
       "      <td>38479.665203</td>\n",
       "      <td>-0.000319</td>\n",
       "    </tr>\n",
       "    <tr>\n",
       "      <th>1886285</th>\n",
       "      <td>1</td>\n",
       "      <td>699.0</td>\n",
       "      <td>38482.981429</td>\n",
       "      <td>38497.00</td>\n",
       "      <td>38439.62</td>\n",
       "      <td>38463.950000</td>\n",
       "      <td>24.634812</td>\n",
       "      <td>38467.956129</td>\n",
       "      <td>0.000082</td>\n",
       "    </tr>\n",
       "    <tr>\n",
       "      <th>1886286</th>\n",
       "      <td>1</td>\n",
       "      <td>671.0</td>\n",
       "      <td>38457.484286</td>\n",
       "      <td>38503.00</td>\n",
       "      <td>38439.63</td>\n",
       "      <td>38491.732857</td>\n",
       "      <td>19.218220</td>\n",
       "      <td>38470.259211</td>\n",
       "      <td>-0.000140</td>\n",
       "    </tr>\n",
       "  </tbody>\n",
       "</table>\n",
       "</div>"
      ],
      "text/plain": [
       "         Asset_ID   Count          Open      High       Low         Close  \\\n",
       "1886282         1  1009.0  38463.446686  38484.00  38405.18  38428.484286   \n",
       "1886283         1   935.0  38423.084753  38467.72  38408.31  38453.424286   \n",
       "1886284         1   946.0  38458.731429  38500.40  38447.64  38484.997143   \n",
       "1886285         1   699.0  38482.981429  38497.00  38439.62  38463.950000   \n",
       "1886286         1   671.0  38457.484286  38503.00  38439.63  38491.732857   \n",
       "\n",
       "            Volume          VWAP    Target  \n",
       "1886282  34.940985  38451.705205  0.000094  \n",
       "1886283  23.979506  38434.534545 -0.000699  \n",
       "1886284  38.255848  38479.665203 -0.000319  \n",
       "1886285  24.634812  38467.956129  0.000082  \n",
       "1886286  19.218220  38470.259211 -0.000140  "
      ]
     },
     "execution_count": 93,
     "metadata": {},
     "output_type": "execute_result"
    }
   ],
   "source": [
    "##data and date\n",
    "csv_path = '/Users/dingxian/Documents/GitHub/Crypto_Forecasting_kaggle/codetest/btc.csv'\n",
    "df = pd.read_csv(csv_path)\n",
    "df = df[-70000:]\n",
    "date_time = pd.to_datetime(df.pop('timestamp'),unit='s')\n",
    "df.head()"
   ]
  },
  {
   "cell_type": "markdown",
   "metadata": {},
   "source": [
    "## Split the data\n",
    "\n",
    "split for the training(70%), validation(20%), and test sets(10%). See section **overfitting**."
   ]
  },
  {
   "cell_type": "code",
   "execution_count": 100,
   "metadata": {},
   "outputs": [],
   "source": [
    "from sklearn.model_selection import train_test_split\n",
    "\n",
    "df = df[['Count','Open','High','Low','Close','Volume','VWAP']]\n",
    "#train, validation sets\n",
    "train_df,val_df = train_test_split(df,train_size=0.70,test_size=0.20,shuffle=False)\n",
    "#holdout/test sets\n",
    "n = len(df) #rows\n",
    "test_df = df[int(n*0.9):]\n",
    "\n",
    "num_features = df.shape[1]"
   ]
  },
  {
   "cell_type": "markdown",
   "metadata": {},
   "source": [
    "## Normalize the data\n",
    "scale features before training a neural network"
   ]
  },
  {
   "cell_type": "code",
   "execution_count": 4,
   "metadata": {},
   "outputs": [],
   "source": [
    "train_mean = train_df.mean()\n",
    "train_std = train_df.std()\n",
    "\n",
    "train_df = (train_df - train_mean) / train_std\n",
    "val_df = (val_df - train_mean) / train_std\n",
    "test_df = (test_df - train_mean) / train_std"
   ]
  },
  {
   "cell_type": "markdown",
   "metadata": {},
   "source": [
    "## Data for LSTM: windowing and prediction conditions\n",
    "\n",
    "The models make a set of predictions based on a window of consecutive samples from the data.\n",
    "- The `width` (number of time steps) of the `input` and `label` windows.\n",
    "- The `shift=offset` between them.\n",
    "- Which `features` are used as `inputs`, `labels`, or both.\n",
    "\n",
    "Example: to make a single prediction 24 hours into the future, given 24 hours of history, you might define a window like this:\n",
    "<img src=\"./pic/raw_window_24h.png\" alt=\"window24_24\" width=\"500\"/>\n",
    "\n"
   ]
  },
  {
   "cell_type": "code",
   "execution_count": 5,
   "metadata": {},
   "outputs": [
    {
     "data": {
      "text/plain": [
       "Input width=30,Label width=30,Offset width=1\n",
       "Total window size: 31\n",
       "Input indices: [ 0  1  2  3  4  5  6  7  8  9 10 11 12 13 14 15 16 17 18 19 20 21 22 23\n",
       " 24 25 26 27 28 29]\n",
       "Label indices: [ 1  2  3  4  5  6  7  8  9 10 11 12 13 14 15 16 17 18 19 20 21 22 23 24\n",
       " 25 26 27 28 29 30]\n",
       "Label column name(s): ['Close']"
      ]
     },
     "execution_count": 5,
     "metadata": {},
     "output_type": "execute_result"
    }
   ],
   "source": [
    "from script.RNN.window import WindowGenerator\n",
    "wide_window = WindowGenerator(\n",
    "    input_width=30, label_width=30, shift=1,train_df=train_df, val_df=val_df, test_df=test_df,\n",
    "    label_columns=['Close'])\n",
    "    \n",
    "wide_window"
   ]
  },
  {
   "cell_type": "markdown",
   "metadata": {},
   "source": [
    "The data used for training the model is formated as `tf.data.Dataset` which is splited into inputs and labels. Similarly for valuation, test and example data."
   ]
  },
  {
   "cell_type": "code",
   "execution_count": 6,
   "metadata": {},
   "outputs": [
    {
     "name": "stdout",
     "output_type": "stream",
     "text": [
      "Metal device set to: Apple M1 Pro\n",
      "\n",
      "systemMemory: 16.00 GB\n",
      "maxCacheSize: 5.33 GB\n",
      "\n"
     ]
    },
    {
     "name": "stderr",
     "output_type": "stream",
     "text": [
      "2021-11-15 21:51:30.180963: I tensorflow/core/common_runtime/pluggable_device/pluggable_device_factory.cc:305] Could not identify NUMA node of platform GPU ID 0, defaulting to 0. Your kernel may not have been built with NUMA support.\n",
      "2021-11-15 21:51:30.181072: I tensorflow/core/common_runtime/pluggable_device/pluggable_device_factory.cc:271] Created TensorFlow device (/job:localhost/replica:0/task:0/device:GPU:0 with 0 MB memory) -> physical PluggableDevice (device: 0, name: METAL, pci bus id: <undefined>)\n"
     ]
    },
    {
     "data": {
      "text/plain": [
       "<MapDataset shapes: ((None, 30, 7), (None, 30, 1)), types: (tf.float32, tf.float32)>"
      ]
     },
     "execution_count": 6,
     "metadata": {},
     "output_type": "execute_result"
    }
   ],
   "source": [
    "wide_window.train"
   ]
  },
  {
   "cell_type": "markdown",
   "metadata": {},
   "source": [
    "## Long Short-Term Memory  \n",
    "<img src=\"./pic/LSTM-1.png\" alt=\"LSTM Architecture\" width=\"500\"/> \n",
    "\n",
    "- [https://keras.io](https://keras.io)\n",
    "- ` tf.keras.layers.LSTM`\n",
    "- `return_sequence=True`, it will return something with shape: `(batch_size, timespan, unit)`. \n",
    "- `return_sequence=False`, then it just return the last output in shape `(batch_size, unit)`.\n",
    "\n",
    "\n",
    "### Model Design\n",
    "- `LSTM(units = 20)`: LSTM layer with 20 internal units.\n",
    "- `Dense(units=2)`: Dense layer with 2 units.\n",
    "- Choose units by cross validation.\n",
    "\n",
    "Graph below demonstrates what layer and unit (or neuron) are, and the rightmost image shows the internal structure of a single LSTM unit.\n",
    "<img src=\"./pic/lstm-units.png\" alt=\"lstmunits\" width=\"500\"/>"
   ]
  },
  {
   "cell_type": "code",
   "execution_count": 7,
   "metadata": {},
   "outputs": [],
   "source": [
    "import tensorflow as tf\n",
    "lstm_model = tf.keras.models.Sequential([\n",
    "    tf.keras.layers.LSTM(units = 20, return_sequences=True,\n",
    "                        activation='tanh', recurrent_activation='sigmoid'),#Recurrent layers\n",
    "    tf.keras.layers.Dense(units=1)#densely-connected NN layer: output with dim-1\n",
    "])\n",
    "IPython.display.clear_output()"
   ]
  },
  {
   "cell_type": "markdown",
   "metadata": {},
   "source": []
  },
  {
   "cell_type": "code",
   "execution_count": 8,
   "metadata": {},
   "outputs": [
    {
     "name": "stdout",
     "output_type": "stream",
     "text": [
      "Input shape: (32, 30, 7)\n"
     ]
    },
    {
     "name": "stderr",
     "output_type": "stream",
     "text": [
      "2021-11-15 21:51:30.291395: I tensorflow/compiler/mlir/mlir_graph_optimization_pass.cc:185] None of the MLIR Optimization Passes are enabled (registered 2)\n",
      "2021-11-15 21:51:30.291605: W tensorflow/core/platform/profile_utils/cpu_utils.cc:128] Failed to get CPU frequency: 0 Hz\n"
     ]
    },
    {
     "name": "stdout",
     "output_type": "stream",
     "text": [
      "Output shape: (32, 30, 1)\n",
      "Label shape: (32, 30, 1)\n"
     ]
    }
   ],
   "source": [
    "print('Input shape:', wide_window.example[0].shape)#[batch_size, timesteps, feature]\n",
    "print('Output shape:', lstm_model(inputs= wide_window.example[0]).shape)\n",
    "print('Label shape:', wide_window.example[1].shape)"
   ]
  },
  {
   "cell_type": "code",
   "execution_count": 9,
   "metadata": {},
   "outputs": [],
   "source": [
    "val_performance={}\n",
    "performance={}"
   ]
  },
  {
   "cell_type": "markdown",
   "metadata": {},
   "source": [
    "### Fitting\n",
    "- `compile_and_fit()`: do `model.compile`, `model.fit`, `TensorBoard`"
   ]
  },
  {
   "cell_type": "code",
   "execution_count": 10,
   "metadata": {},
   "outputs": [],
   "source": [
    "# Load the TensorBoard notebook extension.\n",
    "%load_ext tensorboard\n",
    "import tensorboard\n",
    "# Clear any logs from previous runs\n",
    "!rm -rf ./logs/"
   ]
  },
  {
   "cell_type": "code",
   "execution_count": 11,
   "metadata": {},
   "outputs": [],
   "source": [
    "from script.RNN.compilefit import compile_and_fit\n",
    "history = compile_and_fit(model = lstm_model, window = wide_window, \n",
    "                            MAX_EPOCHS = 10)\n",
    "##could increase MAX_EPOCHS to minimize errors and detail the learning curves.\n",
    "val_performance['LSTM'] = lstm_model.evaluate(wide_window.val)\n",
    "performance['LSTM'] = lstm_model.evaluate(wide_window.test, verbose=0)\n",
    "IPython.display.clear_output()"
   ]
  },
  {
   "cell_type": "markdown",
   "metadata": {},
   "source": [
    "### Visualization the architecture\n",
    "- `lstm_model.summary()`\n",
    "- Graphs dashboard"
   ]
  },
  {
   "cell_type": "markdown",
   "metadata": {},
   "source": [
    "```python\n",
    "#Op-level graph\n",
    "%tensorboard --logdir logs\n",
    "```"
   ]
  },
  {
   "cell_type": "code",
   "execution_count": 12,
   "metadata": {},
   "outputs": [
    {
     "name": "stdout",
     "output_type": "stream",
     "text": [
      "Model: \"sequential\"\n",
      "_________________________________________________________________\n",
      "Layer (type)                 Output Shape              Param #   \n",
      "=================================================================\n",
      "lstm (LSTM)                  (None, 30, 20)            2240      \n",
      "_________________________________________________________________\n",
      "dense (Dense)                (None, 30, 1)             21        \n",
      "=================================================================\n",
      "Total params: 2,261\n",
      "Trainable params: 2,261\n",
      "Non-trainable params: 0\n",
      "_________________________________________________________________\n"
     ]
    }
   ],
   "source": [
    "lstm_model.summary()"
   ]
  },
  {
   "cell_type": "markdown",
   "metadata": {},
   "source": [
    "### Prediction"
   ]
  },
  {
   "cell_type": "markdown",
   "metadata": {},
   "source": [
    "We use one batch in the training inputs(`wide_window.train`) as example(`wide_window.example`) for showing the prediction."
   ]
  },
  {
   "cell_type": "code",
   "execution_count": 72,
   "metadata": {},
   "outputs": [
    {
     "name": "stdout",
     "output_type": "stream",
     "text": [
      "(32, 30, 7) (32, 30, 1)\n"
     ]
    }
   ],
   "source": [
    "pred_inputs, pred_label = wide_window.example\n",
    "print(pred_inputs.shape,pred_label.shape)"
   ]
  },
  {
   "cell_type": "code",
   "execution_count": 73,
   "metadata": {},
   "outputs": [
    {
     "name": "stdout",
     "output_type": "stream",
     "text": [
      "(32, 30, 1)\n"
     ]
    }
   ],
   "source": [
    "pred_result = lstm_model(pred_inputs)#the first sample in the batch, 30 minutes prediction on the close price.\n",
    "print(pred_result.shape)"
   ]
  },
  {
   "cell_type": "code",
   "execution_count": 74,
   "metadata": {},
   "outputs": [
    {
     "data": {
      "image/png": "[encoded data removed]",
      "text/plain": [
       "<Figure size 864x576 with 3 Axes>"
      ]
     },
     "metadata": {
      "needs_background": "light"
     },
     "output_type": "display_data"
    }
   ],
   "source": [
    "wide_window.plot(lstm_model)"
   ]
  },
  {
   "cell_type": "markdown",
   "metadata": {},
   "source": [
    "### Prediction RMSE"
   ]
  },
  {
   "cell_type": "code",
   "execution_count": 77,
   "metadata": {},
   "outputs": [
    {
     "name": "stdout",
     "output_type": "stream",
     "text": [
      "Final score (RMSE): 0.6234675645828247\n"
     ]
    }
   ],
   "source": [
    "from sklearn import metrics\n",
    "# Measure RMSE error.  RMSE is common for regression.\n",
    "score = np.sqrt(metrics.mean_squared_error(pred_result[0,:,:],pred_label[0,:,:]))\n",
    "print(f\"Final score (RMSE): {score}\")"
   ]
  },
  {
   "cell_type": "markdown",
   "metadata": {},
   "source": [
    "Or we give it 1 sample of future 30minutes' info to do prediction."
   ]
  },
  {
   "cell_type": "code",
   "execution_count": 39,
   "metadata": {},
   "outputs": [
    {
     "data": {
      "text/plain": [
       "<tf.Tensor: shape=(1, 30, 1), dtype=float32, numpy=\n",
       "array([[[-0.48907566],\n",
       "        [-0.25456318],\n",
       "        [-0.14492428],\n",
       "        [-0.01028365],\n",
       "        [-0.45238632],\n",
       "        [ 0.19093943],\n",
       "        [ 0.09443693],\n",
       "        [-0.9880432 ],\n",
       "        [ 0.7215243 ],\n",
       "        [ 0.1271223 ],\n",
       "        [ 0.46105027],\n",
       "        [ 0.30882785],\n",
       "        [-0.89925545],\n",
       "        [ 0.16099112],\n",
       "        [ 0.5720198 ],\n",
       "        [ 1.2608664 ],\n",
       "        [-0.6327335 ],\n",
       "        [-0.12736323],\n",
       "        [-0.0352786 ],\n",
       "        [ 0.07808818],\n",
       "        [ 0.3562093 ],\n",
       "        [-0.0592061 ],\n",
       "        [ 0.8046787 ],\n",
       "        [ 0.6939298 ],\n",
       "        [-0.21167266],\n",
       "        [ 0.47733265],\n",
       "        [ 0.71961904],\n",
       "        [-0.14399536],\n",
       "        [ 0.7860952 ],\n",
       "        [-0.5642217 ]]], dtype=float32)>"
      ]
     },
     "execution_count": 39,
     "metadata": {},
     "output_type": "execute_result"
    }
   ],
   "source": [
    "future_inputs = tf.random.normal([1,30,7], 0, 1, tf.float32, seed=1)#tf.tensor type\n",
    "future_inputs =  np.random.randn(1,30,7)#or numy.array type\n",
    "lstm_model(future_inputs)"
   ]
  },
  {
   "cell_type": "markdown",
   "metadata": {},
   "source": [
    "## Save the trained LSTM\n",
    "\n",
    "```\n",
    "# save neural network structure to JSON (no weights)\n",
    "model_json = lstm_model.to_json()\n",
    "with open(os.path.join(save_path,\"network.json\"), \"w\") as json_file:\n",
    "    json_file.write(model_json)\n",
    "\n",
    "# save neural network structure to YAML (no weights)\n",
    "model_yaml = lstm_model.to_yaml()\n",
    "with open(os.path.join(save_path,\"network.yaml\"), \"w\") as yaml_file:\n",
    "    yaml_file.write(model_yaml)\n",
    "\n",
    "```"
   ]
  },
  {
   "cell_type": "code",
   "execution_count": 80,
   "metadata": {},
   "outputs": [],
   "source": [
    "# save entire network to HDF5 (save everything, suggested)\n",
    "save_path = save_path = \"./trainedNN\"\n",
    "lstm_model.save(os.path.join(save_path,\"lstm-notebook.h5\"))"
   ]
  },
  {
   "cell_type": "code",
   "execution_count": 83,
   "metadata": {},
   "outputs": [
    {
     "name": "stdout",
     "output_type": "stream",
     "text": [
      "Final score (RMSE): 0.6234675645828247\n"
     ]
    }
   ],
   "source": [
    "lstm_model_reload = tf.keras.models.load_model(os.path.join(save_path,\"lstm-notebook.h5\"))\n",
    "pred_result_reload = lstm_model_reload(pred_inputs)#the first sample in the batch, 30 minutes prediction on the close price.\n",
    "score = np.sqrt(metrics.mean_squared_error(pred_result_reload[0,:,:],pred_label[0,:,:]))\n",
    "print(f\"Final score (RMSE): {score}\")\n",
    "#should be same as above"
   ]
  },
  {
   "cell_type": "markdown",
   "metadata": {},
   "source": [
    "## Overfitting and Early Stopping \n",
    "\n",
    "It is important to segment the original dataset into several datasets(already done in the previous section):\n",
    "\n",
    "* **Training Set** : `wide_window.train`\n",
    "* **Validation Set** : `wide_window.val`\n",
    "* **Holdout Set**: `wide_window.test`\n",
    "\n",
    "The training data(`wide_window.train`) are used to train the neural network until the validation set no longer improves.  This attempts to stop at a near optimal training point.  This method will only give accurate \"**out of sample**\" predictions for the validation set(`wide_window.val`), this is usually 20% or so of the data.  The predictions for the training data will be overly optimistic, as these were the data that the neural network was trained on.\n",
    "\n",
    "I design this data split method in the class `WindowGenerator` as shown in section data windowing. The model fitting takes the early stopping through `tf.keras.callbacks.EarlyStopping`."
   ]
  },
  {
   "cell_type": "markdown",
   "metadata": {},
   "source": [
    "I design the earlystopping based on validation set as:\n",
    "\n",
    "```python\n",
    "early_stopping = tf.keras.callbacks.EarlyStopping(monitor='val_loss',\n",
    "                                                    patience=2,\n",
    "                                                    mode='min',restore_best_weights=False)\n",
    "```\n",
    "\n",
    "- details: [https://www.tensorflow.org/api_docs/python/tf/keras/callbacks/EarlyStopping](https://www.tensorflow.org/api_docs/python/tf/keras/callbacks/EarlyStopping)"
   ]
  }
 ],
 "metadata": {
  "interpreter": {
   "hash": "c6e4e9f98eb68ad3b7c296f83d20e6de614cb42e90992a65aa266555a3137d0d"
  },
  "kernelspec": {
   "display_name": "Python 3.9.7 64-bit ('base': conda)",
   "language": "python",
   "name": "python3"
  },
  "language_info": {
   "codemirror_mode": {
    "name": "ipython",
    "version": 3
   },
   "file_extension": ".py",
   "mimetype": "text/x-python",
   "name": "python",
   "nbconvert_exporter": "python",
   "pygments_lexer": "ipython3",
   "version": "3.9.7"
  },
  "orig_nbformat": 4
 },
 "nbformat": 4,
 "nbformat_minor": 2
}
