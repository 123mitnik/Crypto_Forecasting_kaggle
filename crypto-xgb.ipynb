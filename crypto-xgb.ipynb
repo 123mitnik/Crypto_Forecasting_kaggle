{
 "cells": [
  {
   "cell_type": "markdown",
   "id": "10b0b756",
   "metadata": {},
   "source": [
    "Reference: \n",
    "- [Kaggle](https://www.kaggle.com/yamqwe/crypto-prediction-xgb-regressor)\n",
    "- [Official doc](https://xgboost.readthedocs.io/en/latest/python/index.html)\n",
    "- [https://mljar.com/blog/xgboost-save-load-python/](https://mljar.com/blog/xgboost-save-load-python/)"
   ]
  },
  {
   "cell_type": "code",
   "execution_count": 1,
   "id": "0b5df544",
   "metadata": {
    "execution": {
     "iopub.execute_input": "2021-11-29T11:42:23.096103Z",
     "iopub.status.busy": "2021-11-29T11:42:23.095321Z",
     "iopub.status.idle": "2021-11-29T11:42:25.913271Z",
     "shell.execute_reply": "2021-11-29T11:42:25.913730Z",
     "shell.execute_reply.started": "2021-11-04T09:37:03.772987Z"
    },
    "papermill": {
     "duration": 2.840833,
     "end_time": "2021-11-29T11:42:25.913990",
     "exception": false,
     "start_time": "2021-11-29T11:42:23.073157",
     "status": "completed"
    },
    "tags": []
   },
   "outputs": [
    {
     "data": {
      "text/html": [
       "<style type='text/css'>\n",
       ".datatable table.frame { margin-bottom: 0; }\n",
       ".datatable table.frame thead { border-bottom: none; }\n",
       ".datatable table.frame tr.coltypes td {  color: #FFFFFF;  line-height: 6px;  padding: 0 0.5em;}\n",
       ".datatable .bool    { background: #DDDD99; }\n",
       ".datatable .object  { background: #565656; }\n",
       ".datatable .int     { background: #5D9E5D; }\n",
       ".datatable .float   { background: #4040CC; }\n",
       ".datatable .str     { background: #CC4040; }\n",
       ".datatable .time    { background: #40CC40; }\n",
       ".datatable .row_index {  background: var(--jp-border-color3);  border-right: 1px solid var(--jp-border-color0);  color: var(--jp-ui-font-color3);  font-size: 9px;}\n",
       ".datatable .frame tbody td { text-align: left; }\n",
       ".datatable .frame tr.coltypes .row_index {  background: var(--jp-border-color0);}\n",
       ".datatable th:nth-child(2) { padding-left: 12px; }\n",
       ".datatable .hellipsis {  color: var(--jp-cell-editor-border-color);}\n",
       ".datatable .vellipsis {  background: var(--jp-layout-color0);  color: var(--jp-cell-editor-border-color);}\n",
       ".datatable .na {  color: var(--jp-cell-editor-border-color);  font-size: 80%;}\n",
       ".datatable .sp {  opacity: 0.25;}\n",
       ".datatable .footer { font-size: 9px; }\n",
       ".datatable .frame_dimensions {  background: var(--jp-border-color3);  border-top: 1px solid var(--jp-border-color0);  color: var(--jp-ui-font-color3);  display: inline-block;  opacity: 0.6;  padding: 1px 10px 1px 5px;}\n",
       "</style>\n"
      ],
      "text/plain": [
       "<IPython.core.display.HTML object>"
      ]
     },
     "metadata": {},
     "output_type": "display_data"
    },
    {
     "name": "stdout",
     "output_type": "stream",
     "text": [
      "1.5.0\n"
     ]
    }
   ],
   "source": [
    "import traceback\n",
    "import numpy as np\n",
    "import pandas as pd\n",
    "import datatable as dt\n",
    "from lightgbm import LGBMRegressor\n",
    "import xgboost as xgb\n",
    "print(xgb.__version__)\n",
    "\n",
    "TRAIN_JAY = './data/cryptocurrency-extra-data-binance-coin/orig_train.jay'\n",
    "ASSET_DETAILS_JAY = './data/cryptocurrency-extra-data-binance-coin/orig_asset_details.jay'"
   ]
  },
  {
   "cell_type": "code",
   "execution_count": 2,
   "id": "3ab83e47",
   "metadata": {
    "execution": {
     "iopub.execute_input": "2021-11-29T11:42:25.938912Z",
     "iopub.status.busy": "2021-11-29T11:42:25.938198Z",
     "iopub.status.idle": "2021-11-29T11:42:45.696951Z",
     "shell.execute_reply": "2021-11-29T11:42:45.696426Z",
     "shell.execute_reply.started": "2021-11-04T09:37:03.781684Z"
    },
    "papermill": {
     "duration": 19.772243,
     "end_time": "2021-11-29T11:42:45.697110",
     "exception": false,
     "start_time": "2021-11-29T11:42:25.924867",
     "status": "completed"
    },
    "tags": []
   },
   "outputs": [],
   "source": [
    "df_train = dt.fread('./data/cryptocurrency-extra-data-binance-coin/orig_train.jay').to_pandas()\n",
    "df_asset_details = dt.fread('./data/cryptocurrency-extra-data-binance-coin/orig_asset_details.jay').to_pandas().sort_values(\"Asset_ID\")"
   ]
  },
  {
   "cell_type": "code",
   "execution_count": 3,
   "id": "4a7308cc",
   "metadata": {},
   "outputs": [],
   "source": [
    "## Target fillin\n",
    "df_train['Target'] = df_train['Target'].fillna(0)\n",
    "#VWAP make finite\n",
    "VWAP_max = np.max(df_train[np.isfinite(df_train.VWAP)].VWAP)\n",
    "VWAP_min = np.min(df_train[np.isfinite(df_train.VWAP)].VWAP)\n",
    "df_train['VWAP'] = np.nan_to_num(df_train.VWAP, posinf=VWAP_max, neginf=VWAP_min)"
   ]
  },
  {
   "cell_type": "markdown",
   "id": "5c5ac6f3",
   "metadata": {
    "papermill": {
     "duration": 0.010875,
     "end_time": "2021-11-29T11:42:45.761005",
     "exception": false,
     "start_time": "2021-11-29T11:42:45.750130",
     "status": "completed"
    },
    "tags": []
   },
   "source": [
    "## Utility functions to train a model for one asset"
   ]
  },
  {
   "cell_type": "markdown",
   "id": "f8d5fe31",
   "metadata": {
    "papermill": {
     "duration": 0.009087,
     "end_time": "2021-11-29T11:42:45.903563",
     "exception": false,
     "start_time": "2021-11-29T11:42:45.894476",
     "status": "completed"
    },
    "tags": []
   },
   "source": [
    "**Main Training Function**, **Feature Extraction**"
   ]
  },
  {
   "cell_type": "code",
   "execution_count": 4,
   "id": "37cb6684",
   "metadata": {
    "execution": {
     "iopub.execute_input": "2021-11-29T11:42:45.929823Z",
     "iopub.status.busy": "2021-11-29T11:42:45.925915Z",
     "iopub.status.idle": "2021-11-29T11:42:45.932345Z",
     "shell.execute_reply": "2021-11-29T11:42:45.931858Z",
     "shell.execute_reply.started": "2021-11-04T09:37:50.959993Z"
    },
    "papermill": {
     "duration": 0.019564,
     "end_time": "2021-11-29T11:42:45.932464",
     "exception": false,
     "start_time": "2021-11-29T11:42:45.912900",
     "status": "completed"
    },
    "tags": []
   },
   "outputs": [],
   "source": [
    "from script.XGB.xgbmodel import *"
   ]
  },
  {
   "cell_type": "markdown",
   "id": "c0acb77c",
   "metadata": {
    "papermill": {
     "duration": 0.009251,
     "end_time": "2021-11-29T11:42:45.951347",
     "exception": false,
     "start_time": "2021-11-29T11:42:45.942096",
     "status": "completed"
    },
    "tags": []
   },
   "source": [
    "## Loop over all assets"
   ]
  },
  {
   "cell_type": "code",
   "execution_count": 5,
   "id": "a08f97ec",
   "metadata": {
    "execution": {
     "iopub.execute_input": "2021-11-29T11:42:45.977783Z",
     "iopub.status.busy": "2021-11-29T11:42:45.976878Z",
     "iopub.status.idle": "2021-11-29T16:31:57.306788Z",
     "shell.execute_reply": "2021-11-29T16:31:57.306268Z",
     "shell.execute_reply.started": "2021-11-04T09:37:50.972645Z"
    },
    "papermill": {
     "duration": 17351.346119,
     "end_time": "2021-11-29T16:31:57.306942",
     "exception": false,
     "start_time": "2021-11-29T11:42:45.960823",
     "status": "completed"
    },
    "tags": []
   },
   "outputs": [
    {
     "name": "stdout",
     "output_type": "stream",
     "text": [
      "model for Binance Coin     (ID=0 ) exists\n",
      "model for Bitcoin          (ID=1 ) exists\n",
      "model for Bitcoin Cash     (ID=2 ) exists\n",
      "model for Cardano          (ID=3 ) exists\n",
      "model for Dogecoin         (ID=4 ) exists\n",
      "model for EOS.IO           (ID=5 ) exists\n",
      "model for Ethereum         (ID=6 ) exists\n",
      "model for Ethereum Classic (ID=7 ) exists\n",
      "model for IOTA             (ID=8 ) exists\n",
      "model for Litecoin         (ID=9 ) exists\n",
      "model for Maker            (ID=10) exists\n",
      "model for Monero           (ID=11) exists\n",
      "model for Stellar          (ID=12) exists\n",
      "model for TRON             (ID=13) exists\n"
     ]
    }
   ],
   "source": [
    "from os.path import exists\n",
    "Xs = {}\n",
    "ys = {}\n",
    "models = {}\n",
    "\n",
    "for asset_id, asset_name in zip(df_asset_details['Asset_ID'], df_asset_details['Asset_Name']):\n",
    "    \n",
    "    if exists(f\"./trainedXGB/model_{asset_id}.json\"):\n",
    "        print(f\"model for {asset_name:<16} (ID={asset_id:<2}) exists\")\n",
    "        model = xgb.XGBRegressor()\n",
    "        model.load_model(f\"./trainedXGB/model_{asset_id}.json\")\n",
    "        df = df_train[df_train[\"Asset_ID\"] == asset_id]\n",
    "        df_proc = get_features(df)\n",
    "        df_proc['y'] = df['Target']\n",
    "        df_proc = df_proc.dropna(how=\"any\")\n",
    "        X = df_proc.drop(\"y\", axis=1)\n",
    "        y = df_proc[\"y\"]\n",
    "        Xs[asset_id], ys[asset_id], models[asset_id] = X, y, model\n",
    "        next\n",
    "    else:\n",
    "        print(f\"Training model for {asset_name:<16} (ID={asset_id:<2})\")\n",
    "        try:\n",
    "            X, y, model = get_Xy_and_model_for_asset(df_train, asset_id)    \n",
    "            Xs[asset_id], ys[asset_id], models[asset_id] = X, y, model\n",
    "        except:         \n",
    "            Xs[asset_id], ys[asset_id], models[asset_id] = None, None, None    \n",
    "        #save model\n",
    "        models[asset_id].save_model(f\"./trainedXGB/model_{asset_id}.json\")"
   ]
  },
  {
   "cell_type": "code",
   "execution_count": 7,
   "id": "e6f474b0",
   "metadata": {
    "execution": {
     "iopub.execute_input": "2021-11-29T16:31:57.345401Z",
     "iopub.status.busy": "2021-11-29T16:31:57.342354Z",
     "iopub.status.idle": "2021-11-29T16:31:57.351781Z",
     "shell.execute_reply": "2021-11-29T16:31:57.352251Z",
     "shell.execute_reply.started": "2021-11-04T09:41:28.043037Z"
    },
    "papermill": {
     "duration": 0.031939,
     "end_time": "2021-11-29T16:31:57.352418",
     "exception": false,
     "start_time": "2021-11-29T16:31:57.320479",
     "status": "completed"
    },
    "tags": []
   },
   "outputs": [
    {
     "data": {
      "text/plain": [
       "-0.00012690053"
      ]
     },
     "execution_count": 7,
     "metadata": {},
     "output_type": "execute_result"
    }
   ],
   "source": [
    "# Check the model interface\n",
    "x = get_features(df_train.iloc[1])\n",
    "y_pred = models[0].predict(pd.DataFrame([x]))\n",
    "y_pred[0]"
   ]
  },
  {
   "cell_type": "code",
   "execution_count": 8,
   "id": "d0004aa1",
   "metadata": {},
   "outputs": [
    {
     "data": {
      "text/plain": [
       "{0: XGBRegressor(base_score=0.5, booster='gbtree', colsample_bylevel=1,\n",
       "              colsample_bynode=1, colsample_bytree=0.7, enable_categorical=False,\n",
       "              gamma=0, gpu_id=-1, importance_type=None,\n",
       "              interaction_constraints='', learning_rate=0.05, max_delta_step=0,\n",
       "              max_depth=11, min_child_weight=1, missing=-999,\n",
       "              monotone_constraints='()', n_estimators=500, n_jobs=8,\n",
       "              num_parallel_tree=1, predictor='auto', random_state=2020,\n",
       "              reg_alpha=0, reg_lambda=1, scale_pos_weight=1, subsample=0.9,\n",
       "              tree_method='auto', validate_parameters=1, verbosity=None),\n",
       " 1: XGBRegressor(base_score=0.5, booster='gbtree', colsample_bylevel=1,\n",
       "              colsample_bynode=1, colsample_bytree=0.7, enable_categorical=False,\n",
       "              gamma=0, gpu_id=-1, importance_type=None,\n",
       "              interaction_constraints='', learning_rate=0.05, max_delta_step=0,\n",
       "              max_depth=11, min_child_weight=1, missing=-999,\n",
       "              monotone_constraints='()', n_estimators=500, n_jobs=8,\n",
       "              num_parallel_tree=1, predictor='auto', random_state=2020,\n",
       "              reg_alpha=0, reg_lambda=1, scale_pos_weight=1, subsample=0.9,\n",
       "              tree_method='auto', validate_parameters=1, verbosity=None),\n",
       " 2: XGBRegressor(base_score=0.5, booster='gbtree', colsample_bylevel=1,\n",
       "              colsample_bynode=1, colsample_bytree=0.7, enable_categorical=False,\n",
       "              gamma=0, gpu_id=-1, importance_type=None,\n",
       "              interaction_constraints='', learning_rate=0.05, max_delta_step=0,\n",
       "              max_depth=11, min_child_weight=1, missing=-999,\n",
       "              monotone_constraints='()', n_estimators=500, n_jobs=8,\n",
       "              num_parallel_tree=1, predictor='auto', random_state=2020,\n",
       "              reg_alpha=0, reg_lambda=1, scale_pos_weight=1, subsample=0.9,\n",
       "              tree_method='auto', validate_parameters=1, verbosity=None),\n",
       " 3: XGBRegressor(base_score=0.5, booster='gbtree', colsample_bylevel=1,\n",
       "              colsample_bynode=1, colsample_bytree=0.7, enable_categorical=False,\n",
       "              gamma=0, gpu_id=-1, importance_type=None,\n",
       "              interaction_constraints='', learning_rate=0.05, max_delta_step=0,\n",
       "              max_depth=11, min_child_weight=1, missing=-999,\n",
       "              monotone_constraints='()', n_estimators=500, n_jobs=8,\n",
       "              num_parallel_tree=1, predictor='auto', random_state=2020,\n",
       "              reg_alpha=0, reg_lambda=1, scale_pos_weight=1, subsample=0.9,\n",
       "              tree_method='auto', validate_parameters=1, verbosity=None),\n",
       " 4: XGBRegressor(base_score=0.5, booster='gbtree', colsample_bylevel=1,\n",
       "              colsample_bynode=1, colsample_bytree=0.7, enable_categorical=False,\n",
       "              gamma=0, gpu_id=-1, importance_type=None,\n",
       "              interaction_constraints='', learning_rate=0.05, max_delta_step=0,\n",
       "              max_depth=11, min_child_weight=1, missing=-999,\n",
       "              monotone_constraints='()', n_estimators=500, n_jobs=8,\n",
       "              num_parallel_tree=1, predictor='auto', random_state=2020,\n",
       "              reg_alpha=0, reg_lambda=1, scale_pos_weight=1, subsample=0.9,\n",
       "              tree_method='auto', validate_parameters=1, verbosity=None),\n",
       " 5: XGBRegressor(base_score=0.5, booster='gbtree', colsample_bylevel=1,\n",
       "              colsample_bynode=1, colsample_bytree=0.7, enable_categorical=False,\n",
       "              gamma=0, gpu_id=-1, importance_type=None,\n",
       "              interaction_constraints='', learning_rate=0.05, max_delta_step=0,\n",
       "              max_depth=11, min_child_weight=1, missing=-999,\n",
       "              monotone_constraints='()', n_estimators=500, n_jobs=8,\n",
       "              num_parallel_tree=1, predictor='auto', random_state=2020,\n",
       "              reg_alpha=0, reg_lambda=1, scale_pos_weight=1, subsample=0.9,\n",
       "              tree_method='auto', validate_parameters=1, verbosity=None),\n",
       " 6: XGBRegressor(base_score=0.5, booster='gbtree', colsample_bylevel=1,\n",
       "              colsample_bynode=1, colsample_bytree=0.7, enable_categorical=False,\n",
       "              gamma=0, gpu_id=-1, importance_type=None,\n",
       "              interaction_constraints='', learning_rate=0.05, max_delta_step=0,\n",
       "              max_depth=11, min_child_weight=1, missing=-999,\n",
       "              monotone_constraints='()', n_estimators=500, n_jobs=8,\n",
       "              num_parallel_tree=1, predictor='auto', random_state=2020,\n",
       "              reg_alpha=0, reg_lambda=1, scale_pos_weight=1, subsample=0.9,\n",
       "              tree_method='auto', validate_parameters=1, verbosity=None),\n",
       " 7: XGBRegressor(base_score=0.5, booster='gbtree', colsample_bylevel=1,\n",
       "              colsample_bynode=1, colsample_bytree=0.7, enable_categorical=False,\n",
       "              gamma=0, gpu_id=-1, importance_type=None,\n",
       "              interaction_constraints='', learning_rate=0.05, max_delta_step=0,\n",
       "              max_depth=11, min_child_weight=1, missing=-999,\n",
       "              monotone_constraints='()', n_estimators=500, n_jobs=8,\n",
       "              num_parallel_tree=1, predictor='auto', random_state=2020,\n",
       "              reg_alpha=0, reg_lambda=1, scale_pos_weight=1, subsample=0.9,\n",
       "              tree_method='auto', validate_parameters=1, verbosity=None),\n",
       " 8: XGBRegressor(base_score=0.5, booster='gbtree', colsample_bylevel=1,\n",
       "              colsample_bynode=1, colsample_bytree=0.7, enable_categorical=False,\n",
       "              gamma=0, gpu_id=-1, importance_type=None,\n",
       "              interaction_constraints='', learning_rate=0.05, max_delta_step=0,\n",
       "              max_depth=11, min_child_weight=1, missing=-999,\n",
       "              monotone_constraints='()', n_estimators=500, n_jobs=8,\n",
       "              num_parallel_tree=1, predictor='auto', random_state=2020,\n",
       "              reg_alpha=0, reg_lambda=1, scale_pos_weight=1, subsample=0.9,\n",
       "              tree_method='auto', validate_parameters=1, verbosity=None),\n",
       " 9: XGBRegressor(base_score=0.5, booster='gbtree', colsample_bylevel=1,\n",
       "              colsample_bynode=1, colsample_bytree=0.7, enable_categorical=False,\n",
       "              gamma=0, gpu_id=-1, importance_type=None,\n",
       "              interaction_constraints='', learning_rate=0.05, max_delta_step=0,\n",
       "              max_depth=11, min_child_weight=1, missing=-999,\n",
       "              monotone_constraints='()', n_estimators=500, n_jobs=8,\n",
       "              num_parallel_tree=1, predictor='auto', random_state=2020,\n",
       "              reg_alpha=0, reg_lambda=1, scale_pos_weight=1, subsample=0.9,\n",
       "              tree_method='auto', validate_parameters=1, verbosity=None),\n",
       " 10: XGBRegressor(base_score=0.5, booster='gbtree', colsample_bylevel=1,\n",
       "              colsample_bynode=1, colsample_bytree=0.7, enable_categorical=False,\n",
       "              gamma=0, gpu_id=-1, importance_type=None,\n",
       "              interaction_constraints='', learning_rate=0.05, max_delta_step=0,\n",
       "              max_depth=11, min_child_weight=1, missing=-999,\n",
       "              monotone_constraints='()', n_estimators=500, n_jobs=8,\n",
       "              num_parallel_tree=1, predictor='auto', random_state=2020,\n",
       "              reg_alpha=0, reg_lambda=1, scale_pos_weight=1, subsample=0.9,\n",
       "              tree_method='auto', validate_parameters=1, verbosity=None),\n",
       " 11: XGBRegressor(base_score=0.5, booster='gbtree', colsample_bylevel=1,\n",
       "              colsample_bynode=1, colsample_bytree=0.7, enable_categorical=False,\n",
       "              gamma=0, gpu_id=-1, importance_type=None,\n",
       "              interaction_constraints='', learning_rate=0.05, max_delta_step=0,\n",
       "              max_depth=11, min_child_weight=1, missing=-999,\n",
       "              monotone_constraints='()', n_estimators=500, n_jobs=8,\n",
       "              num_parallel_tree=1, predictor='auto', random_state=2020,\n",
       "              reg_alpha=0, reg_lambda=1, scale_pos_weight=1, subsample=0.9,\n",
       "              tree_method='auto', validate_parameters=1, verbosity=None),\n",
       " 12: XGBRegressor(base_score=0.5, booster='gbtree', colsample_bylevel=1,\n",
       "              colsample_bynode=1, colsample_bytree=0.7, enable_categorical=False,\n",
       "              gamma=0, gpu_id=-1, importance_type=None,\n",
       "              interaction_constraints='', learning_rate=0.05, max_delta_step=0,\n",
       "              max_depth=11, min_child_weight=1, missing=-999,\n",
       "              monotone_constraints='()', n_estimators=500, n_jobs=8,\n",
       "              num_parallel_tree=1, predictor='auto', random_state=2020,\n",
       "              reg_alpha=0, reg_lambda=1, scale_pos_weight=1, subsample=0.9,\n",
       "              tree_method='auto', validate_parameters=1, verbosity=None),\n",
       " 13: XGBRegressor(base_score=0.5, booster='gbtree', colsample_bylevel=1,\n",
       "              colsample_bynode=1, colsample_bytree=0.7, enable_categorical=False,\n",
       "              gamma=0, gpu_id=-1, importance_type=None,\n",
       "              interaction_constraints='', learning_rate=0.05, max_delta_step=0,\n",
       "              max_depth=11, min_child_weight=1, missing=-999,\n",
       "              monotone_constraints='()', n_estimators=500, n_jobs=8,\n",
       "              num_parallel_tree=1, predictor='auto', random_state=2020,\n",
       "              reg_alpha=0, reg_lambda=1, scale_pos_weight=1, subsample=0.9,\n",
       "              tree_method='auto', validate_parameters=1, verbosity=None)}"
      ]
     },
     "execution_count": 8,
     "metadata": {},
     "output_type": "execute_result"
    }
   ],
   "source": [
    "models"
   ]
  },
  {
   "cell_type": "markdown",
   "id": "e4176c24",
   "metadata": {
    "execution": {
     "iopub.status.busy": "2021-11-02T20:57:49.349459Z",
     "iopub.status.idle": "2021-11-02T20:57:49.349757Z",
     "shell.execute_reply": "2021-11-02T20:57:49.349613Z",
     "shell.execute_reply.started": "2021-11-02T20:57:49.349596Z"
    },
    "papermill": {
     "duration": 0.01424,
     "end_time": "2021-11-29T16:31:57.382398",
     "exception": false,
     "start_time": "2021-11-29T16:31:57.368158",
     "status": "completed"
    },
    "tags": []
   },
   "source": [
    "# Submit To Kaggle"
   ]
  },
  {
   "cell_type": "code",
   "execution_count": 9,
   "id": "29a7d4af",
   "metadata": {
    "execution": {
     "iopub.execute_input": "2021-11-29T16:31:57.419470Z",
     "iopub.status.busy": "2021-11-29T16:31:57.418889Z",
     "iopub.status.idle": "2021-11-29T16:31:57.701929Z",
     "shell.execute_reply": "2021-11-29T16:31:57.702479Z",
     "shell.execute_reply.started": "2021-11-04T09:41:42.957395Z"
    },
    "papermill": {
     "duration": 0.305764,
     "end_time": "2021-11-29T16:31:57.702653",
     "exception": false,
     "start_time": "2021-11-29T16:31:57.396889",
     "status": "completed"
    },
    "tags": []
   },
   "outputs": [
    {
     "name": "stdout",
     "output_type": "stream",
     "text": [
      "    row_id    Target  row_id    Target  row_id    Target  row_id    Target\n",
      "0        0 -0.000253      14 -0.000038      28 -0.000200      42 -0.000101\n",
      "1        1  0.000019      15  0.000319      29 -0.000023      43 -0.000036\n",
      "2        2 -0.000027      16 -0.000168      30 -0.000029      44  0.000028\n",
      "3        3  0.000076      17 -0.000043      31  0.000004      45 -0.000117\n",
      "4        4 -0.000037      18 -0.000040      32  0.000016      46 -0.000033\n",
      "5        5  0.000015      19  0.000058      33  0.000031      47  0.000034\n",
      "6        6 -0.000008      20  0.000067      34 -0.000197      48 -0.000031\n",
      "7        7  0.000196      21  0.000095      35  0.000186      49  0.000188\n",
      "8        8  0.000122      22  0.000182      36  0.000355      50  0.000501\n",
      "9        9 -0.000090      23 -0.000029      37 -0.000029      51 -0.000047\n",
      "10      10 -0.000035      24 -0.000073      38 -0.000039      52 -0.000073\n",
      "11      11  0.000041      25  0.000064      39 -0.000002      53  0.000048\n",
      "12      12  0.000007      26 -0.000091      40 -0.000073      54 -0.000057\n",
      "13      13  0.000045      27  0.000041      41  0.000033      55 -0.000010\n"
     ]
    }
   ],
   "source": [
    "data_path = './data/'\n",
    "submission = []\n",
    "for i in range(4):\n",
    "    test_csv,sample_prediction_df_csv = f'{data_path}temp/{i}test_df.csv', f'{data_path}temp/{i}sample_prediction_df.csv'\n",
    "    df_test, df_pred= pd.read_csv(test_csv,usecols =range(1,11)),pd.read_csv(sample_prediction_df_csv,usecols =range(1,3))\n",
    "    for j , row in df_test.iterrows():\n",
    "        if models[row['Asset_ID']] is not None:\n",
    "            try:\n",
    "                model = models[row['Asset_ID']]\n",
    "                x_test = get_features(row)\n",
    "                y_pred = model.predict(pd.DataFrame([x_test]))[0]\n",
    "                df_pred.loc[df_pred['row_id'] == row['row_id'], 'Target'] = y_pred\n",
    "            except:\n",
    "                print(row['Asset_ID'])\n",
    "                df_pred.loc[df_pred['row_id'] == row['row_id'], 'Target'] = 0\n",
    "                traceback.print_exc()\n",
    "        else: \n",
    "            df_pred.loc[df_pred['row_id'] == row['row_id'], 'Target'] = 0\n",
    "    submission.append(df_pred)\n",
    "\n",
    "print(pd.concat(submission,axis=1))\n"
   ]
  },
  {
   "cell_type": "code",
   "execution_count": null,
   "id": "a582c409",
   "metadata": {
    "papermill": {
     "duration": 0.013408,
     "end_time": "2021-11-29T16:31:57.731153",
     "exception": false,
     "start_time": "2021-11-29T16:31:57.717745",
     "status": "completed"
    },
    "tags": []
   },
   "outputs": [],
   "source": []
  }
 ],
 "metadata": {
  "kernelspec": {
   "display_name": "Python 3",
   "language": "python",
   "name": "python3"
  },
  "language_info": {
   "codemirror_mode": {
    "name": "ipython",
    "version": 3
   },
   "file_extension": ".py",
   "mimetype": "text/x-python",
   "name": "python",
   "nbconvert_exporter": "python",
   "pygments_lexer": "ipython3",
   "version": "3.9.7"
  },
  "papermill": {
   "default_parameters": {},
   "duration": 17383.268184,
   "end_time": "2021-11-29T16:31:58.883382",
   "environment_variables": {},
   "exception": null,
   "input_path": "__notebook__.ipynb",
   "output_path": "__notebook__.ipynb",
   "parameters": {},
   "start_time": "2021-11-29T11:42:15.615198",
   "version": "2.3.3"
  }
 },
 "nbformat": 4,
 "nbformat_minor": 5
}
