{
 "cells": [
  {
   "cell_type": "markdown",
   "id": "10b0b756",
   "metadata": {},
   "source": [
    "Reference: [https://www.kaggle.com/yamqwe/crypto-prediction-xgb-regressor](https://www.kaggle.com/yamqwe/crypto-prediction-xgb-regressor)"
   ]
  },
  {
   "cell_type": "code",
   "execution_count": 1,
   "id": "0b5df544",
   "metadata": {
    "execution": {
     "iopub.execute_input": "2021-11-29T11:42:23.096103Z",
     "iopub.status.busy": "2021-11-29T11:42:23.095321Z",
     "iopub.status.idle": "2021-11-29T11:42:25.913271Z",
     "shell.execute_reply": "2021-11-29T11:42:25.913730Z",
     "shell.execute_reply.started": "2021-11-04T09:37:03.772987Z"
    },
    "papermill": {
     "duration": 2.840833,
     "end_time": "2021-11-29T11:42:25.913990",
     "exception": false,
     "start_time": "2021-11-29T11:42:23.073157",
     "status": "completed"
    },
    "tags": []
   },
   "outputs": [
    {
     "data": {
      "text/html": [
       "<style type='text/css'>\n",
       ".datatable table.frame { margin-bottom: 0; }\n",
       ".datatable table.frame thead { border-bottom: none; }\n",
       ".datatable table.frame tr.coltypes td {  color: #FFFFFF;  line-height: 6px;  padding: 0 0.5em;}\n",
       ".datatable .bool    { background: #DDDD99; }\n",
       ".datatable .object  { background: #565656; }\n",
       ".datatable .int     { background: #5D9E5D; }\n",
       ".datatable .float   { background: #4040CC; }\n",
       ".datatable .str     { background: #CC4040; }\n",
       ".datatable .time    { background: #40CC40; }\n",
       ".datatable .row_index {  background: var(--jp-border-color3);  border-right: 1px solid var(--jp-border-color0);  color: var(--jp-ui-font-color3);  font-size: 9px;}\n",
       ".datatable .frame tbody td { text-align: left; }\n",
       ".datatable .frame tr.coltypes .row_index {  background: var(--jp-border-color0);}\n",
       ".datatable th:nth-child(2) { padding-left: 12px; }\n",
       ".datatable .hellipsis {  color: var(--jp-cell-editor-border-color);}\n",
       ".datatable .vellipsis {  background: var(--jp-layout-color0);  color: var(--jp-cell-editor-border-color);}\n",
       ".datatable .na {  color: var(--jp-cell-editor-border-color);  font-size: 80%;}\n",
       ".datatable .sp {  opacity: 0.25;}\n",
       ".datatable .footer { font-size: 9px; }\n",
       ".datatable .frame_dimensions {  background: var(--jp-border-color3);  border-top: 1px solid var(--jp-border-color0);  color: var(--jp-ui-font-color3);  display: inline-block;  opacity: 0.6;  padding: 1px 10px 1px 5px;}\n",
       "</style>\n"
      ],
      "text/plain": [
       "<IPython.core.display.HTML object>"
      ]
     },
     "metadata": {},
     "output_type": "display_data"
    }
   ],
   "source": [
    "import traceback\n",
    "import numpy as np\n",
    "import pandas as pd\n",
    "import datatable as dt\n",
    "from lightgbm import LGBMRegressor\n",
    "import xgboost as xgb\n",
    "\n",
    "TRAIN_JAY = './data/cryptocurrency-extra-data-binance-coin/orig_train.jay'\n",
    "ASSET_DETAILS_JAY = './data/cryptocurrency-extra-data-binance-coin/orig_asset_details.jay'"
   ]
  },
  {
   "cell_type": "code",
   "execution_count": 2,
   "id": "3ab83e47",
   "metadata": {
    "execution": {
     "iopub.execute_input": "2021-11-29T11:42:25.938912Z",
     "iopub.status.busy": "2021-11-29T11:42:25.938198Z",
     "iopub.status.idle": "2021-11-29T11:42:45.696951Z",
     "shell.execute_reply": "2021-11-29T11:42:45.696426Z",
     "shell.execute_reply.started": "2021-11-04T09:37:03.781684Z"
    },
    "papermill": {
     "duration": 19.772243,
     "end_time": "2021-11-29T11:42:45.697110",
     "exception": false,
     "start_time": "2021-11-29T11:42:25.924867",
     "status": "completed"
    },
    "tags": []
   },
   "outputs": [],
   "source": [
    "df_train = dt.fread('./data/cryptocurrency-extra-data-binance-coin/orig_train.jay').to_pandas()\n",
    "df_asset_details = dt.fread('./data/cryptocurrency-extra-data-binance-coin/orig_asset_details.jay').to_pandas().sort_values(\"Asset_ID\")"
   ]
  },
  {
   "cell_type": "markdown",
   "id": "5c5ac6f3",
   "metadata": {
    "papermill": {
     "duration": 0.010875,
     "end_time": "2021-11-29T11:42:45.761005",
     "exception": false,
     "start_time": "2021-11-29T11:42:45.750130",
     "status": "completed"
    },
    "tags": []
   },
   "source": [
    "## Utility functions to train a model for one asset"
   ]
  },
  {
   "cell_type": "markdown",
   "id": "f8d5fe31",
   "metadata": {
    "papermill": {
     "duration": 0.009087,
     "end_time": "2021-11-29T11:42:45.903563",
     "exception": false,
     "start_time": "2021-11-29T11:42:45.894476",
     "status": "completed"
    },
    "tags": []
   },
   "source": [
    "**Main Training Function**, **Feature Extraction**"
   ]
  },
  {
   "cell_type": "code",
   "execution_count": 3,
   "id": "37cb6684",
   "metadata": {
    "execution": {
     "iopub.execute_input": "2021-11-29T11:42:45.929823Z",
     "iopub.status.busy": "2021-11-29T11:42:45.925915Z",
     "iopub.status.idle": "2021-11-29T11:42:45.932345Z",
     "shell.execute_reply": "2021-11-29T11:42:45.931858Z",
     "shell.execute_reply.started": "2021-11-04T09:37:50.959993Z"
    },
    "papermill": {
     "duration": 0.019564,
     "end_time": "2021-11-29T11:42:45.932464",
     "exception": false,
     "start_time": "2021-11-29T11:42:45.912900",
     "status": "completed"
    },
    "tags": []
   },
   "outputs": [],
   "source": [
    "from script.XGB.xgbmodel import *"
   ]
  },
  {
   "cell_type": "markdown",
   "id": "c0acb77c",
   "metadata": {
    "papermill": {
     "duration": 0.009251,
     "end_time": "2021-11-29T11:42:45.951347",
     "exception": false,
     "start_time": "2021-11-29T11:42:45.942096",
     "status": "completed"
    },
    "tags": []
   },
   "source": [
    "## Loop over all assets"
   ]
  },
  {
   "cell_type": "code",
   "execution_count": 4,
   "id": "a08f97ec",
   "metadata": {
    "execution": {
     "iopub.execute_input": "2021-11-29T11:42:45.977783Z",
     "iopub.status.busy": "2021-11-29T11:42:45.976878Z",
     "iopub.status.idle": "2021-11-29T16:31:57.306788Z",
     "shell.execute_reply": "2021-11-29T16:31:57.306268Z",
     "shell.execute_reply.started": "2021-11-04T09:37:50.972645Z"
    },
    "papermill": {
     "duration": 17351.346119,
     "end_time": "2021-11-29T16:31:57.306942",
     "exception": false,
     "start_time": "2021-11-29T11:42:45.960823",
     "status": "completed"
    },
    "tags": []
   },
   "outputs": [
    {
     "name": "stdout",
     "output_type": "stream",
     "text": [
      "Training model for Binance Coin     (ID=0 )\n"
     ]
    }
   ],
   "source": [
    "Xs = {}\n",
    "ys = {}\n",
    "models = {}\n",
    "\n",
    "for asset_id, asset_name in zip(df_asset_details['Asset_ID'], df_asset_details['Asset_Name']):\n",
    "    print(f\"Training model for {asset_name:<16} (ID={asset_id:<2})\")\n",
    "    try:\n",
    "        X, y, model = get_Xy_and_model_for_asset(df_train, asset_id)    \n",
    "        Xs[asset_id], ys[asset_id], models[asset_id] = X, y, model\n",
    "    except:         \n",
    "        Xs[asset_id], ys[asset_id], models[asset_id] = None, None, None    \n",
    "    #save model\n",
    "    models[asset_id].save_model(f\"./trainedXGB/model_{asset_id}.json\")"
   ]
  },
  {
   "cell_type": "code",
   "execution_count": null,
   "id": "e6f474b0",
   "metadata": {
    "execution": {
     "iopub.execute_input": "2021-11-29T16:31:57.345401Z",
     "iopub.status.busy": "2021-11-29T16:31:57.342354Z",
     "iopub.status.idle": "2021-11-29T16:31:57.351781Z",
     "shell.execute_reply": "2021-11-29T16:31:57.352251Z",
     "shell.execute_reply.started": "2021-11-04T09:41:28.043037Z"
    },
    "papermill": {
     "duration": 0.031939,
     "end_time": "2021-11-29T16:31:57.352418",
     "exception": false,
     "start_time": "2021-11-29T16:31:57.320479",
     "status": "completed"
    },
    "tags": []
   },
   "outputs": [],
   "source": [
    "# Check the model interface\n",
    "x = get_features(df_train.iloc[1])\n",
    "y_pred = models[0].predict(pd.DataFrame([x]))\n",
    "y_pred[0]"
   ]
  },
  {
   "cell_type": "markdown",
   "id": "e4176c24",
   "metadata": {
    "execution": {
     "iopub.status.busy": "2021-11-02T20:57:49.349459Z",
     "iopub.status.idle": "2021-11-02T20:57:49.349757Z",
     "shell.execute_reply": "2021-11-02T20:57:49.349613Z",
     "shell.execute_reply.started": "2021-11-02T20:57:49.349596Z"
    },
    "papermill": {
     "duration": 0.01424,
     "end_time": "2021-11-29T16:31:57.382398",
     "exception": false,
     "start_time": "2021-11-29T16:31:57.368158",
     "status": "completed"
    },
    "tags": []
   },
   "source": [
    "# Submit To Kaggle"
   ]
  },
  {
   "cell_type": "code",
   "execution_count": null,
   "id": "29a7d4af",
   "metadata": {
    "execution": {
     "iopub.execute_input": "2021-11-29T16:31:57.419470Z",
     "iopub.status.busy": "2021-11-29T16:31:57.418889Z",
     "iopub.status.idle": "2021-11-29T16:31:57.701929Z",
     "shell.execute_reply": "2021-11-29T16:31:57.702479Z",
     "shell.execute_reply.started": "2021-11-04T09:41:42.957395Z"
    },
    "papermill": {
     "duration": 0.305764,
     "end_time": "2021-11-29T16:31:57.702653",
     "exception": false,
     "start_time": "2021-11-29T16:31:57.396889",
     "status": "completed"
    },
    "tags": []
   },
   "outputs": [],
   "source": [
    "'''\n",
    "env = gresearch_crypto.make_env()\n",
    "iter_test = env.iter_test()\n",
    "\n",
    "for i, (df_test, df_pred) in enumerate(iter_test):\n",
    "    for j , row in df_test.iterrows():\n",
    "        \n",
    "        if models[row['Asset_ID']] is not None:\n",
    "            try:\n",
    "                model = models[row['Asset_ID']]\n",
    "                x_test = get_features(row)\n",
    "                y_pred = model.predict(pd.DataFrame([x_test]))[0]\n",
    "                df_pred.loc[df_pred['row_id'] == row['row_id'], 'Target'] = y_pred\n",
    "            except:\n",
    "                df_pred.loc[df_pred['row_id'] == row['row_id'], 'Target'] = 0\n",
    "                traceback.print_exc()\n",
    "        else: \n",
    "            df_pred.loc[df_pred['row_id'] == row['row_id'], 'Target'] = 0\n",
    "        \n",
    "    env.predict(df_pred)\n",
    "'''"
   ]
  },
  {
   "cell_type": "code",
   "execution_count": null,
   "id": "a582c409",
   "metadata": {
    "papermill": {
     "duration": 0.013408,
     "end_time": "2021-11-29T16:31:57.731153",
     "exception": false,
     "start_time": "2021-11-29T16:31:57.717745",
     "status": "completed"
    },
    "tags": []
   },
   "outputs": [],
   "source": []
  }
 ],
 "metadata": {
  "kernelspec": {
   "display_name": "Python 3",
   "language": "python",
   "name": "python3"
  },
  "language_info": {
   "codemirror_mode": {
    "name": "ipython",
    "version": 3
   },
   "file_extension": ".py",
   "mimetype": "text/x-python",
   "name": "python",
   "nbconvert_exporter": "python",
   "pygments_lexer": "ipython3",
   "version": "3.9.7"
  },
  "papermill": {
   "default_parameters": {},
   "duration": 17383.268184,
   "end_time": "2021-11-29T16:31:58.883382",
   "environment_variables": {},
   "exception": null,
   "input_path": "__notebook__.ipynb",
   "output_path": "__notebook__.ipynb",
   "parameters": {},
   "start_time": "2021-11-29T11:42:15.615198",
   "version": "2.3.3"
  }
 },
 "nbformat": 4,
 "nbformat_minor": 5
}
