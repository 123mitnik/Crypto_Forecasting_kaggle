{
 "cells": [
  {
   "cell_type": "markdown",
   "id": "10b0b756",
   "metadata": {},
   "source": [
    "# XGBoost and LightGBM model\n",
    "\n",
    "\n",
    "**Reference:**\n",
    "- [Kaggle1](https://www.kaggle.com/yamqwe/crypto-prediction-xgb-regressor)\n",
    "- [Kaggle2](https://www.kaggle.com/tensorchoko/g-research-for-jp-en-coins)\n",
    "- [XGBoost Official doc](https://xgboost.readthedocs.io/en/latest/python/index.html)\n",
    "- [https://mljar.com/blog/xgboost-save-load-python/](https://mljar.com/blog/xgboost-save-load-python/)"
   ]
  },
  {
   "cell_type": "code",
   "execution_count": 2,
   "id": "0b5df544",
   "metadata": {
    "execution": {
     "iopub.execute_input": "2021-11-29T11:42:23.096103Z",
     "iopub.status.busy": "2021-11-29T11:42:23.095321Z",
     "iopub.status.idle": "2021-11-29T11:42:25.913271Z",
     "shell.execute_reply": "2021-11-29T11:42:25.913730Z",
     "shell.execute_reply.started": "2021-11-04T09:37:03.772987Z"
    },
    "papermill": {
     "duration": 2.840833,
     "end_time": "2021-11-29T11:42:25.913990",
     "exception": false,
     "start_time": "2021-11-29T11:42:23.073157",
     "status": "completed"
    },
    "tags": []
   },
   "outputs": [
    {
     "data": {
      "text/html": [
       "<style type='text/css'>\n",
       ".datatable table.frame { margin-bottom: 0; }\n",
       ".datatable table.frame thead { border-bottom: none; }\n",
       ".datatable table.frame tr.coltypes td {  color: #FFFFFF;  line-height: 6px;  padding: 0 0.5em;}\n",
       ".datatable .bool    { background: #DDDD99; }\n",
       ".datatable .object  { background: #565656; }\n",
       ".datatable .int     { background: #5D9E5D; }\n",
       ".datatable .float   { background: #4040CC; }\n",
       ".datatable .str     { background: #CC4040; }\n",
       ".datatable .time    { background: #40CC40; }\n",
       ".datatable .row_index {  background: var(--jp-border-color3);  border-right: 1px solid var(--jp-border-color0);  color: var(--jp-ui-font-color3);  font-size: 9px;}\n",
       ".datatable .frame tbody td { text-align: left; }\n",
       ".datatable .frame tr.coltypes .row_index {  background: var(--jp-border-color0);}\n",
       ".datatable th:nth-child(2) { padding-left: 12px; }\n",
       ".datatable .hellipsis {  color: var(--jp-cell-editor-border-color);}\n",
       ".datatable .vellipsis {  background: var(--jp-layout-color0);  color: var(--jp-cell-editor-border-color);}\n",
       ".datatable .na {  color: var(--jp-cell-editor-border-color);  font-size: 80%;}\n",
       ".datatable .sp {  opacity: 0.25;}\n",
       ".datatable .footer { font-size: 9px; }\n",
       ".datatable .frame_dimensions {  background: var(--jp-border-color3);  border-top: 1px solid var(--jp-border-color0);  color: var(--jp-ui-font-color3);  display: inline-block;  opacity: 0.6;  padding: 1px 10px 1px 5px;}\n",
       ".datatable .frame thead tr.colnames {  background-image: url('data:image/png;base64,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');  background-repeat: repeat-x;  background-size: 14px;  height: 28px;}\n",
       "</style>\n"
      ],
      "text/plain": [
       "<IPython.core.display.HTML object>"
      ]
     },
     "metadata": {},
     "output_type": "display_data"
    },
    {
     "name": "stdout",
     "output_type": "stream",
     "text": [
      "xgboost version:1.5.0\n"
     ]
    }
   ],
   "source": [
    "import IPython.display\n",
    "import traceback\n",
    "import gc\n",
    "import numpy as np\n",
    "import pandas as pd\n",
    "import datatable as dt\n",
    "import lightgbm as lgb\n",
    "from lightgbm import LGBMRegressor\n",
    "import xgboost as xgb\n",
    "print(f'xgboost version:{xgb.__version__}')\n",
    "import talib as ta\n",
    "\n",
    "\n",
    "TRAIN_JAY = './data/cryptocurrency-extra-data-binance-coin/orig_train.jay'\n",
    "ASSET_DETAILS_JAY = './data/cryptocurrency-extra-data-binance-coin/orig_asset_details.jay'\n",
    "df_train = dt.fread(TRAIN_JAY).to_pandas()\n",
    "df_asset_details = dt.fread(ASSET_DETAILS_JAY).to_pandas().sort_values(\"Asset_ID\")"
   ]
  },
  {
   "cell_type": "markdown",
   "id": "e252beaf",
   "metadata": {},
   "source": [
    "## missing/infinite value"
   ]
  },
  {
   "cell_type": "code",
   "execution_count": 3,
   "id": "4a7308cc",
   "metadata": {},
   "outputs": [
    {
     "data": {
      "text/plain": [
       "array([24236289, 24236289, 24236289, 24236289, 24236289, 24236289,\n",
       "       24236289, 24236289, 24236289, 24236289])"
      ]
     },
     "execution_count": 3,
     "metadata": {},
     "output_type": "execute_result"
    }
   ],
   "source": [
    "# there are missing values for the targets columns, filling gaps with the previous valid value.\n",
    "#df_train.loc[df_train.isin([np.nan, np.inf, -np.inf]).any(axis=1)]\n",
    "def fill_target(x):\n",
    "    return x.sort_values('timestamp').fillna(method='pad')\n",
    "df_train = df_train.groupby('Asset_ID').apply(fill_target).reset_index(drop=True)\n",
    "df_train.dropna(subset=['Target'], inplace= True)\n",
    "\n",
    "#VWAP make finite\n",
    "VWAP_max = np.max(df_train[np.isfinite(df_train.VWAP)].VWAP)\n",
    "VWAP_min = np.min(df_train[np.isfinite(df_train.VWAP)].VWAP)\n",
    "df_train['VWAP'] = np.nan_to_num(df_train.VWAP, posinf=VWAP_max, neginf=VWAP_min)\n",
    "sum((np.isfinite(df_train)).values)"
   ]
  },
  {
   "cell_type": "code",
   "execution_count": 4,
   "id": "37cb6684",
   "metadata": {
    "execution": {
     "iopub.execute_input": "2021-11-29T11:42:45.929823Z",
     "iopub.status.busy": "2021-11-29T11:42:45.925915Z",
     "iopub.status.idle": "2021-11-29T11:42:45.932345Z",
     "shell.execute_reply": "2021-11-29T11:42:45.931858Z",
     "shell.execute_reply.started": "2021-11-04T09:37:50.959993Z"
    },
    "papermill": {
     "duration": 0.019564,
     "end_time": "2021-11-29T11:42:45.932464",
     "exception": false,
     "start_time": "2021-11-29T11:42:45.912900",
     "status": "completed"
    },
    "tags": []
   },
   "outputs": [
    {
     "name": "stdout",
     "output_type": "stream",
     "text": [
      "Memory usage of dataframe is 2033.99 MB\n",
      "int64->int32\n",
      "int64->int8\n",
      "float64->float32\n",
      "float64->float32\n",
      "float64->float32\n",
      "float64->float32\n",
      "float64->float32\n",
      "float64->float32\n",
      "float64->float32\n",
      "float64->float32\n",
      "Memory usage after optimization is: 1040.11 MB\n",
      "Decreased by 48.9%\n"
     ]
    },
    {
     "data": {
      "text/plain": [
       "0"
      ]
     },
     "execution_count": 4,
     "metadata": {},
     "output_type": "execute_result"
    }
   ],
   "source": [
    "##reduce memory space by changing data_type\n",
    "from script.memory_usage import reduce_mem_usage\n",
    "df_train= reduce_mem_usage(df_train)\n",
    "gc.collect()"
   ]
  },
  {
   "cell_type": "code",
   "execution_count": 5,
   "id": "3b873063",
   "metadata": {},
   "outputs": [
    {
     "data": {
      "text/html": [
       "<div>\n",
       "<style scoped>\n",
       "    .dataframe tbody tr th:only-of-type {\n",
       "        vertical-align: middle;\n",
       "    }\n",
       "\n",
       "    .dataframe tbody tr th {\n",
       "        vertical-align: top;\n",
       "    }\n",
       "\n",
       "    .dataframe thead th {\n",
       "        text-align: right;\n",
       "    }\n",
       "</style>\n",
       "<table border=\"1\" class=\"dataframe\">\n",
       "  <thead>\n",
       "    <tr style=\"text-align: right;\">\n",
       "      <th></th>\n",
       "      <th>timestamp</th>\n",
       "      <th>Asset_ID</th>\n",
       "      <th>Count</th>\n",
       "      <th>Open</th>\n",
       "      <th>High</th>\n",
       "      <th>Low</th>\n",
       "      <th>Close</th>\n",
       "      <th>Volume</th>\n",
       "      <th>VWAP</th>\n",
       "      <th>Target</th>\n",
       "    </tr>\n",
       "  </thead>\n",
       "  <tbody>\n",
       "    <tr>\n",
       "      <th>0</th>\n",
       "      <td>1514764860</td>\n",
       "      <td>0</td>\n",
       "      <td>5.0</td>\n",
       "      <td>8.5300</td>\n",
       "      <td>8.5300</td>\n",
       "      <td>8.5300</td>\n",
       "      <td>8.5300</td>\n",
       "      <td>78.379997</td>\n",
       "      <td>8.530000</td>\n",
       "      <td>-0.014399</td>\n",
       "    </tr>\n",
       "    <tr>\n",
       "      <th>1</th>\n",
       "      <td>1514764920</td>\n",
       "      <td>0</td>\n",
       "      <td>7.0</td>\n",
       "      <td>8.5300</td>\n",
       "      <td>8.5300</td>\n",
       "      <td>8.5145</td>\n",
       "      <td>8.5145</td>\n",
       "      <td>71.389999</td>\n",
       "      <td>8.520215</td>\n",
       "      <td>-0.015875</td>\n",
       "    </tr>\n",
       "    <tr>\n",
       "      <th>2</th>\n",
       "      <td>1514764980</td>\n",
       "      <td>0</td>\n",
       "      <td>45.0</td>\n",
       "      <td>8.5065</td>\n",
       "      <td>8.5299</td>\n",
       "      <td>8.4848</td>\n",
       "      <td>8.4848</td>\n",
       "      <td>1546.819946</td>\n",
       "      <td>8.501393</td>\n",
       "      <td>-0.015410</td>\n",
       "    </tr>\n",
       "    <tr>\n",
       "      <th>3</th>\n",
       "      <td>1514765040</td>\n",
       "      <td>0</td>\n",
       "      <td>14.0</td>\n",
       "      <td>8.5009</td>\n",
       "      <td>8.5066</td>\n",
       "      <td>8.4744</td>\n",
       "      <td>8.5009</td>\n",
       "      <td>125.800003</td>\n",
       "      <td>8.479810</td>\n",
       "      <td>-0.012524</td>\n",
       "    </tr>\n",
       "    <tr>\n",
       "      <th>4</th>\n",
       "      <td>1514765100</td>\n",
       "      <td>0</td>\n",
       "      <td>5.0</td>\n",
       "      <td>8.5007</td>\n",
       "      <td>8.5007</td>\n",
       "      <td>8.4560</td>\n",
       "      <td>8.4560</td>\n",
       "      <td>125.010002</td>\n",
       "      <td>8.458435</td>\n",
       "      <td>-0.005940</td>\n",
       "    </tr>\n",
       "  </tbody>\n",
       "</table>\n",
       "</div>"
      ],
      "text/plain": [
       "    timestamp  Asset_ID  Count    Open    High     Low   Close       Volume  \\\n",
       "0  1514764860         0    5.0  8.5300  8.5300  8.5300  8.5300    78.379997   \n",
       "1  1514764920         0    7.0  8.5300  8.5300  8.5145  8.5145    71.389999   \n",
       "2  1514764980         0   45.0  8.5065  8.5299  8.4848  8.4848  1546.819946   \n",
       "3  1514765040         0   14.0  8.5009  8.5066  8.4744  8.5009   125.800003   \n",
       "4  1514765100         0    5.0  8.5007  8.5007  8.4560  8.4560   125.010002   \n",
       "\n",
       "       VWAP    Target  \n",
       "0  8.530000 -0.014399  \n",
       "1  8.520215 -0.015875  \n",
       "2  8.501393 -0.015410  \n",
       "3  8.479810 -0.012524  \n",
       "4  8.458435 -0.005940  "
      ]
     },
     "execution_count": 5,
     "metadata": {},
     "output_type": "execute_result"
    }
   ],
   "source": [
    "df_train.head()"
   ]
  },
  {
   "cell_type": "code",
   "execution_count": 6,
   "id": "dcb063fa",
   "metadata": {},
   "outputs": [
    {
     "data": {
      "text/plain": [
       "0          2018-01-01 00:01:00\n",
       "1          2018-01-01 00:02:00\n",
       "2          2018-01-01 00:03:00\n",
       "3          2018-01-01 00:04:00\n",
       "4          2018-01-01 00:05:00\n",
       "                   ...        \n",
       "24236801   2021-09-20 23:56:00\n",
       "24236802   2021-09-20 23:57:00\n",
       "24236803   2021-09-20 23:58:00\n",
       "24236804   2021-09-20 23:59:00\n",
       "24236805   2021-09-21 00:00:00\n",
       "Name: timestamp, Length: 24236289, dtype: datetime64[ns]"
      ]
     },
     "execution_count": 6,
     "metadata": {},
     "output_type": "execute_result"
    }
   ],
   "source": [
    "## data time range\n",
    "pd.to_datetime(df_train[\"timestamp\"],unit=\"s\",infer_datetime_format=True)"
   ]
  },
  {
   "cell_type": "markdown",
   "id": "5c5ac6f3",
   "metadata": {
    "papermill": {
     "duration": 0.010875,
     "end_time": "2021-11-29T11:42:45.761005",
     "exception": false,
     "start_time": "2021-11-29T11:42:45.750130",
     "status": "completed"
    },
    "tags": []
   },
   "source": [
    "## Utility functions to train a model\n",
    "\n",
    "- TA-lib\n",
    "- feature engineering [`get_features()`,`add_features`](./script/XGB/xgbmodel.py)\n",
    "- XGBoost model configures [`params_xgb`](./script/XGB/xgbmodel.py)\n",
    "- model fit\n",
    "- model predict\n",
    "- model evaluate"
   ]
  },
  {
   "cell_type": "code",
   "execution_count": 7,
   "id": "d06f2bbf",
   "metadata": {},
   "outputs": [
    {
     "data": {
      "text/html": [
       "<div>\n",
       "<style scoped>\n",
       "    .dataframe tbody tr th:only-of-type {\n",
       "        vertical-align: middle;\n",
       "    }\n",
       "\n",
       "    .dataframe tbody tr th {\n",
       "        vertical-align: top;\n",
       "    }\n",
       "\n",
       "    .dataframe thead th {\n",
       "        text-align: right;\n",
       "    }\n",
       "</style>\n",
       "<table border=\"1\" class=\"dataframe\">\n",
       "  <thead>\n",
       "    <tr style=\"text-align: right;\">\n",
       "      <th></th>\n",
       "      <th>Count</th>\n",
       "      <th>Open</th>\n",
       "      <th>High</th>\n",
       "      <th>Low</th>\n",
       "      <th>Close</th>\n",
       "      <th>Volume</th>\n",
       "      <th>VWAP</th>\n",
       "      <th>Upper_Shadow</th>\n",
       "      <th>Lower_Shadow</th>\n",
       "      <th>lrtn_1</th>\n",
       "      <th>...</th>\n",
       "      <th>adx</th>\n",
       "      <th>DI_plus</th>\n",
       "      <th>DI_minus</th>\n",
       "      <th>ROCP</th>\n",
       "      <th>momentam</th>\n",
       "      <th>APO</th>\n",
       "      <th>PPO</th>\n",
       "      <th>CMO</th>\n",
       "      <th>MIDPOINT</th>\n",
       "      <th>TRENDLINE</th>\n",
       "    </tr>\n",
       "  </thead>\n",
       "  <tbody>\n",
       "    <tr>\n",
       "      <th>63</th>\n",
       "      <td>13.0</td>\n",
       "      <td>8.332600</td>\n",
       "      <td>8.332600</td>\n",
       "      <td>8.299300</td>\n",
       "      <td>8.299300</td>\n",
       "      <td>194.720001</td>\n",
       "      <td>8.307179</td>\n",
       "      <td>0.000000</td>\n",
       "      <td>0.000000</td>\n",
       "      <td>-0.004688</td>\n",
       "      <td>...</td>\n",
       "      <td>26.842100</td>\n",
       "      <td>7.710664</td>\n",
       "      <td>27.392996</td>\n",
       "      <td>-0.004980</td>\n",
       "      <td>-0.041700</td>\n",
       "      <td>0.003904</td>\n",
       "      <td>0.046761</td>\n",
       "      <td>-10.926632</td>\n",
       "      <td>8.347350</td>\n",
       "      <td>8.349214</td>\n",
       "    </tr>\n",
       "    <tr>\n",
       "      <th>64</th>\n",
       "      <td>3.0</td>\n",
       "      <td>8.327200</td>\n",
       "      <td>8.327200</td>\n",
       "      <td>8.269500</td>\n",
       "      <td>8.269500</td>\n",
       "      <td>58.230000</td>\n",
       "      <td>8.298365</td>\n",
       "      <td>0.000000</td>\n",
       "      <td>0.000000</td>\n",
       "      <td>-0.003597</td>\n",
       "      <td>...</td>\n",
       "      <td>29.388427</td>\n",
       "      <td>6.906968</td>\n",
       "      <td>29.921036</td>\n",
       "      <td>-0.002480</td>\n",
       "      <td>-0.020700</td>\n",
       "      <td>0.000732</td>\n",
       "      <td>0.008770</td>\n",
       "      <td>-13.087717</td>\n",
       "      <td>8.347350</td>\n",
       "      <td>8.348563</td>\n",
       "    </tr>\n",
       "    <tr>\n",
       "      <th>65</th>\n",
       "      <td>5.0</td>\n",
       "      <td>8.308500</td>\n",
       "      <td>8.327200</td>\n",
       "      <td>8.308500</td>\n",
       "      <td>8.327200</td>\n",
       "      <td>18.910000</td>\n",
       "      <td>8.326820</td>\n",
       "      <td>0.000000</td>\n",
       "      <td>0.000000</td>\n",
       "      <td>0.006953</td>\n",
       "      <td>...</td>\n",
       "      <td>31.752873</td>\n",
       "      <td>6.209908</td>\n",
       "      <td>26.901368</td>\n",
       "      <td>-0.007620</td>\n",
       "      <td>-0.063800</td>\n",
       "      <td>-0.004309</td>\n",
       "      <td>-0.051621</td>\n",
       "      <td>-20.299357</td>\n",
       "      <td>8.341450</td>\n",
       "      <td>8.347516</td>\n",
       "    </tr>\n",
       "    <tr>\n",
       "      <th>66</th>\n",
       "      <td>3.0</td>\n",
       "      <td>8.327200</td>\n",
       "      <td>8.327200</td>\n",
       "      <td>8.327100</td>\n",
       "      <td>8.327100</td>\n",
       "      <td>75.300003</td>\n",
       "      <td>8.327168</td>\n",
       "      <td>0.000000</td>\n",
       "      <td>0.000000</td>\n",
       "      <td>-0.000012</td>\n",
       "      <td>...</td>\n",
       "      <td>33.948430</td>\n",
       "      <td>6.208737</td>\n",
       "      <td>26.896295</td>\n",
       "      <td>-0.004483</td>\n",
       "      <td>-0.037500</td>\n",
       "      <td>-0.006311</td>\n",
       "      <td>-0.075602</td>\n",
       "      <td>-10.431340</td>\n",
       "      <td>8.341400</td>\n",
       "      <td>8.346575</td>\n",
       "    </tr>\n",
       "    <tr>\n",
       "      <th>67</th>\n",
       "      <td>2.0</td>\n",
       "      <td>8.305500</td>\n",
       "      <td>8.327200</td>\n",
       "      <td>8.305500</td>\n",
       "      <td>8.327200</td>\n",
       "      <td>2.970000</td>\n",
       "      <td>8.320113</td>\n",
       "      <td>0.000000</td>\n",
       "      <td>0.000000</td>\n",
       "      <td>0.000012</td>\n",
       "      <td>...</td>\n",
       "      <td>36.300265</td>\n",
       "      <td>5.947009</td>\n",
       "      <td>29.958509</td>\n",
       "      <td>-0.001779</td>\n",
       "      <td>-0.014800</td>\n",
       "      <td>-0.010520</td>\n",
       "      <td>-0.126043</td>\n",
       "      <td>-18.759487</td>\n",
       "      <td>8.338900</td>\n",
       "      <td>8.345790</td>\n",
       "    </tr>\n",
       "    <tr>\n",
       "      <th>...</th>\n",
       "      <td>...</td>\n",
       "      <td>...</td>\n",
       "      <td>...</td>\n",
       "      <td>...</td>\n",
       "      <td>...</td>\n",
       "      <td>...</td>\n",
       "      <td>...</td>\n",
       "      <td>...</td>\n",
       "      <td>...</td>\n",
       "      <td>...</td>\n",
       "      <td>...</td>\n",
       "      <td>...</td>\n",
       "      <td>...</td>\n",
       "      <td>...</td>\n",
       "      <td>...</td>\n",
       "      <td>...</td>\n",
       "      <td>...</td>\n",
       "      <td>...</td>\n",
       "      <td>...</td>\n",
       "      <td>...</td>\n",
       "      <td>...</td>\n",
       "    </tr>\n",
       "    <tr>\n",
       "      <th>1942614</th>\n",
       "      <td>277.0</td>\n",
       "      <td>364.111511</td>\n",
       "      <td>364.200012</td>\n",
       "      <td>362.700012</td>\n",
       "      <td>362.917999</td>\n",
       "      <td>773.176025</td>\n",
       "      <td>363.458771</td>\n",
       "      <td>0.088501</td>\n",
       "      <td>0.217987</td>\n",
       "      <td>-0.003282</td>\n",
       "      <td>...</td>\n",
       "      <td>20.253548</td>\n",
       "      <td>22.109629</td>\n",
       "      <td>19.181532</td>\n",
       "      <td>0.009576</td>\n",
       "      <td>3.453522</td>\n",
       "      <td>0.996409</td>\n",
       "      <td>0.275506</td>\n",
       "      <td>26.237914</td>\n",
       "      <td>362.313004</td>\n",
       "      <td>361.786063</td>\n",
       "    </tr>\n",
       "    <tr>\n",
       "      <th>1942615</th>\n",
       "      <td>296.0</td>\n",
       "      <td>362.926514</td>\n",
       "      <td>363.200012</td>\n",
       "      <td>362.100006</td>\n",
       "      <td>362.200012</td>\n",
       "      <td>596.347778</td>\n",
       "      <td>362.655640</td>\n",
       "      <td>0.273499</td>\n",
       "      <td>0.100006</td>\n",
       "      <td>-0.001980</td>\n",
       "      <td>...</td>\n",
       "      <td>18.998302</td>\n",
       "      <td>20.547849</td>\n",
       "      <td>21.679586</td>\n",
       "      <td>0.002230</td>\n",
       "      <td>0.807526</td>\n",
       "      <td>1.074526</td>\n",
       "      <td>0.296993</td>\n",
       "      <td>8.105143</td>\n",
       "      <td>362.313004</td>\n",
       "      <td>361.978759</td>\n",
       "    </tr>\n",
       "    <tr>\n",
       "      <th>1942616</th>\n",
       "      <td>319.0</td>\n",
       "      <td>362.230988</td>\n",
       "      <td>362.399994</td>\n",
       "      <td>361.700012</td>\n",
       "      <td>361.858002</td>\n",
       "      <td>820.909729</td>\n",
       "      <td>361.962982</td>\n",
       "      <td>0.169006</td>\n",
       "      <td>0.157990</td>\n",
       "      <td>-0.000945</td>\n",
       "      <td>...</td>\n",
       "      <td>18.260086</td>\n",
       "      <td>19.599101</td>\n",
       "      <td>23.317047</td>\n",
       "      <td>0.000930</td>\n",
       "      <td>0.336487</td>\n",
       "      <td>1.098014</td>\n",
       "      <td>0.303395</td>\n",
       "      <td>-0.893123</td>\n",
       "      <td>362.313004</td>\n",
       "      <td>362.106636</td>\n",
       "    </tr>\n",
       "    <tr>\n",
       "      <th>1942617</th>\n",
       "      <td>588.0</td>\n",
       "      <td>362.011993</td>\n",
       "      <td>364.299988</td>\n",
       "      <td>361.799988</td>\n",
       "      <td>364.114502</td>\n",
       "      <td>1268.055176</td>\n",
       "      <td>363.465607</td>\n",
       "      <td>0.185486</td>\n",
       "      <td>0.212006</td>\n",
       "      <td>0.006217</td>\n",
       "      <td>...</td>\n",
       "      <td>18.193979</td>\n",
       "      <td>28.104836</td>\n",
       "      <td>19.800623</td>\n",
       "      <td>0.001998</td>\n",
       "      <td>0.721985</td>\n",
       "      <td>0.988579</td>\n",
       "      <td>0.273081</td>\n",
       "      <td>-3.613520</td>\n",
       "      <td>362.464493</td>\n",
       "      <td>362.203774</td>\n",
       "    </tr>\n",
       "    <tr>\n",
       "      <th>1942618</th>\n",
       "      <td>429.0</td>\n",
       "      <td>364.114990</td>\n",
       "      <td>364.500000</td>\n",
       "      <td>363.700012</td>\n",
       "      <td>363.757507</td>\n",
       "      <td>1000.676941</td>\n",
       "      <td>364.161316</td>\n",
       "      <td>0.385010</td>\n",
       "      <td>0.057495</td>\n",
       "      <td>-0.000981</td>\n",
       "      <td>...</td>\n",
       "      <td>18.288519</td>\n",
       "      <td>27.951543</td>\n",
       "      <td>18.822415</td>\n",
       "      <td>0.003896</td>\n",
       "      <td>1.412994</td>\n",
       "      <td>1.043447</td>\n",
       "      <td>0.288134</td>\n",
       "      <td>19.295935</td>\n",
       "      <td>362.780502</td>\n",
       "      <td>362.358626</td>\n",
       "    </tr>\n",
       "  </tbody>\n",
       "</table>\n",
       "<p>1942556 rows × 30 columns</p>\n",
       "</div>"
      ],
      "text/plain": [
       "         Count        Open        High         Low       Close       Volume  \\\n",
       "63        13.0    8.332600    8.332600    8.299300    8.299300   194.720001   \n",
       "64         3.0    8.327200    8.327200    8.269500    8.269500    58.230000   \n",
       "65         5.0    8.308500    8.327200    8.308500    8.327200    18.910000   \n",
       "66         3.0    8.327200    8.327200    8.327100    8.327100    75.300003   \n",
       "67         2.0    8.305500    8.327200    8.305500    8.327200     2.970000   \n",
       "...        ...         ...         ...         ...         ...          ...   \n",
       "1942614  277.0  364.111511  364.200012  362.700012  362.917999   773.176025   \n",
       "1942615  296.0  362.926514  363.200012  362.100006  362.200012   596.347778   \n",
       "1942616  319.0  362.230988  362.399994  361.700012  361.858002   820.909729   \n",
       "1942617  588.0  362.011993  364.299988  361.799988  364.114502  1268.055176   \n",
       "1942618  429.0  364.114990  364.500000  363.700012  363.757507  1000.676941   \n",
       "\n",
       "               VWAP  Upper_Shadow  Lower_Shadow    lrtn_1  ...        adx  \\\n",
       "63         8.307179      0.000000      0.000000 -0.004688  ...  26.842100   \n",
       "64         8.298365      0.000000      0.000000 -0.003597  ...  29.388427   \n",
       "65         8.326820      0.000000      0.000000  0.006953  ...  31.752873   \n",
       "66         8.327168      0.000000      0.000000 -0.000012  ...  33.948430   \n",
       "67         8.320113      0.000000      0.000000  0.000012  ...  36.300265   \n",
       "...             ...           ...           ...       ...  ...        ...   \n",
       "1942614  363.458771      0.088501      0.217987 -0.003282  ...  20.253548   \n",
       "1942615  362.655640      0.273499      0.100006 -0.001980  ...  18.998302   \n",
       "1942616  361.962982      0.169006      0.157990 -0.000945  ...  18.260086   \n",
       "1942617  363.465607      0.185486      0.212006  0.006217  ...  18.193979   \n",
       "1942618  364.161316      0.385010      0.057495 -0.000981  ...  18.288519   \n",
       "\n",
       "           DI_plus   DI_minus      ROCP  momentam       APO       PPO  \\\n",
       "63        7.710664  27.392996 -0.004980 -0.041700  0.003904  0.046761   \n",
       "64        6.906968  29.921036 -0.002480 -0.020700  0.000732  0.008770   \n",
       "65        6.209908  26.901368 -0.007620 -0.063800 -0.004309 -0.051621   \n",
       "66        6.208737  26.896295 -0.004483 -0.037500 -0.006311 -0.075602   \n",
       "67        5.947009  29.958509 -0.001779 -0.014800 -0.010520 -0.126043   \n",
       "...            ...        ...       ...       ...       ...       ...   \n",
       "1942614  22.109629  19.181532  0.009576  3.453522  0.996409  0.275506   \n",
       "1942615  20.547849  21.679586  0.002230  0.807526  1.074526  0.296993   \n",
       "1942616  19.599101  23.317047  0.000930  0.336487  1.098014  0.303395   \n",
       "1942617  28.104836  19.800623  0.001998  0.721985  0.988579  0.273081   \n",
       "1942618  27.951543  18.822415  0.003896  1.412994  1.043447  0.288134   \n",
       "\n",
       "               CMO    MIDPOINT   TRENDLINE  \n",
       "63      -10.926632    8.347350    8.349214  \n",
       "64      -13.087717    8.347350    8.348563  \n",
       "65      -20.299357    8.341450    8.347516  \n",
       "66      -10.431340    8.341400    8.346575  \n",
       "67      -18.759487    8.338900    8.345790  \n",
       "...            ...         ...         ...  \n",
       "1942614  26.237914  362.313004  361.786063  \n",
       "1942615   8.105143  362.313004  361.978759  \n",
       "1942616  -0.893123  362.313004  362.106636  \n",
       "1942617  -3.613520  362.464493  362.203774  \n",
       "1942618  19.295935  362.780502  362.358626  \n",
       "\n",
       "[1942556 rows x 30 columns]"
      ]
     },
     "execution_count": 7,
     "metadata": {},
     "output_type": "execute_result"
    }
   ],
   "source": [
    "from script.XGB.xgbmodel import *\n",
    "\n",
    "df = df_train[df_train[\"Asset_ID\"] == 0]\n",
    "pd.options.mode.chained_assignment = None  # default='warn'\n",
    "df = get_features(df)\n",
    "df = add_features(df)\n",
    "df.dropna(axis = 0, inplace= True)\n",
    "\n",
    "y = df.pop('Target') \n",
    "df.drop(['timestamp', 'Asset_ID'],axis=1)"
   ]
  },
  {
   "cell_type": "markdown",
   "id": "c0acb77c",
   "metadata": {
    "papermill": {
     "duration": 0.009251,
     "end_time": "2021-11-29T11:42:45.951347",
     "exception": false,
     "start_time": "2021-11-29T11:42:45.942096",
     "status": "completed"
    },
    "tags": []
   },
   "source": [
    "## Loop over all assets  \n",
    "\n",
    "- Train one xgboost model for each assets and saved into a `.json` file.\n",
    "- Train one lightBGM model for each assets and saved into a `.txt` file."
   ]
  },
  {
   "cell_type": "code",
   "execution_count": 8,
   "id": "a08f97ec",
   "metadata": {
    "execution": {
     "iopub.execute_input": "2021-11-29T11:42:45.977783Z",
     "iopub.status.busy": "2021-11-29T11:42:45.976878Z",
     "iopub.status.idle": "2021-11-29T16:31:57.306788Z",
     "shell.execute_reply": "2021-11-29T16:31:57.306268Z",
     "shell.execute_reply.started": "2021-11-04T09:37:50.972645Z"
    },
    "papermill": {
     "duration": 17351.346119,
     "end_time": "2021-11-29T16:31:57.306942",
     "exception": false,
     "start_time": "2021-11-29T11:42:45.960823",
     "status": "completed"
    },
    "tags": []
   },
   "outputs": [
    {
     "name": "stdout",
     "output_type": "stream",
     "text": [
      "model for Binance Coin     (ID=0 ) exists\n",
      "model for Bitcoin          (ID=1 ) exists\n",
      "model for Bitcoin Cash     (ID=2 ) exists\n",
      "model for Cardano          (ID=3 ) exists\n",
      "model for Dogecoin         (ID=4 ) exists\n",
      "model for EOS.IO           (ID=5 ) exists\n",
      "model for Ethereum         (ID=6 ) exists\n",
      "model for Ethereum Classic (ID=7 ) exists\n",
      "model for IOTA             (ID=8 ) exists\n",
      "model for Litecoin         (ID=9 ) exists\n",
      "model for Maker            (ID=10) exists\n",
      "model for Monero           (ID=11) exists\n",
      "model for Stellar          (ID=12) exists\n",
      "model for TRON             (ID=13) exists\n"
     ]
    }
   ],
   "source": [
    "from script.XGB.xgbmodel import *\n",
    "from os.path import exists\n",
    "models = {}\n",
    "\n",
    "def model_reload_train(type: str, folder=\"./trainedXGB/XGB0\"):\n",
    "    for asset_id, asset_name in zip(df_asset_details['Asset_ID'], df_asset_details['Asset_Name']):\n",
    "        if type=='xgb':\n",
    "            model_file = folder+f\"/model_{asset_id}.json\"\n",
    "        elif type=='light':\n",
    "            model_file = folder+f\"/model_{asset_id}.txt\"\n",
    "        else:\n",
    "            raise ValueError\n",
    "        \n",
    "        if exists(model_file):\n",
    "            print(f\"model for {asset_name:<16} (ID={asset_id:<2}) exists\")\n",
    "            if type=='xgb':\n",
    "                model = xgb.XGBRegressor()\n",
    "                model.load_model(model_file)\n",
    "            elif type=='light':\n",
    "                model = lgb.Booster(model_file)\n",
    "            else:\n",
    "                raise ValueError\n",
    "            \n",
    "            models[asset_id] = model\n",
    "        else:\n",
    "            print(f\"Training {type} model for {asset_name:<16} (ID={asset_id:<2})\")\n",
    "            pd.options.mode.chained_assignment = None  # default='warn'\n",
    "            if type=='xgb':\n",
    "                models[asset_id] = get_Xy_and_model_for_asset(df_train, asset_id)\n",
    "                models[asset_id].save_model(model_file)\n",
    "            elif type=='light':\n",
    "                models[asset_id] = get_Xy_and_model_for_asset_1(df_train, asset_id)\n",
    "                models[asset_id].booster_.save_model(model_file)\n",
    "            else:\n",
    "                raise ValueError\n",
    "\n",
    "model_reload_train(type='xgb',folder = \"./trainedXGB/XGB0\")"
   ]
  },
  {
   "cell_type": "code",
   "execution_count": 9,
   "id": "6430e4af",
   "metadata": {},
   "outputs": [
    {
     "data": {
      "text/plain": [
       "{'learning_rate': 0.05,\n",
       " 'max_depth': 11,\n",
       " 'n_estimators': 500,\n",
       " 'subsample': 0.9,\n",
       " 'colsample_bytree': 0.7,\n",
       " 'missing': -999,\n",
       " 'random_state': 2020,\n",
       " 'objective': 'reg:squarederror'}"
      ]
     },
     "execution_count": 9,
     "metadata": {},
     "output_type": "execute_result"
    }
   ],
   "source": [
    "params_xgb"
   ]
  },
  {
   "cell_type": "code",
   "execution_count": 10,
   "id": "a82983b0",
   "metadata": {},
   "outputs": [
    {
     "data": {
      "text/plain": [
       "XGBRegressor(base_score=0.5, booster='gbtree', colsample_bylevel=1,\n",
       "             colsample_bynode=1, colsample_bytree=0.7, enable_categorical=False,\n",
       "             gamma=0, gpu_id=-1, importance_type=None,\n",
       "             interaction_constraints='', learning_rate=0.05, max_delta_step=0,\n",
       "             max_depth=11, min_child_weight=1, missing=-999,\n",
       "             monotone_constraints='()', n_estimators=500, n_jobs=8,\n",
       "             num_parallel_tree=1, predictor='auto', random_state=2020,\n",
       "             reg_alpha=0, reg_lambda=1, scale_pos_weight=1, subsample=0.9,\n",
       "             tree_method='gpu_hist', validate_parameters=1, verbosity=None)"
      ]
     },
     "execution_count": 10,
     "metadata": {},
     "output_type": "execute_result"
    }
   ],
   "source": [
    "## model hyper-parameters\n",
    "models[0]"
   ]
  },
  {
   "cell_type": "markdown",
   "id": "cd66d5cd",
   "metadata": {},
   "source": [
    "## model prediction test"
   ]
  },
  {
   "cell_type": "code",
   "execution_count": 11,
   "id": "e6f474b0",
   "metadata": {
    "execution": {
     "iopub.execute_input": "2021-11-29T16:31:57.345401Z",
     "iopub.status.busy": "2021-11-29T16:31:57.342354Z",
     "iopub.status.idle": "2021-11-29T16:31:57.351781Z",
     "shell.execute_reply": "2021-11-29T16:31:57.352251Z",
     "shell.execute_reply.started": "2021-11-04T09:41:28.043037Z"
    },
    "papermill": {
     "duration": 0.031939,
     "end_time": "2021-11-29T16:31:57.352418",
     "exception": false,
     "start_time": "2021-11-29T16:31:57.320479",
     "status": "completed"
    },
    "tags": []
   },
   "outputs": [
    {
     "data": {
      "text/plain": [
       "0.13024198"
      ]
     },
     "execution_count": 11,
     "metadata": {},
     "output_type": "execute_result"
    }
   ],
   "source": [
    "# Check the model interface\n",
    "x = get_features(df_train.iloc[1])\n",
    "x =pd.DataFrame([x])\n",
    "x = add_features(x)\n",
    "x = x.fillna(-1)\n",
    "\n",
    "x = x.drop(['timestamp', 'Asset_ID','Target'],axis=1)\n",
    "y_pred = models[0].predict(x)\n",
    "y_pred[0]"
   ]
  },
  {
   "cell_type": "markdown",
   "id": "7774ef63",
   "metadata": {},
   "source": [
    "## Scores\n",
    "\n",
    "Measure with weighed correlation."
   ]
  },
  {
   "cell_type": "code",
   "execution_count": 12,
   "id": "a582c409",
   "metadata": {
    "papermill": {
     "duration": 0.013408,
     "end_time": "2021-11-29T16:31:57.731153",
     "exception": false,
     "start_time": "2021-11-29T16:31:57.717745",
     "status": "completed"
    },
    "tags": []
   },
   "outputs": [
    {
     "data": {
      "text/plain": [
       "\"\\n    'a' and 'b' are the expected and predicted targets, \\n        and ' weights' include the weight of each row, determined by its asset\\n    \""
      ]
     },
     "execution_count": 12,
     "metadata": {},
     "output_type": "execute_result"
    }
   ],
   "source": [
    "from script.kagglescore import weighted_correlation\n",
    "weighted_correlation.__doc__"
   ]
  }
 ],
 "metadata": {
  "kernelspec": {
   "display_name": "Python 3",
   "language": "python",
   "name": "python3"
  },
  "language_info": {
   "codemirror_mode": {
    "name": "ipython",
    "version": 3
   },
   "file_extension": ".py",
   "mimetype": "text/x-python",
   "name": "python",
   "nbconvert_exporter": "python",
   "pygments_lexer": "ipython3",
   "version": "3.9.7"
  },
  "papermill": {
   "default_parameters": {},
   "duration": 17383.268184,
   "end_time": "2021-11-29T16:31:58.883382",
   "environment_variables": {},
   "exception": null,
   "input_path": "__notebook__.ipynb",
   "output_path": "__notebook__.ipynb",
   "parameters": {},
   "start_time": "2021-11-29T11:42:15.615198",
   "version": "2.3.3"
  }
 },
 "nbformat": 4,
 "nbformat_minor": 5
}
