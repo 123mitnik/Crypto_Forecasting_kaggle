{
 "cells": [
  {
   "cell_type": "markdown",
   "metadata": {},
   "source": [
    "Give xgb params dict and feature params dict,\n",
    "\n",
    "Make xgb.cv rmse, on-test score, in-train score, retrain-on-all"
   ]
  },
  {
   "cell_type": "code",
   "execution_count": 1,
   "metadata": {},
   "outputs": [],
   "source": [
    "import talib as ta\n",
    "import numpy as np\n",
    "import pandas as pd\n",
    "import gc\n",
    "import time\n",
    "import xgboost as xgb\n",
    "import os\n",
    "from random import sample\n",
    "from os.path import exists\n",
    "import json\n",
    "import pickle\n",
    "\n",
    "import matplotlib.pylab as plt\n",
    "%matplotlib inline"
   ]
  },
  {
   "cell_type": "code",
   "execution_count": 2,
   "metadata": {},
   "outputs": [],
   "source": [
    "from local_tune_method import params_xgb, params_train,make_tune\n",
    "\n",
    "params_version =1\n",
    "os.system(f\"mkdir model_local_{params_version}\")\n",
    "\n",
    "save_folder = f\"model_local_{params_version}\"\n",
    "with open(save_folder+ f'/README{params_version}.txt', 'w') as f:\n",
    "    f.write(f'Version {params_version}\\n')"
   ]
  },
  {
   "cell_type": "markdown",
   "metadata": {},
   "source": [
    "## data"
   ]
  },
  {
   "cell_type": "code",
   "execution_count": 3,
   "metadata": {},
   "outputs": [
    {
     "name": "stdout",
     "output_type": "stream",
     "text": [
      "finished loading\n",
      "Index(['timestamp', 'Asset_ID', 'Count', 'Open', 'High', 'Low', 'Close',\n",
      "       'Volume', 'Target', 'Weight', 'lr_15', 'Mkt_lrt_15', 'Crypto_Index'],\n",
      "      dtype='object')\n"
     ]
    }
   ],
   "source": [
    "df_train=pd.read_feather('./data/new_data.ftr',\n",
    "                        columns=['timestamp', 'Asset_ID', 'Count', 'Open', 'High', 'Low', 'Close',\n",
    "                               'Volume', 'Target', 'Weight', 'lr_15', 'Mkt_lrt_15','Crypto_Index'])\n",
    "\n",
    "print('finished loading')\n",
    "print(df_train.columns)"
   ]
  },
  {
   "cell_type": "code",
   "execution_count": 4,
   "metadata": {},
   "outputs": [
    {
     "data": {
      "text/plain": [
       "0"
      ]
     },
     "execution_count": 4,
     "metadata": {},
     "output_type": "execute_result"
    }
   ],
   "source": [
    "df_test = df_train[df_train['timestamp']>=df_train['timestamp'].quantile(0.95)]\n",
    "df_retrain = df_train[(df_train['timestamp']>df_train['timestamp'].quantile(0.45)) & \\\n",
    "                      (df_train['timestamp']<df_train['timestamp'].quantile(0.95))]\n",
    "\n",
    "del df_train\n",
    "gc.collect()"
   ]
  },
  {
   "cell_type": "markdown",
   "metadata": {},
   "source": [
    "## Parameter candidates"
   ]
  },
  {
   "cell_type": "code",
   "execution_count": 5,
   "metadata": {},
   "outputs": [],
   "source": [
    "list_xgb_params=\\\n",
    "[\n",
    "{'subsample': 0.7,\n",
    " 'reg_lambda': 2.0,\n",
    " 'reg_alpha': 1.0,\n",
    " 'min_child_weight': 1.1,\n",
    " 'max_depth': 5,\n",
    " 'learning_rate': 0.41,\n",
    " 'colsample_bytree': 0.6},\n",
    "{'subsample': 0.7,\n",
    " 'reg_lambda': 1.0,\n",
    " 'reg_alpha': 0.0,\n",
    " 'min_child_weight': 1.1,\n",
    " 'max_depth': 5,\n",
    " 'learning_rate': 0.41,\n",
    " 'colsample_bytree': 0.6}\n",
    " ]\n",
    "\n",
    "list_feature_params=\\\n",
    "    [\n",
    "    {'std_lr_15': 30, 'std_Mkt_lrt_15': 10, 'std_Crypto_Index': 30, \n",
    "        'rsi': 30, 'adx': 50,\n",
    "        'macd_sig': 15, 'macd_s': 10, 'macd_l': 60, \n",
    "        'lrtn': 50, 'fastk2': 10, 'fastk1': 15, \n",
    "        'beta_s': '6h', 'beta_l': '2d', \n",
    "         'vol_sum': 15},\n",
    "    {'std_lr_15': 30, 'std_Mkt_lrt_15': 10, 'std_Crypto_Index': 30, \n",
    "        'rsi': 30,'adx': 50,\n",
    "        'macd_sig': 15, 'macd_s': 10, 'macd_l': 60, \n",
    "        'lrtn': 50, 'fastk2': 15, 'fastk1': 10, \n",
    "        'beta_s': '6h', 'beta_l': '2d', \n",
    "         'vol_sum': 15},\n",
    "    {'std_lr_15': 30, 'std_Mkt_lrt_15': 10, 'std_Crypto_Index': 30, \n",
    "        'rsi': 30,'adx': 60, \n",
    "        'macd_sig': 15, 'macd_s': 10, 'macd_l': 60, \n",
    "        'lrtn': 50, 'fastk2': 10, 'fastk1': 15, \n",
    "        'beta_s': '6h', 'beta_l': '2d', \n",
    "         'vol_sum': 15}\n",
    "]"
   ]
  },
  {
   "cell_type": "markdown",
   "metadata": {},
   "source": [
    "## Start tune"
   ]
  },
  {
   "cell_type": "code",
   "execution_count": 6,
   "metadata": {},
   "outputs": [
    {
     "name": "stdout",
     "output_type": "stream",
     "text": [
      "cv test-rmse: 0.0019914\n",
      "Start train model on the sub-sample train set for scoring(9mins)\n",
      "score-on-test: 0.01199323726604295\n"
     ]
    }
   ],
   "source": [
    "params_xgb.update(list_xgb_params[0])\n",
    "feature_params = list_feature_params[0]\n",
    "\n",
    "score_cv,score_on_test,score_on_train = make_tune(df_retrain,df_test,params_xgb, feature_params, save_folder)"
   ]
  },
  {
   "cell_type": "code",
   "execution_count": null,
   "metadata": {},
   "outputs": [],
   "source": [
    "with open(save_folder+ f'/README{params_version}.txt', 'a') as f:\n",
    "    notes = f\"\"\"\n",
    "    Params setting: {params_xgb}\n",
    "    Feature setting: {feature_params}\n",
    "    cv score: {score_cv}\n",
    "    score_on_test: {score_on_test}\n",
    "    score_on_train: {score_on_train}\n",
    "    \"\"\"\n",
    "    f.write(f'{notes}\\n')"
   ]
  }
 ],
 "metadata": {
  "interpreter": {
   "hash": "4c1b049caad8a8b325ed882a549e2be8617c954355cf49088b2db08ccb0041d6"
  },
  "kernelspec": {
   "display_name": "Python 3.9.7 64-bit ('myML': conda)",
   "language": "python",
   "name": "python3"
  },
  "language_info": {
   "codemirror_mode": {
    "name": "ipython",
    "version": 3
   },
   "file_extension": ".py",
   "mimetype": "text/x-python",
   "name": "python",
   "nbconvert_exporter": "python",
   "pygments_lexer": "ipython3",
   "version": "3.9.7"
  },
  "orig_nbformat": 4
 },
 "nbformat": 4,
 "nbformat_minor": 2
}
